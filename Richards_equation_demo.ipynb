{
 "cells": [
  {
   "cell_type": "markdown",
   "metadata": {},
   "source": [
    "# Simple 1D Richards' Equation Model\n",
    "\n",
    "This is a 1D Richards' equation model, based on the formulation from [Andrew Ireson](https://gmd.copernicus.org/articles/16/659/2023/gmd-16-659-2023.pdf). This model is packaged as `richards_model` class with several built in functions and plotting tools. Using a class-based approach makes it easier to assign model variables to class objects and solve the model using a scipy [ODE solver](https://docs.scipy.org/doc/scipy/reference/generated/scipy.integrate.odeint.html). \n"
   ]
  },
  {
   "cell_type": "code",
   "execution_count": null,
   "metadata": {},
   "outputs": [],
   "source": [
    "# Import plotting libraries\n",
    "from matplotlib import pyplot as plt\n",
    "# package for cool and accessible colormaps (https://www.fabiocrameri.ch/colourmaps-userguide/)\n",
    "# from cmcrameri import cm\n",
    "import matplotlib.cm as cm \n",
    "# Import numpy\n",
    "import numpy as np\n",
    "\n",
    "# Import ODE solvers\n",
    "from scipy.interpolate import interp1d\n",
    "from scipy.integrate import odeint\n",
    "\n",
    "import time\n",
    "import warnings"
   ]
  },
  {
   "cell_type": "code",
   "execution_count": null,
   "metadata": {},
   "outputs": [],
   "source": [
    "#### Define richards_model class ############### DO NOT EDIT UNLESS YOU WANT TO EDIT FUNCTIONALITY ############################\n",
    "class richards_model:\n",
    "    # Class attribute\n",
    "    richards_model = \"Define model input and output for rapid model construction and analysis\"\n",
    "\n",
    "    def __init__(self, p, dz, depth, dt, sim_time=1.0): # the default is for the rectangular profile columns\n",
    "        # material properties\n",
    "        self.p = p\n",
    "        # Upper boundary condition\n",
    "        # Option for fixed flux, default is zero\n",
    "        self.qTop = 0\n",
    "        # option for fixed head\n",
    "        self.psiTop = []\n",
    "        \n",
    "        # Lower boundary condition\n",
    "        # default is free drainage\n",
    "        self.qBot = []\n",
    "        # cross-sectional area\n",
    "        self.psiBot = []\n",
    "\n",
    "        # define grid in space\n",
    "        self.dz = dz\n",
    "        self.z=np.arange(self.dz/2.0, depth, self.dz)\n",
    "        self.n=self.z.size\n",
    "        # Grid in time \n",
    "        self.t = np.arange(0, sim_time, dt) # days\n",
    "\n",
    "        # Initial conditions\n",
    "        self.psi0=-self.z\n",
    "    \n",
    "    # String representation of class object\n",
    "    def __str__(self):\n",
    "        return f\"This Richards model has the following material properties: {self.p}\"\n",
    "\n",
    "    def print_attributes_and_methods(self):\n",
    "        return print([attr for attr in dir(self) if not attr.startswith('__')])\n",
    "        \n",
    "    # function to solve Richards equation given some model parameters\n",
    "    def solve(self):\n",
    "        # Solve RE model \n",
    "        start_time = time.time()  # Start the timer\n",
    "        psi = odeint(RE_model, self.psi0, self.t, args=(self.dz, self.n, self.t.max(), self.p, \n",
    "                                self.qTop, self.qBot, self.psiTop, self.psiBot), mxstep=5000000)\n",
    "        # Write output to model\n",
    "        self.psi = psi\n",
    "        # Get water content\n",
    "        self.theta=thetaFun(self.psi, self.p)\n",
    "        \n",
    "        end_time = time.time()\n",
    "        print(f\"Model run successfully in {end_time - start_time:.4f} seconds\")\n",
    "        \n",
    "    # Post process model output to get useful information\n",
    "    def extract_output(self):\n",
    "        if not hasattr(self, 'psi'):\n",
    "            # raise warning\n",
    "            warnings.warn(\"Warning: 'psi' is not defined. Ensure that 'psi' is initialized by solving the model before calling this function.\", stacklevel=2)\n",
    "            return None\n",
    "        \n",
    "        # Get total profile storage\n",
    "        self.S = self.theta.sum(axis=1)* self.dz\n",
    "        \n",
    "        # Get change in storage [dVol]\n",
    "        self.dS=np.zeros(self.S.size)\n",
    "        self.dS[1:]=np.diff(self.S)/(np.diff(self.t))\n",
    "        \n",
    "        # Get infiltration flux\n",
    "        if self.qTop == []:\n",
    "            KTop=KFun(np.zeros(1)+ self.psiTop, self.p)\n",
    "            self.qI=-KTop*((self.psiTop- self.psi[:, self.n-1])/ self.dz*2+1)\n",
    "        else:\n",
    "            if callable(self.qTop):  \n",
    "                self.qI = self.qTop(self.t)  # If self.qTop is a function, call it with self.t  \n",
    "            else:  \n",
    "                self.qI = np.zeros(self.t.size)+ self.qTop  # If self.qTop is a scalar, use it directly \n",
    "  \n",
    "            \n",
    "        # Get discharge flux\n",
    "        if self.qBot == []:\n",
    "            if self.psiBot == []:\n",
    "                # Free drainage\n",
    "                KBot=KFun(self.psi[:,0], self.p)\n",
    "                self.qD=-KBot\n",
    "            else:\n",
    "                # Type 1 boundary\n",
    "                KBot=KFun(np.zeros(1)+ self.psiBot, self.p)\n",
    "                self.qD=-KBot*((self.psi[:,0]- self.psiBot)/self.dz*2+1.0)\n",
    "        else:\n",
    "            self.qD=np.zeros(self.t.size)+ self.qBot\n",
    "\n",
    "    # Post process model output to get useful information\n",
    "    def plot_fluxes(self, ymin=0, ymax=1, figsize=(6, 4), dpi=150):\n",
    "        plt.figure(figsize=figsize, dpi=dpi)\n",
    "        plt.plot(self.t, self.dS,label='Change in storage')\n",
    "        plt.plot(self.t,-self.qI,label='Infiltration')\n",
    "        plt.plot(self.t,-self.qD,label='Discharge')\n",
    "        plt.xlabel('Time [days]')\n",
    "        plt.ylabel('Flux [m/day]')\n",
    "        plt.legend()\n",
    "        plt.ylim(ymin, ymax)\n",
    "        plt.show()\n",
    "\n",
    "    def plot_wc_profiles(self, freq =1, figsize=(4, 5), dpi=150):\n",
    "        # Create colormap\n",
    "        colors = cm.Blues(np.linspace(0.3, 1, len(self.t)))  # 'Blues' colormap\n",
    "\n",
    "        # Plot vertical profiles\n",
    "        plt.figure(figsize=figsize, dpi=dpi)\n",
    "        for i in range(0, len(self.t), freq):\n",
    "            plt.plot(self.theta[i,:], self.z, color=colors[i], label=f't={self.t[i]} days')\n",
    "\n",
    "        plt.xlim(self.p['thetaR']-0.01, self.p['thetaS']+0.01)\n",
    "        plt.xlabel(r'$\\theta$ [-]')\n",
    "        plt.ylabel('Elevation [m]')\n",
    "        plt.legend()\n",
    "        plt.show()"
   ]
  },
  {
   "cell_type": "code",
   "execution_count": null,
   "metadata": {},
   "outputs": [],
   "source": [
    "# van Genuchten equation to calculate theta from head/matric potential (equation 26 and 27(\n",
    "def thetaFun(psi, pars):\n",
    "    Se = np.where(psi >= 0, 1.0, (1+abs(psi*pars['alpha'])**pars['n'])**(-pars['m']))  # Replace \"...\" with logic for psi < 0\n",
    "    return pars['thetaR']+(pars['thetaS']-pars['thetaR'])*Se\n",
    "\n",
    "# van Genuchten equation to calculate unsaturated K from head/matric potential (equation 26 and 29)\n",
    "def KFun(psi,pars):\n",
    "    # calculate effective saturation\n",
    "    Se = np.where(psi >= 0, 1.0, (1+abs(psi*pars['alpha'])**pars['n'])**(-pars['m']))  \n",
    "    return pars['Ks']*Se**pars['neta']*(1-(1-Se**(1/pars['m']))**pars['m'])**2\n",
    "    \n",
    "# equation 5\n",
    "def CFun(psi,pars):\n",
    "    # calculate effective saturation where there is a negative matric potential (i.e. unsaturated conditions\n",
    "    Se = np.where(psi >= 0, 1.0, (1+abs(psi*pars['alpha'])**pars['n'])**(-pars['m']))\n",
    "\n",
    "    dSedh=pars['alpha']*pars['m']/(1-pars['m'])*Se**(1/pars['m'])*(1-Se**(1/pars['m']))**pars['m']\n",
    "    return Se*pars['Ss']+(pars['thetaS']-pars['thetaR'])*dSedh\n",
    "\n",
    "\n",
    "def plot_soil_curves(pars, max_head = 10, min_head = 0):\n",
    "    psi=np.linspace(-max_head, -min_head,200)\n",
    "    plt.figure(figsize=(4, 10), dpi=150)\n",
    "    plt.subplot(3,1,1)\n",
    "    plt.plot(thetaFun(psi,pars), -psi)\n",
    "    plt.xlabel(r'$\\theta [-]$')\n",
    "    plt.ylabel(r'Capillary Pressure Head [m]')\n",
    "    plt.subplot(3,1,2)\n",
    "    plt.plot(thetaFun(psi,pars), KFun(psi,pars))\n",
    "    plt.xlabel(r'$\\theta$ [-]')\n",
    "    plt.ylabel(r'$K$ [m/d]')\n",
    "    plt.subplot(3,1,3)\n",
    "    plt.plot(psi, CFun(psi,pars))\n",
    "    plt.ylabel(r'$C(\\psi)$ [1/m]')\n",
    "    plt.xlabel(r'$\\psi$ [m]')\n",
    "    plt.show()"
   ]
  },
  {
   "cell_type": "code",
   "execution_count": null,
   "metadata": {},
   "outputs": [],
   "source": [
    "# Richards equation solver\n",
    "# This is a function that calculated the right hand side of Richards' equation. You\n",
    "# will not need to modify this function, unless you are doing something advanced. \n",
    "# This block of code must be executed so that the function can be later called.\n",
    "\n",
    "def RE_model(psi,t,dz,n,tmax,p,qTfun,qBot,psiTop,psiBot):\n",
    "       \n",
    "    # Basic properties:\n",
    "    C=CFun(psi,p)\n",
    "   \n",
    "    # initialize vectors:\n",
    "    q=np.zeros(n+1)\n",
    "    \n",
    "    # Upper boundary\n",
    "    if psiTop == []: # if no ponding, define upper flux that may vary with time\n",
    "        if callable(qTfun):  # Check if qTfun is a function\n",
    "            if t>tmax:\n",
    "                q[n]=qTfun(tmax)\n",
    "            else:\n",
    "                q[n]=qTfun(t)\n",
    "        else:  # If qTfun is a scalar, i.e. the flux is constant in time then set it to a fixed value\n",
    "            q[n] = qTfun  \n",
    "    else: # define constant head (typically a positive value)\n",
    "        KTop=KFun(np.zeros(1)+psiTop,p)\n",
    "        q[n]=-KTop[0]*((psiTop-psi[n-1])/dz*2+1)\n",
    "    \n",
    "    # Lower boundary\n",
    "    if qBot == []:\n",
    "        if psiBot == []:\n",
    "            # Free drainage\n",
    "            KBot=KFun(np.zeros(1)+psi[0],p)\n",
    "            q[0]=-KBot[0]\n",
    "        else:\n",
    "            # Type 1 boundary\n",
    "            KBot=KFun(np.zeros(1)+psiBot,p)\n",
    "            q[0]=-KBot[0]*((psi[0]-psiBot)/dz*2+1.0)    \n",
    "    else:\n",
    "        # Type 2 boundary\n",
    "        q[0]=qBot[0]\n",
    "    \n",
    "    # Internal nodes\n",
    "    i=np.arange(0,n-1)\n",
    "    Knodes=KFun(psi,p)\n",
    "    Kmid=(Knodes[i+1]+Knodes[i])/2.0\n",
    "    \n",
    "    j=np.arange(1,n)\n",
    "    q[j]=-Kmid*((psi[i+1]-psi[i])/dz+1.0)\n",
    "    \n",
    "    # Continuity\n",
    "    i=np.arange(0,n)\n",
    "    dpsidt=(-(q[i+1]-q[i])/dz)/C\n",
    "    \n",
    "    return dpsidt"
   ]
  },
  {
   "cell_type": "code",
   "execution_count": null,
   "metadata": {},
   "outputs": [],
   "source": [
    "# Select which soil properties to use\n",
    "# Note that to use these pre-assigned soil moisture properties you need to import the soil_params library\n",
    "# import soil_params as sp\n",
    "# p=sp.HygieneSandstone()\n",
    "# p=sp.TouchetSiltLoam()\n",
    "# p=sp.SiltLoamGE3()\n",
    "# p=sp.GuelphLoamDrying()\n",
    "# p=sp.GuelphLoamWetting()\n",
    "# p=sp.BeitNetofaClay()\n",
    "\n",
    "# alternatively set the soil properties in a dictionary as follows\n",
    "p={}\n",
    "p['thetaR']=0.1 # residual water content\n",
    "p['thetaS']=0.35 # saturated water content = porosity\n",
    "p['alpha']= 2.0 # 1/capillary entry pressure [m]\n",
    "p['n']=5.4 # van G shape parameter\n",
    "p['m']=1-1/p['n'] # second van G shape parameter\n",
    "p['Ks']= 100 # saturated hydraulic conductivity [m/d] \n",
    "p['neta']=0.5 # relative permeability exponent \n",
    "p['Ss']=0.000001 # specific storage [1/m]\n",
    "\n",
    "max_pc = 5\n",
    "plot_soil_curves(p, max_pc)"
   ]
  },
  {
   "cell_type": "markdown",
   "metadata": {},
   "source": [
    "### Define an instance or object of type richards model class provided the following attributes\n",
    "\n",
    "`p`: the material properties\n",
    "\n",
    "`dz` : grid spacing (meters)\n",
    "\n",
    "`depth`: depth of the soil column (meters)\n",
    "\n",
    "`dt`: time step (days)\n",
    "\n",
    "`sim_time`: simulation time (days)\n",
    "\n",
    "The default boundary conditions are zero flux at the top and free drainage at the bottom. The default initial conditions are full saturated at the bottom and water content throughout the column determined by the capillary characteristic curve.\n",
    "\n",
    "### Define and run default model"
   ]
  },
  {
   "cell_type": "code",
   "execution_count": null,
   "metadata": {},
   "outputs": [],
   "source": [
    "dz = 0.06\n",
    "depth = 4 # [m]\n",
    "dt = 0.5 # [days]\n",
    "sim_time = 5 # [days]\n",
    "\n",
    "free_drainage_model = richards_model(p, dz, depth, dt, sim_time)\n",
    "print(free_drainage_model)"
   ]
  },
  {
   "cell_type": "code",
   "execution_count": null,
   "metadata": {},
   "outputs": [],
   "source": [
    "free_drainage_model.solve()"
   ]
  },
  {
   "cell_type": "code",
   "execution_count": null,
   "metadata": {},
   "outputs": [],
   "source": [
    "print(free_drainage_model.print_attributes_and_methods())"
   ]
  },
  {
   "cell_type": "markdown",
   "metadata": {},
   "source": [
    "This just printed all of the model attributes and methods. Many of the attributes define different model input that can be changed to run different types of models. In addition to what is described in the introduction of the section, we can edit different model boundary conditions or initial conditions. We can also extract and print model output such as the following."
   ]
  },
  {
   "cell_type": "code",
   "execution_count": null,
   "metadata": {},
   "outputs": [],
   "source": [
    "free_drainage_model.extract_output()\n",
    "# print model times\n",
    "print(free_drainage_model.t)\n",
    "# print model fluxes into the top of the model\n",
    "print(free_drainage_model.qI)"
   ]
  },
  {
   "cell_type": "code",
   "execution_count": null,
   "metadata": {},
   "outputs": [],
   "source": [
    "# set frequency of lines, frequency of 1 = plot every timestep, frequency of 10 means plot every 10 timesteps\n",
    "free_drainage_model.plot_wc_profiles(freq=2)"
   ]
  },
  {
   "cell_type": "markdown",
   "metadata": {},
   "source": [
    "### Now run transient flux model"
   ]
  },
  {
   "cell_type": "code",
   "execution_count": null,
   "metadata": {},
   "outputs": [],
   "source": [
    "dz = 0.06\n",
    "depth = 4 # [m]\n",
    "dt = 0.1 # [days]\n",
    "sim_time = 10 # [days]\n",
    "\n",
    "# initiate model object\n",
    "transient_model = richards_model(p, dz, depth, dt, sim_time)\n",
    "print(transient_model)\n",
    "# Ensure flux aligns with provided timesteps transient infiltration flux\n",
    "qT=np.zeros(len(transient_model.t))\n",
    "# set day 2 to constant flux\n",
    "qT[19:29]=-2/100 # 2 cm/day\n",
    "\n",
    "# set day 6 to constant flux\n",
    "qT[59:69]=-4/100 # 4 cm/day\n",
    "transient_model.qTop=interp1d(transient_model.t,qT)\n",
    "\n",
    "# Also set initial conditions to be at residual saturation conditions\n",
    "transient_model.psi0=np.ones(transient_model.n)*-5\n",
    "# Alternatively, comment the line above and uncomment the line below to run a constant head lower boundary\n",
    "# transient_model.psiBot = 0\n"
   ]
  },
  {
   "cell_type": "code",
   "execution_count": null,
   "metadata": {},
   "outputs": [],
   "source": [
    "transient_model.solve()\n",
    "transient_model.extract_output()\n",
    "# plot fluxes and set ymin = -0.04 and ymax = 0.06\n",
    "transient_model.plot_fluxes(-0.04, 0.06)"
   ]
  },
  {
   "cell_type": "code",
   "execution_count": null,
   "metadata": {},
   "outputs": [],
   "source": [
    "# set frequency of lines, frequency of 1 = plot every timestep, frequency of 10 means plot every 10 timesteps\n",
    "transient_model.plot_wc_profiles(freq=10)"
   ]
  },
  {
   "cell_type": "markdown",
   "metadata": {},
   "source": [
    "### Example of how we update a material parameter and rerun the model"
   ]
  },
  {
   "cell_type": "code",
   "execution_count": null,
   "metadata": {},
   "outputs": [],
   "source": [
    "# update saturated hydraulic conductivity\n",
    "transient_model.p['Ks']=500\n",
    "print(transient_model)\n",
    "\n",
    "transient_model.solve()\n",
    "# set frequency of lines, frequency of 1 = plot every timestep, frequency of 10 means plot every 10 timesteps\n",
    "transient_model.plot_wc_profiles(freq=10)"
   ]
  },
  {
   "cell_type": "markdown",
   "metadata": {},
   "source": [
    "What parameter was changed between these last two models? How does changing this parameter change the model results? What does this imply about trying to measure recharge in sandy or coarser soils using measurements of water content?\n",
    "\n",
    "## Activity\n",
    "Now build a model where you start with fully saturated conditions and the bottom of the model represents the water table. Run the model until equilibrium drainage conditions are reached. Use a different material for the model. Note that if you want to import pre-assigned materials then you need to import the `soil_params` library. Alternatively, you can define your own soil properties as we did above."
   ]
  },
  {
   "cell_type": "code",
   "execution_count": null,
   "metadata": {},
   "outputs": [],
   "source": [
    "# Import a library that contains soil moisture properties and functions\n",
    "import soil_params as sp"
   ]
  },
  {
   "cell_type": "code",
   "execution_count": null,
   "metadata": {},
   "outputs": [],
   "source": [
    "# initiate model object\n",
    "drainage_model = richards_model(sp.HygieneSandstone(), 0.06, 4, 0.5, 5)\n",
    "# Print user-defined attributes and methods\n",
    "print(drainage_model.print_attributes_and_methods())"
   ]
  },
  {
   "cell_type": "markdown",
   "metadata": {},
   "source": [
    "This provides a list of all the model variables and methods (built in functions). Here are the boundary condition options:"
   ]
  },
  {
   "cell_type": "code",
   "execution_count": null,
   "metadata": {},
   "outputs": [],
   "source": [
    "print(drainage_model.qTop)\n",
    "print(drainage_model.qBot)\n",
    "print(drainage_model.psiTop)\n",
    "print(drainage_model.psiBot)"
   ]
  },
  {
   "cell_type": "markdown",
   "metadata": {},
   "source": [
    "Here are the initial conditions settings"
   ]
  },
  {
   "cell_type": "code",
   "execution_count": null,
   "metadata": {},
   "outputs": [],
   "source": [
    "print(drainage_model.psi0)"
   ]
  },
  {
   "cell_type": "code",
   "execution_count": null,
   "metadata": {},
   "outputs": [],
   "source": [
    "# update model initial and boundary conditions to start fully saturated and run the model until equilibrium drainage conditions are reached with no recharge flux\n",
    "\n",
    "drainage_model.solve()"
   ]
  },
  {
   "cell_type": "code",
   "execution_count": null,
   "metadata": {},
   "outputs": [],
   "source": [
    "# set frequency of lines, frequency of 1 = plot every timestep, frequency of 10 means plot every 10 timesteps\n",
    "drainage_model.plot_wc_profiles(freq=1)"
   ]
  },
  {
   "cell_type": "code",
   "execution_count": null,
   "metadata": {},
   "outputs": [],
   "source": []
  },
  {
   "cell_type": "markdown",
   "metadata": {},
   "source": [
    "## Other plotting options\n",
    "Note that `z` increases in the upward direction."
   ]
  },
  {
   "cell_type": "code",
   "execution_count": null,
   "metadata": {},
   "outputs": [],
   "source": [
    "# Create colormap\n",
    "colors = cm.cividis(np.linspace(0.3, 1, len(transient_model.t)))  # 'Blues' colormap\n",
    "interval = 10\n",
    "# Plot time series of different cells\n",
    "plt.figure(figsize=(6, 3), dpi=150)\n",
    "for i in range(0, transient_model.n, interval):\n",
    "    plt.plot(transient_model.t,-transient_model.psi[:,i], color=colors[i], label=f'z={transient_model.z[i]:.1f} [m]')\n",
    "\n",
    "plt.xlabel('Time [days]')\n",
    "plt.ylabel('Capillary pressure [m]')\n",
    "plt.legend()\n",
    "plt.show()"
   ]
  },
  {
   "cell_type": "code",
   "execution_count": null,
   "metadata": {},
   "outputs": [],
   "source": []
  }
 ],
 "metadata": {
  "kernelspec": {
   "display_name": "Python 3 (ipykernel)",
   "language": "python",
   "name": "python3"
  },
  "language_info": {
   "codemirror_mode": {
    "name": "ipython",
    "version": 3
   },
   "file_extension": ".py",
   "mimetype": "text/x-python",
   "name": "python",
   "nbconvert_exporter": "python",
   "pygments_lexer": "ipython3",
   "version": "3.9.21"
  }
 },
 "nbformat": 4,
 "nbformat_minor": 4
}
