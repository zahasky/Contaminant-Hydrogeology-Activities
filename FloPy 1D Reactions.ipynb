{
 "cells": [
  {
   "cell_type": "markdown",
   "metadata": {},
   "source": [
    "## Introduction\n",
    "After working with analytical solutions to demonstrate the impact of different reactions on solute transport we have come across some limitiations. What are they?\n",
    "\n",
    "We will use FloPy in this notebook to expand the complexity of the scenarios that we can model.\n",
    "\n",
    "Import the standard libraries"
   ]
  },
  {
   "cell_type": "code",
   "execution_count": 1,
   "metadata": {},
   "outputs": [
    {
     "name": "stdout",
     "output_type": "stream",
     "text": [
      "flopy is installed in C:\\ProgramData\\Anaconda3\\lib\\site-packages\\flopy\n"
     ]
    }
   ],
   "source": [
    "# Import the flopy library\n",
    "import flopy\n",
    "# Import a few additional libraries\n",
    "import sys\n",
    "import os\n",
    "# In addition to our typical libraries\n",
    "import numpy as np\n",
    "import matplotlib.pyplot as plt"
   ]
  },
  {
   "cell_type": "markdown",
   "metadata": {},
   "source": [
    "First find where you have your MODFLOW and MT3D executables located on your system."
   ]
  },
  {
   "cell_type": "code",
   "execution_count": 2,
   "metadata": {},
   "outputs": [
    {
     "name": "stdout",
     "output_type": "stream",
     "text": [
      "C:\\Hydro\\MF2005.1_12\\MF2005.1_12\\bin\\mf2005\n",
      "C:\\Hydro\\mt3dusgs1.1.0\\mt3dusgs1.1.0\\bin\\mt3d-usgs_1.1.0_64\n"
     ]
    }
   ],
   "source": [
    "# Path to MODFLOW executable, probably called 'mf2005'\n",
    "exe_name_mf = 'C:\\\\Hydro\\\\MF2005.1_12\\\\MF2005.1_12\\\\bin\\\\mf2005'\n",
    "# Print to make sure it is formated correctly\n",
    "print(exe_name_mf)\n",
    "# Path to MT3D executable, probably called 'mt3dms'\n",
    "exe_name_mt = 'C:\\\\Hydro\\\\mt3dusgs1.1.0\\\\mt3dusgs1.1.0\\\\bin\\\\mt3d-usgs_1.1.0_64'\n",
    "# Print to make sure it is formated correctly\n",
    "print(exe_name_mt)"
   ]
  },
  {
   "cell_type": "markdown",
   "metadata": {},
   "source": [
    "Let's create a new directory to save the data. "
   ]
  },
  {
   "cell_type": "code",
   "execution_count": 3,
   "metadata": {},
   "outputs": [],
   "source": [
    "# directory to save data\n",
    "directory_name = 'reactions_1D_models'\n",
    "# directory to save data\n",
    "datadir = os.path.join('..', directory_name, 'mt3d_test', 'mt3dms')\n",
    "workdir = os.path.join('.', directory_name)"
   ]
  },
  {
   "cell_type": "markdown",
   "metadata": {},
   "source": [
    "Notice however that we don't yet name the folder where we will save data 'dirname'. This will be an input to our model function.\n",
    "\n",
    "\n",
    "## 1D Reactions Model Function\n",
    "The first thing we do is setup the function. The input variables are:\n",
    "\n",
    "### Function Input:\n",
    "#### directory name\n",
    "    direname = \n",
    "\n",
    "#### MT3D period length \n",
    "Time is in selected units, the model time length is the sum of this (for steady state flow it can be set to anything). Note that this is different from the MODFLOW flow model period input. Therefore the underlying flow conditions are constant and steady state across changes in MT3D stress periods. The format for multi-period input: ```[time_of_pulse_injection, time_of_rest_of_model]```\n",
    "\n",
    "The function is set up to only allow for two input periods. For example:\n",
    " \n",
    "    perlen_mt = [60, 60*58]\n",
    "    \n",
    "    \n",
    "#### Porosity\n",
    "\n",
    "    prsity = \n",
    "    \n",
    "#### advection velocity\n",
    "\n",
    "    v = \n",
    "    \n",
    "#### dispersivity\n",
    "Set the longitudinal dispersivity in selected units. What are the units again?\n",
    "\n",
    "    al = \n",
    "  \n",
    "### Reaction model input  \n",
    "#### Model type\n",
    "isothm is a flag indicating which type of sorption (or dual-domain mass transfer) is simulated: isothm = 0, no sorption is simulated; isothm = 1, linear isotherm (equilibrium-controlled); isothm = 2, Freundlich isotherm (equilibrium-controlled); isothm = 3, Langmuir isotherm (equilibrium-controlled). While there are addition options for now we will focus on these four models.\n",
    "\n",
    "    isothm = \n",
    "\n",
    "#### bulk density (rhob)\n",
    "This can be a float or array of floats (nlay, nrow, ncol). rhob is the bulk density of the aquifer medium (unit, ML-3). rhob is used if isothm = 1, 2, 3, 4, or 6. If rhob is not user-specified and isothm is not 5 then rhob is set to 1.8e3. (default is None)\n",
    "\n",
    "\n",
    "#### First sorption parameter (sp1)\n",
    "Can be a float or array of floats (nlay, nrow, ncol). The use of sp1 depends on the type of sorption selected (the value of isothm). If sp1 is not specified and isothm > 0 then sp1 is set to 0. (default is None).\n",
    "\n",
    "For linear sorption (isothm = 1) and nonequilibrium sorption (isothm = 4), sp1 is the distribution coefficient (Kd) (unit, L3M-1). \n",
    "\n",
    "For Freundlich sorption (isothm = 2), sp1 is the Freundlich equilibrium constant (Kf) (the unit depends on the Freundlich exponent a). \n",
    "\n",
    "For Langmuir sorption (isothm = 3), sp1 is the Langmuir equilibrium constant (Kl) (unit, L3M-1 ). \n",
    "\n",
    "For example \n",
    "    \n",
    "    isothm = 1\n",
    "    sp1 = kd \n",
    "\n",
    "Where \n",
    "    \n",
    "    kd = (retardation - 1.) * prsity / rhob\n",
    "\n",
    "#### Second sorption parameter (sp2)\n",
    "sp2 can be a float or array of floats (nlay, nrow, ncol). The use of sp2 depends on the type of sorption model selected. \n",
    "\n",
    "For linear sorption (isothm = 1), sp2 is read but not used. \n",
    "\n",
    "For Freundlich sorption (isothm = 2), sp2 is the Freundlich exponent N. \n",
    "\n",
    "For Langmuir sorption (isothm = 3), sp2 is the total concentration of the sorption sites available ( S ) (unit, MM-1).  If sp2 is not specified and isothm > 0 then sp2 is set to 0. (default is None).\n",
    "\n",
    "For example \n",
    "    \n",
    "    isothm = 2\n",
    "    sp1 = kf\n",
    "    sp2 = N\n",
    "\n",
    "\n",
    "#### Additional Reaction Package input options (not used in this function \n",
    "ireact is an integer flag indicating which type of kinetic rate reaction is simulated: ireact = 0, no kinetic rate reaction is simulated\n",
    "\n",
    "rc1 is the first-order reaction rate for the dissolved (liquid) phase for the first species (unit, T-1). rc1 is not used ireact = 0. \n",
    "\n",
    "rc2 is the first-order reaction rate for the sorbed phase for the first species (unit, T-1). rc2 is not used ireact = 0. "
   ]
  },
  {
   "cell_type": "code",
   "execution_count": 40,
   "metadata": {},
   "outputs": [],
   "source": [
    "def reaction_model_1D(dirname, perlen_mt, prsity, v, al, isothm, rhob, sp1, sp2):\n",
    "    # Model workspace and new sub-directory\n",
    "    model_ws = os.path.join(workdir, dirname)\n",
    "    print(model_ws)\n",
    "    \n",
    "    # time units (itmuni in discretization package), unfortunately this entered differently into MODFLOW and MT3D\n",
    "    # 1 = seconds, 2 = minutes, 3 = hours, 4 = days, 5 = years\n",
    "    itmuni = 1 # MODFLOW\n",
    "    mt_tunit = 'S' # MT3D units\n",
    "    # length units (lenuniint in discretization package)\n",
    "    # 0 = undefined, 1 = feet, 2 = meters, 3 = centimeters\n",
    "    lenuni = 3 # MODFLOW units\n",
    "    mt_lunit = 'CM' # MT3D units\n",
    "    \n",
    "    # Modflow stress periods\n",
    "    perlen_mf = [np.sum(perlen_mt)]\n",
    "    # number of stress periods (MF input), calculated from period length input\n",
    "    nper_mf = len(perlen_mf)\n",
    "    \n",
    "    # number of stress periods (MT input), calculated from period length input\n",
    "    nper = len(perlen_mt)\n",
    "    \n",
    "    # Frequency of output, If nprs > 0 results will be saved at \n",
    "    #     the times as specified in timprs; \n",
    "    nprs = 100\n",
    "    # timprs (list of float): The total elapsed time at which the simulation \n",
    "    #     results are saved. The number of entries in timprs must equal nprs. (default is None).\n",
    "    timprs = np.linspace(0, np.sum(perlen_mf), nprs, endpoint=False)\n",
    "    \n",
    "    # Model information \n",
    "    nlay = 1 # number of layers\n",
    "    nrow = 1 # number of rows\n",
    "    ncol = 101 # number of columns\n",
    "    delr = 0.2 # grid size in direction of Lx\n",
    "    delc = 4.4 # grid size in direction of Ly, this was choosen such that the model has the same cross-sectional area as the column from the dispersion notebook example\n",
    "    delv = 4.4 # grid size in direction of Lz\n",
    "    laytyp = 0\n",
    "    \n",
    "    # length of model in selected units \n",
    "    Lx = (ncol - 1) * delr\n",
    "    print(\"Model length is: \" + str(Lx + delr) + \" (check units of 'lenuni')\")\n",
    "    \n",
    "    # hydraulic conductivity\n",
    "    hk = 1.\n",
    "    # advection velocity (function input)\n",
    "    # v = 0.014\n",
    "    # porosity\n",
    "    prsity = prsity\n",
    "    # discharge (again in selected units)\n",
    "    q = v * prsity\n",
    "    \n",
    "    # Flow field boundary conditions\n",
    "    # boundary conditions, <0 = specified head, 0 = no flow, >0 variable head\n",
    "    ibound = np.ones((nlay, nrow, ncol), dtype=np.int)\n",
    "    # index the inlet cell\n",
    "    ibound[0, 0, 0] = -1\n",
    "    # index the outlet cell\n",
    "    ibound[0, 0, -1] = -1\n",
    "    # constant head conditions\n",
    "    strt = np.zeros((nlay, nrow, ncol), dtype=np.float)\n",
    "    h1 = q * Lx\n",
    "    # index the inlet cell\n",
    "    strt[0, 0, 0] = h1\n",
    "    \n",
    "    # Solute transport boundary conditions\n",
    "    # Concentration at inlet boundary\n",
    "    C_in = [1.0, 0.0]\n",
    "\n",
    "    # Boundary conditions: if icbund = 0, the cell is an inactive concentration cell; \n",
    "    # If icbund < 0, the cell is a constant-concentration cell; \n",
    "    # If icbund > 0, the cell is an active concentration cell where the concentration value will be calculated.\n",
    "    icbund = np.ones((nlay, nrow, ncol), dtype=np.int)\n",
    "\n",
    "    # Initial conditions: concentration zero everywhere, except the inlet\n",
    "    sconc = np.zeros((nlay, nrow, ncol), dtype=np.float)\n",
    "    \n",
    "    # MT3D stress period data, note that the indices between 'spd_mt' must exist in 'spd_mf' \n",
    "    # This is used as input for the source and sink mixing package\n",
    "    # Itype is an integer indicating the type of point source, 2=well, 3=drain, -1=constant concentration\n",
    "    itype = -1\n",
    "    cwell_info = np.zeros((nrow, 5), dtype=np.float)\n",
    "    # Nested loop to define every inlet face grid cell as a well\n",
    "    for row in range(0, nrow):\n",
    "        cwell_info[row] = [0, row, 0, C_in[0], itype] \n",
    "            \n",
    "    # Second stress period        \n",
    "    cwell_info2 = cwell_info.copy()   \n",
    "    cwell_info2[:,3] = C_in[1] \n",
    "    # Now apply stress period info    \n",
    "    spd_mt = {0:cwell_info, 1:cwell_info2}\n",
    "    \n",
    "    \n",
    "    # Setup models\n",
    "    # MODFLOW model name\n",
    "    modelname_mf = dirname + '_mf'\n",
    "    # MODFLOW package class\n",
    "    mf = flopy.modflow.Modflow(modelname=modelname_mf, model_ws=model_ws, exe_name=exe_name_mf)\n",
    "    # MODFLOW model discretization package class\n",
    "    dis = flopy.modflow.ModflowDis(mf, nlay=nlay, nrow=nrow, ncol=ncol, nper=nper_mf,\n",
    "                                   delr=delr, delc=delc, top=0., botm=[0 - delv],\n",
    "                                   perlen=perlen_mf, itmuni=itmuni, lenuni=lenuni)\n",
    "    # MODFLOW basic package class\n",
    "    bas = flopy.modflow.ModflowBas(mf, ibound=ibound, strt=strt)\n",
    "    # MODFLOW layer properties flow package class\n",
    "    lpf = flopy.modflow.ModflowLpf(mf, hk=hk, laytyp=laytyp)\n",
    "    # MODFLOW preconditioned conjugate-gradient package class\n",
    "    pcg = flopy.modflow.ModflowPcg(mf)\n",
    "    # MODFLOW Link-MT3DMS Package Class (this is the package for solute transport)\n",
    "    lmt = flopy.modflow.ModflowLmt(mf)\n",
    "    \n",
    "    mf.write_input()\n",
    "    mf.run_model(silent=True) # Set this to false to produce output in command window\n",
    "    \n",
    "    # RUN MT3dms solute tranport \n",
    "    modelname_mt = dirname + '_mt'\n",
    "    # MT3DMS Model Class\n",
    "    # Input: modelname = 'string', namefile_ext = 'string' (Extension for the namefile (the default is 'nam'))\n",
    "    # modflowmodelflopy.modflow.mf.Modflow = This is a flopy Modflow model object upon which this Mt3dms model is based. (the default is None)\n",
    "    mt = flopy.mt3d.Mt3dms(modelname=modelname_mt, model_ws=model_ws, \n",
    "                           exe_name=exe_name_mt, modflowmodel=mf)  \n",
    "    \n",
    "    \n",
    "    # Basic transport package class\n",
    "    btn = flopy.mt3d.Mt3dBtn(mt, icbund=icbund, prsity=prsity, sconc=sconc, \n",
    "                             tunit=mt_tunit, lunit=mt_lunit, nper=nper, \n",
    "                             perlen=perlen_mt, nprs=nprs, timprs=timprs)\n",
    "    \n",
    "    # mixelm is an integer flag for the advection solution option, \n",
    "    # mixelm = 0 is the standard finite difference method with upstream or central in space weighting.\n",
    "    # mixelm = 1 is the forward tracking method of characteristics, this seems to result in minimal numerical dispersion.\n",
    "    # mixelm = 2 is the backward tracking\n",
    "    # mixelm = 3 is the hybrid method\n",
    "    # mixelm = -1 is the third-ord TVD scheme (ULTIMATE)\n",
    "    mixelm = 1\n",
    "    \n",
    "    adv = flopy.mt3d.Mt3dAdv(mt, mixelm=mixelm)\n",
    "    \n",
    "    dsp = flopy.mt3d.Mt3dDsp(mt, al=al)\n",
    "    \n",
    "    # =============================================================================    \n",
    "    ## Note this additional line to call the \n",
    "    rct = flopy.mt3d.Mt3dRct(mt, isothm=isothm, ireact=0, igetsc=0,\n",
    "                             rhob=rhob, sp1=sp1, sp2=sp2)\n",
    "    # =============================================================================\n",
    "    ssm = flopy.mt3d.Mt3dSsm(mt, stress_period_data=spd_mt)\n",
    "    gcg = flopy.mt3d.Mt3dGcg(mt)\n",
    "    mt.write_input()\n",
    "    fname = os.path.join(model_ws, 'MT3D001.UCN')\n",
    "    if os.path.isfile(fname):\n",
    "        os.remove(fname)\n",
    "    mt.run_model(silent=True)\n",
    "    \n",
    "    fname = os.path.join(model_ws, 'MT3D001.UCN')\n",
    "    ucnobj = flopy.utils.UcnFile(fname)\n",
    "    # Extract the output time information, convert from list to np array\n",
    "    times = np.array(ucnobj.get_times())\n",
    "    # Extract the 4D concentration values (t, x, y, z)\n",
    "    conc = ucnobj.get_alldata()\n",
    "    \n",
    "    return mf, mt, times, conc"
   ]
  },
  {
   "cell_type": "markdown",
   "metadata": {},
   "source": [
    "Now lets trying running a model by calling our 'model_1D' function"
   ]
  },
  {
   "cell_type": "code",
   "execution_count": 132,
   "metadata": {},
   "outputs": [
    {
     "name": "stdout",
     "output_type": "stream",
     "text": [
      ".\\reactions_1D_models\\linear\n",
      "Model length is: 20.2 (check units of 'lenuni')\n"
     ]
    }
   ],
   "source": [
    "dirname = 'linear'\n",
    "perlen_mt = [60*120, 0]\n",
    "prsity = 0.3\n",
    "v = 0.014\n",
    "al = 0.3 # cm\n",
    "\n",
    "isothm = 1\n",
    "rhob = 1.6\n",
    "kd = 0.4 \n",
    "sp2 = 0\n",
    "\n",
    "\n",
    "# Call the FloPy model function\n",
    "mf, mt, times, conc = reaction_model_1D(dirname, perlen_mt, \n",
    "        prsity, v, al, isothm, rhob, kd, sp2)"
   ]
  },
  {
   "cell_type": "markdown",
   "metadata": {},
   "source": [
    "Now let's plot the model output as a function of time"
   ]
  },
  {
   "cell_type": "code",
   "execution_count": 133,
   "metadata": {},
   "outputs": [
    {
     "name": "stdout",
     "output_type": "stream",
     "text": [
      "1.0000017\n"
     ]
    },
    {
     "data": {
      "image/png": "[encoded data removed]",
      "text/plain": [
       "<Figure size 432x288 with 1 Axes>"
      ]
     },
     "metadata": {
      "needs_background": "light"
     },
     "output_type": "display_data"
    }
   ],
   "source": [
    "C_btc = conc[:, 0, 0, -1]\n",
    "print(np.max(conc))\n",
    "plt.plot(times/60, C_btc, label='Breakthrough Curve')\n",
    "plt.xlabel('Time [min]');"
   ]
  },
  {
   "cell_type": "markdown",
   "metadata": {},
   "source": [
    "## 1D Analytical Solution Function\n",
    "Now lets compare the numerical results with the analytical solution we looked at in our previous notebook."
   ]
  },
  {
   "cell_type": "code",
   "execution_count": 134,
   "metadata": {},
   "outputs": [],
   "source": [
    "# Remember that we need a few special functions\n",
    "from scipy.special import erfc as erfc\n",
    "from scipy.special import erf as erf\n",
    "\n",
    "# Analytical solution\n",
    "def ADE_type1_Rfun(x, t, v, D, rhob, kd, phi, C0):\n",
    "    R = 1 + rhob*kd/phi\n",
    "    \n",
    "    # Note that the '\\' means continued on the next line\n",
    "    C = C0*((1/2)*erfc((R*x - v*t)/(2*np.sqrt(D*R*t))) + \\\n",
    "        (1/2)*np.exp(v*x/D)*erfc((R*x + v*t)/(2*np.sqrt(D*R*t))))\n",
    "    # Return the concentration (C) from this function\n",
    "    return C"
   ]
  },
  {
   "cell_type": "markdown",
   "metadata": {},
   "source": [
    "Call the function to calculate the breakthrough curve at outlet of the core"
   ]
  },
  {
   "cell_type": "code",
   "execution_count": 135,
   "metadata": {},
   "outputs": [
    {
     "name": "stdout",
     "output_type": "stream",
     "text": [
      "Outlet of model: 20.10000029951334 cm\n"
     ]
    }
   ],
   "source": [
    "# Extract the model grid cell location (in selected units, cm in this case)\n",
    "x = mf.dis.sr.xcenter\n",
    "print('Outlet of model: ' + str(x[-1]) + ' cm')"
   ]
  },
  {
   "cell_type": "code",
   "execution_count": 136,
   "metadata": {},
   "outputs": [],
   "source": [
    "# Call the FloPy model function\n",
    "D = v*al\n",
    "C_analytical = ADE_type1_Rfun(x[-1], times, v, D, rhob, kd, prsity, 1)"
   ]
  },
  {
   "cell_type": "markdown",
   "metadata": {},
   "source": [
    "Now let's plot a comparison."
   ]
  },
  {
   "cell_type": "code",
   "execution_count": 137,
   "metadata": {},
   "outputs": [
    {
     "data": {
      "text/plain": [
       "<matplotlib.legend.Legend at 0x1a45d32cec8>"
      ]
     },
     "execution_count": 137,
     "metadata": {},
     "output_type": "execute_result"
    },
    {
     "data": {
      "image/png": "[encoded data removed]",
      "text/plain": [
       "<Figure size 432x288 with 1 Axes>"
      ]
     },
     "metadata": {
      "needs_background": "light"
     },
     "output_type": "display_data"
    }
   ],
   "source": [
    "c1, = plt.plot(times/60, C_btc, label='BTC FloPy Linear Adsorption')\n",
    "c2, = plt.plot(times/60, C_analytical, '--', label='BTC 1D analytical, type 1')\n",
    "plt.xlabel('Time [min]');\n",
    "\n",
    "plt.legend(handles=[c1, c2])"
   ]
  },
  {
   "cell_type": "markdown",
   "metadata": {},
   "source": [
    "It is always a good idea to this type of numerical-analytical model comparison when you are building new numerical models or using packages that you are unfamiliar with to make sure the numerical model is performing as expected!"
   ]
  },
  {
   "cell_type": "markdown",
   "metadata": {},
   "source": [
    "## Activity:\n",
    "Use this model explore how the breakthrough curves for pulse injections change with different adsorption behavior.\n",
    "\n",
    "Below are initial models for comparing conservative transport with linear, Freundlich, and Langmuir adsorption solute transport."
   ]
  },
  {
   "cell_type": "code",
   "execution_count": 125,
   "metadata": {},
   "outputs": [
    {
     "name": "stdout",
     "output_type": "stream",
     "text": [
      ".\\reactions_1D_models\\conserv_pulse\n",
      "Model length is: 20.2 (check units of 'lenuni')\n"
     ]
    }
   ],
   "source": [
    "dirname = 'conserv_pulse'\n",
    "perlen_mt = [60*2, 60*150]\n",
    "al = 0.3 # cm\n",
    "\n",
    "isothm = 1\n",
    "kd = 0 \n",
    "sp2 = 0\n",
    "\n",
    "# Call the FloPy model function\n",
    "mf, mt, times, conc = reaction_model_1D(dirname, perlen_mt, \n",
    "        prsity, v, al, isothm, rhob, kd, sp2)\n",
    "\n",
    "C_conservative_btc = conc[:, 0, 0, -1]"
   ]
  },
  {
   "cell_type": "code",
   "execution_count": 126,
   "metadata": {},
   "outputs": [
    {
     "name": "stdout",
     "output_type": "stream",
     "text": [
      ".\\reactions_1D_models\\linear_pulse\n",
      "Model length is: 20.2 (check units of 'lenuni')\n"
     ]
    }
   ],
   "source": [
    "dirname = 'linear_pulse'\n",
    "isothm = 1\n",
    "kd = 0.4 \n",
    "sp2 = 0\n",
    "\n",
    "\n",
    "# Call the FloPy model function\n",
    "mf, mt, times, conc = reaction_model_1D(dirname, perlen_mt, \n",
    "        prsity, v, al, isothm, rhob, kd, sp2)\n",
    "\n",
    "C_linear_btc = conc[:, 0, 0, -1]"
   ]
  },
  {
   "cell_type": "code",
   "execution_count": 127,
   "metadata": {},
   "outputs": [
    {
     "name": "stdout",
     "output_type": "stream",
     "text": [
      ".\\reactions_1D_models\\freundlich_pulse\n",
      "Model length is: 20.2 (check units of 'lenuni')\n"
     ]
    }
   ],
   "source": [
    "dirname = 'freundlich_pulse'\n",
    "isothm = 2\n",
    "kf = 0.2 \n",
    "N = 0.7\n",
    "\n",
    "# Call the FloPy model function\n",
    "mf, mt, times, conc = reaction_model_1D(dirname, perlen_mt, \n",
    "        prsity, v, al, isothm, rhob, kf, N)\n",
    "\n",
    "C_freund_btc = conc[:, 0, 0, -1]"
   ]
  },
  {
   "cell_type": "code",
   "execution_count": 128,
   "metadata": {},
   "outputs": [
    {
     "name": "stdout",
     "output_type": "stream",
     "text": [
      ".\\reactions_1D_models\\langmuir_pulse\n",
      "Model length is: 20.2 (check units of 'lenuni')\n"
     ]
    }
   ],
   "source": [
    "dirname = 'langmuir_pulse'\n",
    "isothm = 3\n",
    "alpha = 2 \n",
    "beta = 0.2\n",
    "\n",
    "# Call the FloPy model function\n",
    "mf, mt, times, conc = reaction_model_1D(dirname, perlen_mt, \n",
    "        prsity, v, al, isothm, rhob, alpha, beta)\n",
    "\n",
    "C_langmuir_btc = conc[:, 0, 0, -1]"
   ]
  },
  {
   "cell_type": "markdown",
   "metadata": {},
   "source": [
    "Before looking at the breakthrough curves it is useful to explore what these isotherms look like. Based on these differences in isotherms, what differences do you expect in the breakthrough curve behavior?"
   ]
  },
  {
   "cell_type": "code",
   "execution_count": 129,
   "metadata": {},
   "outputs": [
    {
     "data": {
      "text/plain": [
       "<matplotlib.legend.Legend at 0x1a45d0fde08>"
      ]
     },
     "execution_count": 129,
     "metadata": {},
     "output_type": "execute_result"
    },
    {
     "data": {
      "image/png": "[encoded data removed]",
      "text/plain": [
       "<Figure size 432x288 with 1 Axes>"
      ]
     },
     "metadata": {
      "needs_background": "light"
     },
     "output_type": "display_data"
    }
   ],
   "source": [
    "# Calculate Isotherms\n",
    "C_iso = np.linspace(0, 1, num=200)\n",
    "Cs_linear = kd*C_iso\n",
    "Cs_freundlich = kf*C_iso**N\n",
    "Cs_langmuir = alpha*beta*C_iso/(1+ alpha*C_iso)\n",
    "\n",
    "# Plot the results\n",
    "c1, = plt.plot(C_iso, Cs_linear, label='Linear')\n",
    "c2, = plt.plot(C_iso, Cs_freundlich, label='Freundlich')\n",
    "c3, = plt.plot(C_iso, Cs_langmuir, label='Langmuir')\n",
    "plt.xlabel('Aqueous Concentration')\n",
    "plt.legend(handles=[c1, c2, c3])"
   ]
  },
  {
   "cell_type": "code",
   "execution_count": 130,
   "metadata": {},
   "outputs": [
    {
     "data": {
      "text/plain": [
       "<matplotlib.legend.Legend at 0x1a45bf1be48>"
      ]
     },
     "execution_count": 130,
     "metadata": {},
     "output_type": "execute_result"
    },
    {
     "data": {
      "image/png": "[encoded data removed]",
      "text/plain": [
       "<Figure size 432x288 with 1 Axes>"
      ]
     },
     "metadata": {
      "needs_background": "light"
     },
     "output_type": "display_data"
    }
   ],
   "source": [
    "c1, = plt.plot(times/60, C_linear_btc, label='FloPy Linear Adsorption')\n",
    "c2, = plt.plot(times/60, C_freund_btc, label='FloPy Freundlich Adsorption')\n",
    "c3, = plt.plot(times/60, C_langmuir_btc, label='FloPy Langmuir Adsorption')\n",
    "c4, = plt.plot(times/60, C_conservative_btc, label='FloPy Conservative')\n",
    "plt.xlabel('Time [min]');\n",
    "\n",
    "plt.legend(handles=[c1, c2, c3, c4])"
   ]
  },
  {
   "cell_type": "markdown",
   "metadata": {},
   "source": [
    "Why does the Freundlich model have the longest tail? Whydoes the Langmuir model breakthrough faster than the linear or Freundlich model?\n",
    "\n",
    "Test the breakthrough behavior for different isotherms. After playing around with different adsorption models discuss the following with a partner. How do the different models lead to skewing of the breakthrough curves? How does the steepness of the isoterm and the plateau value impact the breakthrough curve behavior?"
   ]
  },
  {
   "cell_type": "code",
   "execution_count": null,
   "metadata": {},
   "outputs": [],
   "source": []
  }
 ],
 "metadata": {
  "kernelspec": {
   "display_name": "Python 3",
   "language": "python",
   "name": "python3"
  },
  "language_info": {
   "codemirror_mode": {
    "name": "ipython",
    "version": 3
   },
   "file_extension": ".py",
   "mimetype": "text/x-python",
   "name": "python",
   "nbconvert_exporter": "python",
   "pygments_lexer": "ipython3",
   "version": "3.7.6"
  }
 },
 "nbformat": 4,
 "nbformat_minor": 4
}
