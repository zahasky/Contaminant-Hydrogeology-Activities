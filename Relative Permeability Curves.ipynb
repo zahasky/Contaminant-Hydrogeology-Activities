{
 "cells": [
  {
   "cell_type": "markdown",
   "metadata": {},
   "source": [
    "## Introduction"
   ]
  },
  {
   "cell_type": "markdown",
   "metadata": {},
   "source": [
    "In this activity we will use Python to plot a common type of fu"
   ]
  },
  {
   "cell_type": "code",
   "execution_count": null,
   "metadata": {},
   "outputs": [],
   "source": [
    "import numpy as np\n",
    "import os\n",
    "import matplotlib.pyplot as plt"
   ]
  },
  {
   "cell_type": "markdown",
   "metadata": {},
   "source": [
    "## Brooks-Corey function\n",
    "\n",
    "Another common function is known as the Brooks-Corey function/model. It has been programmed in the following function:"
   ]
  },
  {
   "cell_type": "code",
   "execution_count": null,
   "metadata": {},
   "outputs": [],
   "source": [
    "# Define residual water saturation (the residual water after drainage)\n",
    "Swr = 0.1\n",
    "# Define the residual gas saturation (defined as the water saturation after imbibition)\n",
    "Snwr = 0\n",
    "# define variable 'Sw' to describe water saturation\n",
    "Sw = np.linspace((Swr + 0.001), (1 - Snwr - 0.001), num=100)\n",
    "# capillary entry pressure in selected units\n",
    "Pc_entry = 2 # kPa\n",
    "m = 2\n",
    "n = 3"
   ]
  },
  {
   "cell_type": "code",
   "execution_count": null,
   "metadata": {},
   "outputs": [],
   "source": [
    "# Brooks-Corey function\n",
    "def brooks_corey_pc(Sw, Swr, Snwr, Pc_entry, m):\n",
    "    # Now calculate the effective saturation (think of this as normalized saturation (ranges from 0-1))\n",
    "    Se = (Sw - Swr)/((1 - Snwr) - Swr)\n",
    "    Pc = Pc_entry*(Se**(-1/m))\n",
    "    return Pc"
   ]
  },
  {
   "cell_type": "code",
   "execution_count": null,
   "metadata": {},
   "outputs": [],
   "source": [
    "m_bc = 3\n",
    "Pc_entry_bc = 0.9\n",
    "Pc_bc = brooks_corey_pc(Sw, Swr, Snwr, Pc_entry_bc, m_bc)\n",
    "\n",
    "plt.plot(Sw, Pc_vg)\n",
    "plt.plot(Sw, Pc_bc)\n",
    "plt.xlabel('Water Saturation')\n",
    "plt.ylabel('Capillary Pressure (kPa)')"
   ]
  },
  {
   "cell_type": "code",
   "execution_count": null,
   "metadata": {},
   "outputs": [],
   "source": []
  },
  {
   "cell_type": "markdown",
   "metadata": {},
   "source": [
    "## Relationships between capillary pressure and relative permeability\n"
   ]
  },
  {
   "cell_type": "code",
   "execution_count": null,
   "metadata": {},
   "outputs": [],
   "source": []
  },
  {
   "cell_type": "markdown",
   "metadata": {},
   "source": [
    "## Activity: Use Burdine's Theory to calculate relative permeability\n",
    "Using the function that you fit to the capillary pressure data in the [Capillary Pressure Curves notebook](https://github.com/zahasky/Contaminant-Hydrogeology-Activities/blob/master/Capillary%20Pressure%20Curves.ipynb), calculate the corresponding relative permeability curves using Burdine's Theory."
   ]
  },
  {
   "cell_type": "code",
   "execution_count": null,
   "metadata": {},
   "outputs": [],
   "source": []
  }
 ],
 "metadata": {
  "kernelspec": {
   "display_name": "Python 3",
   "language": "python",
   "name": "python3"
  },
  "language_info": {
   "codemirror_mode": {
    "name": "ipython",
    "version": 3
   },
   "file_extension": ".py",
   "mimetype": "text/x-python",
   "name": "python",
   "nbconvert_exporter": "python",
   "pygments_lexer": "ipython3",
   "version": "3.7.6"
  }
 },
 "nbformat": 4,
 "nbformat_minor": 4
}
