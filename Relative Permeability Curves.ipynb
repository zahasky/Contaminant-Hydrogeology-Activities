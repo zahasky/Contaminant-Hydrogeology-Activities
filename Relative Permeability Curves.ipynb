{
 "cells": [
  {
   "cell_type": "markdown",
   "metadata": {
    "editable": true,
    "slideshow": {
     "slide_type": ""
    },
    "tags": []
   },
   "source": [
    "## Introduction"
   ]
  },
  {
   "cell_type": "markdown",
   "metadata": {},
   "source": [
    "In this activity we will plot a few common relative permeability functional forms and explore a common approach for calculating relative permeability from capillary pressure curves.\n",
    "\n",
    "Start by importing our necessary packages:"
   ]
  },
  {
   "cell_type": "code",
   "execution_count": null,
   "metadata": {},
   "outputs": [],
   "source": [
    "import numpy as np\n",
    "import matplotlib.pyplot as plt"
   ]
  },
  {
   "cell_type": "markdown",
   "metadata": {},
   "source": [
    "## Brooks-Corey relative permeability function\n",
    "\n",
    "In the [Capillary Pressure Functions notebook](https://github.com/zahasky/Contaminant-Hydrogeology-Activities/blob/master/Capillary%20Pressure%20Functions.ipynb) we explored a few common capillay pressure functional forms. Both the van Genuchten and Brooks-Corey capillary pressure models have corresponding relative permeability functional forms. The Brooks-Corey empirical equations are programmed in the following function:"
   ]
  },
  {
   "cell_type": "code",
   "execution_count": null,
   "metadata": {},
   "outputs": [],
   "source": [
    "# Brooks-Corey function\n",
    "def brooks_corey_rel_perm_fun(Sw, Swr, Snwr, krw0, krnw0, m):\n",
    "    # Now calculate the effective saturation (think of this as normalized saturation (ranges from 0-1))\n",
    "    Se = (Sw - Swr)/((1 - Snwr) - Swr)\n",
    "    # Water relative permeability\n",
    "    krw = krw0*Se**(2/m + 3)\n",
    "    # Nonwetting phase relative permeability\n",
    "    krnw = krnw0*(1-Se)**2*(1-Se**(2/m + 1))\n",
    "    return krw, krnw"
   ]
  },
  {
   "cell_type": "markdown",
   "metadata": {},
   "source": [
    "When deciding which model to use it is best to start with the most simple model and move to more complex functions as neccessary to fit your measurement data. Often a modified (simplified) Brooks-Corey functional form is sufficient."
   ]
  },
  {
   "cell_type": "code",
   "execution_count": null,
   "metadata": {},
   "outputs": [],
   "source": [
    "# Modified Brooks-Corey function\n",
    "def mod_brooks_corey_rel_perm_fun(Sw, Swr, Snwr, krw0, krnw0, nw, nnw):\n",
    "    # Now calculate the effective saturation (think of this as normalized saturation (ranges from 0-1))\n",
    "    Se = (Sw - Swr)/((1 - Snwr) - Swr)\n",
    "    # Water relative permeability\n",
    "    krw = krw0*Se**nw\n",
    "    # Nonwetting phase relative permeability\n",
    "    krnw = krnw0*(1-Se)**nnw\n",
    "    return krw, krnw"
   ]
  },
  {
   "cell_type": "markdown",
   "metadata": {},
   "source": [
    "As you can see there are strong similiarities with the classic Brooks-Corey model but because of the simplicity of the exponential form, this model is also more intuative. "
   ]
  },
  {
   "cell_type": "code",
   "execution_count": null,
   "metadata": {},
   "outputs": [],
   "source": [
    "# Define residual water saturation (the residual water after drainage)\n",
    "Swr = 0.1\n",
    "# Define the residual gas saturation (defined as the water saturation after imbibition)\n",
    "Snwr = 0\n",
    "# define variable 'Sw' to describe water saturation\n",
    "Sw = np.linspace((Swr + 0.001), (1 - Snwr - 0.001), num=100)\n",
    "\n",
    "# End point relative permeability. \n",
    "# Water end point relative permeability, this is equal to the relative permeabiltiy at the residual gas saturation\n",
    "krw0 = 1\n",
    "# Nonwetting phase end point relative permeability\n",
    "krnw0 = 1\n",
    "\n",
    "# Call Brooks-Corey function\n",
    "krw_bc, krnw_bc = brooks_corey_rel_perm_fun(Sw, Swr, Snwr, krw0, krnw0, 1)\n",
    "# Call modified Brooks-Corey function\n",
    "krw_mbc, krnw_mbc = mod_brooks_corey_rel_perm_fun(Sw, Swr, Snwr, krw0, krnw0, 3, 3)\n",
    "\n",
    "# Plot the results\n",
    "plt.plot(Sw, krw_bc, label='Brooks-Corey Water Rel Perm')\n",
    "plt.plot(Sw, krnw_bc, label='Brooks-Corey Nonwetting Rel Perm')\n",
    "\n",
    "plt.plot(Sw, krw_mbc, label='Mod BC Water Rel Perm')\n",
    "plt.plot(Sw, krnw_mbc, label='Mod BC Nonwetting Rel Perm')\n",
    "\n",
    "plt.xlabel('Water Saturation')\n",
    "plt.ylabel('Relative Permeability')\n",
    "plt.legend()\n",
    "plt.xlim(0, 1)"
   ]
  },
  {
   "cell_type": "markdown",
   "metadata": {},
   "source": [
    "##### Increase the exponent in the modified Brooks-Corey curves. How do the relative permeability curves change? How does this change in the relative permeability translate to the physical system? "
   ]
  },
  {
   "cell_type": "markdown",
   "metadata": {},
   "source": [
    "Note that sometimes when the exponents are very high and the relative permeability values are very small, you may see relative permability plotted on log scale on the y-axis. You could explore the differences by adding the following code to your plot script:\n",
    "\n",
    "    plt.yscale('log')\n",
    "    plt.ylim(0.001, 1) # adjust for data range"
   ]
  },
  {
   "cell_type": "markdown",
   "metadata": {},
   "source": [
    "## Burdine's Method to calculate relative permeability from a capillary pressure curve\n",
    "It is usually much easier to measure capillary pressure than relative permeability so it is convenient to have a method to calculate relative permeability from a capillary pressure curve. Burdine's method is most commonly used to accomplish this. In this activity you will see how Burdine's method enables us to use a capillary pressure curve to calculate the corresponding relative permeability curves. You can see the theoretical derivation of this Brooks-Corey model in the coures notes.\n",
    "\n",
    "Let's start with the Brooks-Corey capillary pressure function that we saw in the [Capillary Pressure Functions notebook](https://github.com/zahasky/Contaminant-Hydrogeology-Activities/blob/master/Capillary%20Pressure%20Functions.ipynb)."
   ]
  },
  {
   "cell_type": "code",
   "execution_count": null,
   "metadata": {},
   "outputs": [],
   "source": [
    "# Brooks-Corey capillary pressure function \n",
    "def brooks_corey_pc(Sw, Swr, Snwr, Pc_entry, m):\n",
    "    # Now calculate the effective saturation (think of this as normalized saturation (ranges from 0-1))\n",
    "    Se = (Sw - Swr)/((1 - Snwr) - Swr)\n",
    "    Pc = Pc_entry*(Se**(-1/m))\n",
    "    return Pc"
   ]
  },
  {
   "cell_type": "markdown",
   "metadata": {},
   "source": [
    "Now let's plot an example capillary pressure curve."
   ]
  },
  {
   "cell_type": "code",
   "execution_count": null,
   "metadata": {},
   "outputs": [],
   "source": [
    "# Define residual water saturation (the residual water after drainage)\n",
    "Swr = 0.1\n",
    "# Define the residual gas saturation (defined as the water saturation after imbibition)\n",
    "Snwr = 0\n",
    "# define variable 'Sw' to describe water saturation\n",
    "Sw = np.linspace((Swr + 0.001), (1 - Snwr - 0.001), num=100)\n",
    "\n",
    "m_bc = 3\n",
    "Pc_entry_bc = 0.9\n",
    "Pc_bc = brooks_corey_pc(Sw, Swr, Snwr, Pc_entry_bc, m_bc)\n",
    "\n",
    "plt.plot(Sw, Pc_bc)\n",
    "plt.xlabel('Water Saturation')\n",
    "plt.ylabel('Capillary Pressure (kPa)')"
   ]
  },
  {
   "cell_type": "markdown",
   "metadata": {},
   "source": [
    "Now define a function that takes in water saturation and capillary pressure and calculates wetting and nonwetting relative permeability using Burdine's method. The full equations for this are given in the relative permeability section of chapter 3 of the course notes."
   ]
  },
  {
   "cell_type": "code",
   "execution_count": null,
   "metadata": {},
   "outputs": [],
   "source": [
    "# Burdine function\n",
    "def burdine_fun(Sw, Swr, Snwr, Pc):\n",
    "    # Normalized saturation\n",
    "    Se = (Sw - Swr)/((1 - Snwr) - Swr)\n",
    "    # both of the relative permeability integrals have the same fixed denominator\n",
    "    denom = np.trapz(1/Pc**2, Sw)\n",
    "    # preallocate the array for saving the values\n",
    "    krw_burdine = np.zeros(np.shape(Sw))\n",
    "    krnw_burdine = np.zeros(np.shape(Sw))\n",
    "    \n",
    "    # integrate from Swr to Sw\n",
    "    for i in range(len(Sw)-1,0,-1):\n",
    "        kw_numer = 1/Pc[:i]**2\n",
    "        krw_burdine[i] = Se[i]**2*np.trapz(kw_numer, Sw[:i])/denom\n",
    "    \n",
    "    # integrate from Sw to 1    \n",
    "    for i in range(len(Sw)):\n",
    "        knw_numer = 1/Pc[i:]**2\n",
    "        krnw_burdine[i] = (1-Se[i])**2*np.trapz(knw_numer, Sw[i:])/denom\n",
    "    \n",
    "        ## Add plot showing areas for visualization\n",
    "    return krw_burdine, krnw_burdine"
   ]
  },
  {
   "cell_type": "markdown",
   "metadata": {},
   "source": [
    "Now let's see if this works by calculating the Brooks-Corey relative permeability using the same ```m``` as we used for defining capillary pressure (```Pc_bc```)."
   ]
  },
  {
   "cell_type": "code",
   "execution_count": null,
   "metadata": {},
   "outputs": [],
   "source": [
    "# Calculate brooks-corey rel perm\n",
    "krw_bc, krnw_bc = brooks_corey_rel_perm_fun(Sw, Swr, Snwr, krw0, krnw0, m_bc)\n",
    "\n",
    "# Calculate rel perm from brooks-corey capillary pressure curve\n",
    "krw_burdine, krnw_burdine = burdine_fun(Sw, Swr, Snwr, Pc_bc)\n",
    "\n",
    "plt.plot(Sw, krw_bc, label='Brooks-Corey Water Rel Perm')\n",
    "plt.plot(Sw, krnw_bc, label='Brooks-Corey Nonwetting Rel Perm')\n",
    "\n",
    "plt.plot(Sw, krw_burdine, '--', label='Burdine Water Rel Perm')\n",
    "plt.plot(Sw, krnw_burdine, '--', label='Burdine Nonwetting Rel Perm')\n",
    "\n",
    "plt.xlabel('Water Saturation')\n",
    "plt.ylabel('Relative Permeability')\n",
    "plt.legend()\n",
    "plt.xlim(0, 1)\n",
    "\n",
    "print(Sw)"
   ]
  },
  {
   "cell_type": "markdown",
   "metadata": {},
   "source": [
    "Pretty cool, right?!"
   ]
  },
  {
   "cell_type": "markdown",
   "metadata": {},
   "source": [
    "## Activity: Use Burdine's method to calculate relative permeability from capillary pressure data\n",
    "\n",
    "##### Now, using the capillary pressure function that you fit to the capillary pressure data in the [Capillary Pressure Curves notebook](https://github.com/zahasky/Contaminant-Hydrogeology-Activities/blob/master/Capillary%20Pressure%20Curves.ipynb), calculate the corresponding relative permeability curves using Burdine's Method."
   ]
  },
  {
   "cell_type": "code",
   "execution_count": null,
   "metadata": {},
   "outputs": [],
   "source": []
  }
 ],
 "metadata": {
  "kernelspec": {
   "display_name": "Python 3 (ipykernel)",
   "language": "python",
   "name": "python3"
  },
  "language_info": {
   "codemirror_mode": {
    "name": "ipython",
    "version": 3
   },
   "file_extension": ".py",
   "mimetype": "text/x-python",
   "name": "python",
   "nbconvert_exporter": "python",
   "pygments_lexer": "ipython3",
   "version": "3.9.18"
  }
 },
 "nbformat": 4,
 "nbformat_minor": 4
}
