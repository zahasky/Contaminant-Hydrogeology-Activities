{
 "cells": [
  {
   "cell_type": "markdown",
   "metadata": {},
   "source": [
    "## Introduction\n",
    "Analytical solutions are a powerful method to understand basic mechanisms of transport in the subsurface. However, modeling transport in more complex systems requires the use of numerical models. FloPy is a Python library that allows us to utilize the widely used USGS MODFLOW simulation programs. MODFLOW is the same modeling program you were introduced to in GEOSCI/GEOENG 627, except in this class we will use FloPy to run and process the results rather than a GUI. \n",
    "\n",
    "Why use FloPy?\n",
    "* It's free!\n",
    "* It is powerful. For example, Flopy can generate input files for the MODFLOW family programs in a few lines of code!\n",
    "* It is flexible. You can solve an incredible array of problems by creating custom models, performing iterative modeling approaches or sensitivity analysis, and you can easily integrate data analysis workflows. \n",
    "\n",
    "In addition to the MODFLOW programs you worked with in the past, we will also be using the associated MT3D groundwater solute transport simulator for MODFLOW that supports simulation of transport using the MODFLOW flow solution.\n",
    "\n",
    "\n",
    "### Make sure you have everything installed \n",
    "Prior to completing this notebook you need to have FloPy installed. Instructions can be [found here](https://github.com/zahasky/Contaminant-Hydrogeology-Activities/blob/master/MODFLOW%2C%20Python%2C%20and%20FloPy%20Setup.ipynb).\n",
    "\n",
    "To check, run the following:"
   ]
  },
  {
   "cell_type": "code",
   "execution_count": 2,
   "metadata": {},
   "outputs": [
    {
     "name": "stdout",
     "output_type": "stream",
     "text": [
      "flopy is installed in C:\\ProgramData\\Anaconda3\\lib\\site-packages\\flopy\n"
     ]
    }
   ],
   "source": [
    "import flopy"
   ]
  },
  {
   "cell_type": "markdown",
   "metadata": {},
   "source": [
    "## The first model\n",
    "Once FloPy has been correctly installed we can set up our first MODFLOW and MT3D model!"
   ]
  },
  {
   "cell_type": "code",
   "execution_count": 3,
   "metadata": {},
   "outputs": [],
   "source": [
    "# Import a few additional libraries\n",
    "import sys\n",
    "import os\n",
    "import time\n",
    "# In addition to our typical libraries\n",
    "import numpy as np\n",
    "import matplotlib.pyplot as plt"
   ]
  },
  {
   "cell_type": "markdown",
   "metadata": {},
   "source": [
    "First find where you have your MODFLOW and MT3D executables located on your system."
   ]
  },
  {
   "cell_type": "code",
   "execution_count": 4,
   "metadata": {},
   "outputs": [
    {
     "name": "stdout",
     "output_type": "stream",
     "text": [
      "C:\\Users\\zahas\\Dropbox\\Research\\Simulation\\modflow\\executables\\mf2005\n",
      "C:\\Users\\zahas\\Dropbox\\Research\\Simulation\\modflow\\executables\\mt3dms\n"
     ]
    }
   ],
   "source": [
    "# Path to MODFLOW executable, probably called 'mf2005'\n",
    "exe_name_mf = 'C:\\\\Users\\\\zahas\\\\Dropbox\\\\Research\\\\Simulation\\\\modflow\\\\executables\\\\mf2005'\n",
    "# Print to make sure it is formated correctly\n",
    "print(exe_name_mf)\n",
    "# Path to MT3D executable, probably called 'mt3dms'\n",
    "exe_name_mt = 'C:\\\\Users\\\\zahas\\\\Dropbox\\\\Research\\\\Simulation\\\\modflow\\\\executables\\\\mt3dms'\n",
    "# Print to make sure it is formated correctly\n",
    "print(exe_name_mt)"
   ]
  },
  {
   "cell_type": "markdown",
   "metadata": {},
   "source": [
    "Check these paths. Do they look correct for your system? If not this will lead to errors later.\n",
    "\n",
    "Now lets name the folder(s) where we want will save our model."
   ]
  },
  {
   "cell_type": "code",
   "execution_count": 5,
   "metadata": {},
   "outputs": [],
   "source": [
    "# directory to save data\n",
    "directory_name = 'data_1D_model'\n",
    "# folder name to save data\n",
    "dirname = 'flopy_intro_model'"
   ]
  },
  {
   "cell_type": "markdown",
   "metadata": {},
   "source": [
    "And then create a path to this workspace. It may be useful to understand your current working directory, this should be whereever you have this notebook saved. You can double check this with the command 'pwd'."
   ]
  },
  {
   "cell_type": "code",
   "execution_count": 6,
   "metadata": {},
   "outputs": [
    {
     "name": "stdout",
     "output_type": "stream",
     "text": [
      ".\\data_1D_model\\flopy_intro_model\n"
     ]
    }
   ],
   "source": [
    "# directory to save data\n",
    "datadir = os.path.join('..', directory_name, 'mt3d_test', 'mt3dms')\n",
    "workdir = os.path.join('.', directory_name)\n",
    "# Model workspace and new sub-directory\n",
    "model_ws = os.path.join(workdir, dirname)\n",
    "print(model_ws)"
   ]
  },
  {
   "cell_type": "markdown",
   "metadata": {},
   "source": [
    "## Model set up\n",
    "The first thing we do is set the space and time units of our model and then define the model geometry. This is identical to the process that we used with the MODFLOW GUI program in GEOSCI/GEOENG 627"
   ]
  },
  {
   "cell_type": "code",
   "execution_count": 7,
   "metadata": {},
   "outputs": [
    {
     "name": "stdout",
     "output_type": "stream",
     "text": [
      "Model length is: 10.0 (check units of 'lenuni')\n"
     ]
    }
   ],
   "source": [
    "# time units (itmuni in discretization package), unfortunately this entered differently into MODFLOW and MT3D\n",
    "# 1 = seconds, 2 = minutes, 3 = hours, 4 = days, 5 = years\n",
    "itmuni = 1 # MODFLOW\n",
    "mt_tunit = 'S' # MT3D units\n",
    "# length units (lenuniint in discretization package)\n",
    "# 0 = undefined, 1 = feet, 2 = meters, 3 = centimeters\n",
    "lenuni = 3 # MODFLOW units\n",
    "mt_lunit = 'CM' # MT3D units\n",
    "    \n",
    "# period length in selected units, the model time length is the sum of this (for steady state flow it can be set to anything)\n",
    "perlen_mf = [30*60] # format for multi-period input: [60., 15*60]\n",
    "# number of stress periods (MF input), calculated from period length input\n",
    "nper = len(perlen_mf)    \n",
    "    \n",
    "# Frequency of output, If nprs > 0 results will be saved at \n",
    "#     the times as specified in timprs; \n",
    "nprs = 10\n",
    "# timprs (list of float): The total elapsed time at which the simulation \n",
    "#     results are saved. The number of entries in timprs must equal nprs. (default is None).\n",
    "timprs = np.linspace(0, np.sum(perlen_mf), nprs, endpoint=False)\n",
    "\n",
    "# Model information\n",
    "nlay = 1 # number of layers\n",
    "nrow = 1 # number of rows\n",
    "ncol = 21 # number of columns\n",
    "delr = 0.5 # grid size in direction of Lx\n",
    "delc = 4.4 # grid size in direction of Ly, this was choosen such that the model has the same cross-sectional area as the column from the dispersion notebook example\n",
    "delv = 4.4 # grid size in direction of Lz\n",
    "laytyp = 0\n",
    "\n",
    "# length of model in selected units \n",
    "Lx = (ncol - 1) * delr\n",
    "print(\"Model length is: \" + str(Lx) + \" (check units of 'lenuni')\")"
   ]
  },
  {
   "cell_type": "code",
   "execution_count": 8,
   "metadata": {},
   "outputs": [],
   "source": [
    "# advection velocity\n",
    "v = 0.014\n",
    "# porosity\n",
    "prsity = 0.3\n",
    "# discharge (again in selected units)\n",
    "q = v * prsity"
   ]
  },
  {
   "cell_type": "markdown",
   "metadata": {},
   "source": [
    "### Hydraulic conductivity\n",
    "Set the hydraulic conductivity (again in selected units). This is set as a scalar in homogeneous systems and can be set as a vector, 2D, or 3D matrix in heterogeneous systems. We will play around with the influence of this input in the coming sessions."
   ]
  },
  {
   "cell_type": "code",
   "execution_count": 9,
   "metadata": {},
   "outputs": [],
   "source": [
    "# hydraulic conductivity\n",
    "hk = 1."
   ]
  },
  {
   "cell_type": "markdown",
   "metadata": {},
   "source": [
    "### Dispersivity\n",
    "Set the longitudinal dispersivity. Note that you can also set transverse dispersivity but that input would be ignored in this 1D model (so it is commented out below)."
   ]
  },
  {
   "cell_type": "code",
   "execution_count": 10,
   "metadata": {},
   "outputs": [],
   "source": [
    "al = 0.3 # longitudinal dispersivity\n",
    "# trpt = 0.15 # ratio of horizontal transverse dispersivity to longitudinal dispersivity\n",
    "# trpv = 0.15 # ratio of vertical transverse dispersivity to longitudinal dispersivity"
   ]
  },
  {
   "cell_type": "markdown",
   "metadata": {},
   "source": [
    "### Flow field and head boundary conditions\n",
    "This is the input required for the MODFLOW basic package class"
   ]
  },
  {
   "cell_type": "code",
   "execution_count": 11,
   "metadata": {},
   "outputs": [],
   "source": [
    "# boundary conditions, <0 = specified head, 0 = no flow, >0 variable head\n",
    "ibound = np.ones((nlay, nrow, ncol), dtype=np.int)\n",
    "# index the inlet cell\n",
    "ibound[0, 0, 0] = -1\n",
    "# index the outlet cell\n",
    "ibound[0, 0, -1] = -1\n",
    "# constant head conditions\n",
    "strt = np.zeros((nlay, nrow, ncol), dtype=np.float)\n",
    "h1 = q * Lx\n",
    "# index the inlet cell\n",
    "strt[0, 0, 0] = h1"
   ]
  },
  {
   "cell_type": "markdown",
   "metadata": {},
   "source": [
    "### Solute transport boundary conditions \n",
    "This is estabilishing the Type 1, 2, or 3 conditions that we have seen in the analytical solutions.\n",
    "This is the input required for the MODFLOW basic package class"
   ]
  },
  {
   "cell_type": "code",
   "execution_count": 12,
   "metadata": {},
   "outputs": [],
   "source": [
    "# Solute transport boundary conditions\n",
    "# Concentration at inlet boundary\n",
    "c0 = 1.\n",
    "\n",
    "# Boundary conditions: if icbund = 0, the cell is an inactive concentration cell; \n",
    "# If icbund < 0, the cell is a constant-concentration cell; \n",
    "# If icbund > 0, the cell is an active concentration cell where the concentration value will be calculated.\n",
    "icbund = np.ones((nlay, nrow, ncol), dtype=np.int)\n",
    "icbund[0, 0, 0] = -1 # constant-concentration cell\n",
    "\n",
    "# Initial conditions: concentration zero everywhere, except the inlet\n",
    "sconc = np.zeros((nlay, nrow, ncol), dtype=np.float)\n",
    "sconc[0, 0, 0] = c0"
   ]
  },
  {
   "cell_type": "markdown",
   "metadata": {},
   "source": [
    "Now let FloPy do its thing"
   ]
  },
  {
   "cell_type": "code",
   "execution_count": 13,
   "metadata": {},
   "outputs": [],
   "source": [
    "# Setup models\n",
    "# MODFLOW model name\n",
    "modelname_mf = dirname + '_mf'\n",
    "# MODFLOW package class\n",
    "mf = flopy.modflow.Modflow(modelname=modelname_mf, model_ws=model_ws, exe_name=exe_name_mf)\n",
    "# MODFLOW model discretization package class\n",
    "dis = flopy.modflow.ModflowDis(mf, nlay=nlay, nrow=nrow, ncol=ncol, nper=nper,\n",
    "                                   delr=delr, delc=delc, top=0., botm=[0 - delv],\n",
    "                                   perlen=perlen_mf, itmuni=itmuni, lenuni=lenuni)\n",
    "# MODFLOW basic package class\n",
    "bas = flopy.modflow.ModflowBas(mf, ibound=ibound, strt=strt)\n",
    "# MODFLOW layer properties flow package class\n",
    "lpf = flopy.modflow.ModflowLpf(mf, hk=hk, laytyp=laytyp)\n",
    "# MODFLOW preconditioned conjugate-gradient package class\n",
    "pcg = flopy.modflow.ModflowPcg(mf)\n",
    "# MODFLOW Link-MT3DMS Package Class (this is the package for solute transport)\n",
    "lmt = flopy.modflow.ModflowLmt(mf)\n",
    "    \n",
    "mf.write_input()\n",
    "mf.run_model(silent=True) # Set this to false to produce output in command window\n",
    "    \n",
    "# RUN MT3dms solute tranport \n",
    "modelname_mt = dirname + '_mt'\n",
    "# MT3DMS Model Class\n",
    "# Input: modelname = 'string', namefile_ext = 'string' (Extension for the namefile (the default is 'nam'))\n",
    "# modflowmodelflopy.modflow.mf.Modflow = This is a flopy Modflow model object upon which this Mt3dms model is based. (the default is None)\n",
    "mt = flopy.mt3d.Mt3dms(modelname=modelname_mt, model_ws=model_ws, \n",
    "                           exe_name=exe_name_mt, modflowmodel=mf)   "
   ]
  },
  {
   "cell_type": "code",
   "execution_count": 14,
   "metadata": {},
   "outputs": [],
   "source": [
    "# Basic transport package class\n",
    "btn = flopy.mt3d.Mt3dBtn(mt, icbund=icbund, prsity=prsity, sconc=sconc, \n",
    "                             tunit=mt_tunit, lunit=mt_lunit, nprs=nprs, timprs=timprs)\n",
    "\n",
    "# Advection package class\n",
    "# mixelm is an integer flag for the advection solution option, \n",
    "# mixelm = 0 is the standard finite difference method with upstream or central in space weighting (FDM)\n",
    "# mixelm = 1 is the forward tracking method of characteristics (MOC)\n",
    "# mixelm = 2 is the backward tracking (MMOC)\n",
    "# mixelm = 3 is the hybrid method (HMOC)\n",
    "# mixelm = -1 is the third-ord TVD scheme (ULTIMATE)\n",
    "mixelm = -1\n",
    "# percel is the Courant number for numerical stability (≤ 1)\n",
    "adv = flopy.mt3d.Mt3dAdv(mt, mixelm=mixelm, percel=0.5)"
   ]
  },
  {
   "cell_type": "code",
   "execution_count": 15,
   "metadata": {},
   "outputs": [],
   "source": [
    "# Dispersion package class   \n",
    "dsp = flopy.mt3d.Mt3dDsp(mt, al=al)\n",
    "# source/sink package\n",
    "ssm = flopy.mt3d.Mt3dSsm(mt)\n",
    "# matrix solver package, may want to add cclose=1e-6 to define the convergence criterion in terms of relative concentration\n",
    "gcg = flopy.mt3d.Mt3dGcg(mt, cclose=1e-6)\n",
    "mt.write_input()\n",
    "\n",
    "# Run MT3D model\n",
    "mt.run_model(silent=True)\n",
    "\n",
    "# Extract output\n",
    "fname = os.path.join(model_ws, 'MT3D001.UCN')\n",
    "ucnobj = flopy.utils.UcnFile(fname)\n",
    "# Extract the output time information, convert from list to np array\n",
    "times = np.array(ucnobj.get_times())\n",
    "# Extract the 4D concentration values (t, x, y, z)\n",
    "conc = ucnobj.get_alldata()\n"
   ]
  },
  {
   "cell_type": "code",
   "execution_count": 16,
   "metadata": {},
   "outputs": [
    {
     "data": {
      "image/png": "[encoded data removed]",
      "text/plain": [
       "<Figure size 432x288 with 1 Axes>"
      ]
     },
     "metadata": {
      "needs_background": "light"
     },
     "output_type": "display_data"
    }
   ],
   "source": [
    "x = mf.dis.sr.xcenter\n",
    "for t in range(0, len(times)):\n",
    "    y = conc[t, 0, 0, :]\n",
    "    plt.plot(x, y)"
   ]
  },
  {
   "cell_type": "code",
   "execution_count": 17,
   "metadata": {},
   "outputs": [
    {
     "data": {
      "text/plain": [
       "[<matplotlib.lines.Line2D at 0x1a0024cee88>]"
      ]
     },
     "execution_count": 17,
     "metadata": {},
     "output_type": "execute_result"
    },
    {
     "data": {
      "image/png": "[encoded data removed]",
      "text/plain": [
       "<Figure size 432x288 with 1 Axes>"
      ]
     },
     "metadata": {
      "needs_background": "light"
     },
     "output_type": "display_data"
    }
   ],
   "source": [
    "C_btc = conc[:, 0, 0, -1]\n",
    "plt.plot(times, C_btc, label='Breakthrough Curve')"
   ]
  },
  {
   "cell_type": "markdown",
   "metadata": {},
   "source": [
    "## Activity:\n",
    "Interpret these plots. Label the axis and describe what they are showing. From the plots do these look like a continous injection/source or pulse/finite length plume?\n",
    "\n",
    "As set up, these models are difficult to re-run with different parameters. In the next notebook we will structure these models into functions."
   ]
  },
  {
   "cell_type": "code",
   "execution_count": null,
   "metadata": {},
   "outputs": [],
   "source": []
  }
 ],
 "metadata": {
  "kernelspec": {
   "display_name": "Python 3",
   "language": "python",
   "name": "python3"
  },
  "language_info": {
   "codemirror_mode": {
    "name": "ipython",
    "version": 3
   },
   "file_extension": ".py",
   "mimetype": "text/x-python",
   "name": "python",
   "nbconvert_exporter": "python",
   "pygments_lexer": "ipython3",
   "version": "3.7.6"
  }
 },
 "nbformat": 4,
 "nbformat_minor": 4
}
