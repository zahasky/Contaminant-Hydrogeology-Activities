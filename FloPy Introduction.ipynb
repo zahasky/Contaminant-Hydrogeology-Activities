{
 "cells": [
  {
   "cell_type": "markdown",
   "metadata": {},
   "source": [
    "## Introduction\n",
    "Analytical solutions are a powerful method to understand basic mechanisms of transport in the subsurface. However, modeling transport in more complex systems requires the use of numerical models. FloPy is a Python library that allows us to utilize the widely used USGS MODFLOW simulation programs. MODFLOW is the same modeling program you were introduced to in GEOSCI/GEOENG 627, except in this class we will use FloPy to run and process the results rather than a GUI. \n",
    "\n",
    "Why use FloPy?\n",
    "* It's free!\n",
    "* It is powerful. For example, Flopy can generate input files for the MODFLOW family programs in a few lines of code!\n",
    "* It is flexible. You can solve an incredible array of problems by creating custom models, performing iterative modeling approaches or sensitivity analysis, and you can easily integrate data analysis workflows. \n",
    "\n",
    "In addition to the MODFLOW programs you worked with in the past, we will also be using the associated MT3D groundwater solute transport simulator for MODFLOW that supports simulation of transport using the MODFLOW flow solution.\n",
    "\n",
    "\n",
    "### Make sure you have everything installed \n",
    "Prior to completing this notebook you need to have FloPy installed. Instructions can be [found here](https://github.com/zahasky/Contaminant-Hydrogeology-Activities/blob/master/MODFLOW%2C%20Python%2C%20and%20FloPy%20Setup.ipynb).\n",
    "\n",
    "To check, run the following:"
   ]
  },
  {
   "cell_type": "code",
   "execution_count": null,
   "metadata": {},
   "outputs": [],
   "source": [
    "import sys\n",
    "# Import flopy\n",
    "import flopy\n",
    "'flopy' in sys.modules #True"
   ]
  },
  {
   "cell_type": "markdown",
   "metadata": {},
   "source": [
    "## The first model\n",
    "Once FloPy has been correctly installed we can set up our first MODFLOW and MT3D model!"
   ]
  },
  {
   "cell_type": "code",
   "execution_count": null,
   "metadata": {},
   "outputs": [],
   "source": [
    "# Import a few additional libraries\n",
    "import os\n",
    "import time\n",
    "import numpy as np\n",
    "import matplotlib.pyplot as plt\n",
    "import pathlib"
   ]
  },
  {
   "cell_type": "markdown",
   "metadata": {},
   "source": [
    "First find where you have your MODFLOW and MT3D executables located on your system."
   ]
  },
  {
   "cell_type": "code",
   "execution_count": null,
   "metadata": {},
   "outputs": [],
   "source": [
    "# Path to MODFLOW executable, probably called 'mf2005'\n",
    "exe_name_mf = 'C:\\\\Hydro\\\\MF2005.1_12\\\\bin\\\\mf2005.exe'\n",
    "# Print to make sure it is formated correctly\n",
    "print(exe_name_mf)\n",
    "# Path to MT3D executable, probably called 'mt3dms'\n",
    "exe_name_mt = 'C:\\\\Hydro\\\\mt3dusgs1.1.0\\\\bin\\\\mt3d-usgs_1.1.0_64.exe'\n",
    "# Print to make sure it is formated correctly\n",
    "print(exe_name_mt)"
   ]
  },
  {
   "cell_type": "markdown",
   "metadata": {},
   "source": [
    "Check these paths. Do they look correct for your system? If not this will lead to errors later.\n",
    "\n",
    "Now lets name the folder(s) where we want will save our model. First lets see where your current working directory is--this is the folder where FloPy will look for files."
   ]
  },
  {
   "cell_type": "code",
   "execution_count": null,
   "metadata": {},
   "outputs": [],
   "source": [
    "# This should return a path to your current working directory\n",
    "current_directory = os.getcwd()\n",
    "print(current_directory)"
   ]
  },
  {
   "cell_type": "markdown",
   "metadata": {},
   "source": [
    " If this is not where you want to save stuff then change your directory using ```os.chdir()```"
   ]
  },
  {
   "cell_type": "code",
   "execution_count": null,
   "metadata": {},
   "outputs": [],
   "source": [
    "# define path\n",
    "path = pathlib.Path('C:\\\\Users\\\\zahas\\\\Dropbox\\\\Teaching\\\\Contaminant hydro 629\\\\Notebooks_unpublished')\n",
    "# if folder doesn't exist then make it \n",
    "path.mkdir(parents=True, exist_ok=True)\n",
    "# set working directory to this new folder\n",
    "os.chdir(path)\n",
    "current_directory = os.getcwd()\n",
    "print(current_directory)"
   ]
  },
  {
   "cell_type": "code",
   "execution_count": null,
   "metadata": {},
   "outputs": [],
   "source": [
    "# now lets give a name to the directory to save data, this directory should be present in your \n",
    "# current working directory (but if it's not don't worry!)\n",
    "directory_name = 'data_1D_model'\n",
    "# Let's add that to the path of the current directory\n",
    "workdir = os.path.join('.', directory_name)\n",
    "\n",
    "# if the path exists then we will move on, if not then create a folder with the 'directory_name'\n",
    "if os.path.isdir(workdir) is False:\n",
    "    os.mkdir(workdir) \n",
    "print(\"Directory '% s' created\" % workdir) "
   ]
  },
  {
   "cell_type": "code",
   "execution_count": null,
   "metadata": {},
   "outputs": [],
   "source": [
    "# specific folder name to save model data and output\n",
    "dirname = 'flopy_intro_model'"
   ]
  },
  {
   "cell_type": "code",
   "execution_count": null,
   "metadata": {},
   "outputs": [],
   "source": [
    "# directory to save data\n",
    "datadir = os.path.join('..', directory_name, 'mt3d_test', 'mt3dms')\n",
    "# Model workspace and new sub-directory\n",
    "model_ws = os.path.join(workdir, dirname)\n",
    "print(model_ws)"
   ]
  },
  {
   "cell_type": "markdown",
   "metadata": {},
   "source": [
    "## Model set up\n",
    "The first thing we do is set the space and time units of our model and then define the model geometry. This is identical to the process that we used with the MODFLOW GUI program in GEOSCI/GEOENG 627"
   ]
  },
  {
   "cell_type": "code",
   "execution_count": null,
   "metadata": {},
   "outputs": [],
   "source": [
    "# time units (itmuni in discretization package), unfortunately this entered differently into MODFLOW and MT3D\n",
    "# 1 = seconds, 2 = minutes, 3 = hours, 4 = days, 5 = years\n",
    "itmuni = 1 # MODFLOW\n",
    "mt_tunit = 'S' # MT3D units\n",
    "# length units (lenuniint in discretization package)\n",
    "# 0 = undefined, 1 = feet, 2 = meters, 3 = centimeters\n",
    "lenuni = 3 # MODFLOW units\n",
    "mt_lunit = 'CM' # MT3D units\n",
    "    \n",
    "# period length in selected units, the model time length is the sum of this (for steady state flow it can be set to anything)\n",
    "perlen_mf = [30*60] # format for multi-period input: [60., 15*60]\n",
    "# number of stress periods (MF input), calculated from period length input\n",
    "nper = len(perlen_mf)    \n",
    "    \n",
    "# Frequency of output, If nprs > 0 results will be saved at \n",
    "#     the times as specified in timprs; \n",
    "nprs = 100\n",
    "# timprs (list of float): The total elapsed time at which the simulation \n",
    "#     results are saved. The number of entries in timprs must equal nprs. (default is None).\n",
    "timprs = np.linspace(0, np.sum(perlen_mf), nprs, endpoint=False)\n",
    "\n",
    "# Model information\n",
    "nlay = 1 # number of layers\n",
    "nrow = 1 # number of rows\n",
    "ncol = 21 # number of columns\n",
    "delv = 4.4 # grid size in direction of Lz (think layer thickness)\n",
    "delc = 4.4 # grid size in direction of Ly (this was choosen such that the model \n",
    "# has the same cross-sectional area as the column from the dispersion notebook example)\n",
    "delr = 0.5 # # grid size in direction of Lx (in direction along column)\n",
    "laytyp = 0\n",
    "\n",
    "# length of model in selected units \n",
    "Lx = (ncol - 1) * delr\n",
    "print(\"Model length is: \" + str(Lx) + \" (check units of 'lenuni')\")\n",
    "print(\"You should see that 'lenuni' = 3, which corresponds to centimeters\")"
   ]
  },
  {
   "cell_type": "code",
   "execution_count": null,
   "metadata": {},
   "outputs": [],
   "source": [
    "# advection velocity\n",
    "v = 0.014\n",
    "# Convert to print(v*delv*delc)\n",
    "# porosity\n",
    "prsity = 0.3\n",
    "# discharge (again in selected units)\n",
    "q = v * prsity"
   ]
  },
  {
   "cell_type": "markdown",
   "metadata": {},
   "source": [
    "It is always good to double check that the dimensions of your model give results that you expect. We can estimate when the tracer will reach our observation point by calculating the advection velocity (q/porsity) and estimating the time by Lx/advection velocity."
   ]
  },
  {
   "cell_type": "code",
   "execution_count": null,
   "metadata": {},
   "outputs": [],
   "source": [
    "print(\"Based on discharge and model length the approximate breakthrough time = \" + str(round(Lx/(q/prsity))) + \" sec\")"
   ]
  },
  {
   "cell_type": "markdown",
   "metadata": {},
   "source": [
    "### Hydraulic conductivity\n",
    "Set the hydraulic conductivity (again in selected units). This is set as a scalar in homogeneous systems and can be set as a vector, 2D, or 3D matrix in heterogeneous systems. We will play around with the influence of this input in the coming sessions."
   ]
  },
  {
   "cell_type": "code",
   "execution_count": null,
   "metadata": {},
   "outputs": [],
   "source": [
    "# hydraulic conductivity\n",
    "hk = 1."
   ]
  },
  {
   "cell_type": "markdown",
   "metadata": {},
   "source": [
    "### Dispersivity\n",
    "Set the longitudinal dispersivity. Note that you can also set transverse dispersivity but that input would be ignored in this 1D model (so it is commented out below)."
   ]
  },
  {
   "cell_type": "code",
   "execution_count": null,
   "metadata": {},
   "outputs": [],
   "source": [
    "al = 0.3 # longitudinal dispersivity\n",
    "# trpt = 0.1 # ratio of horizontal transverse dispersivity to longitudinal dispersivity\n",
    "# trpv = 0.1 # ratio of vertical transverse dispersivity to longitudinal dispersivity"
   ]
  },
  {
   "cell_type": "markdown",
   "metadata": {},
   "source": [
    "### Flow field and head boundary conditions\n",
    "This is the input required for the MODFLOW basic package class. Boundary conditions are being assigned in the MODFLOW BAS6 - Basic Package and therefore we are restricted to specifying head conditions. More rigorous constraint of constant flux boundaries requires the Flow and Head Boundary Package, the Well Package, or the Recharge Package."
   ]
  },
  {
   "cell_type": "code",
   "execution_count": null,
   "metadata": {},
   "outputs": [],
   "source": [
    "# boundary conditions, <0 = specified head, 0 = no flow, >0 variable head\n",
    "ibound = np.ones((nlay, nrow, ncol), dtype=int)\n",
    "# index the inlet cell\n",
    "ibound[0, 0, 0] = -1\n",
    "# index the outlet cell\n",
    "ibound[0, 0, -1] = -1\n",
    "# constant head conditions\n",
    "strt = np.zeros((nlay, nrow, ncol), dtype=float)\n",
    "h1 = q * Lx / hk\n",
    "# index the inlet cell and set head to h1\n",
    "strt[0, 0, 0] = h1\n",
    "# outlet head is left equal to zero"
   ]
  },
  {
   "cell_type": "markdown",
   "metadata": {},
   "source": [
    "### Solute transport boundary and initial conditions \n",
    "This is estabilishing the Type 1, 2, or 3 conditions that we have seen in the analytical solutions.\n",
    "This is the input required for the MODFLOW basic package class"
   ]
  },
  {
   "cell_type": "code",
   "execution_count": null,
   "metadata": {},
   "outputs": [],
   "source": [
    "# Solute transport boundary conditions\n",
    "# Concentration at inlet boundary\n",
    "c0 = 1.\n",
    "\n",
    "# Boundary conditions: if icbund = 0, the cell is an inactive concentration cell; \n",
    "# If icbund < 0, the cell is a constant-concentration cell; \n",
    "# If icbund > 0, the cell is an active concentration cell where the concentration value will be calculated.\n",
    "icbund = np.ones((nlay, nrow, ncol), dtype=int)\n",
    "\n",
    "# Initial conditions: initial concentration zero everywhere\n",
    "sconc = np.zeros((nlay, nrow, ncol), dtype=float)\n",
    "\n",
    "# Itype is an integer indicating the type of source.\n",
    "# 1 = is interpreted as the source concentration with the unit of mass per unit volume, which, when multiplied by its corresponding flow rate from the flow model, yields the mass-loading rate of the source\n",
    "# 2 = well, 3 = drain, -1 = constant concentration\n",
    "itype = -1\n",
    "spd_mt = {0:[0, 0, 0, c0, itype]}"
   ]
  },
  {
   "cell_type": "markdown",
   "metadata": {},
   "source": [
    "Now let FloPy do its thing"
   ]
  },
  {
   "cell_type": "code",
   "execution_count": null,
   "metadata": {},
   "outputs": [],
   "source": [
    "# Setup models\n",
    "# MODFLOW model name\n",
    "modelname_mf = dirname + '_mf'\n",
    "# MODFLOW package class\n",
    "mf = flopy.modflow.Modflow(modelname=modelname_mf, model_ws=model_ws, exe_name=exe_name_mf)\n",
    "# MODFLOW model discretization package class\n",
    "dis = flopy.modflow.ModflowDis(mf, nlay=nlay, nrow=nrow, ncol=ncol, nper=nper,\n",
    "                                   delr=delr, delc=delc, top=0., botm=[0 - delv],\n",
    "                                   perlen=perlen_mf, itmuni=itmuni, lenuni=lenuni)\n",
    "# MODFLOW basic package class\n",
    "bas = flopy.modflow.ModflowBas(mf, ibound=ibound, strt=strt)\n",
    "# MODFLOW layer properties flow package class\n",
    "lpf = flopy.modflow.ModflowLpf(mf, hk=hk, laytyp=laytyp)\n",
    "# MODFLOW preconditioned conjugate-gradient package class\n",
    "pcg = flopy.modflow.ModflowPcg(mf)\n",
    "# MODFLOW Link-MT3DMS Package Class (this is the package for solute transport)\n",
    "lmt = flopy.modflow.ModflowLmt(mf)\n",
    "# MODFLOW output control package (this is needed to generate .hds files)\n",
    "oc = flopy.modflow.ModflowOc(mf)"
   ]
  },
  {
   "cell_type": "markdown",
   "metadata": {},
   "source": [
    "Run flow model"
   ]
  },
  {
   "cell_type": "code",
   "execution_count": null,
   "metadata": {},
   "outputs": [],
   "source": [
    "mf.write_input()\n",
    "mf.run_model(silent=True) # Set this to false to produce output in command window"
   ]
  },
  {
   "cell_type": "code",
   "execution_count": null,
   "metadata": {},
   "outputs": [],
   "source": [
    "# RUN MT3dms solute tranport \n",
    "modelname_mt = dirname + '_mt'\n",
    "# MT3DMS Model Class\n",
    "# Input: modelname = 'string', namefile_ext = 'string' (Extension for the namefile (the default is 'nam'))\n",
    "# modflowmodelflopy.modflow.mf.Modflow = This is a flopy Modflow model object upon which this Mt3dms model is based. (the default is None)\n",
    "mt = flopy.mt3d.Mt3dms(modelname=modelname_mt, model_ws=model_ws, \n",
    "                           exe_name=exe_name_mt, modflowmodel=mf)  \n",
    "\n",
    "# Basic transport package class\n",
    "btn = flopy.mt3d.Mt3dBtn(mt, icbund=icbund, prsity=prsity, sconc=sconc, \n",
    "                             tunit=mt_tunit, lunit=mt_lunit, nprs=nprs, timprs=timprs)\n",
    "\n",
    "# Advection package class\n",
    "# mixelm is an integer flag for the advection solution option, \n",
    "# mixelm = 0 is the standard finite difference method with upstream or central in space weighting (FDM)\n",
    "# mixelm = 1 is the forward tracking method of characteristics (MOC)\n",
    "# mixelm = 2 is the backward tracking (MMOC)\n",
    "# mixelm = 3 is the hybrid method (HMOC)\n",
    "# mixelm = -1 is the third-ord TVD scheme (ULTIMATE)\n",
    "mixelm = -1\n",
    "# percel is the Courant number for numerical stability (≤ 1)\n",
    "adv = flopy.mt3d.Mt3dAdv(mt, mixelm=mixelm, percel=0.5)"
   ]
  },
  {
   "cell_type": "code",
   "execution_count": null,
   "metadata": {},
   "outputs": [],
   "source": [
    "# Dispersion package class   \n",
    "dsp = flopy.mt3d.Mt3dDsp(mt, al=al)\n",
    "# source/sink package (where we input our input information)\n",
    "ssm = flopy.mt3d.Mt3dSsm(mt, stress_period_data=spd_mt)\n",
    "# matrix solver package, may want to add cclose=1e-6 to define the convergence criterion in terms of relative concentration\n",
    "gcg = flopy.mt3d.Mt3dGcg(mt, cclose=1e-6)\n",
    "mt.write_input()"
   ]
  },
  {
   "cell_type": "markdown",
   "metadata": {},
   "source": [
    "Now everything is set and ready to run!"
   ]
  },
  {
   "cell_type": "code",
   "execution_count": null,
   "metadata": {},
   "outputs": [],
   "source": [
    "# Run MT3D model\n",
    "# You can set 'silent=False' if you want all of the model output\n",
    "mt.run_model(silent=True)"
   ]
  },
  {
   "cell_type": "markdown",
   "metadata": {},
   "source": [
    "To analyze the transport output extract the concentration array. The concentration values are in a 4D matrix with the following (t, z, y, x)"
   ]
  },
  {
   "cell_type": "code",
   "execution_count": null,
   "metadata": {},
   "outputs": [],
   "source": [
    "# Extract output\n",
    "fname = os.path.join(model_ws, 'MT3D001.UCN')\n",
    "ucnobj = flopy.utils.UcnFile(fname)\n",
    "# Extract the output time information, convert from list to np array\n",
    "times = np.array(ucnobj.get_times())\n",
    "print(\"Times of output observations = \")\n",
    "print(times)\n",
    "\n",
    "# Extract head information\n",
    "fname = os.path.join(model_ws, modelname_mf+'.hds')\n",
    "hdobj = flopy.utils.HeadFile(fname)\n",
    "heads = hdobj.get_data()\n",
    "    \n",
    "# Extract the 4D concentration values (t, z, y, x)\n",
    "conc = ucnobj.get_alldata()\n",
    "print(\"Dimensions of concentration data matrix = \")\n",
    "print(conc.shape)\n"
   ]
  },
  {
   "cell_type": "markdown",
   "metadata": {},
   "source": [
    "The output are given in arrays with the timestep defined above in the `timprs` array (with the exception of the final timestep). Compare the `timprs` and `times` arrays to verify this."
   ]
  },
  {
   "cell_type": "code",
   "execution_count": null,
   "metadata": {},
   "outputs": [],
   "source": []
  },
  {
   "cell_type": "markdown",
   "metadata": {},
   "source": [
    "## Activity:\n",
    "Interpret the following plots. Remember that the concentration values are in a 4D matrix with the following (t, z, y, x). Label the axis and describe what they are showing. From the plots do these look like a continous injection/source or pulse/finite length plume?"
   ]
  },
  {
   "cell_type": "code",
   "execution_count": null,
   "metadata": {},
   "outputs": [],
   "source": [
    "# Extract model grid\n",
    "y, x, z = mf.dis.get_node_coordinates()\n",
    "# We want to plot along x so let's print x to make sure this looks right\n",
    "print(x)"
   ]
  },
  {
   "cell_type": "code",
   "execution_count": null,
   "metadata": {},
   "outputs": [],
   "source": [
    "# print dimensions of heads array\n",
    "print(heads.shape)\n",
    "\n",
    "# plot\n",
    "plt.figure()\n",
    "plt.plot(x, np.squeeze(heads))\n",
    "print(h1)"
   ]
  },
  {
   "cell_type": "code",
   "execution_count": null,
   "metadata": {},
   "outputs": [],
   "source": [
    "print(conc.shape)\n",
    "plt.figure()\n",
    "# now loop through the times and extract concentration profiles\n",
    "for t in range(0, len(times)):\n",
    "    cprof = conc[t, 0, 0, :]\n",
    "    plt.plot(x, cprof)"
   ]
  },
  {
   "cell_type": "code",
   "execution_count": null,
   "metadata": {},
   "outputs": [],
   "source": [
    "C_btc = conc[:, 0, 0, -1]\n",
    "plt.plot(times, C_btc, label='Breakthrough Curve')"
   ]
  },
  {
   "cell_type": "markdown",
   "metadata": {},
   "source": [
    "As set up, these models are difficult to re-run with different parameters. In the next notebook we will structure these models into functions."
   ]
  },
  {
   "cell_type": "code",
   "execution_count": null,
   "metadata": {},
   "outputs": [],
   "source": []
  }
 ],
 "metadata": {
  "kernelspec": {
   "display_name": "Python 3 (ipykernel)",
   "language": "python",
   "name": "python3"
  },
  "language_info": {
   "codemirror_mode": {
    "name": "ipython",
    "version": 3
   },
   "file_extension": ".py",
   "mimetype": "text/x-python",
   "name": "python",
   "nbconvert_exporter": "python",
   "pygments_lexer": "ipython3",
   "version": "3.9.17"
  }
 },
 "nbformat": 4,
 "nbformat_minor": 4
}
