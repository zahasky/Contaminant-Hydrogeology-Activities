{
 "cells": [
  {
   "cell_type": "markdown",
   "metadata": {},
   "source": [
    "## Introduction\n",
    "This is a notebook designed to begin applying some of the concepts we discussed in the introductory notebook and to illustrate statistical moment analysis of discrete data.\n",
    "\n",
    "First we import the libraries that we need"
   ]
  },
  {
   "cell_type": "code",
   "execution_count": null,
   "metadata": {},
   "outputs": [],
   "source": [
    "import numpy as np\n",
    "import matplotlib.pyplot as plt"
   ]
  },
  {
   "cell_type": "markdown",
   "metadata": {},
   "source": [
    "We will use numpy to build vector and matrix arrays and perform the summation calculations necessary for moment analysis."
   ]
  },
  {
   "cell_type": "code",
   "execution_count": null,
   "metadata": {},
   "outputs": [],
   "source": [
    "# first define spatial coordinates\n",
    "x = np.linspace(1, 20, num=8)\n",
    "print(x)"
   ]
  },
  {
   "cell_type": "code",
   "execution_count": null,
   "metadata": {},
   "outputs": [],
   "source": [
    "# next lets define some concentration measurements (for example measured in wells)\n",
    "C = np.array([0, 1, 4, 7, 8, 10, 2, 0])\n",
    "print(C)"
   ]
  },
  {
   "cell_type": "code",
   "execution_count": null,
   "metadata": {},
   "outputs": [],
   "source": [
    "plt.plot(x,C)\n",
    "plt.show() # Optional but prevents text from being printed with plot. This is also necessary if you have several plots in the same cell and what them to print separately."
   ]
  },
  {
   "cell_type": "markdown",
   "metadata": {},
   "source": [
    "From this plot, where do you expect the center for mass to be? Remember the the center of mass is the location with half of the area under the curve on one side, and the half the area under the curve on the other side."
   ]
  },
  {
   "cell_type": "markdown",
   "metadata": {},
   "source": [
    "The equation for the zero moment is: $m_{x,0} = \\int C(x)  dx$\n",
    "\n",
    "To perform the integration with discrete data we need to numerically integrate the concentration profile as a function of $x$. There are several ways to do this in Python. One of the easiest ways is with the `np.trapz` function. This function performs numerical integration using the composite trapezoidal rule. More details can be found in the [numpy documentation](https://numpy.org/doc/stable/reference/generated/numpy.trapz.html). Since the concentration measurements have equal spacing in $x$, we can either call the `np.trapz` function by defining that spacing or by just providing the entire $x$ array."
   ]
  },
  {
   "cell_type": "code",
   "execution_count": null,
   "metadata": {},
   "outputs": [],
   "source": [
    "# Perform numerical integration by defining dx spacing\n",
    "M0_dx = np.trapz(C, dx=x[1]-x[0])\n",
    "# print result\n",
    "print(M0_dx)\n",
    "\n",
    "# Perform numerical integration by defining x array\n",
    "M0_x = np.trapz(C, x)\n",
    "print(M0_x)"
   ]
  },
  {
   "cell_type": "markdown",
   "metadata": {},
   "source": [
    "Do these results agree with what you would expect? Note that if $\\delta x$ is not a constant (e.g. you have well observations that are not evenly spaced) then we need to rely on numerical integration using the $x$ array.\n",
    "\n",
    "The equation for the first moment is: $m_{x,1} = \\int x C(x) d x$\n",
    "\n",
    "Like the zero moment, we can using numerical integration in Python to calculate the first moment. Run the cell below to calculate the first moment."
   ]
  },
  {
   "cell_type": "code",
   "execution_count": null,
   "metadata": {},
   "outputs": [],
   "source": [
    "np.trapz(x*C, x)"
   ]
  },
  {
   "cell_type": "markdown",
   "metadata": {},
   "source": [
    "## Activity:\n",
    "\n",
    "The final step for calculating the normalized first spatial moment is to divide the first moment by the zero moment. Enter the correct equation in the box below."
   ]
  },
  {
   "cell_type": "code",
   "execution_count": null,
   "metadata": {},
   "outputs": [],
   "source": [
    "# center_of_mass = ...\n",
    "# print(center_of_mass)"
   ]
  },
  {
   "cell_type": "markdown",
   "metadata": {},
   "source": [
    "Now plot your result as a vertical dashed red line on the same plot as we saw earlier."
   ]
  },
  {
   "cell_type": "code",
   "execution_count": null,
   "metadata": {},
   "outputs": [],
   "source": []
  }
 ],
 "metadata": {
  "kernelspec": {
   "display_name": "Python 3 (ipykernel)",
   "language": "python",
   "name": "python3"
  },
  "language_info": {
   "codemirror_mode": {
    "name": "ipython",
    "version": 3
   },
   "file_extension": ".py",
   "mimetype": "text/x-python",
   "name": "python",
   "nbconvert_exporter": "python",
   "pygments_lexer": "ipython3",
   "version": "3.9.18"
  }
 },
 "nbformat": 4,
 "nbformat_minor": 4
}
