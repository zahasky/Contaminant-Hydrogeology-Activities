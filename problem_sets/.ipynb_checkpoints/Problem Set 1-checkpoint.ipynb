{
 "cells": [
  {
   "cell_type": "markdown",
   "metadata": {},
   "source": [
    "# Introduction"
   ]
  },
  {
   "cell_type": "markdown",
   "metadata": {},
   "source": [
    "### Instructions"
   ]
  },
  {
   "cell_type": "markdown",
   "metadata": {},
   "source": [
    "The questions are described below.  You are encouraged to work together but must submit separate assignments. Show all work. Please submit a final Jupyter notebook with your solutions on Canvas. Hard-copy submissions will not be accepted. "
   ]
  },
  {
   "cell_type": "markdown",
   "metadata": {},
   "source": [
    "### Principle of superposition"
   ]
  },
  {
   "cell_type": "markdown",
   "metadata": {},
   "source": [
    "When the advection-diffusion equation (ADE) is linear, sums of the solutions are also linear. This important condition allows us to use the \\textit{principle of superposition} to analytically solve the ADE and the diffusion equation for relative complex (i.e. mixed or inhomogeneous) boundary conditions. As described by Bear (1972) \"The principle of superposition means that the presence of one boundary condition does not affect the response produced by the presence of other boundary or initial conditions. Therefore, to analyze the combined effect of a number of boundary conditions (excitations) we may start by solving for the effect of each individual excitation and then combine the results.\" For example, the principle of superposition is often used to analytically describe the transport behavior of finite volume solute plumes. If $C_{1D}$ is the one dimensional analytical solution to the diffusion equation with a constant source $C(x=0,t) = C_0$, then a plume with initial concentration $C_0$ and width $\\delta x$ can be described by:"
   ]
  },
  {
   "cell_type": "markdown",
   "metadata": {},
   "source": [
    "$C_{plume}(x,t) = - \\frac{C_{1D}(x+ \\delta x/2, t)}{2} + \\frac{C_{1D}(x- \\delta x/2, t)}{2}$"
   ]
  },
  {
   "cell_type": "markdown",
   "metadata": {},
   "source": [
    "## Problem 1: Plume diffusion with complex initial conditions"
   ]
  },
  {
   "cell_type": "markdown",
   "metadata": {},
   "source": [
    "###### a)  \n",
    "Using the principle of superposition and the equation given above, write the equation for the concentration profile for a 1D plume at $t=0$ s with an original width of 5 meters and the diffusion coefficient $D =$5e-10 m$^2$/s. The original plume concentration should be equal to 1. "
   ]
  },
  {
   "cell_type": "markdown",
   "metadata": {},
   "source": [
    "Replace this cell with your solution. To write an equation use latex notation enclosed in dollar signs. For example, write a fraction via with \\frac{3x}{2} to get $\\frac{3x}{2}$ when enclosed in dollar signs."
   ]
  },
  {
   "cell_type": "markdown",
   "metadata": {},
   "source": [
    "###### b)  \n",
    "Plot your solution, the concentration profile should look like the red line in the figure below. Here is a useful starting point (you do not need to edit the first cell)."
   ]
  },
  {
   "cell_type": "code",
   "execution_count": null,
   "metadata": {},
   "outputs": [],
   "source": [
    "# Import a few useful libraries\n",
    "import numpy as np\n",
    "import matplotlib.pyplot as plt\n",
    "# These may also be useful\n",
    "# math.erfc (complementary error function) and math.erf (error function) from the math Library\n",
    "from scipy.special import erfc as erfc\n",
    "from scipy.special import erf as erf\n",
    "\n",
    "# Plume width, set this to the correct value\n",
    "plume_width = 3\n",
    "# Diffusion coefficient, set this to the correct value\n",
    "D = 1 \n",
    "# Initial concentration\n",
    "C0 = 1\n",
    "\n",
    "# a useful conversion\n",
    "seconds_per_year = 365.25*3600*24\n",
    "\n",
    "# Initial plume is at time = 0\n",
    "t = 0\n",
    "print(\"time = \" + str(t) + \" seconds\")\n",
    "\n",
    "# Range of x values to plot concentration profile (meters)\n",
    "# np.linspace(start, stop, num=50) retuns 50 evenly spaced numbers between start and stop\n",
    "x = np.linspace(-20.0, 20.0, num=100)"
   ]
  },
  {
   "cell_type": "code",
   "execution_count": null,
   "metadata": {},
   "outputs": [],
   "source": [
    "# UNCOMMENT THESE LINES \n",
    "# C_profile1 = \n",
    "# plt.plot(x, C_profile1, label='Name this curve')\n",
    "# plt.xlabel('Label your axis with correct units')"
   ]
  },
  {
   "cell_type": "markdown",
   "metadata": {},
   "source": [
    "###### c)  \n",
    "Now imagine that the plume has a more complex concentration profile at $t=0$, such as the one illustrated by the dashed black line in the figure below. Write the equation for this concentration profile at $t=1$ hr. Use a diffusion coefficient of $D =$ 5e-10 m$^2$/s."
   ]
  },
  {
   "cell_type": "markdown",
   "metadata": {},
   "source": [
    "![Figure 1](images/ps1_fig1.png)"
   ]
  },
  {
   "cell_type": "markdown",
   "metadata": {},
   "source": [
    "###### d)  \n",
    "With the equation from part c, generate a plot with this complex initial concentration profile. Your plot should match the dashed black line in the figure above. Be sure to label your axes."
   ]
  },
  {
   "cell_type": "code",
   "execution_count": null,
   "metadata": {},
   "outputs": [],
   "source": [
    "# UNCOMMENT THESE LINES \n",
    "# C_profile2 = \n",
    "# plt.plot(x, C_profile2, label='Name this curve')\n",
    "# plt.xlabel('Label your axis with correct units')"
   ]
  },
  {
   "cell_type": "markdown",
   "metadata": {},
   "source": [
    "###### e)\n",
    "With that same equatio from part c, plot the concentration profiles at different times until the max concentration of the plume is approximately equal to 0.5 ($C_{peak} \\approx 0.5$). Plot no more than 10 profiles and be sure to include a legend to label each line in years. How long does it take for the peak plume concentration to drop to half of the original value? A useful block of code to star is given below."
   ]
  },
  {
   "cell_type": "code",
   "execution_count": null,
   "metadata": {},
   "outputs": [],
   "source": [
    "# Array of times at which to plot the solution\n",
    "# np.linspace(start, stop, num=3) retuns 3 evenly spaced numbers between start and stop\n",
    "T_years = np.linspace(0, 100.0, num=3)\n",
    "# Print output\n",
    "print(T_years)\n",
    "\n",
    "# Convert time to seconds\n",
    "T = T_years*seconds_per_year\n",
    "print(T)\n",
    "\n",
    "# Use a for loop so that you only have to write your equation once\n",
    "for t in T:\n",
    "    # Copy and paste your equation from part d here!\n",
    "    \n",
    "    # You now need to plot inside the loop\n",
    "    # plt.plot(x, C_profile, label='Name this curve')\n",
    "    # plt.xlabel('Label your axis with correct units')\n",
    "    \n",
    "    print(\"The loop just finished calculations and ploting the line at year: \" + str(t/seconds_per_year))\n",
    "    "
   ]
  },
  {
   "cell_type": "code",
   "execution_count": null,
   "metadata": {},
   "outputs": [],
   "source": []
  },
  {
   "cell_type": "markdown",
   "metadata": {},
   "source": [
    "## Problem 2"
   ]
  },
  {
   "cell_type": "markdown",
   "metadata": {},
   "source": [
    "###### a)\n",
    "Download and plot the 1D solute plume concentration data in the file titled 'concentration_well_measurements.csv'. The first column corresponds to time 't1' and the second column corresonds to time 't2'. Each row corresponds to a well at locations given by 'x_well' (with the first row equal to x_well = 0). The value of these variables are given in the cell below. Make sure to label your axes and all lines on the plots."
   ]
  },
  {
   "cell_type": "code",
   "execution_count": null,
   "metadata": {},
   "outputs": [],
   "source": [
    "# Useful conversion\n",
    "seconds_per_day = 3600*24\n",
    "\n",
    "# Well array locations in meters\n",
    "x_well = np.linspace(0, 600.0, num=13)\n",
    "print(x_well)\n",
    "\n",
    "# time one in days, corresponding to first concentration profile\n",
    "t1 = 7.019 \n",
    "print(t1)\n",
    "\n",
    "# time two in days, corresponding to first concentration profile\n",
    "t2 = 10.528\n",
    "print(t2)"
   ]
  },
  {
   "cell_type": "code",
   "execution_count": null,
   "metadata": {},
   "outputs": [],
   "source": [
    "# Cell for loading and plotting data\n",
    "# C_wells = np function (google 'numpy load csv files')\n",
    "# print(C_wells[:,0])\n",
    "\n",
    "# plt.plot(x_well, C_wells[:,0], label='Concentration at time ...')\n",
    "# plt.plot(x_well, C_wells[:,1], label='Concentration at time ...')\n",
    "# plt.xlabel('Label your axis with correct units')"
   ]
  },
  {
   "cell_type": "markdown",
   "metadata": {},
   "source": [
    "###### b)  \n",
    "Write down the equation for calculating the zero spatial moment numerically (see class notes and/or lecture material)."
   ]
  },
  {
   "cell_type": "markdown",
   "metadata": {},
   "source": [
    "Answer here..."
   ]
  },
  {
   "cell_type": "markdown",
   "metadata": {},
   "source": [
    "###### c)  \n",
    "Calculate the zero moment for both of the concentration profiles that you plotted in part a."
   ]
  },
  {
   "cell_type": "code",
   "execution_count": null,
   "metadata": {},
   "outputs": [],
   "source": [
    "# Write code here ... "
   ]
  },
  {
   "cell_type": "markdown",
   "metadata": {},
   "source": [
    "###### d) \n",
    "Write down the equation for calculating the first moment and the center of mass numerically."
   ]
  },
  {
   "cell_type": "markdown",
   "metadata": {},
   "source": [
    "###### e) \n",
    "Calculate and plot the center of mass on top of both of the concentration profiles that you plotted in part (a)."
   ]
  },
  {
   "cell_type": "code",
   "execution_count": null,
   "metadata": {},
   "outputs": [],
   "source": [
    "# start by copy and pasting the plot from part a  \n",
    "# then plot vertical lines indicating the location of the center of mass"
   ]
  },
  {
   "cell_type": "markdown",
   "metadata": {},
   "source": [
    "###### f) \n",
    "Based on the change in location of the center of mass, what is the groundwater advection velocity? What is the specific discharge of the aquifer if the porosity is approximately 15%?"
   ]
  },
  {
   "cell_type": "markdown",
   "metadata": {},
   "source": [
    "###### g) \n",
    "Write down the equation for calculating the second moment and variance ($\\sigma^2$) numerically."
   ]
  },
  {
   "cell_type": "markdown",
   "metadata": {},
   "source": [
    "Write equation here..."
   ]
  },
  {
   "cell_type": "markdown",
   "metadata": {},
   "source": [
    "Calculate the 1D longitudinal dispersion coefficient using the following equation. This requires first calculating the variance of the concentration profiles at 't1' and 't2'.\n",
    "      \n",
    "$ D_L = \\frac{1}{2} \\frac{d \\sigma^2}{d t} = \\frac{\\sigma^2(t_2)- \\sigma^2(t_1)} {2 (t_2 - t_1)} $"
   ]
  },
  {
   "cell_type": "code",
   "execution_count": null,
   "metadata": {},
   "outputs": [],
   "source": [
    "# Type code here for calculating D_L. Use the print function to output your answers.\n",
    "\n",
    "print('Your answer ...')"
   ]
  },
  {
   "cell_type": "markdown",
   "metadata": {},
   "source": [
    "###### h) \n",
    "While moment analysis is a powerful tool for interpreting plume migration and spreading, in a few sentences discuss the assumptions and limitations of this approach."
   ]
  },
  {
   "cell_type": "markdown",
   "metadata": {},
   "source": [
    "Type answer here..."
   ]
  }
 ],
 "metadata": {
  "kernelspec": {
   "display_name": "Python 3",
   "language": "python",
   "name": "python3"
  },
  "language_info": {
   "codemirror_mode": {
    "name": "ipython",
    "version": 3
   },
   "file_extension": ".py",
   "mimetype": "text/x-python",
   "name": "python",
   "nbconvert_exporter": "python",
   "pygments_lexer": "ipython3",
   "version": "3.7.6"
  }
 },
 "nbformat": 4,
 "nbformat_minor": 4
}
