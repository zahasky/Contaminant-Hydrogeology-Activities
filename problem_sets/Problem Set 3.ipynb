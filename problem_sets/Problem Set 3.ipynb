{
 "cells": [
  {
   "cell_type": "markdown",
   "metadata": {},
   "source": [
    "### Instructions"
   ]
  },
  {
   "cell_type": "markdown",
   "metadata": {},
   "source": [
    "The questions are described below.  You are encouraged to work together but must submit separate assignments. Show all work. Please submit a final Jupyter notebook with your solutions on Canvas. Hard-copy submissions will not be accepted. "
   ]
  },
  {
   "cell_type": "markdown",
   "metadata": {},
   "source": [
    "## Problem 1: Calculation of capillary pressure through a pore throat"
   ]
  },
  {
   "cell_type": "markdown",
   "metadata": {},
   "source": [
    "Multiphase fluid flow through porous media is more complex than assumed by the straight capillary tube model described in lecture. To demonstrate this, you will calculate the capillary pressure variation through the single pore throat illustrated in the figure below. The data describing this geometry is given in the text file 'pore\\_geometry.txt'. The first column is the distance along the x-direction in micrometers, the second column is the upper grain-pore surface in micrometers, and the third column is the lower grain-pore surface in micrometers. To load this data into Matlab use the command 'importdata('pore\\_geometry.txt')'. "
   ]
  },
  {
   "cell_type": "markdown",
   "metadata": {},
   "source": [
    "![Figure 1](pore_geo.png)"
   ]
  },
  {
   "cell_type": "markdown",
   "metadata": {},
   "source": [
    "###### a)  \n",
    "Reproduce the plot given above of the pore radius as function of distance along the pore throat."
   ]
  },
  {
   "cell_type": "code",
   "execution_count": 1,
   "metadata": {},
   "outputs": [
    {
     "name": "stdout",
     "output_type": "stream",
     "text": [
      "advection velocity: 0.014147106052612919\n"
     ]
    }
   ],
   "source": [
    "# Import the neccesary libraries\n",
    "import numpy as np\n",
    "import math\n",
    "import matplotlib.pyplot as plt\n",
    "\n",
    "# do it"
   ]
  },
  {
   "cell_type": "markdown",
   "metadata": {},
   "source": [
    "###### b)  \n",
    "On a new figure, plot the solutions with dispersivity of 0.1 cm and 0.5 cm. In a sentence or two describe what happens to the breakthrough curve at the outlet of the sediment column (x=10 cm). How would you physically explain why the two boundary conditions give different concentration results?"
   ]
  },
  {
   "cell_type": "code",
   "execution_count": 3,
   "metadata": {},
   "outputs": [],
   "source": [
    "# New plot"
   ]
  },
  {
   "cell_type": "markdown",
   "metadata": {},
   "source": [
    "###### C)  \n",
    "Would you expect this effect to be larger or smaller at larger scales (i.e. an aquifer)? Why?"
   ]
  },
  {
   "cell_type": "markdown",
   "metadata": {},
   "source": [
    "Type answer in this cell..."
   ]
  },
  {
   "cell_type": "markdown",
   "metadata": {},
   "source": [
    "## Problem 2: Homogeneous reactions"
   ]
  },
  {
   "cell_type": "markdown",
   "metadata": {},
   "source": [
    "###### a)  \n",
    "Find an example of a homogeneous equilibrium reaction that could occur in the environment/subsurface. Write out the chemical formula. Why is this considered a homogeneous equilibrium reaction?"
   ]
  },
  {
   "cell_type": "markdown",
   "metadata": {},
   "source": [
    "Write out formula in this cell (note that to write subscripts use this example: O$_2$)"
   ]
  },
  {
   "cell_type": "markdown",
   "metadata": {},
   "source": [
    "###### b)  \n",
    "Write the equation to calculate the equilibrium constant ($K_{eq}$) for this reaction."
   ]
  },
  {
   "cell_type": "markdown",
   "metadata": {},
   "source": [
    "Give equation here ..."
   ]
  },
  {
   "cell_type": "markdown",
   "metadata": {},
   "source": [
    "###### c)  \n",
    "What direction will your reaction go if the activity product is greater than the equilibrium constant?"
   ]
  },
  {
   "cell_type": "markdown",
   "metadata": {},
   "source": [
    "Give explaination in this cell ..."
   ]
  },
  {
   "cell_type": "markdown",
   "metadata": {},
   "source": [
    "## Problem 3: First order reactions for remediation"
   ]
  },
  {
   "cell_type": "markdown",
   "metadata": {},
   "source": [
    "### Project summary\n",
    "In-situ Thermal Destruction Division, Inc. (ITDD) completed a low temperature electrical resistance heating (ERH) remediation performed at a former manufacturing facility in Orland Park, Illinois. The client’s consultant provided project oversight and the primary compounds of concern (COCs) included 1,1,1-trichlorothane (TCA) and trichloroethene (TCE). The goal of the ERH remediation was to decrease concentrations of individual chlorinated volatile organic compounds (CVOCs) below the initial groundwater concentration of 50 mg/L for TCA and 80 mg/L for TCE. Assume TCA is the rate limiting COC. TCA degrades rapidly in groundwater due to hydrolysis and this presented an opportunity to evaluate low temperature ERH as an effective remediation strategy. Assume that the hydrolysis half-life at 15$^o$C is 6 years, at 50$^o$C is 30 days, and at 80$^o$ C is 0.3 days."
   ]
  },
  {
   "cell_type": "markdown",
   "metadata": {},
   "source": [
    "###### a)  \n",
    "Plot the TCA concentration as a function of time under the three different hydroloysis half-life conditions. Use a time range from zero to 1 year. "
   ]
  },
  {
   "cell_type": "code",
   "execution_count": null,
   "metadata": {},
   "outputs": [],
   "source": [
    "# Put your plot here"
   ]
  },
  {
   "cell_type": "markdown",
   "metadata": {},
   "source": [
    "###### b)  \n",
    "Under each temperature condition, how long will it take for the concentration of TCA to drop to 10\\% of the initial concentration?"
   ]
  },
  {
   "cell_type": "markdown",
   "metadata": {},
   "source": [
    "Type answer in this cell ..."
   ]
  },
  {
   "cell_type": "markdown",
   "metadata": {},
   "source": [
    "###### c)  \n",
    "If the remediation is run for 20 days at 80$^o$ C what will be the concentration of TCA in the plume, assuming no transport? For comparison, include the calculation of TCA concentration if no remediation occurs."
   ]
  },
  {
   "cell_type": "code",
   "execution_count": null,
   "metadata": {},
   "outputs": [],
   "source": [
    "# code with calculation "
   ]
  },
  {
   "cell_type": "markdown",
   "metadata": {},
   "source": [
    "###### d)  \n",
    "A monitoring well is drilled 25 m down gradient from the initial TCA plume that is initially 5 m wide. Plot the breakthrough curves of the plume in the scenario of no remediation, 50$^o$C, and 80$^o$C. Assume v=0.1 m/day and D=0.5 m$^2$/day. "
   ]
  },
  {
   "cell_type": "code",
   "execution_count": null,
   "metadata": {},
   "outputs": [],
   "source": [
    "# UNCOMMENT THESE LINES \n",
    "# C_profile2 = \n",
    "# plt.plot(x, C_profile2, label='Name this curve')\n",
    "# plt.xlabel('Label your axis with correct units')"
   ]
  },
  {
   "cell_type": "code",
   "execution_count": null,
   "metadata": {},
   "outputs": [],
   "source": []
  },
  {
   "cell_type": "code",
   "execution_count": null,
   "metadata": {},
   "outputs": [],
   "source": []
  },
  {
   "cell_type": "markdown",
   "metadata": {},
   "source": [
    "## Problem 4: Influence of adsorption on PFAS transport"
   ]
  },
  {
   "cell_type": "markdown",
   "metadata": {},
   "source": [
    "###### a)\n",
    "A fire-fighting exercise at a local military base contaminanted a near-surface aquifer with a plume of PFAS. Sediments from the site were collected and the PFAS adsorption data given in the next cell was measured in lab. Fit a linear, Langmuir, and Freundlich adsorption model to this data. To fit these functions use a statistical method such as [least squares](https://en.wikipedia.org/wiki/Least_squares).\n",
    "\n",
    "Provide a plot of the data and the equations for the model fits."
   ]
  },
  {
   "cell_type": "code",
   "execution_count": 6,
   "metadata": {},
   "outputs": [
    {
     "data": {
      "text/plain": [
       "Text(0, 0.5, 'Solid concentrations (g/kg)')"
      ]
     },
     "execution_count": 6,
     "metadata": {},
     "output_type": "execute_result"
    },
    {
     "data": {
      "image/png": "[encoded data removed]",
      "text/plain": [
       "<Figure size 432x288 with 1 Axes>"
      ]
     },
     "metadata": {
      "needs_background": "light"
     },
     "output_type": "display_data"
    }
   ],
   "source": [
    "# Aqueous concentrations (g/L)\n",
    "C_aq = np.array([0.03, 0.11, 0.2, 0.27, 0.42, 0.51])\n",
    "# Concentration of sorbed pfas (g/kg)\n",
    "C_s = np.array([0.008, 0.038, 0.055, 0.069, 0.091, 0.105])\n",
    "\n",
    "plt.scatter(C_aq, C_s, label='Raw data')\n",
    "plt.xlabel('Aqueous concentrations (g/L)')\n",
    "plt.ylabel('Solid concentrations (g/kg)')"
   ]
  },
  {
   "cell_type": "code",
   "execution_count": null,
   "metadata": {},
   "outputs": [],
   "source": [
    "# Cell for fitting data"
   ]
  },
  {
   "cell_type": "code",
   "execution_count": null,
   "metadata": {},
   "outputs": [],
   "source": [
    "# Cell for plotting curves and data"
   ]
  },
  {
   "cell_type": "markdown",
   "metadata": {},
   "source": [
    "###### b)  \n",
    "In a few sentences or less describe what model you think fits the data best and why. "
   ]
  },
  {
   "cell_type": "markdown",
   "metadata": {},
   "source": [
    "Answer here..."
   ]
  },
  {
   "cell_type": "markdown",
   "metadata": {},
   "source": [
    "###### c)  \n",
    "Now assume that the adsorption isotherm is linear. Calculate the retardation factor. Assume a porosity of 0.3 and a bulk density of 1.7 (g/cm$^3$)."
   ]
  },
  {
   "cell_type": "code",
   "execution_count": null,
   "metadata": {},
   "outputs": [],
   "source": [
    "# Write code here ... "
   ]
  },
  {
   "cell_type": "markdown",
   "metadata": {},
   "source": [
    "###### d) \n",
    "The PFAS contamination is approximately 15 meters wide in the aquifer and nearly evenly distributed over this 15 m. If the groundwater if flowing at v=0.1 m/day and the approximate D=0.1 m$^2$/day, how long will it take for the plume to reach a drinking water well 200 m away? What will be the approximate mean arrival time of the plume? You can use temporal moments if you wish, or you can just estimate this. \n",
    "Plot the normalized concentration ($C_0=1$) as a function of time, if the concentration is monitored for 20 years. Hint: You may want to use the analytical solution A1 given in van Genuchten and Alves (1982), also given in previous notebooks."
   ]
  },
  {
   "cell_type": "code",
   "execution_count": null,
   "metadata": {},
   "outputs": [],
   "source": []
  },
  {
   "cell_type": "code",
   "execution_count": null,
   "metadata": {},
   "outputs": [],
   "source": []
  },
  {
   "cell_type": "markdown",
   "metadata": {},
   "source": [
    "###### e) \n",
    "How delayed is the mean arrival time of the PFAS plume relative to the case of $K_d = 0$ (no adsorption)? Plot the normalized concentration ($C_0=1$) as a function of time. Create a new plot with this breakthrough time as well as the one you plotted in part d. "
   ]
  },
  {
   "cell_type": "code",
   "execution_count": null,
   "metadata": {},
   "outputs": [],
   "source": []
  },
  {
   "cell_type": "code",
   "execution_count": null,
   "metadata": {},
   "outputs": [],
   "source": [
    "# cell for plot"
   ]
  },
  {
   "cell_type": "markdown",
   "metadata": {},
   "source": [
    "Any written description of your solution here..."
   ]
  },
  {
   "cell_type": "markdown",
   "metadata": {},
   "source": [
    "###### f) \n",
    "In a few sentences or less, how would the PFAS arrival time change if $K_d$ is double the value measured in lab? How will it change if the $K_d$ is half of the value measured in lab?"
   ]
  },
  {
   "cell_type": "markdown",
   "metadata": {},
   "source": [
    "Type answer in this cell ..."
   ]
  }
 ],
 "metadata": {
  "kernelspec": {
   "display_name": "Python 3",
   "language": "python",
   "name": "python3"
  },
  "language_info": {
   "codemirror_mode": {
    "name": "ipython",
    "version": 3
   },
   "file_extension": ".py",
   "mimetype": "text/x-python",
   "name": "python",
   "nbconvert_exporter": "python",
   "pygments_lexer": "ipython3",
   "version": "3.7.6"
  }
 },
 "nbformat": 4,
 "nbformat_minor": 4
}
