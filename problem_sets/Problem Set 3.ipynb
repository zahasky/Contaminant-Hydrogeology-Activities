{
 "cells": [
  {
   "cell_type": "markdown",
   "metadata": {},
   "source": [
    "## Instructions"
   ]
  },
  {
   "cell_type": "markdown",
   "metadata": {},
   "source": [
    "The questions are described below.  You are encouraged to work together but must submit separate assignments. Show all work. Please submit a final Jupyter notebook with your solutions on Canvas. Hard-copy submissions will not be accepted. "
   ]
  },
  {
   "cell_type": "markdown",
   "metadata": {},
   "source": [
    "## Problem 1: Calculation of capillary pressure through a pore throat"
   ]
  },
  {
   "cell_type": "markdown",
   "metadata": {},
   "source": [
    "Multiphase fluid flow through porous media is more complex than assumed by the straight capillary tube model described in lecture. To demonstrate this, you will calculate the capillary pressure variation through the single pore throat illustrated in the figure below. The data describing this geometry is given in the text file 'ps3\\_pore\\_geometry.txt'. The first column of the datafile is the distance along the x-direction in micrometers, the second column is the upper grain-pore surface in micrometers, and the third column is the lower grain-pore surface in micrometers."
   ]
  },
  {
   "cell_type": "markdown",
   "metadata": {},
   "source": [
    "<img src=\"ps3_fig1.png\" alt=\"fig1\" style=\"width: 600px;\"/>"
   ]
  },
  {
   "cell_type": "markdown",
   "metadata": {},
   "source": [
    "###### a) Reproduce the plot given above of the pore radius as function of distance along the pore throat.\n",
    "\n",
    "To load the 'ps3\\_pore\\_geometry.txt' data into this notebook, use the following code to get started."
   ]
  },
  {
   "cell_type": "code",
   "execution_count": 3,
   "metadata": {},
   "outputs": [
    {
     "name": "stdout",
     "output_type": "stream",
     "text": [
      "[[   0.  200. -200.]\n",
      " [   1.  181. -181.]\n",
      " [   2.  164. -164.]\n",
      " [   3.  149. -149.]\n",
      " [   4.  136. -136.]\n",
      " [   5.  125. -125.]\n",
      " [   6.  116. -116.]\n",
      " [   7.  109. -109.]\n",
      " [   8.  104. -104.]\n",
      " [   9.  101. -101.]\n",
      " [  10.  100. -100.]\n",
      " [  11.  101. -101.]\n",
      " [  12.  104. -104.]\n",
      " [  13.  109. -109.]\n",
      " [  14.  116. -116.]\n",
      " [  15.  125. -125.]\n",
      " [  16.  136. -136.]\n",
      " [  17.  149. -149.]\n",
      " [  18.  164. -164.]\n",
      " [  19.  181. -181.]\n",
      " [  20.  200. -200.]]\n"
     ]
    }
   ],
   "source": [
    "# Import the neccesary libraries\n",
    "import numpy as np\n",
    "import matplotlib.pyplot as plt\n",
    "\n",
    "d = np.loadtxt(\"ps3_pore_geometry.txt\", delimiter=',')\n",
    "print(d)"
   ]
  },
  {
   "cell_type": "markdown",
   "metadata": {},
   "source": [
    "###### b)  What is the air-water interfacial tension in mN/meter (look this up online)?"
   ]
  },
  {
   "cell_type": "markdown",
   "metadata": {},
   "source": [
    "Type answer in this cell..."
   ]
  },
  {
   "cell_type": "markdown",
   "metadata": {},
   "source": [
    "###### c)  Use the Young-Laplace equation to calculate and plot the capillary pressure (in kilopascals) at every value of $x$ given in the text file. Assume the upper grain-pore surface gives the radius as a function of X. Use an interfacial tension of 70 mN/meter. Use a contact angle of 10 degrees."
   ]
  },
  {
   "cell_type": "code",
   "execution_count": null,
   "metadata": {},
   "outputs": [],
   "source": [
    "# script for calculation and plot"
   ]
  },
  {
   "cell_type": "markdown",
   "metadata": {},
   "source": [
    "###### d) On a new figure, plot the capillary pressure if the contact angle is 45 degrees, and another if the contact angle is 90 degrees. Include the capillary pressure that you calculated in the previous question where the contact angle was 10 degrees."
   ]
  },
  {
   "cell_type": "code",
   "execution_count": 4,
   "metadata": {},
   "outputs": [],
   "source": [
    "# script for calculation and plot"
   ]
  },
  {
   "cell_type": "markdown",
   "metadata": {},
   "source": [
    "###### e) Explain how capillary pressure changes with contact angle throughout the pore throat. What is the theoretical magnitude of capillary forces of a fluid pair in porous media with a contact angle of 90 degrees?"
   ]
  },
  {
   "cell_type": "markdown",
   "metadata": {},
   "source": [
    "Type answer here ..."
   ]
  },
  {
   "cell_type": "markdown",
   "metadata": {},
   "source": [
    "###### f) Think about the derivation of the Young-Laplace equation. Does this assume the fluids are static or moving? Why?"
   ]
  },
  {
   "cell_type": "markdown",
   "metadata": {},
   "source": [
    "Type answer in this cell..."
   ]
  },
  {
   "cell_type": "markdown",
   "metadata": {},
   "source": [
    "## Problem 2: Capillary pressure as a function of contact angle and interfacial tension"
   ]
  },
  {
   "cell_type": "markdown",
   "metadata": {},
   "source": [
    "<img src=\"ps3_fig2.png\" alt=\"Drawing\" style=\"width: 600px;\"/>"
   ]
  },
  {
   "cell_type": "markdown",
   "metadata": {},
   "source": [
    "###### a)  Based on the pore size distributions plotted in the figure above, what can you say about sorting behavior of the different sandstones?"
   ]
  },
  {
   "cell_type": "markdown",
   "metadata": {},
   "source": [
    "Write out answer in this cell..."
   ]
  },
  {
   "cell_type": "markdown",
   "metadata": {},
   "source": [
    "###### b) Assume that an experiment was run on each rock that provided measurements of the fluid saturation of each rock as a function of pore size. The data is given in the text file 'ps3_saturation_vs_grain_size.txt'. The first column is the pore throat radius (in meters). The second, third, and forth columns are the water saturation in Rock 1, Rock 2, and Rock 3, respectively. Assuming the fluids have an interfacial tension of 70 mN/m and a contact angle of 20 degrees, plot the capillary pressure curves as a function of water saturation for each rock. Plot the capillary pressure in from 0-10 kPa and water saturation from 0-1."
   ]
  },
  {
   "cell_type": "code",
   "execution_count": null,
   "metadata": {},
   "outputs": [],
   "source": [
    "# Load data\n",
    "# Plot data"
   ]
  },
  {
   "cell_type": "markdown",
   "metadata": {},
   "source": [
    "###### c) How is the capillary pressure curve related to the pore size distribution? What produces a flat capillary pressure curve versus a curve that has a steep negative slope? "
   ]
  },
  {
   "cell_type": "markdown",
   "metadata": {},
   "source": [
    "Give explaination in this cell ..."
   ]
  },
  {
   "cell_type": "markdown",
   "metadata": {},
   "source": [
    "###### d) What are the approximate capillary entry pressures for each rock?"
   ]
  },
  {
   "cell_type": "markdown",
   "metadata": {},
   "source": [
    "Give explaination in this cell ..."
   ]
  },
  {
   "cell_type": "markdown",
   "metadata": {},
   "source": [
    "###### e) What is the irreducible water saturation for each rock? Is this realistic? Why or why not?"
   ]
  },
  {
   "cell_type": "markdown",
   "metadata": {},
   "source": [
    "Type answer in this cell ..."
   ]
  },
  {
   "cell_type": "markdown",
   "metadata": {},
   "source": [
    "###### f) On a new figure, plot the capillary pressure curve for Rock 2 for contact angles of 10, 30, 60, and 88 degrees. Plot all of these on the same figure. Plot the capillary pressure in from 0-10 kPa and water saturation from 0-1. Do capillary forces (i.e. the magnitude of the capillary pressure) increase or decrease with contact angle? "
   ]
  },
  {
   "cell_type": "code",
   "execution_count": null,
   "metadata": {},
   "outputs": [],
   "source": [
    "# code for plot"
   ]
  },
  {
   "cell_type": "markdown",
   "metadata": {},
   "source": [
    "Explaination here"
   ]
  },
  {
   "cell_type": "markdown",
   "metadata": {},
   "source": [
    "###### g) Approximate the capillary entry pressure for each contact angle. How does capillary entry pressure change with contact angle? "
   ]
  },
  {
   "cell_type": "markdown",
   "metadata": {},
   "source": [
    "Explaination here ..."
   ]
  },
  {
   "cell_type": "markdown",
   "metadata": {},
   "source": [
    "###### h) On a new figure, plot the capillary pressure curve for Rock 2 for interfacial tension values of 10 mN/m, 50 mN/m, 72 mN/m. Plot all of these on the same figure. Plot the capillary pressure in from 0-10 kPa and water saturation from 0-1. Do capillary forces (i.e. the magnitude of the capillary pressure) increase or decrease with interfacial tension?"
   ]
  },
  {
   "cell_type": "code",
   "execution_count": null,
   "metadata": {},
   "outputs": [],
   "source": [
    "# plot here"
   ]
  },
  {
   "cell_type": "markdown",
   "metadata": {},
   "source": [
    "Explaination here ..."
   ]
  },
  {
   "cell_type": "markdown",
   "metadata": {},
   "source": [
    "###### i) Describe in a sentence or two how the difference in interfacial tension impacts the ease of NAPL invasion in a water saturated aquifer (i.e. drainage)."
   ]
  },
  {
   "cell_type": "code",
   "execution_count": null,
   "metadata": {},
   "outputs": [],
   "source": []
  }
 ],
 "metadata": {
  "kernelspec": {
   "display_name": "Python 3",
   "language": "python",
   "name": "python3"
  },
  "language_info": {
   "codemirror_mode": {
    "name": "ipython",
    "version": 3
   },
   "file_extension": ".py",
   "mimetype": "text/x-python",
   "name": "python",
   "nbconvert_exporter": "python",
   "pygments_lexer": "ipython3",
   "version": "3.7.6"
  }
 },
 "nbformat": 4,
 "nbformat_minor": 4
}
