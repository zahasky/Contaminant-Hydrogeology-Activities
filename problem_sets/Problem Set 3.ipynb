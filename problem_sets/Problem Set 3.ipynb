{
 "cells": [
  {
   "cell_type": "markdown",
   "metadata": {},
   "source": [
    "# Instructions"
   ]
  },
  {
   "cell_type": "markdown",
   "metadata": {},
   "source": [
    "The questions are described below.  You are encouraged to work together but must submit separate assignments. Show all work. Please submit a final Jupyter notebook with your solutions on Canvas. Hard-copy submissions will not be accepted. "
   ]
  },
  {
   "cell_type": "markdown",
   "metadata": {},
   "source": [
    "## Problem 1: Capillary pressure as a function of contact angle and interfacial tension"
   ]
  },
  {
   "cell_type": "markdown",
   "metadata": {},
   "source": [
    "<img src=\"ps3_fig2.png\" alt=\"Drawing\" style=\"width: 600px;\"/>"
   ]
  },
  {
   "cell_type": "markdown",
   "metadata": {},
   "source": [
    "**a)  Based on the pore size distributions plotted in the figure above, what can you say about sorting behavior of the different sandstones?**"
   ]
  },
  {
   "cell_type": "markdown",
   "metadata": {},
   "source": [
    "Write out answer in this cell..."
   ]
  },
  {
   "cell_type": "markdown",
   "metadata": {},
   "source": [
    "**b) Assume that an experiment was run on each rock that provided measurements of the fluid saturation of each rock as a function of pore size. The data is given in the text file 'ps3_saturation_vs_grain_size.txt'. The first column is the pore throat radius (in meters). The second, third, and forth columns are the water saturation in Rock 1, Rock 2, and Rock 3, respectively. Assuming the fluids have an interfacial tension of 70 mN/m and a contact angle of 20 degrees, plot the capillary pressure curves as a function of water saturation for each rock. Plot the capillary pressure from 0-10 kPa and water saturation from 0-1.**"
   ]
  },
  {
   "cell_type": "code",
   "execution_count": null,
   "metadata": {},
   "outputs": [],
   "source": [
    "# Load data\n",
    "# Plot data"
   ]
  },
  {
   "cell_type": "markdown",
   "metadata": {},
   "source": [
    "**c) How is the capillary pressure curve related to the pore size distribution? What produces a flat capillary pressure curve versus a curve that has a steep negative slope?**"
   ]
  },
  {
   "cell_type": "markdown",
   "metadata": {},
   "source": [
    "Give explaination in this cell ..."
   ]
  },
  {
   "cell_type": "markdown",
   "metadata": {},
   "source": [
    "**d) What are the approximate capillary entry pressures for each rock?**"
   ]
  },
  {
   "cell_type": "markdown",
   "metadata": {},
   "source": [
    "Give explaination in this cell ..."
   ]
  },
  {
   "cell_type": "markdown",
   "metadata": {},
   "source": [
    "**e) What is the irreducible water saturation for each rock? Is this realistic? Why or why not?**"
   ]
  },
  {
   "cell_type": "markdown",
   "metadata": {},
   "source": [
    "Type answer in this cell ..."
   ]
  },
  {
   "cell_type": "markdown",
   "metadata": {},
   "source": [
    "**f) On a new figure, plot the capillary pressure curve for Rock 2 for contact angles of 10, 30, 60, and 88 degrees. Plot all of these on the same figure. Plot the capillary pressure in from 0-10 kPa and water saturation from 0-1. Do capillary forces (i.e. the magnitude of the capillary pressure) increase or decrease with contact angle?**"
   ]
  },
  {
   "cell_type": "code",
   "execution_count": null,
   "metadata": {},
   "outputs": [],
   "source": [
    "# code for plot"
   ]
  },
  {
   "cell_type": "markdown",
   "metadata": {},
   "source": [
    "Explaination here"
   ]
  },
  {
   "cell_type": "markdown",
   "metadata": {},
   "source": [
    "**g) Approximate the capillary entry pressure for each contact angle. How does capillary entry pressure change with contact angle?**"
   ]
  },
  {
   "cell_type": "markdown",
   "metadata": {},
   "source": [
    "Explaination here ..."
   ]
  },
  {
   "cell_type": "markdown",
   "metadata": {},
   "source": [
    "**h) On a new figure, plot the capillary pressure curve for Rock 2 for interfacial tension values of 10 mN/m, 50 mN/m, 72 mN/m. Plot all of these on the same figure. Plot the capillary pressure in from 0-10 kPa and water saturation from 0-1. Do capillary forces (i.e. the magnitude of the capillary pressure) increase or decrease with interfacial tension?**"
   ]
  },
  {
   "cell_type": "code",
   "execution_count": 1,
   "metadata": {},
   "outputs": [],
   "source": [
    "# plot here"
   ]
  },
  {
   "cell_type": "markdown",
   "metadata": {},
   "source": [
    "Explaination here ..."
   ]
  },
  {
   "cell_type": "markdown",
   "metadata": {},
   "source": [
    "**i) Describe in a sentence or two how the difference in interfacial tension impacts the ease of NAPL invasion in a water saturated aquifer (i.e. drainage).**"
   ]
  },
  {
   "cell_type": "markdown",
   "metadata": {},
   "source": [
    "Explaination here"
   ]
  },
  {
   "cell_type": "markdown",
   "metadata": {},
   "source": [
    "## Problem 2: Capillary pressure in vadose zone\n",
    "**a) Now assume that the vadose zone of a field site is composed of Rock 1 from the previous problem. Plot the capillary pressure curve for Rock 1 in units of head (in centimeters) on the y-axis and water saturation on the x-axis.**"
   ]
  },
  {
   "cell_type": "code",
   "execution_count": null,
   "metadata": {},
   "outputs": [],
   "source": []
  },
  {
   "cell_type": "markdown",
   "metadata": {},
   "source": [
    "**b) Under steady-state conditions, with no incoming recharge flux, what will be the water saturation 10 cm above the water table, 50 cm above the water table, and 100 cm above the water table?**"
   ]
  },
  {
   "cell_type": "code",
   "execution_count": null,
   "metadata": {},
   "outputs": [],
   "source": []
  },
  {
   "cell_type": "markdown",
   "metadata": {},
   "source": [
    "**c) Fit a van Genuchten function and a Brooks-Corey function from the [Capillary Pressure Functions notebook](https://github.com/zahasky/Contaminant-Hydrogeology-Activities/blob/master/Capillary%20Pressure%20Functions.ipynb) to the Rock 1 data using the units of cm head for capillary pressure. Provide a plot and the fitting parameters. You can either do this fitting by hand or using the method we learned in the [Capillary Pressure Curve Scaling and Fitting notebook](https://github.com/zahasky/Contaminant-Hydrogeology-Activities/blob/master/Capillary%20Pressure%20Curve%20Scaling%20and%20Fitting.ipynb).**"
   ]
  },
  {
   "cell_type": "code",
   "execution_count": 2,
   "metadata": {},
   "outputs": [],
   "source": [
    "# plot here"
   ]
  },
  {
   "cell_type": "markdown",
   "metadata": {},
   "source": [
    "Fitting parameters of Brooks-Corey\n",
    "\n",
    "m =\n",
    "\n",
    "Pc_entry =\n",
    "\n",
    "..."
   ]
  },
  {
   "cell_type": "markdown",
   "metadata": {},
   "source": [
    "**d) If you instead fit the functions to the Rock 1 data using the units of kPa for capillary pressure what fitting parameters change? What fitting parameters are the same despite different units?**"
   ]
  },
  {
   "cell_type": "code",
   "execution_count": null,
   "metadata": {},
   "outputs": [],
   "source": []
  }
 ],
 "metadata": {
  "kernelspec": {
   "display_name": "Python 3 (ipykernel)",
   "language": "python",
   "name": "python3"
  },
  "language_info": {
   "codemirror_mode": {
    "name": "ipython",
    "version": 3
   },
   "file_extension": ".py",
   "mimetype": "text/x-python",
   "name": "python",
   "nbconvert_exporter": "python",
   "pygments_lexer": "ipython3",
   "version": "3.9.21"
  }
 },
 "nbformat": 4,
 "nbformat_minor": 4
}
