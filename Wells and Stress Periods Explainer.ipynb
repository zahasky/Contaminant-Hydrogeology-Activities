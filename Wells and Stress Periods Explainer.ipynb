{
 "cells": [
  {
   "cell_type": "markdown",
   "metadata": {},
   "source": [
    "## Introduction\n",
    "Often times we will want to create more complex boundary conditions, such as those with a changing source concentration with time, or a source that is not at the edge of a model. This can get a little complicated so this notebook demonstrates how to set up these sources as 'wells' and how to edit the Modflow-MT3D stress periods accordingly. \n",
    "\n",
    "If you haven't installed Flopy, go back to the [MODFLOW and FloPy setup notebook](https://github.com/zahasky/Contaminant-Hydrogeology-Activities/blob/master/MODFLOW%2C%20Python%2C%20and%20FloPy%20Setup.ipynb) and the [FloPy Introduction notebook](https://github.com/zahasky/Contaminant-Hydrogeology-Activities/blob/master/FloPy%20Introduction.ipynb).\n",
    "\n",
    "Import the standard libraries, plus a one we haven't seen ([deepcopy](https://docs.python.org/3/library/copy.html#copy.deepcopy))."
   ]
  },
  {
   "cell_type": "code",
   "execution_count": 449,
   "metadata": {},
   "outputs": [],
   "source": [
    "# Import the flopy library\n",
    "import flopy\n",
    "# Import a few additional libraries\n",
    "import sys\n",
    "import os\n",
    "# In addition to our typical libraries\n",
    "import numpy as np\n",
    "import matplotlib.pyplot as plt\n",
    "from copy import deepcopy as deepcopy"
   ]
  },
  {
   "cell_type": "markdown",
   "metadata": {},
   "source": [
    "First find where you have your MODFLOW and MT3D executables located on your system."
   ]
  },
  {
   "cell_type": "code",
   "execution_count": 450,
   "metadata": {},
   "outputs": [
    {
     "name": "stdout",
     "output_type": "stream",
     "text": [
      "C:\\Hydro\\MF2005.1_12\\bin\\mf2005\n",
      "C:\\Hydro\\mt3dusgs1.1.0\\bin\\mt3d-usgs_1.1.0_64\n"
     ]
    }
   ],
   "source": [
    "# Path to MODFLOW executable, probably called 'mf2005'\n",
    "exe_name_mf = 'C:\\\\Hydro\\\\MF2005.1_12\\\\bin\\\\mf2005'\n",
    "# Print to make sure it is formated correctly\n",
    "print(exe_name_mf)\n",
    "# Path to MT3D-USGS executable, probably called 'mt3dms'\n",
    "exe_name_mt = 'C:\\\\Hydro\\\\mt3dusgs1.1.0\\\\bin\\\\mt3d-usgs_1.1.0_64'\n",
    "# Print to make sure it is formated correctly\n",
    "print(exe_name_mt)"
   ]
  },
  {
   "cell_type": "markdown",
   "metadata": {},
   "source": [
    "Let's use the same directory to save the data as the FloPy introduction and then create a path to this workspace. It may be useful to understand your current working directory, this should be whereever you have this notebook saved. You can double check this with the command 'os.getcwd()'."
   ]
  },
  {
   "cell_type": "code",
   "execution_count": 451,
   "metadata": {},
   "outputs": [
    {
     "name": "stdout",
     "output_type": "stream",
     "text": [
      "C:\\Users\\zahas\\Dropbox\\Teaching\\Contaminant hydro 629\\Notebooks_unpublished\n"
     ]
    }
   ],
   "source": [
    "# This should return a path to your current working directory\n",
    "current_directory = os.getcwd()\n",
    "print(current_directory)"
   ]
  },
  {
   "cell_type": "code",
   "execution_count": 452,
   "metadata": {},
   "outputs": [
    {
     "name": "stdout",
     "output_type": "stream",
     "text": [
      "C:\\Users\\zahas\\Dropbox\\Teaching\\Contaminant hydro 629\\Notebooks_unpublished\n"
     ]
    }
   ],
   "source": [
    "# if this is not where you want to save stuff then change your directory using 'os.chdir()'\n",
    "os.chdir('C:\\\\Users\\\\zahas\\\\Dropbox\\\\Teaching\\\\Contaminant hydro 629\\\\Notebooks_unpublished') # laptop\n",
    "# os.chdir('D:\\\\Dropbox\\\\Teaching\\\\Contaminant hydro 629\\\\Modeling_excercises') # desktop\n",
    "current_directory = os.getcwd()\n",
    "print(current_directory)"
   ]
  },
  {
   "cell_type": "code",
   "execution_count": 453,
   "metadata": {},
   "outputs": [],
   "source": [
    "# directory to save data\n",
    "directory_name = 'well_demo'\n",
    "# directory to save data\n",
    "datadir = os.path.join('..', directory_name, 'mt3d_test', 'mt3dms')\n",
    "workdir = os.path.join('.', directory_name)"
   ]
  },
  {
   "cell_type": "markdown",
   "metadata": {},
   "source": [
    "As usual, 'dirname' will be an input to our model function."
   ]
  },
  {
   "cell_type": "markdown",
   "metadata": {},
   "source": [
    "### 2D plot function\n",
    "Before jumping into the model, lets define a function for easily generating 2D plots. This will help us visualize what is happening as we build our model."
   ]
  },
  {
   "cell_type": "code",
   "execution_count": 454,
   "metadata": {},
   "outputs": [],
   "source": [
    "def plot_2d(map_data, dx, dy, colorbar_label, cmap):\n",
    "    # shape information\n",
    "    r, c = np.shape(map_data)\n",
    "    # define plot coordinates\n",
    "    x_coord = np.linspace(0, dx*c, c+1)\n",
    "    y_coord = np.linspace(0, dy*r, r+1)\n",
    "    \n",
    "    X, Y = np.meshgrid(x_coord, y_coord)\n",
    "\n",
    "    plt.figure(figsize=(8, 4), dpi=120)\n",
    "    plt.pcolormesh(X, Y, map_data, cmap=cmap, shading = 'auto', edgecolor ='k', linewidth = 0.05)\n",
    "    plt.gca().set_aspect('equal')  \n",
    "    # add a colorbar\n",
    "    cbar = plt.colorbar() \n",
    "    # plt.clim(cmin, cmax) \n",
    "    # label the colorbar\n",
    "    cbar.set_label(colorbar_label)\n",
    "    plt.tick_params(axis='both', which='major')\n",
    "    plt.xlim((0, dx*c)) \n",
    "    plt.ylim((0, dy*r)) \n",
    "    plt.show()"
   ]
  },
  {
   "cell_type": "markdown",
   "metadata": {},
   "source": [
    "## Well Demo Function\n",
    "So far when we have built models we have not messed around to much with things like the source concentration, timing, and location but this is often the first step in building more complex and site-specific models. Here we will first set up a function that pulls out these model inputs so that we can more carefully explore what is happening.\n",
    "\n",
    "The first thing we do is setup the function. We will use nearly identical settings as we used in the [FloPy Introduction notebook](https://github.com/zahasky/Contaminant-Hydrogeology-Activities/blob/master/FloPy%20Introduction.ipynb) example, but now we are providing a few input variables that can be changed everytime we call the model. The input variables are:\n",
    "\n",
    "### Function Input:\n",
    "#### directory name\n",
    "    direname = \n",
    "\n",
    "#### period length \n",
    "Time is in selected units, the model time length is the sum of this (for steady state flow it can be set to anything). The format for multi-period input: ```[60., 15*60]```\n",
    " \n",
    "    perlen_mf = \n",
    "    \n",
    "#### advection velocity\n",
    "Note that this is only an approximate advection flow rate in due to the way that the inlet boundary conditions are being assigned in the MODFLOW BAS6 - Basic Package. More rigorous constraint of constant flux boundaries require the Flow and Head Boundary Package, the Well Package, or the Recharge Package.\n",
    "\n",
    "    v = \n",
    "    \n",
    "#### dispersivity\n",
    "Set the longitudinal dispersivity in selected units. What are the units again?\n",
    "\n",
    "    al = \n",
    "    \n",
    "#### itype\n",
    "An integer indicating the type of solute source condition. ```itype = -1``` corresponds to a constant concentration boundary (first-type boundary conditions in our analytical solutions) and ```itype = 1``` is equivalent to third type boundary conditions in our analytical solution.  \n",
    "\n",
    "    itype = \n",
    "    "
   ]
  },
  {
   "cell_type": "code",
   "execution_count": 455,
   "metadata": {},
   "outputs": [],
   "source": [
    "def model_with_wells(dirname, perlen_mf, al, ibound, strt, icbund, sconc, spd_mf, spd_mt, nlay, nrow, ncol):\n",
    "#                      dirname, perlen_mf, al, ibound, strt, icbund, sconc, spd_mf, spd_mt, nlay, nrow, ncol\n",
    "    # Model workspace and new sub-directory\n",
    "    model_ws = os.path.join(workdir, dirname)\n",
    "    print(model_ws)\n",
    "    \n",
    "    # time units (itmuni in discretization package), unfortunately this entered differently into MODFLOW and MT3D\n",
    "    # 1 = seconds, 2 = minutes, 3 = hours, 4 = days, 5 = years\n",
    "    itmuni = 4 # MODFLOW\n",
    "    mt_tunit = 'D' # MT3D units\n",
    "    # length units (lenuniint in discretization package)\n",
    "    # 0 = undefined, 1 = feet, 2 = meters, 3 = centimeters\n",
    "    lenuni = 2 # MODFLOW units\n",
    "    mt_lunit = 'M' # MT3D units\n",
    "    \n",
    "    # number of stress periods (MF input), calculated from period length input\n",
    "    nper = len(perlen_mf)\n",
    "    \n",
    "    # Frequency of output, If nprs > 0 results will be saved at \n",
    "    #     the times as specified in timprs; \n",
    "    nprs = 100\n",
    "    # timprs (list of float): The total elapsed time at which the simulation \n",
    "    #     results are saved. The number of entries in timprs must equal nprs. (default is None).\n",
    "    timprs = np.linspace(0, np.sum(perlen_mf), nprs, endpoint=False)\n",
    "    \n",
    "    # hydraulic conductivity\n",
    "    hk = 1.\n",
    "    # porosity\n",
    "    prsity = 0.3\n",
    "    \n",
    "    # Grid cell size in selected units\n",
    "    delv = 1 # grid size for nlay\n",
    "    delc = 1 # grid size for nrow\n",
    "    delr = 1 # grid size for ncol\n",
    "\n",
    "    # Setup models\n",
    "    # MODFLOW model name\n",
    "    modelname_mf = dirname + '_mf'\n",
    "    # Assign name and create modflow model object\n",
    "    mf = flopy.modflow.Modflow(modelname=modelname_mf, model_ws=model_ws, exe_name=exe_name_mf)\n",
    "    # MODFLOW model discretization package class\n",
    "    dis = flopy.modflow.ModflowDis(mf, nlay=nlay, nrow=nrow, ncol=ncol, nper=nper,\n",
    "                                   delr=delr, delc=delc, top=0., botm=[0 - delv],\n",
    "                                   perlen=perlen_mf, itmuni=itmuni, lenuni=lenuni)\n",
    "    # MODFLOW basic package class\n",
    "    bas = flopy.modflow.ModflowBas(mf, ibound=ibound, strt=strt)\n",
    "    # MODFLOW layer properties flow package class\n",
    "    laytyp = 0\n",
    "    lpf = flopy.modflow.ModflowLpf(mf, hk=hk, laytyp=laytyp)\n",
    "    # MODFLOW well package class\n",
    "    wel = flopy.modflow.ModflowWel(mf, stress_period_data=spd_mf)\n",
    "    # MODFLOW preconditioned conjugate-gradient package class\n",
    "    pcg = flopy.modflow.ModflowPcg(mf)\n",
    "    # MODFLOW Link-MT3DMS Package Class (this is the package for solute transport)\n",
    "    lmt = flopy.modflow.ModflowLmt(mf)\n",
    "    \n",
    "    mf.write_input()\n",
    "    mf.run_model(silent=True) # Set this to false to produce output in command window\n",
    "    \n",
    "    # RUN MT3dms solute tranport \n",
    "    modelname_mt = dirname + '_mt'\n",
    "    # MT3DMS model object\n",
    "    # Input: modelname = 'string', namefile_ext = 'string' (Extension for the namefile (the default is 'nam'))\n",
    "    # modflowmodelflopy.modflow.mf.Modflow = This is a flopy Modflow model object upon which this Mt3dms model is based. (the default is None)\n",
    "    mt = flopy.mt3d.Mt3dms(modelname=modelname_mt, model_ws=model_ws, \n",
    "                           exe_name=exe_name_mt, modflowmodel=mf)  \n",
    "    \n",
    "    \n",
    "    # Basic transport package class\n",
    "    btn = flopy.mt3d.Mt3dBtn(mt, icbund=icbund, prsity=prsity, sconc=sconc, \n",
    "                             tunit=mt_tunit, lunit=mt_lunit, nprs=nprs, timprs=timprs)\n",
    "    \n",
    "    # Advection package class\n",
    "    # mixelm is an integer flag for the advection solution option, \n",
    "    # mixelm = 0 is the standard finite difference method with upstream or central in space weighting.\n",
    "    # mixelm = 1 is the forward tracking method of characteristics, this produces minimal numerical dispersion.\n",
    "    # mixelm = 2 is the backward tracking\n",
    "    # mixelm = 3 is the hybrid method (HMOC)\n",
    "    # mixelm = -1 is the third-ord TVD scheme (ULTIMATE)\n",
    "    mixelm = -1\n",
    "    # percel is the Courant number for numerical stability (≤ 1)\n",
    "    adv = flopy.mt3d.Mt3dAdv(mt, mixelm=mixelm, percel=0.5)\n",
    "    \n",
    "    # Dispersion package class\n",
    "    dsp = flopy.mt3d.Mt3dDsp(mt, al=al)\n",
    "    # source/sink package\n",
    "    ssm = flopy.mt3d.Mt3dSsm(mt, stress_period_data=spd_mt)\n",
    "    # matrix solver package, may want to add cclose=1e-6 to define the convergence criterion in terms of relative concentration\n",
    "    gcg = flopy.mt3d.Mt3dGcg(mt, cclose=1e-6)\n",
    "    # write mt3dms input\n",
    "    mt.write_input()\n",
    "    \n",
    "    # run mt3dms\n",
    "    mt.run_model(silent=True)\n",
    "\n",
    "    # Extract output\n",
    "    fname = os.path.join(model_ws, 'MT3D001.UCN')\n",
    "    ucnobj = flopy.utils.UcnFile(fname)\n",
    "    # Extract the output time information, convert from list to np array\n",
    "    times = np.array(ucnobj.get_times())\n",
    "    # Extract the 4D concentration values (t, z, y, x)\n",
    "    conc = ucnobj.get_alldata()\n",
    "    \n",
    "    return mf, mt, times, conc"
   ]
  },
  {
   "cell_type": "markdown",
   "metadata": {},
   "source": [
    "### Define stress periods\n",
    "While it is possible to define different stress period arrays for Modflow and MT3D, it is easier and likely less buggy to define them together."
   ]
  },
  {
   "cell_type": "code",
   "execution_count": 456,
   "metadata": {},
   "outputs": [],
   "source": [
    "# perlen (float or array of floats): An array of the stress period lengths.\n",
    "perlen_mf = [1, 18, 10]\n",
    "nper = len(perlen_mf)"
   ]
  },
  {
   "cell_type": "markdown",
   "metadata": {},
   "source": [
    "What are the stress period times here?"
   ]
  },
  {
   "cell_type": "markdown",
   "metadata": {},
   "source": [
    "### Define model geometry\n",
    "Double check the function units. What are they?\n",
    "\n",
    "Now define number of grid cells and the corresponding size of the grid cells."
   ]
  },
  {
   "cell_type": "code",
   "execution_count": 457,
   "metadata": {},
   "outputs": [],
   "source": [
    "# Number of grid cells\n",
    "nlay = 1\n",
    "nrow = 20\n",
    "ncol = 40\n"
   ]
  },
  {
   "cell_type": "markdown",
   "metadata": {},
   "source": [
    "### Define flow boundary conditions and intitial conditions"
   ]
  },
  {
   "cell_type": "code",
   "execution_count": 458,
   "metadata": {},
   "outputs": [],
   "source": [
    "# Flow field boundary conditions (variables for the BAS package)\n",
    "# boundary conditions, <0 = specified head, 0 = no flow, >0 variable head\n",
    "ibound = np.ones((nlay, nrow, ncol), dtype=int)\n",
    "# # index the cell all the way to the left\n",
    "# ibound[0, 0, 0] = -1 # set to specified head\n",
    "# index the cell all the way to the right\n",
    "ibound[0, :, -1] = -1"
   ]
  },
  {
   "cell_type": "markdown",
   "metadata": {},
   "source": [
    "Note how we index the second index of ibound with the colon (:) to indicate 'all cells'. Lets see what this looks like in the cell below and demonstrate our handy 2d plot function."
   ]
  },
  {
   "cell_type": "code",
   "execution_count": 459,
   "metadata": {},
   "outputs": [
    {
     "name": "stdout",
     "output_type": "stream",
     "text": [
      "(1, 20, 40)\n",
      "(20, 40)\n"
     ]
    },
    {
     "data": {
      "image/png": "[encoded data removed]",
      "text/plain": [
       "<Figure size 960x480 with 2 Axes>"
      ]
     },
     "metadata": {
      "needs_background": "light"
     },
     "output_type": "display_data"
    }
   ],
   "source": [
    "print(ibound.shape)\n",
    "print(ibound[0,:,:].shape)\n",
    "\n",
    "plot_2d(ibound[0,:,:], 1, 1, 'ibound values', 'magma')"
   ]
  },
  {
   "cell_type": "code",
   "execution_count": 460,
   "metadata": {},
   "outputs": [],
   "source": [
    "# Now flow initial conditions. All cells where ibound=1 will be solved in the flow model.\n",
    "# constant head conditions\n",
    "strt = np.zeros((nlay, nrow, ncol), dtype=float)\n",
    "# All cells where ibound=-1 should be assigned a value"
   ]
  },
  {
   "cell_type": "markdown",
   "metadata": {},
   "source": [
    "As currently defined, the cell all the way to the right has a fixed head of zero and all other heads are solved"
   ]
  },
  {
   "cell_type": "markdown",
   "metadata": {},
   "source": [
    "### Define flow wells"
   ]
  },
  {
   "cell_type": "code",
   "execution_count": 461,
   "metadata": {},
   "outputs": [],
   "source": [
    "# total flow \n",
    "q = [0.5, 0.5, -0.5] # 0.5 meter per day\n",
    "\n",
    "# Stress period well data for MODFLOW. Each well is defined through defintition\n",
    "# of layer (int), row (int), column (int), flux (float). The first number corresponds to the stress period\n",
    "# Example for 1 stress period: spd_mf = {0:[[0, 0, 1, q],[0, 5, 1, q]]}\n",
    "# define well info structure\n",
    "well_info = np.zeros((int(nrow), 4), dtype=float)\n",
    "# set indices of left face of model\n",
    "well_info[:,1] = range(0, nrow)\n",
    "# set volumetric flow rate\n",
    "well_info[:,3] = q[0]\n",
    "# use copy.deepcopy (imported as 'deepcopy') to copy well_info array into dictonary\n",
    "# note that if this deepcopy isn't made then when the flow rate it updated\n",
    "# in well_info it will update all values copied to dictionary!\n",
    "w = deepcopy(well_info)\n",
    "# Now insert well information into the MODFLOW stress period data dictionary\n",
    "spd_mf={0:w}\n",
    "\n",
    "well_info[:,3] = q[1]\n",
    "# use copy.deepcopy (imported as 'deepcopy') to copy well_info array into dictonary\n",
    "# note that if this deepcopy isn't made then when the flow rate it updated\n",
    "# in well_info it will update all values copied to dictionary!\n",
    "w = deepcopy(well_info)\n",
    "# Now insert well information into the MODFLOW stress period data dictionary\n",
    "spd_mf.update({1:w})\n",
    "\n",
    "well_info[:,3] = q[2]\n",
    "# use copy.deepcopy (imported as 'deepcopy') to copy well_info array into dictonary\n",
    "# note that if this deepcopy isn't made then when the flow rate it updated\n",
    "# in well_info it will update all values copied to dictionary!\n",
    "w = deepcopy(well_info)\n",
    "# Now insert well information into the MODFLOW stress period data dictionary\n",
    "spd_mf.update({2:w})\n",
    "\n",
    "# Here is how you might set up a for loop to progressively update q from discrete time series information\n",
    "# iterate through the stress periods to updated the flow rate\n",
    "# for i in range(1,nper):\n",
    "#     # print(q[i])\n",
    "#     if isinstance(q, (list, tuple, np.ndarray)):\n",
    "#         well_info[:,3] = q[i]/(nrow*nlay)\n",
    "#     else:\n",
    "#         well_info[:,3] = q/(nrow*nlay)\n",
    "\n",
    "#     w = deepcopy(well_info)\n",
    "#     # spd_mf = dict(spd_mf, {i: well_info)})\n",
    "#     spd_mf.update({i:w})  "
   ]
  },
  {
   "cell_type": "code",
   "execution_count": 462,
   "metadata": {},
   "outputs": [],
   "source": [
    "# print(spd_mf)"
   ]
  },
  {
   "cell_type": "markdown",
   "metadata": {},
   "source": [
    "### Define transport boundary conditions and intitial conditions"
   ]
  },
  {
   "cell_type": "code",
   "execution_count": 463,
   "metadata": {},
   "outputs": [],
   "source": [
    "# Boundary conditions: if icbund = 0, the cell is an inactive concentration cell; \n",
    "# If icbund < 0, the cell is a constant-concentration cell; \n",
    "# If icbund > 0, the cell is an active concentration cell where the concentration value will be calculated.\n",
    "icbund = np.ones((nlay, nrow, ncol), dtype=int)\n",
    "\n",
    "# Initial conditions: initial concentration zero everywhere\n",
    "sconc = np.zeros((nlay, nrow, ncol), dtype=float)"
   ]
  },
  {
   "cell_type": "markdown",
   "metadata": {},
   "source": [
    "### Define solute conditions at wells for different stress periods"
   ]
  },
  {
   "cell_type": "code",
   "execution_count": 464,
   "metadata": {},
   "outputs": [],
   "source": [
    "# Solute transport boundary conditions\n",
    "# Concentration at well during first stress period\n",
    "c = [1, 0, 0]\n",
    "\n",
    "# MT3D stress period data, note that the indices between 'spd_mt' must exist in 'spd_mf' \n",
    "# This is used as input for the source and sink mixing package\n",
    "# Itype is an integer indicating the type of point source, 2=well, 3=drain, -1=constant concentration\n",
    "itype = -1\n",
    "cwell_info = np.zeros((int(nrow), 5), dtype=float)\n",
    "cwell_info[:,1] = range(0, nrow)\n",
    "cwell_info[:,3] = c[0]\n",
    "# assign itype\n",
    "cwell_info[:,4] = itype\n",
    "spd_mt = {0:cwell_info}\n",
    "\n",
    "# Second stress period        \n",
    "cwell_info2 = deepcopy(cwell_info)\n",
    "cwell_info2[:,3] = c[1] \n",
    "# Now apply stress period info    \n",
    "spd_mt.update({1:cwell_info2})\n",
    "\n",
    "# Third stress period        \n",
    "cwell_info2 = deepcopy(cwell_info)\n",
    "cwell_info2[:,3] = c[2] \n",
    "# Now apply stress period info \n",
    "spd_mt.update({2:cwell_info2})"
   ]
  },
  {
   "cell_type": "markdown",
   "metadata": {},
   "source": [
    "Note that if you have more model stress periods than you have defined in the wells then it carries those conditions forward in remaining stress periods"
   ]
  },
  {
   "cell_type": "code",
   "execution_count": 465,
   "metadata": {},
   "outputs": [],
   "source": [
    "# print(spd_mt)"
   ]
  },
  {
   "cell_type": "markdown",
   "metadata": {},
   "source": [
    "What we have defined is a model that has three stress periods different conditions. This is plotted in the next cell."
   ]
  },
  {
   "cell_type": "code",
   "execution_count": 466,
   "metadata": {},
   "outputs": [
    {
     "data": {
      "text/plain": [
       "<matplotlib.legend.Legend at 0x17221669c40>"
      ]
     },
     "execution_count": 466,
     "metadata": {},
     "output_type": "execute_result"
    },
    {
     "data": {
      "image/png": "[encoded data removed]",
      "text/plain": [
       "<Figure size 432x288 with 1 Axes>"
      ]
     },
     "metadata": {
      "needs_background": "light"
     },
     "output_type": "display_data"
    }
   ],
   "source": [
    "plt.plot([0, perlen_mf[0]], [q[0], q[0]], color='r', label= 'Flow rate [m/day]')\n",
    "plt.plot([perlen_mf[0], perlen_mf[1]], [q[1], q[1]], color='r')\n",
    "plt.plot([perlen_mf[1], perlen_mf[2]], [q[2], q[2]], color='r')\n",
    "\n",
    "plt.plot([0, perlen_mf[0]], [c[0], c[0]], color='b', label= 'Concentration')\n",
    "plt.plot([perlen_mf[0], perlen_mf[1]], [c[1], c[1]], color='b')\n",
    "plt.plot([perlen_mf[1], perlen_mf[2]], [c[2], c[2]], color='b')\n",
    "\n",
    "plt.plot([perlen_mf[0], perlen_mf[0]], [-1, 1], '--k', label= 'Stress period boundary')\n",
    "plt.plot([perlen_mf[1], perlen_mf[1]], [-1, 1], '--k', )\n",
    "plt.plot([perlen_mf[2], perlen_mf[2]], [-1, 1], '--k', )\n",
    "\n",
    "plt.xlabel('Time [days]')\n",
    "plt.ylabel('Concentration / Flow rate')\n",
    "plt.legend()"
   ]
  },
  {
   "cell_type": "markdown",
   "metadata": {},
   "source": [
    "#### How does the concentration change in each stress period? How is the flow magnitude and direction going to change?"
   ]
  },
  {
   "cell_type": "code",
   "execution_count": 467,
   "metadata": {
    "scrolled": true
   },
   "outputs": [
    {
     "name": "stdout",
     "output_type": "stream",
     "text": [
      ".\\well_demo\\run1\n"
     ]
    }
   ],
   "source": [
    "dirname = 'run1'\n",
    "al = 0.1 # m\n",
    "\n",
    "# Call the FloPy model function with this well information\n",
    "mf, mt, times, conc = model_with_wells(dirname, perlen_mf, al, ibound, strt, icbund, sconc, spd_mf, spd_mt, nlay, nrow, ncol)"
   ]
  },
  {
   "cell_type": "markdown",
   "metadata": {},
   "source": [
    "Now let's plot the 2D model output as a function of time"
   ]
  },
  {
   "cell_type": "code",
   "execution_count": 480,
   "metadata": {},
   "outputs": [
    {
     "name": "stdout",
     "output_type": "stream",
     "text": [
      "(103, 1, 20, 40)\n"
     ]
    }
   ],
   "source": [
    "# To understand output size it may be useful to print the shape\n",
    "print(conc.shape)"
   ]
  },
  {
   "cell_type": "code",
   "execution_count": 469,
   "metadata": {},
   "outputs": [
    {
     "data": {
      "image/png": "[encoded data removed]",
      "text/plain": [
       "<Figure size 960x480 with 2 Axes>"
      ]
     },
     "metadata": {
      "needs_background": "light"
     },
     "output_type": "display_data"
    }
   ],
   "source": [
    "# early time\n",
    "plot_2d(conc[1,0,:,:], 1, 1, 'C', 'Reds')"
   ]
  },
  {
   "cell_type": "code",
   "execution_count": 475,
   "metadata": {},
   "outputs": [
    {
     "data": {
      "image/png": "[encoded data removed]",
      "text/plain": [
       "<Figure size 960x480 with 2 Axes>"
      ]
     },
     "metadata": {
      "needs_background": "light"
     },
     "output_type": "display_data"
    }
   ],
   "source": [
    "# around the switch in flow (stress period 1 - 2 boundary)\n",
    "plot_2d(conc[58,0,:,:], 1, 1, 'C', 'Reds')"
   ]
  },
  {
   "cell_type": "code",
   "execution_count": 471,
   "metadata": {},
   "outputs": [
    {
     "data": {
      "image/png": "[encoded data removed]",
      "text/plain": [
       "<Figure size 960x480 with 2 Axes>"
      ]
     },
     "metadata": {
      "needs_background": "light"
     },
     "output_type": "display_data"
    }
   ],
   "source": [
    "# last time step\n",
    "plot_2d(conc[-1,0,:,:], 1, 1, 'C', 'Reds')"
   ]
  },
  {
   "cell_type": "markdown",
   "metadata": {},
   "source": [
    "Alternatively we can plot the mean profiles parallel to the direction of flow"
   ]
  },
  {
   "cell_type": "code",
   "execution_count": 484,
   "metadata": {},
   "outputs": [
    {
     "name": "stderr",
     "output_type": "stream",
     "text": [
      "C:\\Users\\zahas\\anaconda3\\lib\\site-packages\\flopy\\modflow\\mfdis.py:298: DeprecationWarning: SpatialReference has been deprecated. Use Grid instead.\n",
      "  warnings.warn(\n"
     ]
    },
    {
     "data": {
      "text/plain": [
       "<matplotlib.legend.Legend at 0x17222d925e0>"
      ]
     },
     "execution_count": 484,
     "metadata": {},
     "output_type": "execute_result"
    },
    {
     "data": {
      "image/png": "[encoded data removed]",
      "text/plain": [
       "<Figure size 432x288 with 1 Axes>"
      ]
     },
     "metadata": {
      "needs_background": "light"
     },
     "output_type": "display_data"
    }
   ],
   "source": [
    "# Extract the model grid cell center location (in selected units, cm in this case)\n",
    "x = mf.dis.sr.xcenter\n",
    "plt.plot(x, np.mean(conc[1, 0, :, :], axis=0), label='ts = 1')\n",
    "plt.plot(x, np.mean(conc[58, 0, :, :], axis=0), label='ts = 58')\n",
    "plt.plot(x, np.mean(conc[-1, 0, :, :], axis=0), label='end of sim')\n",
    "plt.xlabel('X [m]');\n",
    "plt.legend()"
   ]
  },
  {
   "cell_type": "code",
   "execution_count": null,
   "metadata": {},
   "outputs": [],
   "source": []
  }
 ],
 "metadata": {
  "kernelspec": {
   "display_name": "Python 3 (ipykernel)",
   "language": "python",
   "name": "python3"
  },
  "language_info": {
   "codemirror_mode": {
    "name": "ipython",
    "version": 3
   },
   "file_extension": ".py",
   "mimetype": "text/x-python",
   "name": "python",
   "nbconvert_exporter": "python",
   "pygments_lexer": "ipython3",
   "version": "3.9.7"
  }
 },
 "nbformat": 4,
 "nbformat_minor": 4
}
