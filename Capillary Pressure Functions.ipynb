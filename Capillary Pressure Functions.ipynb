{
 "cells": [
  {
   "cell_type": "markdown",
   "metadata": {},
   "source": [
    "## Introduction"
   ]
  },
  {
   "cell_type": "markdown",
   "metadata": {},
   "source": [
    "In this activity we will use Python to plot a common type of function used to describe capillary pressure. The curve was first described in [1980 by Martinus Th. van Genuchten](https://acsess.onlinelibrary.wiley.com/doi/abs/10.2136/sssaj1980.03615995004400050002x) (see Canvas for a copy of the PDF).\n",
    "\n",
    "Let's begin by importing the packages we need."
   ]
  },
  {
   "cell_type": "code",
   "execution_count": null,
   "metadata": {},
   "outputs": [],
   "source": [
    "import numpy as np\n",
    "import os\n",
    "import matplotlib.pyplot as plt"
   ]
  },
  {
   "cell_type": "markdown",
   "metadata": {},
   "source": [
    "## van Genuchten function"
   ]
  },
  {
   "cell_type": "markdown",
   "metadata": {},
   "source": [
    "Depending on the field (i.e. soil science, hydrogeology, petroleum engineering) you will see the van Genuchten function rearranged a few different ways."
   ]
  },
  {
   "cell_type": "code",
   "execution_count": null,
   "metadata": {},
   "outputs": [],
   "source": [
    "# Define residual water saturation (the residual water after drainage)\n",
    "Swr = 0.1\n",
    "# Define the residual gas saturation (defined as the water saturation after imbibition)\n",
    "Snwr = 0\n",
    "# define variable 'Sw' to describe water saturation\n",
    "Sw = np.linspace((Swr + 0.001), (1 - Snwr - 0.001), num=100)\n",
    "# capillary entry pressure in selected units\n",
    "Pc_entry = 2 # kPa\n",
    "m = 2\n",
    "n = 3"
   ]
  },
  {
   "cell_type": "markdown",
   "metadata": {},
   "source": [
    "Here I've programmed this into a convient function with the different equation parameters required as function input."
   ]
  },
  {
   "cell_type": "code",
   "execution_count": null,
   "metadata": {},
   "outputs": [],
   "source": [
    "# Van Genuchten function\n",
    "def van_g_pc(Sw, Swr, Snwr, Pc_entry, m, n):\n",
    "    # Now calculate the effective saturation (think of this as normalized saturation (ranges from 0-1))\n",
    "    Se = (Sw - Swr)/((1 - Snwr) - Swr)\n",
    "    Pc = Pc_entry*(Se**(-1/m)-1)**(1/n)\n",
    "    return Pc"
   ]
  },
  {
   "cell_type": "code",
   "execution_count": null,
   "metadata": {},
   "outputs": [],
   "source": [
    "Pc_vg = van_g_pc(Sw, Swr, Snwr, Pc_entry, m, n)\n",
    "\n",
    "plt.plot(Sw_vg, Pc_vg)\n",
    "plt.xlabel('Water Saturation', fontsize=18)\n",
    "plt.ylabel('Capillary Pressure (kPa)', fontsize=18)"
   ]
  },
  {
   "cell_type": "markdown",
   "metadata": {},
   "source": [
    "## Brooks-Corey function\n",
    "\n",
    "Another common function is known as the Brooks-Corey function/model. It has been programmed in the following function:"
   ]
  },
  {
   "cell_type": "code",
   "execution_count": null,
   "metadata": {},
   "outputs": [],
   "source": [
    "# Brooks-Corey function\n",
    "def brooks_corey_pc(Sw, Swr, Snwr, Pc_entry, m):\n",
    "    # Now calculate the effective saturation (think of this as normalized saturation (ranges from 0-1))\n",
    "    Se = (Sw - Swr)/((1 - Snwr) - Swr)\n",
    "    Pc = Pc_entry*(Se**(-1/m))\n",
    "    return Pc"
   ]
  },
  {
   "cell_type": "code",
   "execution_count": null,
   "metadata": {},
   "outputs": [],
   "source": [
    "m_bc = 3\n",
    "Pc_entry_bc = 0.9\n",
    "Pc_bc = brooks_corey_pc(Sw, Swr, Snwr, Pc_entry_bc, m_bc)\n",
    "\n",
    "plt.plot(Sw, Pc_vg)\n",
    "plt.plot(Sw, Pc_bc)\n",
    "plt.xlabel('Water Saturation')\n",
    "plt.ylabel('Capillary Pressure (kPa)')"
   ]
  },
  {
   "cell_type": "markdown",
   "metadata": {},
   "source": [
    "Add a legend to this plot. Adjust ```m_bc``` and ```Pc_entry``` so that the curves are as similiar as possible. What is the biggest difference between these two different functional forms?"
   ]
  },
  {
   "cell_type": "markdown",
   "metadata": {},
   "source": [
    "## Activity: Plot another capillary pressure function\n",
    "Using Appendix B (page 147-158) of the [TOUGH3 user manual](https://tough.lbl.gov/assets//files/Tough3/TOUGH3_Users_Guide_v2.pdf) or section 2.3.1 (page 22-26) of the [Hydrus user manual](https://www.pc-progress.com/Downloads/Pgm_hydrus1D/HYDRUS1D-4.17.pdf), select another capillary pressure model and program it into a function. Once you have it programmed, find the parameters that give you the closest fit to the original van Genuchten model."
   ]
  },
  {
   "cell_type": "code",
   "execution_count": null,
   "metadata": {},
   "outputs": [],
   "source": [
    "# New capillary pressure function\n",
    "def new_pc(Sw, Swr, Snwr, Pc_entry):\n",
    "    # define variable 'Sw' to describe water saturation\n",
    "    Pc = 1\n",
    "    return Pc"
   ]
  },
  {
   "cell_type": "code",
   "execution_count": null,
   "metadata": {},
   "outputs": [],
   "source": [
    "# Plot stuff"
   ]
  },
  {
   "cell_type": "markdown",
   "metadata": {},
   "source": [
    "## Activity: Fitting the equations to real data\n",
    "Using one of the capillary pressure forms programmed above, fit the function to the measured data in the file 'berea_mercury_capillary_pressure.txt'. This data was measured with an aparatus that uses air and mercury as the working fluids so it must first be scaled to the air-water fluid pair. The first column is the water saturation (does not need to be scaled), the second column is the capillary pressure in PSI."
   ]
  },
  {
   "cell_type": "code",
   "execution_count": null,
   "metadata": {},
   "outputs": [],
   "source": [
    "# Import capillary pressure data\n",
    "datafile_name = 'berea_mercury_capillary_pressure.txt'\n",
    "# if the data is not in your current directly then add the path information\n",
    "path_to_datafolder = 'data_for_models' # MACS need to change this\n",
    "# This should return a path to your current working directory\n",
    "current_directory = os.getcwd()\n",
    "data_file_with_path = os.path.join(current_directory, path_to_datafolder, datafile_name)\n",
    "print(data_file_with_path)\n",
    "pc_data = np.loadtxt(data_file_with_path, delimiter='\\t')\n",
    "# pc_data =np.genfromtxt(data_file_with_path, delimiter=',')\n",
    "print(pc_data)"
   ]
  },
  {
   "cell_type": "markdown",
   "metadata": {},
   "source": [
    "First we need to scale the data from air-mercury fluids to air-water. Recall from the course notes that the equation to scale capillary pressure is $Pc_{scaled} = Pc_{measured} \\frac{\\sigma_{scaled} \\text{cos}\\theta_{scaled}}{\\sigma_{measured} \\text{cos}\\theta_{measured}}$. Assume the contact angle of air-water is 10 degrees ($\\theta_{scaled}$), the contact angle of air-mercury is 140 degrees ($\\theta_{measured}$). The interfacial tension of air-water is 72 mN/m ($\\sigma_{scaled}$), the interfacial tension of air-mercury is 485 mN/m ($\\sigma_{measured}$)."
   ]
  },
  {
   "cell_type": "code",
   "execution_count": null,
   "metadata": {},
   "outputs": [],
   "source": [
    "# scale data\n",
    "# Pc_scaled = pc_data[:,1]*...\n",
    "# hint\n",
    "print((485*np.cos(140*2*3.1415/360)))\n",
    "\n",
    "# convert from psi to kPa\n",
    "Pc_scaled_kpa = Pc_scaled*6.89476"
   ]
  },
  {
   "cell_type": "markdown",
   "metadata": {},
   "source": [
    "Now plot the scaled data as a function of water saturation."
   ]
  },
  {
   "cell_type": "code",
   "execution_count": null,
   "metadata": {},
   "outputs": [],
   "source": [
    "# plt.plot(pc_data[:,0], Pc_scaled_kpa, 'o')"
   ]
  },
  {
   "cell_type": "markdown",
   "metadata": {},
   "source": [
    "Finally fit your function to the scaled data as a function of water saturation. To do this robustly you may want to impliment a something like a [least squares minimization](https://en.wikipedia.org/wiki/Least_squares#:~:text=The%20method%20of%20least%20squares,results%20of%20every%20single%20equation)."
   ]
  },
  {
   "cell_type": "code",
   "execution_count": null,
   "metadata": {},
   "outputs": [],
   "source": []
  }
 ],
 "metadata": {
  "kernelspec": {
   "display_name": "Python 3",
   "language": "python",
   "name": "python3"
  },
  "language_info": {
   "codemirror_mode": {
    "name": "ipython",
    "version": 3
   },
   "file_extension": ".py",
   "mimetype": "text/x-python",
   "name": "python",
   "nbconvert_exporter": "python",
   "pygments_lexer": "ipython3",
   "version": "3.7.6"
  }
 },
 "nbformat": 4,
 "nbformat_minor": 4
}
