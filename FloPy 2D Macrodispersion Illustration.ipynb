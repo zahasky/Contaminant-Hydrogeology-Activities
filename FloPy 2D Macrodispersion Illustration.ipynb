{
 "cells": [
  {
   "cell_type": "markdown",
   "metadata": {},
   "source": [
    "## Introduction\n",
    "In this notebook we will introduce 2D numerical models with heterogeneous conductivity fields. This will allow us to illustrate the difference between mechanical dispersion at the scale of an REV and the macrodispersion that results from heterogeneity. If you haven't installed or worked through a FloPy model, go back to the [FloPy Introduction notebook](https://github.com/zahasky/Contaminant-Hydrogeology-Activities/blob/master/FloPy%20Introduction.ipynb).\n",
    "\n",
    "Begin by importing the standard libraries"
   ]
  },
  {
   "cell_type": "code",
   "execution_count": null,
   "metadata": {},
   "outputs": [],
   "source": [
    "# Import the flopy library\n",
    "import flopy\n",
    "# Import a few additional libraries\n",
    "import sys\n",
    "import os\n",
    "import time\n",
    "# In addition to our typical libraries\n",
    "import numpy as np\n",
    "import matplotlib.pyplot as plt"
   ]
  },
  {
   "cell_type": "markdown",
   "metadata": {},
   "source": [
    "First find where you have your MODFLOW and MT3D executables located on your system."
   ]
  },
  {
   "cell_type": "code",
   "execution_count": null,
   "metadata": {},
   "outputs": [],
   "source": [
    "# Path to MODFLOW executable, probably called 'mf2005'\n",
    "exe_name_mf = 'C:\\\\Hydro\\\\MF2005.1_12\\\\MF2005.1_12\\\\bin\\\\mf2005'\n",
    "# Print to make sure it is formated correctly\n",
    "print(exe_name_mf)\n",
    "# Path to MT3D executable, probably called 'mt3dms'\n",
    "exe_name_mt = 'C:\\\\Hydro\\\\mt3dusgs1.1.0\\\\mt3dusgs1.1.0\\\\bin\\\\mt3d-usgs_1.1.0_64'\n",
    "# Print to make sure it is formated correctly\n",
    "print(exe_name_mt)"
   ]
  },
  {
   "cell_type": "markdown",
   "metadata": {},
   "source": [
    "Check these paths. Do they look correct for your system? If not this will lead to errors later.\n",
    "\n",
    "Now lets name the folder(s) where we want will save our model.  "
   ]
  },
  {
   "cell_type": "code",
   "execution_count": null,
   "metadata": {},
   "outputs": [],
   "source": [
    "# This should return a path to your current working directory\n",
    "current_directory = os.getcwd()\n",
    "print(current_directory)"
   ]
  },
  {
   "cell_type": "code",
   "execution_count": null,
   "metadata": {},
   "outputs": [],
   "source": [
    "# if this is not where you want to save stuff then change your directory using 'os.chdir()'\n",
    "os.chdir('C:\\\\Users\\\\zahas\\\\Dropbox\\\\Teaching\\\\Contaminant hydro 629\\\\Modeling_excercises')\n",
    "current_directory = os.getcwd()\n",
    "print(current_directory)"
   ]
  },
  {
   "cell_type": "code",
   "execution_count": null,
   "metadata": {},
   "outputs": [],
   "source": [
    "# now lets give a name to the directory to save data, this directory should be present in your \n",
    "# current working directory (but if it's not don't worry!)\n",
    "directory_name = 'macrodispersion_illustration'\n",
    "# Let's add that to the path of the current directory\n",
    "workdir = os.path.join('.', directory_name)\n",
    "\n",
    "# if the path exists then we will move on, if not then create a folder with the 'directory_name'\n",
    "if os.path.isdir(workdir) is False:\n",
    "    os.mkdir(workdir) \n",
    "print(\"Directory '% s' created\" % workdir) \n",
    "# directory to save data\n",
    "datadir = os.path.join('..', directory_name, 'mt3d_test', 'mt3dms')"
   ]
  },
  {
   "cell_type": "markdown",
   "metadata": {},
   "source": [
    "Notice however that we don't yet name the folder where we will save data 'dirname'. This will be an input to our model function."
   ]
  },
  {
   "cell_type": "markdown",
   "metadata": {},
   "source": [
    "## 2D Heterogeneous Conductivity Field\n",
    "In this notebook we want to model solute transport on a heterogeneous conductivity field. Make sure you have downloaded the text file 'anisotropic_perm_field_sig100.csv' and 'anisotropic_perm_field_sig100000.csv'. "
   ]
  },
  {
   "cell_type": "code",
   "execution_count": null,
   "metadata": {},
   "outputs": [],
   "source": [
    "# Import permeability map example\n",
    "datafile_name = 'anisotropic_perm_field_sig100.csv'\n",
    "# if the data is not in your current directly then add the path information\n",
    "path_to_datafile = 'Contaminant-Hydrogeology-Activities\\\\data_for_models'\n",
    "data_file_with_path = os.path.join(current_directory, path_to_datafile, datafile_name)\n",
    "print(data_file_with_path)\n",
    "kdata_m2 = np.loadtxt(data_file_with_path, delimiter=',')\n",
    "\n",
    "# otherwise simply load the data (uncomment line below)\n",
    "# kdata_m2 = np.loadtxt(datafile_name, delimiter=',')\n",
    "\n",
    "# The last two values in this text file give the field dimensions\n",
    "nrow = int(kdata_m2[-2]) # number of rows / grid cells\n",
    "ncol = int(kdata_m2[-1]) # number of columns (parallel to axis of core)\n",
    "# Print these row and column values\n",
    "print(nrow)\n",
    "print(ncol)\n",
    "\n",
    "# Crop off these values and reshape column vector to matrix\n",
    "kdata_m2 = kdata_m2[0:-2]\n",
    "rawk_m2 = kdata_m2.reshape(1, nrow, ncol)\n",
    "\n",
    "# Convert permeabiltiy (in m^2) to hydraulic conductivity in cm/sec\n",
    "hk_weak = rawk_m2*(1000*9.81*100/8.9E-4)"
   ]
  },
  {
   "cell_type": "markdown",
   "metadata": {},
   "source": [
    "To get a sense of the average hydraulic conductivity let's calculate the geometric mean of this hydraulic conductivity field."
   ]
  },
  {
   "cell_type": "code",
   "execution_count": null,
   "metadata": {},
   "outputs": [],
   "source": [
    "# geometric mean\n",
    "geo_mean_weak = np.exp(np.sum(np.log(hk_weak))/hk_weak.size)\n",
    "\n",
    "print(geo_mean_weak)"
   ]
  },
  {
   "cell_type": "markdown",
   "metadata": {},
   "source": [
    "What units are we using here for hydraulic conductivity (read comments in boxes above)?\n",
    "\n",
    "Now let's import our second more heterogeneous permeability field."
   ]
  },
  {
   "cell_type": "code",
   "execution_count": null,
   "metadata": {},
   "outputs": [],
   "source": [
    "# Import permeability map example\n",
    "datafile_name = 'anisotropic_perm_field_sig100000.csv'\n",
    "data_file_with_path = os.path.join(current_directory, path_to_datafile, datafile_name)\n",
    "print(data_file_with_path)\n",
    "kdata_m2 = np.loadtxt(data_file_with_path, delimiter=',')\n",
    "\n",
    "# otherwise simply load the data (uncomment line below)\n",
    "# kdata_m2 = np.loadtxt(datafile_name, delimiter=',')\n",
    "\n",
    "# The last two values in this text file give the field dimensions\n",
    "nrow = int(kdata_m2[-2]) # number of rows / grid cells\n",
    "ncol = int(kdata_m2[-1]) # number of columns (parallel to axis of core)\n",
    "# Print these row and column values\n",
    "print(nrow)\n",
    "print(ncol)\n",
    "\n",
    "# Crop off these values and reshape column vector to matrix\n",
    "kdata_m2 = kdata_m2[0:-2]\n",
    "rawk_m2 = kdata_m2.reshape(1, nrow, ncol)\n",
    "\n",
    "# Convert permeabiltiy (in m^2) to hydraulic conductivity in cm/sec\n",
    "hk_strong = rawk_m2*(1000*9.81*100/8.9E-4)"
   ]
  },
  {
   "cell_type": "markdown",
   "metadata": {},
   "source": [
    "Do our two fields have the same dimensions? What are the dimensions?\n",
    "\n",
    "Let's again calculate the geometric mean hydraulic conductivity. How do the two fields compare?"
   ]
  },
  {
   "cell_type": "code",
   "execution_count": null,
   "metadata": {},
   "outputs": [],
   "source": [
    "# geometric mean\n",
    "geo_mean_strong = np.exp(np.sum(np.log(hk_weak))/hk_weak.size)\n",
    "\n",
    "print(geo_mean_strong)"
   ]
  },
  {
   "cell_type": "markdown",
   "metadata": {},
   "source": [
    "Plot the conductivity filed to make sure it looks reasonable."
   ]
  },
  {
   "cell_type": "code",
   "execution_count": null,
   "metadata": {},
   "outputs": [],
   "source": [
    "# Grid size (cm)\n",
    "grid_size = [0.25, 0.25]\n",
    "Lx = (ncol - 1) * grid_size[1]   # length of model in selected units \n",
    "Ly = (nrow - 1) * grid_size[0]   # length of model in selected units \n",
    "y, x = np.mgrid[slice(0, Ly + grid_size[0], grid_size[0]),\n",
    "                slice(0, Lx + grid_size[1], grid_size[1])]\n",
    "\n",
    "# Plot weak anistropy field\n",
    "fig1 = plt.figure(figsize=(10, 10))\n",
    "ax0 = fig1.add_subplot(2, 1, 1, aspect='equal')\n",
    "imp = plt.pcolor(x, y, hk_weak[0,:,:]*60, cmap='gray', edgecolors='k', linewidths=0.2)\n",
    "cbar = plt.colorbar()\n",
    "cbar.set_label('[cm/min]')\n",
    "plt.xlabel('Distance from inlet [cm]')\n",
    "plt.title('Hydraulic conductivity')\n",
    "\n",
    "# Plot strong anistropy field\n",
    "ax1 = fig1.add_subplot(2, 1, 2, aspect='equal')\n",
    "imp = plt.pcolor(x, y, hk_strong[0,:,:]*60, cmap='gray', edgecolors='k', linewidths=0.2)\n",
    "cbar = plt.colorbar()\n",
    "cbar.set_label('[cm/min]')\n",
    "plt.xlabel('Distance from inlet [cm]')\n",
    "plt.title('Hydraulic conductivity')"
   ]
  },
  {
   "cell_type": "markdown",
   "metadata": {},
   "source": [
    "#### How are these conductivity fields similiar and how are they different? Make sure to note the different colorbar ranges."
   ]
  },
  {
   "cell_type": "markdown",
   "metadata": {},
   "source": [
    "## 2D Model Function with Heterogeneous Conductivity Field\n",
    "The first thing we do is setup the function. We will use nearly identical settings as the [FloPy 1D Function](https://github.com/zahasky/Contaminant-Hydrogeology-Activities/blob/master/FloPy%201D%20Function.ipynb), but we are changing up a few of the input variables. The input variables are:\n",
    "\n",
    "### Function Input:\n",
    "#### directory name\n",
    "    direname = \n",
    "\n",
    "#### MT3D period length \n",
    "Time is in selected units, the model time length is the sum of this (for steady state flow it can be set to anything). Note that this is different from the MODFLOW flow model period input. Therefore the underlying flow conditions are constant and steady state across changes in MT3D stress periods. The format for multi-period input: ```[time_of_pulse_injection, time_of_rest_of_model]```\n",
    "\n",
    "The function is set up to only allow for two input periods. For example:\n",
    " \n",
    "    perlen_mt = [60, 60*58]\n",
    "    \n",
    "#### hydraulic conductivity\n",
    "The hydraulic conductivity needs to be in the selected units (cm/s in this model) and can be either a scalar (homogeneous model) or matrix with the dimensions of the model (or vector if the model is 1D).\n",
    "```python\n",
    "hk = hk_value*np.ones([1, hk_size[1], hk_size[2]])\n",
    "```\n",
    "\n",
    "    hk = \n",
    "    \n",
    "#### advection velocity\n",
    "Note that this is only an approximate advection flow rate in due to the way that the inlet boundary conditions are being assigned in the MODFLOW BAS6 - Basic Package. More rigorous constraint of constant flux boundaries require the Flow and Head Boundary Package, the Well Package, or the Recharge Package.\n",
    "\n",
    "    v = \n",
    "    \n",
    "#### dispersivity\n",
    "Set the longitudinal dispersivity in selected units. What are the units again?\n",
    "\n",
    "    al = \n",
    "    \n",
    "#### itype\n",
    "An integer indicating the type of solute source condition. itype = -1 corresponds to a constant concentration boundary (first-type boundary conditions in our analytical solutions) and itype = 1 is equivalent to third type boundary conditions in our analytical solution.  \n",
    "\n",
    "    itype = \n",
    "    "
   ]
  },
  {
   "cell_type": "code",
   "execution_count": null,
   "metadata": {},
   "outputs": [],
   "source": [
    "def model_2D(dirname, perlen_mt, hk, v, al, itype):\n",
    "    # Model workspace and new sub-directory\n",
    "    model_ws = os.path.join(workdir, dirname)\n",
    "    print(model_ws)\n",
    "    \n",
    "    # time units (itmuni in discretization package), unfortunately this entered differently into MODFLOW and MT3D\n",
    "    # 1 = seconds, 2 = minutes, 3 = hours, 4 = days, 5 = years\n",
    "    itmuni = 1 # MODFLOW\n",
    "    mt_tunit = 'S' # MT3D units\n",
    "    # length units (lenuniint in discretization package)\n",
    "    # 0 = undefined, 1 = feet, 2 = meters, 3 = centimeters\n",
    "    lenuni = 3 # MODFLOW units\n",
    "    mt_lunit = 'CM' # MT3D units\n",
    "    \n",
    "    # Modflow stress periods\n",
    "    perlen_mf = [np.sum(perlen_mt)]\n",
    "    # number of stress periods (MF input), calculated from period length input\n",
    "    nper_mf = len(perlen_mf)\n",
    "    \n",
    "    # number of stress periods (MT input), calculated from period length input\n",
    "    nper = len(perlen_mt)\n",
    "    \n",
    "    # Frequency of output, If nprs > 0 results will be saved at \n",
    "    #     the times as specified in timprs; \n",
    "    nprs = 100\n",
    "    # timprs (list of float): The total elapsed time at which the simulation \n",
    "    #     results are saved. The number of entries in timprs must equal nprs. (default is None).\n",
    "    timprs = np.linspace(0, np.sum(perlen_mf), nprs, endpoint=False)\n",
    "    \n",
    "    # Model information \n",
    "    hk_size = hk.shape\n",
    "    nlay = hk_size[0] # number of layers\n",
    "    nrow = hk_size[1] # number of rows\n",
    "    ncol = hk_size[2] # number of columns\n",
    "    delr = 0.25 # grid size in direction of Lx\n",
    "    delc = 1.0 # grid size in direction of Ly, \n",
    "    delv = 0.25 # grid size in direction of Lz\n",
    "    laytyp = 0\n",
    "    \n",
    "    # length of model in selected units \n",
    "    Lx = (ncol - 1) * delr\n",
    "    print(\"Model length is: \" + str(Lx + delr) + \" (check units of 'lenuni')\")\n",
    "    \n",
    "    # hydraulic conductivity\n",
    "    geo_mean_k = np.exp(np.sum(np.log(hk))/hk.size)\n",
    "    # porosity\n",
    "    prsity = 0.3\n",
    "    # discharge (again in selected units)\n",
    "    q = v * prsity\n",
    "    \n",
    "    # Flow field boundary conditions\n",
    "    # boundary conditions, <0 = specified head, 0 = no flow, >0 variable head\n",
    "    ibound = np.ones((nlay, nrow, ncol), dtype=np.int)\n",
    "    # index the inlet cell\n",
    "    ibound[0, :, 0] = -1\n",
    "    # index the outlet cell\n",
    "    ibound[0, :, -1] = -1\n",
    "    # constant head conditions\n",
    "    strt = np.zeros((nlay, nrow, ncol), dtype=np.float)\n",
    "    h1 = q * Lx/geo_mean_k\n",
    "    # index the inlet cell\n",
    "    strt[0, :, 0] = h1\n",
    "    print(\"Inlet head value: \" + str(h1) + \" (check units of 'lenuni')\")\n",
    "    \n",
    "    # Solute transport boundary conditions\n",
    "    # Concentration at inlet boundary\n",
    "    C_in = [1.0, 0.0]\n",
    "\n",
    "    # Boundary conditions: if icbund = 0, the cell is an inactive concentration cell; \n",
    "    # If icbund < 0, the cell is a constant-concentration cell; \n",
    "    # If icbund > 0, the cell is an active concentration cell where the concentration value will be calculated.\n",
    "    icbund = np.ones((nlay, nrow, ncol), dtype=np.int)\n",
    "\n",
    "    # Initial conditions: concentration zero everywhere\n",
    "    sconc = np.zeros((nlay, nrow, ncol), dtype=np.float)\n",
    "    \n",
    "    # MT3D stress period data, note that the indices between 'spd_mt' must exist in 'spd_mf' \n",
    "    # This is used as input for the source and sink mixing package\n",
    "    # Itype is an integer indicating the type of point source, 2=well, 3=drain, -1=constant concentration\n",
    "    itype = itype\n",
    "    cwell_info = np.zeros((nrow, 5), dtype=np.float)\n",
    "    # Nested loop to define every inlet face grid cell as a well\n",
    "    for row in range(0, nrow):\n",
    "        cwell_info[row] = [0, row, 0, C_in[0], itype] \n",
    "            \n",
    "    # Second stress period        \n",
    "    cwell_info2 = cwell_info.copy()   \n",
    "    cwell_info2[:,3] = C_in[1] \n",
    "    # Now apply stress period info    \n",
    "    spd_mt = {0:cwell_info, 1:cwell_info2}\n",
    "    \n",
    "    \n",
    "    # Setup models\n",
    "    # MODFLOW model name\n",
    "    modelname_mf = dirname + '_mf'\n",
    "    # MODFLOW package class\n",
    "    mf = flopy.modflow.Modflow(modelname=modelname_mf, model_ws=model_ws, exe_name=exe_name_mf)\n",
    "    # MODFLOW model discretization package class\n",
    "    dis = flopy.modflow.ModflowDis(mf, nlay=nlay, nrow=nrow, ncol=ncol, nper=nper_mf,\n",
    "                                   delr=delr, delc=delc, top=0., botm=[0 - delv],\n",
    "                                   perlen=perlen_mf, itmuni=itmuni, lenuni=lenuni)\n",
    "    # MODFLOW basic package class\n",
    "    bas = flopy.modflow.ModflowBas(mf, ibound=ibound, strt=strt)\n",
    "    # MODFLOW layer properties flow package class\n",
    "    lpf = flopy.modflow.ModflowLpf(mf, hk=hk, laytyp=laytyp)\n",
    "    # MODFLOW preconditioned conjugate-gradient package class\n",
    "    pcg = flopy.modflow.ModflowPcg(mf)\n",
    "    # MODFLOW Link-MT3DMS Package Class (this is the package for solute transport)\n",
    "    lmt = flopy.modflow.ModflowLmt(mf)\n",
    "    \n",
    "    mf.write_input()\n",
    "    mf.run_model(silent=True) # Set this to false to produce output in command window\n",
    "    \n",
    "    # RUN MT3dms solute tranport \n",
    "    modelname_mt = dirname + '_mt'\n",
    "    # MT3DMS Model Class\n",
    "    # Input: modelname = 'string', namefile_ext = 'string' (Extension for the namefile (the default is 'nam'))\n",
    "    # modflowmodelflopy.modflow.mf.Modflow = This is a flopy Modflow model object upon which this Mt3dms model is based. (the default is None)\n",
    "    mt = flopy.mt3d.Mt3dms(modelname=modelname_mt, model_ws=model_ws, \n",
    "                           exe_name=exe_name_mt, modflowmodel=mf)  \n",
    "    \n",
    "    \n",
    "    # Basic transport package class\n",
    "    btn = flopy.mt3d.Mt3dBtn(mt, icbund=icbund, prsity=prsity, sconc=sconc, \n",
    "                             tunit=mt_tunit, lunit=mt_lunit, nper=nper, \n",
    "                             perlen=perlen_mt, nprs=nprs, timprs=timprs)\n",
    "    \n",
    "    # mixelm is an integer flag for the advection solution option, \n",
    "    # mixelm = 0 is the standard finite difference method with upstream or central in space weighting.\n",
    "    # mixelm = 1 is the forward tracking method of characteristics, this seems to result in minimal numerical dispersion.\n",
    "    # mixelm = 2 is the backward tracking\n",
    "    # mixelm = 3 is the hybrid method\n",
    "    # mixelm = -1 is the third-ord TVD scheme (ULTIMATE)\n",
    "    mixelm = -1\n",
    "    \n",
    "    adv = flopy.mt3d.Mt3dAdv(mt, mixelm=mixelm)\n",
    "    \n",
    "    dsp = flopy.mt3d.Mt3dDsp(mt, al=al)\n",
    "    \n",
    "    ssm = flopy.mt3d.Mt3dSsm(mt, stress_period_data=spd_mt)\n",
    "    \n",
    "    gcg = flopy.mt3d.Mt3dGcg(mt)\n",
    "    mt.write_input()\n",
    "    fname = os.path.join(model_ws, 'MT3D001.UCN')\n",
    "    if os.path.isfile(fname):\n",
    "        os.remove(fname)\n",
    "    mt.run_model(silent=True)\n",
    "    \n",
    "    fname = os.path.join(model_ws, 'MT3D001.UCN')\n",
    "    ucnobj = flopy.utils.UcnFile(fname)\n",
    "    # Extract the output time information, convert from list to np array\n",
    "    times = np.array(ucnobj.get_times())\n",
    "    # Extract the 4D concentration values (t, x, y, z)\n",
    "    conc = ucnobj.get_alldata()\n",
    "    \n",
    "    return mf, mt, times, conc"
   ]
  },
  {
   "cell_type": "markdown",
   "metadata": {},
   "source": [
    "Let's also define a function for efficiently plotting the concentration fields"
   ]
  },
  {
   "cell_type": "code",
   "execution_count": null,
   "metadata": {},
   "outputs": [],
   "source": [
    "def plot_2d_conc(conc, x, y, times, time_step):\n",
    "    fs =16 # fontsize\n",
    "    fig2 = plt.figure(figsize=(10, 4)) # adjust these numbers to change the size of your figure\n",
    "    ax = fig2.add_subplot(1, 1, 1, aspect='equal')\n",
    "    # Use 'pcolor' function to plot 2d map of concentration\n",
    "    imp = plt.pcolor(x, y, conc[time_step,0,:,:], cmap='OrRd', edgecolors='k', linewidths=0.2)\n",
    "    # color limit range from 0 to 1\n",
    "    plt.clim(0,1)\n",
    "    # add a colorbar\n",
    "    cbar = plt.colorbar() \n",
    "    # label the colorbar\n",
    "    cbar.set_label('Solute concentration', fontsize=fs)\n",
    "    # make colorbar font bigger\n",
    "    cbar.ax.tick_params(labelsize= (fs-2)) \n",
    "    # make axis fontsize bigger!\n",
    "    plt.tick_params(axis='both', which='major', labelsize=fs)\n",
    "    # Label x-axis\n",
    "    plt.xlabel('Distance from inlet [cm]', fontsize=fs)\n",
    "    # add smart title\n",
    "    plt.title('Time: %1.1f min' %(times[time_step]/60), fontsize=fs+2)"
   ]
  },
  {
   "cell_type": "markdown",
   "metadata": {},
   "source": [
    "## Run three different numerical models"
   ]
  },
  {
   "cell_type": "markdown",
   "metadata": {},
   "source": [
    "Ok, now we are ready to run some models! Let's first run the model with the homogeneous permeability field."
   ]
  },
  {
   "cell_type": "code",
   "execution_count": null,
   "metadata": {},
   "outputs": [],
   "source": [
    "# Define homogeneous conductivity field equal to the geometric mean of the weakly anisotropic field\n",
    "hk_hom = geo_mean_weak*np.ones([1, 20, 40])\n",
    "\n",
    "# Directory name\n",
    "dirname = 'homogeneous_2D'\n",
    "# Length of model run\n",
    "perlen_mt = [60*3, 60*58]\n",
    "v = 0.01\n",
    "al = 0.2 # cm\n",
    "itype = -1\n",
    "# RUN model!\n",
    "    \n",
    "mf, mt, times, conc = model_2D(dirname, perlen_mt, hk_hom, v, al, itype)"
   ]
  },
  {
   "cell_type": "markdown",
   "metadata": {},
   "source": [
    "Up to now, we have only seen 1D models. We call these 1D models because the parameters vary in only one spatial dimension so the other two dimensions have a size of 1. Let's double check that the dimensions of this model are 2D. That means we expect a time dimension equal to the variable 'nprs' + 1 from our FloPy function, 1 layer, and what are the lengths of the other two dimensions?"
   ]
  },
  {
   "cell_type": "code",
   "execution_count": null,
   "metadata": {},
   "outputs": [],
   "source": [
    "# Let's check your answer\n",
    "np.shape(conc)"
   ]
  },
  {
   "cell_type": "markdown",
   "metadata": {},
   "source": [
    "See how the dimensions of the concentration output relate to the size of the model (as defined by the size of our conductivity field)?\n",
    "\n",
    "Next, let's use the plotting function to plot the 2D concentration distribution at one instant in time."
   ]
  },
  {
   "cell_type": "code",
   "execution_count": null,
   "metadata": {},
   "outputs": [],
   "source": [
    "# Call our plotting function\n",
    "plot_2d_conc(conc, x, y, times, 10)"
   ]
  },
  {
   "cell_type": "markdown",
   "metadata": {},
   "source": [
    "Now run the model with the weak anisotropy permeability field."
   ]
  },
  {
   "cell_type": "code",
   "execution_count": null,
   "metadata": {},
   "outputs": [],
   "source": [
    "# Directory name\n",
    "dirname = 'anisotropic_weak'\n",
    "# RUN!\n",
    "mf, mt, times_w, conc_weak = model_2D(dirname, perlen_mt, hk_weak, v, al, itype)"
   ]
  },
  {
   "cell_type": "code",
   "execution_count": null,
   "metadata": {},
   "outputs": [],
   "source": [
    "# Now let's call our plotting function\n",
    "plot_2d_conc(conc_weak, x, y, times_w, 10)"
   ]
  },
  {
   "cell_type": "markdown",
   "metadata": {},
   "source": [
    "Now let's again run the identical model, the only difference is the permeability field anisotropy is 100x stronger (as defined by the standard deviation of the permeability field)."
   ]
  },
  {
   "cell_type": "code",
   "execution_count": null,
   "metadata": {},
   "outputs": [],
   "source": [
    "# Directory name\n",
    "dirname = 'anisotropic_strong'\n",
    "# RUN!\n",
    "mf, mt, times_s, conc_strong = model_2D(dirname, perlen_mt, hk_strong, v, al, itype)"
   ]
  },
  {
   "cell_type": "code",
   "execution_count": null,
   "metadata": {},
   "outputs": [],
   "source": [
    "# Call our plotting function again\n",
    "plot_2d_conc(conc_strong, x, y, times_s, 10)"
   ]
  },
  {
   "cell_type": "markdown",
   "metadata": {},
   "source": [
    "Explain what is going on here. Why is the solute further from the inlet in some areas and closer to the inlet in other areas of the model?"
   ]
  },
  {
   "cell_type": "markdown",
   "metadata": {},
   "source": [
    "## Activity:\n",
    "Using a combination of analytical solutions and moment analysis, let's calculate the macrodispersion of the strongly anisotropic heterogenous numerical model. This macrodispersion is the dispersion or dispersivity necessary to capture the spreading in a 1D model that doesn't account for or quantify the heterogenity-driven dispersion in the more complex 2D model.\n",
    "\n",
    "To begin, we need to define a function to calculate the analytical solution with boundary and initial conditions that correspond to our numerical model."
   ]
  },
  {
   "cell_type": "markdown",
   "metadata": {},
   "source": [
    "### Compare numerical model results with analytical solution"
   ]
  },
  {
   "cell_type": "code",
   "execution_count": null,
   "metadata": {},
   "outputs": [],
   "source": [
    "# Remember that we need a few special functions\n",
    "from scipy.special import erfc as erfc\n",
    "from scipy.special import erf as erf\n",
    "\n",
    "# Type 1 inlet conditions, finite length solution\n",
    "def analytical_model_1D_finite_t1(x, t, v, al, L):\n",
    "    # Dispersion\n",
    "    D = v*al\n",
    "    \n",
    "    # Identify location of negative values in time array\n",
    "    indices_below_zero = t <= 0\n",
    "    \n",
    "#     print(indices_below_zero)\n",
    "    if indices_below_zero.any() == True:\n",
    "        # set values equal to 1 (but this could be anything)\n",
    "        t[indices_below_zero] = 1\n",
    "    \n",
    "    # Analytical solution: Analytical solution based on Equation A3 in van Genuchtena and Alves, 1982.\n",
    "    # Note that the '\\' means continued on the next line\n",
    "    C = (1/2)*erfc((x - v*t)/(2*np.sqrt(D*t))) + \\\n",
    "        (1/2)*np.exp(v*x/D)*erfc((x + v*t)/(2*np.sqrt(D*t))) + \\\n",
    "        (1/2)*(2 + (v*(2*L - x)/D) + v**2*t/D)* \\\n",
    "        np.exp(v*L/D)*erfc(((2*L - x)+ v*t)/(2*np.sqrt(D*t))) - \\\n",
    "        (v**2 *t/(3.1415*D))**(1/2) * np.exp(v*L/D - ((2*L - x + v*t)**2)/(4*D*t))\n",
    "    \n",
    "    if indices_below_zero.any() == True:\n",
    "        # Now set concentration at those negative times equal to 0\n",
    "        C[indices_below_zero] = 0\n",
    "    \n",
    "    # Return the concentration (C) from this function\n",
    "    return C"
   ]
  },
  {
   "cell_type": "markdown",
   "metadata": {},
   "source": [
    "What are the boundary conditions (both inlet and outlet) of the function we just defined? Think through why these are the correct boundary conditions to compare with out numerical model."
   ]
  },
  {
   "cell_type": "code",
   "execution_count": null,
   "metadata": {},
   "outputs": [],
   "source": [
    "# Extract numerical model grid output to calculating analytical solutions at identical spatial locations\n",
    "x = mf.dis.sr.xcenter\n",
    "\n",
    "# Call the analytical model function\n",
    "Conc_time_type1_t = analytical_model_1D_finite_t1(x[-1], times, v, al, x[-1])\n",
    "# Call it again to use superposition to model a pulse\n",
    "# Define the time array shifted by the length of pulse injection.\n",
    "# The length of the pulse injection is defined by the length of the second stress period\n",
    "t_t0 = times - perlen_mt[0]\n",
    "Conc_time_type1_t_t0 = analytical_model_1D_finite_t1(x[-1], t_t0, v, al, x[-1])\n",
    "\n",
    "Conc_pulse_solution = Conc_time_type1_t - Conc_time_type1_t_t0"
   ]
  },
  {
   "cell_type": "code",
   "execution_count": null,
   "metadata": {},
   "outputs": [],
   "source": [
    "# Extract the breakthrough time at the outlet\n",
    "C_btc_h = np.mean([conc[:, 0, :, -1]], axis=2)\n",
    "C_btc_w = np.mean([conc_weak[:, 0, :, -1]], axis=2)\n",
    "C_btc_s = np.mean([conc_strong[:, 0, :, -1]], axis=2)"
   ]
  },
  {
   "cell_type": "markdown",
   "metadata": {},
   "source": [
    "Plot the numerical and analytical models"
   ]
  },
  {
   "cell_type": "code",
   "execution_count": null,
   "metadata": {},
   "outputs": [],
   "source": [
    "c1, = plt.plot(times/60, np.transpose(C_btc_h), label='FloPy')\n",
    "c2, = plt.plot(times_w/60, np.transpose(C_btc_w), label='FloPy Weak Anisotropic')\n",
    "c3, = plt.plot(times_s/60, np.transpose(C_btc_s), label='FloPy Strong Anisotropic')\n",
    "c4, = plt.plot(times/60, Conc_pulse_solution, '--', label='BTC 1D analytical, type 1, finite length')\n",
    "plt.xlabel('Time [min]');\n",
    "\n",
    "plt.legend(handles=[c1, c2, c3, c4])"
   ]
  },
  {
   "cell_type": "markdown",
   "metadata": {},
   "source": [
    "So far so good, the analytical model matches some of the numerical models. Why does it not match the strongly anisotropic field model output?\n",
    "\n",
    "For spatial moment analysis we want to evalute concentration distributions or concentration profiles so now let's compare the numerical models with analytical solutions as a function of space rather than as a function of time."
   ]
  },
  {
   "cell_type": "code",
   "execution_count": null,
   "metadata": {},
   "outputs": [],
   "source": [
    "# Ploc concentration profiles\n",
    "# Choose a timestep to evaluate the analytical solution at\n",
    "timestep = 10\n",
    "# Note that this timestep corresponds to the numerical model output increment, the actual model time is given by\n",
    "print('Model time: ' + str(times[timestep]/60) + ' min')\n",
    "\n",
    "C_profile_h = np.mean([conc[timestep, 0, :, :]], axis=1)\n",
    "C_profile_w = np.mean([conc_weak[timestep, 0, :, :]], axis=1)\n",
    "C_profile_s = np.mean([conc_strong[timestep, 0, :, :]], axis=1)\n",
    "\n",
    "# Call the analytical model function \n",
    "# Note that the spatial coordinates need to be shifted to start from zero for accurate comparison with the numerical model\n",
    "Conc_time_type1_x = analytical_model_1D_finite_t1(x-x[0], times[timestep], v, al, x[-1])\n",
    "# Call it again to use superposition to model a pulse\n",
    "time_t0 = times[timestep] - perlen_mt[0]\n",
    "Conc_time_type1_x_t0 = analytical_model_1D_finite_t1(x-x[0], time_t0, v, al, x[-1])\n",
    "# Superimpose the two solutions\n",
    "Conc_pulse_solution_in_space = Conc_time_type1_x - Conc_time_type1_x_t0\n",
    "\n",
    "c1, = plt.plot(x, np.transpose(C_profile_h), label='Vol Avg FloPy')\n",
    "c2, = plt.plot(x, np.transpose(C_profile_w), label='Vol Avg FloPy Weak Anisotropic')\n",
    "c3, = plt.plot(x, np.transpose(C_profile_s), label='Vol Avg FloPy Strong Anisotropic')\n",
    "c4, = plt.plot(x, Conc_pulse_solution_in_space, '--', label='1D analytical, type 1')\n",
    "plt.xlabel('Distance from inlet [cm]')\n",
    "\n",
    "plt.legend(handles=[c1, c2, c3, c4])"
   ]
  },
  {
   "cell_type": "markdown",
   "metadata": {},
   "source": [
    "### Spatial moment analysis\n",
    "Using moment analysis, let's calculate the macrodispersion of the strongly anisotropic heterogenous numerical model. First, define a function that can be used to efficiently calculate different spatial moments. Since we are only intersted in quantifying longitudinal dispersion, we don't need to perform a fully 3D moment analysis and can simply calculate spatial moments in the x-direction."
   ]
  },
  {
   "cell_type": "code",
   "execution_count": null,
   "metadata": {},
   "outputs": [],
   "source": [
    "def spatial_moment_calc(conc, timestep):\n",
    "    # Sum of all tracer in core at timestep when all tracer is in the core (zero moment)\n",
    "    Mx0 = np.sum([conc[timestep, 0, :, :]])\n",
    "    print('Zero moment = ' + str(Mx0))\n",
    "    # First spatial moment\n",
    "    Mx1 = np.sum(x*np.sum([conc[timestep, 0, :, :]], axis=1))\n",
    "    # Center of mass equation\n",
    "    x_bar = Mx1/Mx0\n",
    "    print('Center of mass = ' + str(x_bar) + ' cm')\n",
    "    # Second spatial moment\n",
    "    # Mx2 = # FILL THIS IN\n",
    "\n",
    "    var = 0 # FILL THIS IN\n",
    "    \n",
    "    return x_bar, var"
   ]
  },
  {
   "cell_type": "code",
   "execution_count": null,
   "metadata": {},
   "outputs": [],
   "source": [
    "# Call function at a given timestep\n",
    "x_bar1, var1 = spatial_moment_calc(conc_strong, timestep)\n",
    "# Call function at a later timestep\n",
    "x_bar2, var2 = spatial_moment_calc(conc_strong, timestep+1)\n",
    "\n",
    "# Now use equation from class to calculate the value of the macrodispersion\n",
    "D_macro = 0 # FILL THIS IN\n",
    "print(D_macro)\n",
    "# Calculate dispersivity for analytical solution\n",
    "al_macro = D_macro/v\n",
    "print(al_macro)"
   ]
  },
  {
   "cell_type": "markdown",
   "metadata": {},
   "source": [
    "Your value of macrodispersivity should be larger than the dispersivity (```al```) defined above, but of the same order of magnitude. "
   ]
  },
  {
   "cell_type": "code",
   "execution_count": null,
   "metadata": {},
   "outputs": [],
   "source": [
    "# Call the analytical model function with the macrodispersivity\n",
    "# Conc_pulse_solution_in_space = "
   ]
  },
  {
   "cell_type": "code",
   "execution_count": null,
   "metadata": {},
   "outputs": [],
   "source": [
    "# Now plot them again and compare\n",
    "# c1, = plt.plot(x, np.transpose(C_profile_s), label='Vol Avg FloPy Strong Anisotropic')\n",
    "# c2, = plt.plot(x, Conc_pulse_macro_in_space, '--', label='1D Analytical Macrodispersion')\n",
    "# c3, = plt.plot(x, Conc_pulse_solution_in_space, '--', label='1D Analytical w/dispersivity of numerical model')\n",
    "# c4, = plt.plot([x_bar1, x_bar1], [0, 1], 'k:', label='Center of mass (FloPy)')\n",
    "# plt.xlabel('Distance from inlet [cm]')\n",
    "\n",
    "# plt.legend(handles=[c1, c2, c3, c4])"
   ]
  },
  {
   "cell_type": "markdown",
   "metadata": {},
   "source": [
    "With a partner, discuss these results. Why does the 1D analytical model with a larger dispersivity better match the heterogeneous numerical model than the analytical model with identical dispersivity input as the numerical model?"
   ]
  }
 ],
 "metadata": {
  "kernelspec": {
   "display_name": "Python 3",
   "language": "python",
   "name": "python3"
  },
  "language_info": {
   "codemirror_mode": {
    "name": "ipython",
    "version": 3
   },
   "file_extension": ".py",
   "mimetype": "text/x-python",
   "name": "python",
   "nbconvert_exporter": "python",
   "pygments_lexer": "ipython3",
   "version": "3.7.6"
  }
 },
 "nbformat": 4,
 "nbformat_minor": 4
}
