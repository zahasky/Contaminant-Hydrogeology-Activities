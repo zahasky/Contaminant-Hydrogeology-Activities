{
 "cells": [
  {
   "cell_type": "markdown",
   "metadata": {},
   "source": [
    "## Introduction"
   ]
  },
  {
   "cell_type": "markdown",
   "metadata": {},
   "source": [
    "In this activity we will use python to better understand the advection-dispersion equation and plot some of the solutions."
   ]
  },
  {
   "cell_type": "code",
   "execution_count": null,
   "metadata": {},
   "outputs": [],
   "source": [
    "# Import the neccesary libraries\n",
    "# Import only the scipy.special.erfc (complementary error function) and \n",
    "#     scipy.special.erf (error function) from the scipy Library\n",
    "from scipy.special import erfc as erfc\n",
    "from scipy.special import erf as erf\n",
    "import numpy as np\n",
    "import math\n",
    "import matplotlib.pyplot as plt"
   ]
  },
  {
   "cell_type": "markdown",
   "metadata": {},
   "source": [
    "## Analytical model \n",
    "### Setup"
   ]
  },
  {
   "cell_type": "markdown",
   "metadata": {},
   "source": [
    "Now let's define some of the characteristics of the system that we want to model. For conceptual simplicity lets imagine a homogenous sand column, similiar to the ones you worked with in lab in GEOSCI/GEOENG 627. First define the initial (t=0) conditions and boundary conditions (inlet and outlet)."
   ]
  },
  {
   "cell_type": "code",
   "execution_count": null,
   "metadata": {},
   "outputs": [],
   "source": [
    "# Observation time(time in seconds)\n",
    "t = 60*3\n",
    "# Injection rate (mL/min)\n",
    "q = 5\n",
    "# Injected concentration\n",
    "C0 = 1\n",
    "# Initial concentration\n",
    "Ci = 0"
   ]
  },
  {
   "cell_type": "markdown",
   "metadata": {},
   "source": [
    "Now lets define some (arbitrary) column properties"
   ]
  },
  {
   "cell_type": "code",
   "execution_count": null,
   "metadata": {},
   "outputs": [],
   "source": [
    "# X-coordinates from column inlet to outlet (at 50 cm)\n",
    "x = np.linspace(0.1, 10, num=1000)\n",
    "# column radius\n",
    "col_radius = 2.5\n",
    "# porosity\n",
    "phi = 0.3;\n",
    "# dispersivity [cm] \n",
    "dispersivity = 0.5"
   ]
  },
  {
   "cell_type": "markdown",
   "metadata": {},
   "source": [
    "Note that the 'dispersivity' is the alpha in the equations from the course notes. This must be multiplied by the advection velocity to get dispersion. Lets calculate the dispersion."
   ]
  },
  {
   "cell_type": "code",
   "execution_count": null,
   "metadata": {},
   "outputs": [],
   "source": [
    "# calculate advection velocity\n",
    "area = math.pi*(col_radius)**2\n",
    "v = q/60/area/phi # divide by 60 to get flow rate from cm/min to cm/sec\n",
    "print(\"advection velocity: \" + str(v))\n",
    "\n",
    "# Dispersion\n",
    "D = v*dispersivity \n",
    "print(D)"
   ]
  },
  {
   "cell_type": "markdown",
   "metadata": {},
   "source": [
    "#### What are the units of dispersion again?"
   ]
  },
  {
   "cell_type": "markdown",
   "metadata": {},
   "source": [
    "### Analytical solution: Type 1 boundary conditions and continous solute injection"
   ]
  },
  {
   "cell_type": "code",
   "execution_count": null,
   "metadata": {},
   "outputs": [],
   "source": [
    "# Analytical solution: See lecture slides or (Parker and van Genuchten, 1984) for details\n",
    "def ADE_type1_fun(x, t, v, D, C0):\n",
    "    # Note that the '\\' means continued on the next line\n",
    "    C = C0*((1/2)*erfc((x - v*t)/(2*np.sqrt(D*t))) + \\\n",
    "        (1/2)*np.exp(v*x/D)*erfc((x + v*t)/(2*np.sqrt(D*t))))\n",
    "    # Return the concentration (C) from this function\n",
    "    return C\n",
    "\n",
    "# Now call our function\n",
    "Conc_time_type1 = ADE_type1_fun(x, t, v, D, C0)\n",
    "# Plot the results as a function of x\n",
    "plt.plot(x, Conc_time_type1)\n",
    "plt.show()"
   ]
  },
  {
   "cell_type": "markdown",
   "metadata": {},
   "source": [
    "Note that the complementary error function (erfc) is back. Do you remember the shape of this curve from the diffusion demo?"
   ]
  },
  {
   "cell_type": "markdown",
   "metadata": {},
   "source": [
    "#### What do we call this plot again (concentration profile or breakthrough curve)? Label the axis...\n",
    "\n",
    "Now let's look at how this curve changes with different values of hydrodynamic dispersion"
   ]
  },
  {
   "cell_type": "code",
   "execution_count": null,
   "metadata": {},
   "outputs": [],
   "source": [
    "# Now call our function with 4x dispersivity\n",
    "Conc_D3x = ADE_type1_fun(x, t, v, D*3, C0)\n",
    "# Now instead we explicity include dispersion (Dstar) D = v*dispersivity + Dstar\n",
    "Dstar = 5e-8*(100**2) #[cm^2/sec]\n",
    "Conc_D3x_w_diff = ADE_type1_fun(x, t, v, D*3 + Dstar, C0)\n",
    "# Now instead dispersivity is equal to zero (not phyiscial) or D = v*dispersivity + Dstar, which simplifies to D = Dstar\n",
    "Conc_diff = ADE_type1_fun(x, t, v, Dstar, C0)\n",
    "\n",
    "# Solution to advection equation (no diffusion or dispersion)\n",
    "C_advect = C0*np.ones(len(x))\n",
    "ind = x>v*t\n",
    "C_advect[ind] = 0\n",
    "\n",
    "# Plot the results as a function of x\n",
    "plt.figure(figsize=(6, 3), dpi=150)\n",
    "plt.plot(x, Conc_time_type1, label =r'$\\alpha$ = 0.5 cm')\n",
    "plt.plot(x, Conc_D3x, label=r'$\\alpha$ = 1.5 cm')\n",
    "plt.plot(x, Conc_D3x_w_diff, '--', label = r'$\\alpha$ = 1.5 cm, $D^*$= 5e-6 cm$^2$/s')\n",
    "plt.plot(x, Conc_diff, label=r'$\\alpha$ = 0 cm, $D^*$= 5e-6 cm$^2$/s')\n",
    "plt.plot(x, C_advect, 'k', label=r'$\\alpha$ = 0 cm, $D^*$= 0 cm$^2$/s')\n",
    "plt.xlabel('Distance from constant concentration boundary [cm]')\n",
    "plt.ylabel(r'C/C$_0$')\n",
    "plt.legend()\n",
    "plt.show()"
   ]
  },
  {
   "cell_type": "markdown",
   "metadata": {},
   "source": [
    "Is it clear why sometimes diffusion is simply neglected from the hydrodynamic dispersion term?"
   ]
  },
  {
   "cell_type": "markdown",
   "metadata": {},
   "source": [
    "### Analytical solution: Type 3 boundary conditions and continous solute injection"
   ]
  },
  {
   "cell_type": "code",
   "execution_count": null,
   "metadata": {
    "tags": []
   },
   "outputs": [],
   "source": [
    "# Analytical solution: See lecture slides or (Parker and van Genuchten, 1984 eq 9b) for details\n",
    "def ADE_type3_fun(x, t, v, D, C0):\n",
    "    C = C0*((1/2)* erfc((x - v*t)/(2* np.sqrt(D*t))) + \\\n",
    "        np.sqrt((v**2*t)/(math.pi*D))* np.exp(-(x - v*t)**2/(4*D*t)) - \\\n",
    "        (1/2)*(1 + (v*x/D) + (v**2*t/D))* np.exp(v*x/D)* erfc((x + v*t)/(2* np.sqrt(D*t))))\n",
    "    return C\n",
    "    \n",
    "# Now call our function\n",
    "Conc_time_type3 = ADE_type3_fun(x, t, v, D, C0)\n",
    "\n",
    "# Plot the results as a function of x\n",
    "plt.plot(x, Conc_time_type1, label='Type 1 Inlet BC')\n",
    "plt.plot(x, Conc_time_type3, label='Type 3 Inlet BC')\n",
    "\n",
    "# Format the plots\n",
    "plt.legend()\n",
    "plt.show()"
   ]
  },
  {
   "cell_type": "markdown",
   "metadata": {},
   "source": [
    "Note that the input and system geometry is identical except for the boundary conditions!"
   ]
  },
  {
   "cell_type": "markdown",
   "metadata": {},
   "source": [
    "## Activity:\n",
    "Using these functions, **evaluate how the shape of the curves depends on the dispersion**. Describe and discuss what you see. If two cores have identical geometry and flow rate conditions but different dispersion behavior, what does this mean? \n",
    "\n",
    "**How does the solute concentration profile near the inlet change as a function of dispersion?** Are there conditions under which Type 1 and Type 3 boundary conditions produce similiar results? \n",
    "\n",
    "In the cell(s) below generate a concentration profile with both boundary conditions at later time"
   ]
  },
  {
   "cell_type": "code",
   "execution_count": null,
   "metadata": {},
   "outputs": [],
   "source": []
  },
  {
   "cell_type": "markdown",
   "metadata": {},
   "source": [
    "### Principle of superposition "
   ]
  },
  {
   "cell_type": "markdown",
   "metadata": {},
   "source": [
    "As we saw in GEOSCI 627, the superposition of analytical solutions is a powerful tool for describing systems with more complex initial conditions. The principle of superposition\n",
    "\n",
    "To apply superposition we need a few conditions to be true. First, we need a “linear” differential equation. That is, one for which: a) the dependent variable and all its derivatives are of the first degree (i.e. the power on any dependent variable terms is one) b) the coefficients are constants or functions of only the independent variable(s) The second condition is that we the differential equation needs to be homogeneous. A linear differential equation is mathematically homogeneous if the term(s) without the dependent variable equal zero.\n",
    "\n",
    "When the advection-diffusion equation (ADE) is linear and homogeneous, sums of the solutions are also linear. This important condition allows us to use the principle of superposition to analytically solve the ADE and the diffusion equation for relative complex (i.e. mixed or inhomogeneous) boundary and initial conditions. As described by Bear (1972) \"The principle of superposition means that the presence of one boundary condition does not affect the response produced by the presence of other boundary or initial conditions. Therefore, to analyze the combined effect of a number of boundary conditions (excitations) we may start by solving for the effect of each individual excitation and then combine the results.\" For example, the principle of superposition is often used to analytically describe the transport behavior of finite pulse of solute.\n",
    "\n",
    "Work through the example below to see an illustration of this principle."
   ]
  },
  {
   "cell_type": "markdown",
   "metadata": {},
   "source": [
    "### Analytical solution: Type 1 boundary conditions and pulse solute injection"
   ]
  },
  {
   "cell_type": "code",
   "execution_count": null,
   "metadata": {},
   "outputs": [],
   "source": [
    "# define observation location (outlet)\n",
    "xout = 10\n",
    "# Define the time array\n",
    "ta = np.linspace(0.1, 60*30, num=100)\n",
    "# Define the length of time of the pulse injection\n",
    "t_pulse = 60*3\n",
    "# Define the time array shifted by the length of pulse injection\n",
    "t_t0 = ta-t_pulse\n",
    "\n",
    "# Now call our function\n",
    "Conc_time_type1_t = ADE_type1_fun(xout, ta, v, D, C0)\n",
    "Conc_time_type1_t_t0 = ADE_type1_fun(xout, t_t0, v, D, C0)\n",
    "\n",
    "Conc_pulse_solution = Conc_time_type1_t - Conc_time_type1_t_t0\n",
    "\n",
    "# Plot the results as a function of time\n",
    "plt.plot(ta, Conc_pulse_solution, label='Type 1 pulse')\n",
    "plt.plot(ta, Conc_time_type1_t, label='Type 1 continuous')\n",
    "plt.plot(ta, Conc_time_type1_t_t0, label='Type 1 continuous + t$_0$')\n",
    "\n",
    "# Format the plots\n",
    "plt.legend()\n",
    "plt.show()"
   ]
  },
  {
   "cell_type": "markdown",
   "metadata": {},
   "source": [
    "#### Side note\n",
    "If you started the `ta` array from zero and then subtracted some time of injection then `t_t0 = ta-t_pulse` will have negative numbers. Negative numbers in the `erfc` and `sqrt` function are what lead to the warning above. To make our function more robust we can use the ```np.real``` numpy function to our time variable inside the 'erfc' functions, or we can record the location of negative values of ```t``` (see 'indices_below_zero'). Set ```t``` at these locations equal to some arbitrary positive number, and then make sure to set the corresponding concentrations equal to zero."
   ]
  },
  {
   "cell_type": "code",
   "execution_count": null,
   "metadata": {},
   "outputs": [],
   "source": [
    "# Analytical solution without errors when negative times are input\n",
    "def ADE_type1_real_fun(x, t, v, D, C0):\n",
    "    # Identify location of negative values in time array\n",
    "    indices_below_zero = t <= 0\n",
    "    if indices_below_zero.any() == True:\n",
    "        # set values equal to 1 (but this could be anything)\n",
    "        t[indices_below_zero] = 1\n",
    "    \n",
    "    # Note that the '\\' means continued on the next line\n",
    "    C = C0*((1/2)*erfc((x - v*t)/(2*np.sqrt(D*t))) + \\\n",
    "         (1/2)*np.exp(v*x/D)*erfc((x + v*t)/(2*np.sqrt(D*t))))\n",
    "    \n",
    "    if indices_below_zero.any() == True:\n",
    "        # Now set concentration at those negative times equal to 0\n",
    "        C[indices_below_zero] = 0\n",
    "        \n",
    "    # Return the concentration (C) from this function\n",
    "    return C"
   ]
  },
  {
   "cell_type": "code",
   "execution_count": null,
   "metadata": {
    "tags": []
   },
   "outputs": [],
   "source": [
    "# Now call our function\n",
    "Conc_time_type1_t = ADE_type1_real_fun(xout, ta, v, D, C0)\n",
    "Conc_time_type1_t_t0 = ADE_type1_real_fun(xout, t_t0, v, D, C0)\n",
    "\n",
    "Conc_pulse_solution = Conc_time_type1_t - Conc_time_type1_t_t0\n",
    "\n",
    "# Plot the results as a function of time\n",
    "plt.plot(ta, Conc_pulse_solution, label='Type 1 pulse')\n",
    "plt.plot(ta, Conc_time_type1_t, label='Type 1 continuous')\n",
    "plt.plot(ta, Conc_time_type1_t_t0, label='Type 1 offset by pulse time')\n",
    "\n",
    "# Format the plots\n",
    "plt.legend()\n",
    "plt.show()"
   ]
  },
  {
   "cell_type": "markdown",
   "metadata": {},
   "source": [
    "In the plot above the 'continous line' minus the 'offset by pulse time' equal the 'pulse' solution. This is the principle of superposition. Pretty cool huh!?"
   ]
  },
  {
   "cell_type": "markdown",
   "metadata": {},
   "source": [
    "#### How does changing ```t_pulse``` (in the first code cell of this activity) change the height and shape of the curve 'Type 1 pulse' curve? How would you determine the value of ```t_pulse``` if I asked you to model the case of 10 mL of solute injected?"
   ]
  },
  {
   "cell_type": "markdown",
   "metadata": {},
   "source": [
    "The answer is (double click this cell to edit) ..."
   ]
  },
  {
   "cell_type": "code",
   "execution_count": null,
   "metadata": {},
   "outputs": [],
   "source": []
  }
 ],
 "metadata": {
  "kernelspec": {
   "display_name": "Python 3 (ipykernel)",
   "language": "python",
   "name": "python3"
  },
  "language_info": {
   "codemirror_mode": {
    "name": "ipython",
    "version": 3
   },
   "file_extension": ".py",
   "mimetype": "text/x-python",
   "name": "python",
   "nbconvert_exporter": "python",
   "pygments_lexer": "ipython3",
   "version": "3.9.7"
  },
  "toc-showcode": false
 },
 "nbformat": 4,
 "nbformat_minor": 4
}
