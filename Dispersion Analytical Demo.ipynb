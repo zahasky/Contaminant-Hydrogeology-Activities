{
 "cells": [
  {
   "cell_type": "markdown",
   "metadata": {},
   "source": [
    "## Introduction"
   ]
  },
  {
   "cell_type": "markdown",
   "metadata": {},
   "source": [
    "In this activity we will use python to better understand the advection-dispersion equation and plot some of the solutions."
   ]
  },
  {
   "cell_type": "code",
   "execution_count": 17,
   "metadata": {},
   "outputs": [],
   "source": [
    "# Import the neccesary libraries\n",
    "# Import only the scipy.special.erfc (complementary error function) and \n",
    "#     scipy.special.erf (error function) from the scipy Library\n",
    "from scipy.special import erfc as erfc\n",
    "from scipy.special import erf as erf\n",
    "import numpy as np\n",
    "import math\n",
    "import matplotlib.pyplot as plt"
   ]
  },
  {
   "cell_type": "markdown",
   "metadata": {},
   "source": [
    "## Model setup"
   ]
  },
  {
   "cell_type": "markdown",
   "metadata": {},
   "source": [
    "Now let's define some of the characteristics of the system that we want to model. For conceptual simplicity lets imagine a homogenous sand column, similiar to the ones you worked with in lab in GEOSCI/GEOENG 627. First define the initial (t=0) conditions and boundary conditions (inlet and outlet)."
   ]
  },
  {
   "cell_type": "code",
   "execution_count": 18,
   "metadata": {},
   "outputs": [],
   "source": [
    "# length of experiment (time in seconds)\n",
    "experiment_length = 60*30;\n",
    "# define a time vector to calculate the analytical solution at many different times at once (this is vectorization!)\n",
    "t = np.linspace(0.1, experiment_length, num=100)\n",
    "# Injection rate (mL/min)\n",
    "q = 5\n",
    "# Injected concentration\n",
    "C0 = 1\n",
    "# Initial concentration\n",
    "Ci = 0"
   ]
  },
  {
   "cell_type": "markdown",
   "metadata": {},
   "source": [
    "Now lets define some (arbitrary) column properties"
   ]
  },
  {
   "cell_type": "code",
   "execution_count": 19,
   "metadata": {},
   "outputs": [],
   "source": [
    "# Column length (cm)\n",
    "x = 10\n",
    "col_radius = 2.5\n",
    "# porosity\n",
    "phi = 0.3;\n",
    "# dispersivity [cm] \n",
    "dispersivity = 0.3 "
   ]
  },
  {
   "cell_type": "markdown",
   "metadata": {},
   "source": [
    "Note that the 'dispersivity' is the alpha in the equations from the course notes. This must be multiplied by the advection velocity to get dispersion. Lets calculate the dispersion."
   ]
  },
  {
   "cell_type": "code",
   "execution_count": 32,
   "metadata": {},
   "outputs": [
    {
     "name": "stdout",
     "output_type": "stream",
     "text": [
      "4.43113462726379\n",
      "advection velocity: 0.014147106052612919\n"
     ]
    }
   ],
   "source": [
    "# calculate advection velocity\n",
    "area = math.pi*(col_radius)**2\n",
    "v = q/60/area/phi # divide by 60 to get flow rate from cm/min to cm/sec\n",
    "print(\"advection velocity: \" + str(v))\n",
    "\n",
    "# Dispersion\n",
    "D = v*dispersivity"
   ]
  },
  {
   "cell_type": "markdown",
   "metadata": {},
   "source": [
    "#### What are the units of dispersion again?"
   ]
  },
  {
   "cell_type": "markdown",
   "metadata": {},
   "source": [
    "## Analytical solution: Type 1 boundary conditions and continous solute injection"
   ]
  },
  {
   "cell_type": "code",
   "execution_count": 21,
   "metadata": {},
   "outputs": [
    {
     "data": {
      "text/plain": [
       "[<matplotlib.lines.Line2D at 0x1de2a605c48>]"
      ]
     },
     "execution_count": 21,
     "metadata": {},
     "output_type": "execute_result"
    },
    {
     "data": {
      "image/png": "[encoded data removed]",
      "text/plain": [
       "<Figure size 432x288 with 1 Axes>"
      ]
     },
     "metadata": {
      "needs_background": "light"
     },
     "output_type": "display_data"
    }
   ],
   "source": [
    "# Analytical solution: See lecture slides or (Parker and van Genuchten, 1984) for details\n",
    "# Note that the '\\' means continued on the next line\n",
    "Conc_time_type1 = (1/2)*erfc((x - v*t)/(2*np.sqrt(D*t))) + \\\n",
    "    (1/2)*np.exp(v*x/D)*erfc((x + v*t)/(2*np.sqrt(D*t)))\n",
    "\n",
    "# Plot the results as a function of time\n",
    "plt.plot(t, Conc_time_type1)"
   ]
  },
  {
   "cell_type": "markdown",
   "metadata": {},
   "source": [
    "#### What do we call this plot again? Label the axis..."
   ]
  },
  {
   "cell_type": "markdown",
   "metadata": {},
   "source": [
    "## Analytical solution: Type 3 boundary conditions and continous solute injection"
   ]
  },
  {
   "cell_type": "code",
   "execution_count": 23,
   "metadata": {},
   "outputs": [
    {
     "data": {
      "text/plain": [
       "<matplotlib.legend.Legend at 0x1de2a6f7208>"
      ]
     },
     "execution_count": 23,
     "metadata": {},
     "output_type": "execute_result"
    },
    {
     "data": {
      "image/png": "[encoded data removed]",
      "text/plain": [
       "<Figure size 432x288 with 1 Axes>"
      ]
     },
     "metadata": {
      "needs_background": "light"
     },
     "output_type": "display_data"
    }
   ],
   "source": [
    "# Analytical solution: See lecture slides or (Parker and van Genuchten, 1984 eq 9b) for details\n",
    "Conc_time_type3 = (1/2)* erfc((x - v*t)/(2* np.sqrt(D*t))) + \\\n",
    "    np.sqrt((v**2*t)/(math.pi*D))* np.exp(-(x - v*t)**2/(4*D*t)) - \\\n",
    "    (1/2)*(1 + (v*x/D) + (v**2*t/D))* np.exp(v*x/D)* erfc((x + v*t)/(2* np.sqrt(D*t)))\n",
    "\n",
    "# Plot the results as a function of time\n",
    "c1, = plt.plot(t, Conc_time_type1, label='Type 1 Inlet BC')\n",
    "c2, = plt.plot(t, Conc_time_type3, label='Type 3 Inlet BC')\n",
    "\n",
    "# Format the plots\n",
    "plt.legend(handles=[c1, c2])"
   ]
  },
  {
   "cell_type": "markdown",
   "metadata": {},
   "source": [
    "## Activity:\n",
    "Using this code, evaluate the how the shape of the curves depends on the dispersion. Describe and discuss what you see.\n",
    "\n",
    "Next, use the principle of superposition to analytically describe a finite pulse of solute, as opposed to the continuous injection currently being modeled. See Parker and van Genuchten, 1984 eq 9a and 18a for a good starting point."
   ]
  }
 ],
 "metadata": {
  "kernelspec": {
   "display_name": "Python 3",
   "language": "python",
   "name": "python3"
  },
  "language_info": {
   "codemirror_mode": {
    "name": "ipython",
    "version": 3
   },
   "file_extension": ".py",
   "mimetype": "text/x-python",
   "name": "python",
   "nbconvert_exporter": "python",
   "pygments_lexer": "ipython3",
   "version": "3.7.6"
  }
 },
 "nbformat": 4,
 "nbformat_minor": 4
}
