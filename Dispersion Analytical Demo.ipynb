{
 "cells": [
  {
   "cell_type": "markdown",
   "metadata": {},
   "source": [
    "## Introduction"
   ]
  },
  {
   "cell_type": "markdown",
   "metadata": {},
   "source": [
    "In this activity we will use python to better understand the advection-dispersion equation and plot some of the solutions."
   ]
  },
  {
   "cell_type": "code",
   "execution_count": 1,
   "metadata": {},
   "outputs": [],
   "source": [
    "# Import the neccesary libraries\n",
    "# Import only the scipy.special.erfc (complementary error function) and \n",
    "#     scipy.special.erf (error function) from the scipy Library\n",
    "from scipy.special import erfc as erfc\n",
    "from scipy.special import erf as erf\n",
    "import numpy as np\n",
    "import math\n",
    "import matplotlib.pyplot as plt"
   ]
  },
  {
   "cell_type": "markdown",
   "metadata": {},
   "source": [
    "## Analytical model \n",
    "### Setup"
   ]
  },
  {
   "cell_type": "markdown",
   "metadata": {},
   "source": [
    "Now let's define some of the characteristics of the system that we want to model. For conceptual simplicity lets imagine a homogenous sand column, similiar to the ones you worked with in lab in GEOSCI/GEOENG 627. First define the initial (t=0) conditions and boundary conditions (inlet and outlet)."
   ]
  },
  {
   "cell_type": "code",
   "execution_count": 2,
   "metadata": {},
   "outputs": [],
   "source": [
    "# length of experiment (time in seconds)\n",
    "experiment_length = 60*30;\n",
    "# define a time vector to calculate the analytical solution at many different times at once (this is vectorization!)\n",
    "t = np.linspace(0.1, experiment_length, num=100)\n",
    "# Injection rate (mL/min)\n",
    "q = 5\n",
    "# Injected concentration\n",
    "C0 = 1\n",
    "# Initial concentration\n",
    "Ci = 0"
   ]
  },
  {
   "cell_type": "markdown",
   "metadata": {},
   "source": [
    "Now lets define some (arbitrary) column properties"
   ]
  },
  {
   "cell_type": "code",
   "execution_count": 3,
   "metadata": {},
   "outputs": [],
   "source": [
    "# Column length (cm)\n",
    "x = 10\n",
    "col_radius = 2.5\n",
    "# porosity\n",
    "phi = 0.3;\n",
    "# dispersivity [cm] \n",
    "dispersivity = 0.3 "
   ]
  },
  {
   "cell_type": "markdown",
   "metadata": {},
   "source": [
    "Note that the 'dispersivity' is the alpha in the equations from the course notes. This must be multiplied by the advection velocity to get dispersion. Lets calculate the dispersion."
   ]
  },
  {
   "cell_type": "code",
   "execution_count": 11,
   "metadata": {},
   "outputs": [
    {
     "name": "stdout",
     "output_type": "stream",
     "text": [
      "advection velocity: 0.014147106052612919\n",
      "0.004244131815783875\n"
     ]
    }
   ],
   "source": [
    "# calculate advection velocity\n",
    "area = math.pi*(col_radius)**2\n",
    "v = q/60/area/phi # divide by 60 to get flow rate from cm/min to cm/sec\n",
    "print(\"advection velocity: \" + str(v))\n",
    "\n",
    "# Dispersion\n",
    "D = v*dispersivity\n",
    "print(D)"
   ]
  },
  {
   "cell_type": "markdown",
   "metadata": {},
   "source": [
    "#### What are the units of dispersion again?"
   ]
  },
  {
   "cell_type": "markdown",
   "metadata": {},
   "source": [
    "### Analytical solution: Type 1 boundary conditions and continous solute injection"
   ]
  },
  {
   "cell_type": "code",
   "execution_count": 5,
   "metadata": {},
   "outputs": [
    {
     "data": {
      "text/plain": [
       "[<matplotlib.lines.Line2D at 0x267d32f1b48>]"
      ]
     },
     "execution_count": 5,
     "metadata": {},
     "output_type": "execute_result"
    },
    {
     "data": {
      "image/png": "[encoded data removed]",
      "text/plain": [
       "<Figure size 432x288 with 1 Axes>"
      ]
     },
     "metadata": {
      "needs_background": "light"
     },
     "output_type": "display_data"
    }
   ],
   "source": [
    "# Analytical solution: See lecture slides or (Parker and van Genuchten, 1984) for details\n",
    "def ADE_type1_fun(x, t, v, D, C0):\n",
    "    # Note that the '\\' means continued on the next line\n",
    "    C = C0*((1/2)*erfc((x - v*t)/(2*np.sqrt(D*t))) + \\\n",
    "        (1/2)*np.exp(v*x/D)*erfc((x + v*t)/(2*np.sqrt(D*t))))\n",
    "    # Return the concentration (C) from this function\n",
    "    return C\n",
    "\n",
    "# Now call our function\n",
    "Conc_time_type1 = ADE_type1_fun(x, t, v, D, C0)\n",
    "# Plot the results as a function of time\n",
    "plt.plot(t, Conc_time_type1)"
   ]
  },
  {
   "cell_type": "markdown",
   "metadata": {},
   "source": [
    "Note that the complementary error function (erfc) is back. Do you remember the shape of this curve from the diffusion demo?"
   ]
  },
  {
   "cell_type": "markdown",
   "metadata": {},
   "source": [
    "#### What do we call this plot again (concentration profile or breakthrough curve)? Label the axis..."
   ]
  },
  {
   "cell_type": "markdown",
   "metadata": {},
   "source": [
    "### Analytical solution: Type 3 boundary conditions and continous solute injection"
   ]
  },
  {
   "cell_type": "code",
   "execution_count": 7,
   "metadata": {},
   "outputs": [
    {
     "data": {
      "text/plain": [
       "<matplotlib.legend.Legend at 0x267cfbfe988>"
      ]
     },
     "execution_count": 7,
     "metadata": {},
     "output_type": "execute_result"
    },
    {
     "data": {
      "image/png": "[encoded data removed]",
      "text/plain": [
       "<Figure size 432x288 with 1 Axes>"
      ]
     },
     "metadata": {
      "needs_background": "light"
     },
     "output_type": "display_data"
    }
   ],
   "source": [
    "# Analytical solution: See lecture slides or (Parker and van Genuchten, 1984 eq 9b) for details\n",
    "def ADE_type3_fun(x, t, v, D, C0):\n",
    "    C = C0*((1/2)* erfc((x - v*t)/(2* np.sqrt(D*t))) + \\\n",
    "        np.sqrt((v**2*t)/(math.pi*D))* np.exp(-(x - v*t)**2/(4*D*t)) - \\\n",
    "        (1/2)*(1 + (v*x/D) + (v**2*t/D))* np.exp(v*x/D)* erfc((x + v*t)/(2* np.sqrt(D*t))))\n",
    "    return C\n",
    "    \n",
    "# Now call our function\n",
    "Conc_time_type3 = ADE_type3_fun(x, t, v, D, C0)\n",
    "\n",
    "# Plot the results as a function of time\n",
    "plt.plot(t, Conc_time_type1, label='Type 1 Inlet BC')\n",
    "plt.plot(t, Conc_time_type3, label='Type 3 Inlet BC')\n",
    "\n",
    "# Format the plots\n",
    "plt.legend()"
   ]
  },
  {
   "cell_type": "markdown",
   "metadata": {},
   "source": [
    "Note that the input and system geometry is identical except for the boundary conditions!"
   ]
  },
  {
   "cell_type": "markdown",
   "metadata": {},
   "source": [
    "## Activity:\n",
    "Using these functions, evaluate how the shape of the curves depends on the dispersion. Describe and discuss what you see. If two cores have identical geometry and flow rate conditions but different dispersion behavior, what does this mean? \n",
    "\n",
    "Next, use the principle of superposition to analytically describe a finite pulse of solute, as opposed to the continuous injection currently being modeled. See van Genuchten and Alves 1982 for formal descriptions and additional solutions."
   ]
  },
  {
   "cell_type": "markdown",
   "metadata": {},
   "source": [
    "### Principle of superposition "
   ]
  },
  {
   "cell_type": "markdown",
   "metadata": {},
   "source": [
    "As we saw in GEOSCI 627, the superposition of analytical solutions is a powerful tool for describing systems with more complex initial conditions. The principle of superposition\n",
    "\n",
    "To apply superposition we need a few conditions to be true. First, we need a “linear” differential equation. That is, one for which: a) the dependent variable and all its derivatives are of the first degree (i.e. the power on any dependent variable terms is one) b) the coefficients are constants or functions of only the independent variable(s) The second condition is that we the differential equation needs to be homogeneous. A linear differential equation is mathematically homogeneous if the term(s) without the dependent variable equal zero.\n",
    "\n",
    "When the advection-diffusion equation (ADE) is linear and homogeneous, sums of the solutions are also linear. This important condition allows us to use the principle of superposition to analytically solve the ADE and the diffusion equation for relative complex (i.e. mixed or inhomogeneous) boundary and initial conditions. As described by Bear (1972) \"The principle of superposition means that the presence of one boundary condition does not affect the response produced by the presence of other boundary or initial conditions. Therefore, to analyze the combined effect of a number of boundary conditions (excitations) we may start by solving for the effect of each individual excitation and then combine the results.\" For example, the principle of superposition is often used to analytically describe the transport behavior of finite pulse of solute.\n",
    "\n",
    "Work through the example below to see an illustration of this principle."
   ]
  },
  {
   "cell_type": "markdown",
   "metadata": {},
   "source": [
    "### Analytical solution: Type 1 boundary conditions and pulse solute injection"
   ]
  },
  {
   "cell_type": "code",
   "execution_count": 8,
   "metadata": {},
   "outputs": [
    {
     "name": "stderr",
     "output_type": "stream",
     "text": [
      "C:\\ProgramData\\Anaconda3\\lib\\site-packages\\ipykernel_launcher.py:4: RuntimeWarning: invalid value encountered in sqrt\n",
      "  after removing the cwd from sys.path.\n",
      "C:\\ProgramData\\Anaconda3\\lib\\site-packages\\ipykernel_launcher.py:5: RuntimeWarning: invalid value encountered in sqrt\n",
      "  \"\"\"\n"
     ]
    },
    {
     "data": {
      "text/plain": [
       "<matplotlib.legend.Legend at 0x267d361fc48>"
      ]
     },
     "execution_count": 8,
     "metadata": {},
     "output_type": "execute_result"
    },
    {
     "data": {
      "image/png": "[encoded data removed]",
      "text/plain": [
       "<Figure size 432x288 with 1 Axes>"
      ]
     },
     "metadata": {
      "needs_background": "light"
     },
     "output_type": "display_data"
    }
   ],
   "source": [
    "# Define the length of time of the pulse injection\n",
    "t_pulse = 60\n",
    "# Define the time array shifted by the length of pulse injection\n",
    "t_t0 = t-t_pulse\n",
    "\n",
    "# Now call our function\n",
    "Conc_time_type1_t = ADE_type1_fun(x, t, v, D, C0)\n",
    "Conc_time_type1_t_t0 = ADE_type1_fun(x, t_t0, v, D, C0)\n",
    "\n",
    "Conc_pulse_solution = Conc_time_type1_t - Conc_time_type1_t_t0\n",
    "\n",
    "# Plot the results as a function of time\n",
    "plt.plot(t, Conc_pulse_solution, label='Type 1 pulse')\n",
    "plt.plot(t, Conc_time_type1, label='Type 1 continuous')\n",
    "\n",
    "# Format the plots\n",
    "plt.legend()"
   ]
  },
  {
   "cell_type": "markdown",
   "metadata": {},
   "source": [
    "#### Side note\n",
    "If you started the 't' array from zero and then subtracted some time of injection then 't_t0 = t-t_pulse' will have negative numbers. Negative numbers in the 'erfc' and 'sqrt' function are what lead to the warning above. To make our function more robust we can use the ```np.real``` numpy function to our time variable inside the 'erfc' functions, or we can record the location of negative values of ```t``` (see 'indices_below_zero'). Set ```t``` at these locations equal to some arbitrary positive number, and then make sure to set the corresponding concentrations equal to zero."
   ]
  },
  {
   "cell_type": "code",
   "execution_count": 9,
   "metadata": {},
   "outputs": [],
   "source": [
    "# Analytical solution without errors when negative times are input\n",
    "def ADE_type1_real_fun(x, t, v, D, C0):\n",
    "    # Identify location of negative values in time array\n",
    "    indices_below_zero = t <= 0\n",
    "    if indices_below_zero.any() == True:\n",
    "        # set values equal to 1 (but this could be anything)\n",
    "        t[indices_below_zero] = 1\n",
    "    \n",
    "    # Note that the '\\' means continued on the next line\n",
    "    C = C0*((1/2)*erfc((x - v*t)/(2*np.sqrt(D*t))) + \\\n",
    "         (1/2)*np.exp(v*x/D)*erfc((x + v*t)/(2*np.sqrt(D*t))))\n",
    "    \n",
    "    if indices_below_zero.any() == True:\n",
    "        # Now set concentration at those negative times equal to 0\n",
    "        C[indices_below_zero] = 0\n",
    "        \n",
    "    # Return the concentration (C) from this function\n",
    "    return C"
   ]
  },
  {
   "cell_type": "code",
   "execution_count": 10,
   "metadata": {},
   "outputs": [
    {
     "data": {
      "text/plain": [
       "<matplotlib.legend.Legend at 0x267d36d8cc8>"
      ]
     },
     "execution_count": 10,
     "metadata": {},
     "output_type": "execute_result"
    },
    {
     "data": {
      "image/png": "[encoded data removed]",
      "text/plain": [
       "<Figure size 432x288 with 1 Axes>"
      ]
     },
     "metadata": {
      "needs_background": "light"
     },
     "output_type": "display_data"
    }
   ],
   "source": [
    "# Now call our function\n",
    "Conc_time_type1_t = ADE_type1_real_fun(x, t, v, D, C0)\n",
    "Conc_time_type1_t_t0 = ADE_type1_real_fun(x, t_t0, v, D, C0)\n",
    "\n",
    "Conc_pulse_solution = Conc_time_type1_t - Conc_time_type1_t_t0\n",
    "\n",
    "# Plot the results as a function of time\n",
    "plt.plot(t, Conc_pulse_solution, label='Type 1 pulse')\n",
    "plt.plot(t, Conc_time_type1, label='Type 1 continuous')\n",
    "plt.plot(t, Conc_time_type1_t_t0, label='Type 1 offset by pulse time')\n",
    "\n",
    "# Format the plots\n",
    "plt.legend()"
   ]
  },
  {
   "cell_type": "markdown",
   "metadata": {},
   "source": [
    "In the plot above the 'continous line' minus the 'offset by pulse time' equal the 'pulse' solution. Pretty cool huh!?"
   ]
  },
  {
   "cell_type": "markdown",
   "metadata": {},
   "source": [
    "How does changing ```t_pulse``` (in the first code cell of this activity) change the shape of the curve 'Type 1 pulse' curve? How would you determine the value of ```t_pulse``` if I asked you to model the case of 10 mL of solute injected?"
   ]
  },
  {
   "cell_type": "code",
   "execution_count": null,
   "metadata": {},
   "outputs": [],
   "source": []
  }
 ],
 "metadata": {
  "kernelspec": {
   "display_name": "Python 3",
   "language": "python",
   "name": "python3"
  },
  "language_info": {
   "codemirror_mode": {
    "name": "ipython",
    "version": 3
   },
   "file_extension": ".py",
   "mimetype": "text/x-python",
   "name": "python",
   "nbconvert_exporter": "python",
   "pygments_lexer": "ipython3",
   "version": "3.7.6"
  }
 },
 "nbformat": 4,
 "nbformat_minor": 4
}
