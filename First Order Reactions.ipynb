{
 "cells": [
  {
   "cell_type": "markdown",
   "metadata": {},
   "source": [
    "## Introduction"
   ]
  },
  {
   "cell_type": "markdown",
   "metadata": {},
   "source": [
    "In this activity we will explore first order kinetic reactions and see how we use analytical solutions to model the transport of solutes undergoing combined first order reactions and sorption reactions."
   ]
  },
  {
   "cell_type": "code",
   "execution_count": 1,
   "metadata": {},
   "outputs": [],
   "source": [
    "# Import the neccesary libraries\n",
    "from scipy.special import erfc as erfc\n",
    "import numpy as np\n",
    "import math\n",
    "import matplotlib.pyplot as plt"
   ]
  },
  {
   "cell_type": "markdown",
   "metadata": {},
   "source": [
    "## First order kinetic reactions\n",
    "Let's start with a few different radioisotopes with different half-lifes.\n",
    "\n",
    "$^{[18]}$F$_{t_{1/2}}=110$ min - positron-emitting isotope used in PET imaging experiments)\n",
    "\n",
    "$^{[222]}$R$_{t_{1/2}}=3.8$ days - Radon-222 is a dangerous isotope in the environment because its longer half-life allows it to permeate soil and rocks, where it is produced in trace quantities from decays of uranium-238, and concentrates in buildings and uranium mines.\n",
    "\n",
    "$^{[137]}$Cs$_{t_{1/2}}=30.17$ yrs - Caesium-137 is one of the principal sources of radiation in the zone of alienation around the [Chernobyl nuclear power plant](https://www.hbo.com/chernobyl), and poses health risks due to the long half-life and biological uptake."
   ]
  },
  {
   "cell_type": "code",
   "execution_count": 2,
   "metadata": {},
   "outputs": [],
   "source": [
    "# Define the half lifes in minutes\n",
    "half_life_f18 = 110\n",
    "half_life_r222 = 3.8*24*60\n",
    "half_life_cs137 = 30.17*365.25*24*60"
   ]
  },
  {
   "cell_type": "markdown",
   "metadata": {},
   "source": [
    "Let's define a function that takes a half-life ('t_half') and arrays of time ('t') in matching units to give concentration of isotope as a function of time."
   ]
  },
  {
   "cell_type": "code",
   "execution_count": 3,
   "metadata": {},
   "outputs": [],
   "source": [
    "# finish this function based on the equation from class\n",
    "def first_order_decay(t, t_half, C0):\n",
    "    C = 0 # fill in the correct equation!\n",
    "    return C"
   ]
  },
  {
   "cell_type": "code",
   "execution_count": 4,
   "metadata": {},
   "outputs": [],
   "source": [
    "# define our time array\n",
    "t = np.linspace(0, half_life_f18*15, num=100)"
   ]
  },
  {
   "cell_type": "code",
   "execution_count": 5,
   "metadata": {},
   "outputs": [
    {
     "data": {
      "text/plain": [
       "Text(0, 0.5, 'Normalized concentration [-]')"
      ]
     },
     "execution_count": 5,
     "metadata": {},
     "output_type": "execute_result"
    },
    {
     "data": {
      "image/png": "[encoded data removed]",
      "text/plain": [
       "<Figure size 432x288 with 1 Axes>"
      ]
     },
     "metadata": {
      "needs_background": "light"
     },
     "output_type": "display_data"
    }
   ],
   "source": [
    "# Call our function and plot the result (this will spit out errors until the function is properly defined)\n",
    "C_f18 = first_order_decay(t, half_life_f18, 1)\n",
    "\n",
    "# plt.plot(t/60, C_f18, label='F_{18}')\n",
    "plt.xlabel('Time [hr]')\n",
    "plt.ylabel('Normalized concentration [-]')"
   ]
  },
  {
   "cell_type": "markdown",
   "metadata": {},
   "source": [
    "#### What would the Radon-222 line look like over the same time? If this is the timescale of the transport processes, what isotope can be considered an equilibrium reaction and which should be treated as a kinetic reaction?"
   ]
  },
  {
   "cell_type": "markdown",
   "metadata": {},
   "source": [
    "## Analytical transport model \n",
    "### Setup"
   ]
  },
  {
   "cell_type": "markdown",
   "metadata": {},
   "source": [
    "Now let's use an analytical model to describe the transport of a solute experiencing a first-order reaction in a similiar column-scale system that we explored in our conservative solute examples. For conceptual simplicity lets imagine a homogenous sand column, similiar to the ones you worked with in lab in GEOSCI/GEOENG 627. First define the initial (t=0) conditions (Ci) and boundary conditions."
   ]
  },
  {
   "cell_type": "code",
   "execution_count": 6,
   "metadata": {},
   "outputs": [],
   "source": [
    "# length of experiment (time in seconds)\n",
    "experiment_length = 60*180;\n",
    "# define a time vector to calculate the analytical solution at many different times at once (this is vectorization!)\n",
    "t = np.linspace(0.1, experiment_length, num=1000)\n",
    "# If injecting a pulse give the time of pulse injection (in seconds)\n",
    "# for t0. If modeling a continous source then t0 = 0\n",
    "t0 = 0\n",
    "# Injection rate (mL/min)\n",
    "q = 2\n",
    "# Injected concentration\n",
    "C0 = 1\n",
    "# Initial concentration\n",
    "Ci = 0"
   ]
  },
  {
   "cell_type": "markdown",
   "metadata": {},
   "source": [
    "Now lets define some (arbitrary) column properties"
   ]
  },
  {
   "cell_type": "code",
   "execution_count": 7,
   "metadata": {},
   "outputs": [],
   "source": [
    "# Column length (cm)\n",
    "x = 10\n",
    "col_radius = 2.5\n",
    "# porosity\n",
    "phi = 0.3;\n",
    "# dispersivity [cm] \n",
    "dispersivity = 0.3 "
   ]
  },
  {
   "cell_type": "markdown",
   "metadata": {},
   "source": [
    "Note that the 'dispersivity' is the alpha in the equations from the course notes. Remember this must be multiplied by the advection velocity to get dispersion."
   ]
  },
  {
   "cell_type": "code",
   "execution_count": 8,
   "metadata": {},
   "outputs": [
    {
     "name": "stdout",
     "output_type": "stream",
     "text": [
      "advection velocity: 0.005658842421045167\n"
     ]
    }
   ],
   "source": [
    "# calculate advection velocity\n",
    "area = math.pi*(col_radius)**2\n",
    "v = q/60/area/phi # divide by 60 to get flow rate from cm/min to cm/sec\n",
    "print(\"advection velocity: \" + str(v))\n",
    "\n",
    "# Dispersion\n",
    "D = v*dispersivity"
   ]
  },
  {
   "cell_type": "markdown",
   "metadata": {},
   "source": [
    "### Reaction parameter input!"
   ]
  },
  {
   "cell_type": "code",
   "execution_count": 9,
   "metadata": {},
   "outputs": [],
   "source": [
    "# porous medium bulk density [g/cm^3]\n",
    "rhob = 1.700\n",
    "\n",
    "# emperical distribution coefficient describing the linear \n",
    "# adsorption isotherm [L^3/Mass]\n",
    "kd = 0.1"
   ]
  },
  {
   "cell_type": "markdown",
   "metadata": {},
   "source": [
    "This linear sorption parameter $K_d$ is what we explored in the [Sorption Isotherms notebook](https://github.com/zahasky/Contaminant-Hydrogeology-Activities/blob/master/Sorption%20Isotherms.ipynb). For a refersher, review this notebook."
   ]
  },
  {
   "cell_type": "code",
   "execution_count": 10,
   "metadata": {},
   "outputs": [],
   "source": [
    "# zero-order liquid phase source term\n",
    "gamma_w = 0.000\n",
    "gamma_s = 0.00000\n",
    "\n",
    "# first-order decay terms\n",
    "# F18\n",
    "mu_w = np.log(2)/(half_life_f18*60)\n",
    "\n",
    "# first-order solid phase decay constant\n",
    "mu_s = mu_w"
   ]
  },
  {
   "cell_type": "markdown",
   "metadata": {},
   "source": [
    "What does this $\\mu_w$ term correspond to in the course notes? What are the units?"
   ]
  },
  {
   "cell_type": "code",
   "execution_count": 11,
   "metadata": {},
   "outputs": [
    {
     "name": "stdout",
     "output_type": "stream",
     "text": [
      "Retardation factor: 1.5666666666666669\n"
     ]
    }
   ],
   "source": [
    "# Sorption parameter calculation\n",
    "# retardation factor (R)\n",
    "R = 1 + rhob*kd/phi\n",
    "print('Retardation factor: ' +str(R))\n",
    "\n",
    "# general zero-order constant\n",
    "gamma = gamma_w + gamma_s*rhob/phi\n",
    "\n",
    "# general first-order decay constant \n",
    "mu = mu_w + mu_s*rhob*kd/phi"
   ]
  },
  {
   "cell_type": "markdown",
   "metadata": {},
   "source": [
    "### Analytical solution: Type 1 boundary conditions with retardation"
   ]
  },
  {
   "cell_type": "markdown",
   "metadata": {},
   "source": [
    "Now is where things might get a little intimidating. These analytical solutions are really ugly looking but it's just more of the same of what we have already seen, now with a few extra parameters."
   ]
  },
  {
   "cell_type": "code",
   "execution_count": 12,
   "metadata": {},
   "outputs": [],
   "source": [
    "# Retardation with 1st type BC (equation C5)\n",
    "# 'u' term identical in equation c5 and c6 (type 3 inlet)\n",
    "# Write out the name of each of these variables\n",
    "def ADEwReactions_type1_fun(x, t, v, D, R, gamma, mu, C0, t0, Ci):\n",
    "    u = v*(1+(4*mu*D/v**2))**(1/2)\n",
    "    \n",
    "    # Note that the '\\' means continued on the next line\n",
    "    Atrf = np.exp(-mu*t/R)*(1- (1/2)* \\\n",
    "        erfc((R*x - v*t)/(2*(D*R*t)**(1/2))) - \\\n",
    "        (1/2)*np.exp(v*x/D)*erfc((R*x + v*t)/(2*(D*R*t)**(1/2))))\n",
    "    \n",
    "    # term with B(x, t)\n",
    "    Btrf = 1/2*np.exp((v-u)*x/(2*D))* \\\n",
    "        erfc((R*x - u*t)/(2*(D*R*t)**(1/2))) \\\n",
    "        + 1/2*np.exp((v+u)*x/(2*D))* erfc((R*x + u*t)/ \\\n",
    "        (2*(D*R*t)**(1/2)))\n",
    "    \n",
    "    # if a pulse type injection\n",
    "    if t0 > 0:\n",
    "        tt0 = t - t0\n",
    "        \n",
    "        indices_below_zero = tt0 <= 0\n",
    "        # set values equal to 1 (but this could be anything)\n",
    "        tt0[indices_below_zero] = 1\n",
    "    \n",
    "        Bttrf = 1/2*np.exp((v-u)*x/(2*D))* \\\n",
    "            erfc((R*x - u*tt0)/(2*(D*R*tt0)**(1/2))) \\\n",
    "            + 1/2*np.exp((v+u)*x/(2*D))* erfc((R*x + u*tt0)/ \\\n",
    "            (2*(D*R*tt0)**(1/2)))\n",
    "        \n",
    "        # Now set concentration at those negative times equal to 0\n",
    "        Bttrf[indices_below_zero] = 0\n",
    "        if mu >0:\n",
    "            C_out = (gamma/mu)+ (Ci- gamma/mu)*Atrf + \\\n",
    "                (C0 - gamma/mu)*Btrf - C0*Bttrf\n",
    "        else:\n",
    "            C_out = Ci*Atrf + C0 *Btrf - C0*Bttrf\n",
    "            \n",
    "    else: # if a continous injection then ignore the Bttrf term (no superposition)\n",
    "        if mu >0:\n",
    "            C_out = (gamma/mu)+ (Ci- gamma/mu)*Atrf + (C0 - gamma/mu)*Btrf;\n",
    "        else: # if mu = 0 then we would get nans\n",
    "            C_out = (Ci)*Atrf + (C0)*Btrf\n",
    "        \n",
    "    \n",
    "    # Return the concentration (C) from this function\n",
    "    return C_out"
   ]
  },
  {
   "cell_type": "code",
   "execution_count": 13,
   "metadata": {},
   "outputs": [
    {
     "data": {
      "text/plain": [
       "Text(0.5, 0, 'Time [minutes]')"
      ]
     },
     "execution_count": 13,
     "metadata": {},
     "output_type": "execute_result"
    },
    {
     "data": {
      "image/png": "[encoded data removed]",
      "text/plain": [
       "<Figure size 432x288 with 1 Axes>"
      ]
     },
     "metadata": {
      "needs_background": "light"
     },
     "output_type": "display_data"
    }
   ],
   "source": [
    "# Now call our function\n",
    "Retard_pulse_solution = ADEwReactions_type1_fun(x, t, v, D, R, gamma, mu, C0, t0, Ci)\n",
    "# Plot the results as a function of time\n",
    "plt.plot(t/60, Retard_pulse_solution)\n",
    "plt.xlabel('Time [minutes]')"
   ]
  },
  {
   "cell_type": "markdown",
   "metadata": {},
   "source": [
    "## Activity:\n",
    "### Comparison with conservative solute transport analytical model\n",
    "To better evaulate how different parameters impact the model results, let's compare our reaction model results with the conservative solute transport model. We can use the same function as we defined above but now the retardation is equal to 1 ($k_d = 0$) and our first (```mu```) and zero order (```gamma```) reaction terms are equal to zero."
   ]
  },
  {
   "cell_type": "code",
   "execution_count": 14,
   "metadata": {},
   "outputs": [
    {
     "data": {
      "text/plain": [
       "<matplotlib.legend.Legend at 0x1e78f9cef10>"
      ]
     },
     "execution_count": 14,
     "metadata": {},
     "output_type": "execute_result"
    },
    {
     "data": {
      "image/png": "[encoded data removed]",
      "text/plain": [
       "<Figure size 432x288 with 1 Axes>"
      ]
     },
     "metadata": {
      "needs_background": "light"
     },
     "output_type": "display_data"
    }
   ],
   "source": [
    "# Now call our reaction function with R = 1, gamma =0 and mu = 0\n",
    "Conservative_pulse_solution = ADEwReactions_type1_fun(x, t, v, D, 1, 0, 0, C0, t0, Ci)\n",
    "\n",
    "# Plot the results as a function of time\n",
    "c1, = plt.plot(t, Retard_pulse_solution, label='retarded and decayed')\n",
    "c2, = plt.plot(t, Conservative_pulse_solution, label='conservative')\n",
    "\n",
    "# Format the plots\n",
    "plt.legend(handles=[c1, c2])\n",
    "\n",
    "# Finish labeling this plot"
   ]
  },
  {
   "cell_type": "markdown",
   "metadata": {},
   "source": [
    "What controls the concentration of the breakthrough curve plateau? What controls the delay in the mean arrival time? \n",
    "\n",
    "### Zero-order term\n",
    "What happens if the first order term is zero but the zero-order liquid phase source term (```gamma_w```) is equal to 0.0001? How is that different if (```gamma_s```) is equal to 0.0001? What does this physically correspond to?\n",
    "\n",
    "### Finite pulse length\n",
    "If you have time, explore the breakthrough curve behavior for pulse injections (with superposition). This is already implemented into the ```ADEwReactions_type1_fun``` function. To run the function with a finite pulse length the ```t0``` variable must be greater than zero. The value assigned to this variable gives the pulse injection time in seconds. To begin, define ```t0 = 60``` and keep all other parameters the same."
   ]
  },
  {
   "cell_type": "code",
   "execution_count": null,
   "metadata": {},
   "outputs": [],
   "source": []
  }
 ],
 "metadata": {
  "kernelspec": {
   "display_name": "Python 3 (ipykernel)",
   "language": "python",
   "name": "python3"
  },
  "language_info": {
   "codemirror_mode": {
    "name": "ipython",
    "version": 3
   },
   "file_extension": ".py",
   "mimetype": "text/x-python",
   "name": "python",
   "nbconvert_exporter": "python",
   "pygments_lexer": "ipython3",
   "version": "3.9.7"
  }
 },
 "nbformat": 4,
 "nbformat_minor": 4
}
