{
 "cells": [
  {
   "cell_type": "markdown",
   "metadata": {},
   "source": [
    "## Introduction"
   ]
  },
  {
   "cell_type": "markdown",
   "metadata": {},
   "source": [
    "In this activity we will use python to better understand the advection-dispersion equation and plot some of the solutions."
   ]
  },
  {
   "cell_type": "code",
   "execution_count": 21,
   "metadata": {},
   "outputs": [],
   "source": [
    "# Import the neccesary libraries\n",
    "# Import only the scipy.special.erfc (complementary error function) and \n",
    "#     scipy.special.erf (error function) from the scipy Library\n",
    "from scipy.special import erfc as erfc\n",
    "from scipy.special import erf as erf\n",
    "import numpy as np\n",
    "import math\n",
    "import matplotlib.pyplot as plt"
   ]
  },
  {
   "cell_type": "markdown",
   "metadata": {},
   "source": [
    "## First order kinetic reactions\n",
    "Let's start with a few different radioisotopes with different half-lifes.\n",
    "\n",
    "$^{[18]}$F$_{t_{1/2}}=110$ min - positron-emitting isotope used in PET imaging experiments)\n",
    "\n",
    "$^{[222]}$R$_{t_{1/2}}=3.8$ days - Radon-222 is a dangerous isotope in the environment because its longer half-life allows it to permeate soil and rocks, where it is produced in trace quantities from decays of uranium-238, and concentrates in buildings and uranium mines.\n",
    "\n",
    "$^{[137]}$Cs$_{t_{1/2}}=30.17$ yrs - Caesium-137 is one of the principal sources of radiation in the zone of alienation around the [Chernobyl nuclear power plant](https://www.hbo.com/chernobyl), and poses health risks due to the long half-life and biological uptake."
   ]
  },
  {
   "cell_type": "code",
   "execution_count": 22,
   "metadata": {},
   "outputs": [],
   "source": [
    "# Define the half lifes in minutes\n",
    "half_life_f18 = 110\n",
    "half_life_r222 = 3.8*24*60\n",
    "half_life_cs137 = 30.17*365.25*24*60"
   ]
  },
  {
   "cell_type": "markdown",
   "metadata": {},
   "source": [
    "Let's define a function that takes a half-life ('t_half') and arrays of time ('t') in matching units to give concentration of isotope as a function of time."
   ]
  },
  {
   "cell_type": "code",
   "execution_count": 23,
   "metadata": {},
   "outputs": [],
   "source": [
    "# finish this function based on the equation from class\n",
    "def first_order_decay(t, t_half, C0):\n",
    "#     C =  fill in the correct equation!\n",
    "    return C"
   ]
  },
  {
   "cell_type": "code",
   "execution_count": 24,
   "metadata": {},
   "outputs": [],
   "source": [
    "# define our time array\n",
    "t = np.linspace(0, half_life_f18*15, num=100)"
   ]
  },
  {
   "cell_type": "code",
   "execution_count": 25,
   "metadata": {},
   "outputs": [
    {
     "ename": "NameError",
     "evalue": "name 'C' is not defined",
     "output_type": "error",
     "traceback": [
      "\u001b[1;31m---------------------------------------------------------------------------\u001b[0m",
      "\u001b[1;31mNameError\u001b[0m                                 Traceback (most recent call last)",
      "\u001b[1;32m<ipython-input-25-c461fec45d32>\u001b[0m in \u001b[0;36m<module>\u001b[1;34m\u001b[0m\n\u001b[0;32m      1\u001b[0m \u001b[1;31m# Call our function and plot the result (this will spit out errors until the function is properly defined)\u001b[0m\u001b[1;33m\u001b[0m\u001b[1;33m\u001b[0m\u001b[1;33m\u001b[0m\u001b[0m\n\u001b[1;32m----> 2\u001b[1;33m \u001b[0mC_f18\u001b[0m \u001b[1;33m=\u001b[0m \u001b[0mfirst_order_decay\u001b[0m\u001b[1;33m(\u001b[0m\u001b[0mt\u001b[0m\u001b[1;33m,\u001b[0m \u001b[0mhalf_life_f18\u001b[0m\u001b[1;33m,\u001b[0m \u001b[1;36m1\u001b[0m\u001b[1;33m)\u001b[0m\u001b[1;33m\u001b[0m\u001b[1;33m\u001b[0m\u001b[0m\n\u001b[0m\u001b[0;32m      3\u001b[0m \u001b[1;33m\u001b[0m\u001b[0m\n\u001b[0;32m      4\u001b[0m \u001b[0mplt\u001b[0m\u001b[1;33m.\u001b[0m\u001b[0mplot\u001b[0m\u001b[1;33m(\u001b[0m\u001b[0mt\u001b[0m\u001b[1;33m/\u001b[0m\u001b[1;36m60\u001b[0m\u001b[1;33m,\u001b[0m \u001b[0mC_f18\u001b[0m\u001b[1;33m,\u001b[0m \u001b[0mlabel\u001b[0m\u001b[1;33m=\u001b[0m\u001b[1;34m'F_{18}'\u001b[0m\u001b[1;33m)\u001b[0m\u001b[1;33m\u001b[0m\u001b[1;33m\u001b[0m\u001b[0m\n\u001b[0;32m      5\u001b[0m \u001b[0mplt\u001b[0m\u001b[1;33m.\u001b[0m\u001b[0mxlabel\u001b[0m\u001b[1;33m(\u001b[0m\u001b[1;34m'Time [hr]'\u001b[0m\u001b[1;33m)\u001b[0m\u001b[1;33m\u001b[0m\u001b[1;33m\u001b[0m\u001b[0m\n",
      "\u001b[1;32m<ipython-input-23-dff40afe3ccb>\u001b[0m in \u001b[0;36mfirst_order_decay\u001b[1;34m(t, t_half, C0)\u001b[0m\n\u001b[0;32m      2\u001b[0m \u001b[1;32mdef\u001b[0m \u001b[0mfirst_order_decay\u001b[0m\u001b[1;33m(\u001b[0m\u001b[0mt\u001b[0m\u001b[1;33m,\u001b[0m \u001b[0mt_half\u001b[0m\u001b[1;33m,\u001b[0m \u001b[0mC0\u001b[0m\u001b[1;33m)\u001b[0m\u001b[1;33m:\u001b[0m\u001b[1;33m\u001b[0m\u001b[1;33m\u001b[0m\u001b[0m\n\u001b[0;32m      3\u001b[0m \u001b[1;31m#     C =  fill in the correct equation!\u001b[0m\u001b[1;33m\u001b[0m\u001b[1;33m\u001b[0m\u001b[1;33m\u001b[0m\u001b[0m\n\u001b[1;32m----> 4\u001b[1;33m     \u001b[1;32mreturn\u001b[0m \u001b[0mC\u001b[0m\u001b[1;33m\u001b[0m\u001b[1;33m\u001b[0m\u001b[0m\n\u001b[0m",
      "\u001b[1;31mNameError\u001b[0m: name 'C' is not defined"
     ]
    }
   ],
   "source": [
    "# Call our function and plot the result (this will spit out errors until the function is properly defined)\n",
    "C_f18 = first_order_decay(t, half_life_f18, 1)\n",
    "\n",
    "plt.plot(t/60, C_f18, label='F_{18}')\n",
    "plt.xlabel('Time [hr]')\n",
    "plt.ylabel('Normalized concentration [-]')"
   ]
  },
  {
   "cell_type": "markdown",
   "metadata": {},
   "source": [
    "#### What would the Radon-222 line look like over the same time? If this is the timescale of the transport processes, which isotope can be considered an equilibrium reaction and which should be treated as a kinetic reaction?"
   ]
  },
  {
   "cell_type": "markdown",
   "metadata": {},
   "source": [
    "## Analytical transport model \n",
    "### Setup"
   ]
  },
  {
   "cell_type": "markdown",
   "metadata": {},
   "source": [
    "Now let's use an analtyical model to describe the transport of a solute experiencing a first-order reaction in a similiar column-scale system that we explored in our conservative solute examples. For conceptual simplicity lets imagine a homogenous sand column, similiar to the ones you worked with in lab in GEOSCI/GEOENG 627. First define the initial (t=0) conditions (Ci) and boundary conditions."
   ]
  },
  {
   "cell_type": "code",
   "execution_count": 68,
   "metadata": {},
   "outputs": [],
   "source": [
    "# length of experiment (time in seconds)\n",
    "experiment_length = 60*180;\n",
    "# define a time vector to calculate the analytical solution at many different times at once (this is vectorization!)\n",
    "t = np.linspace(0.1, experiment_length, num=1000)\n",
    "# If injecting a pulse give the time of pulse injection (in seconds)\n",
    "# for t0. If modeling a continous source then t0 = 0\n",
    "t0 = 0\n",
    "# Injection rate (mL/min)\n",
    "q = 2\n",
    "# Injected concentration\n",
    "C0 = 1\n",
    "# Initial concentration\n",
    "Ci = 0"
   ]
  },
  {
   "cell_type": "markdown",
   "metadata": {},
   "source": [
    "Now lets define some (arbitrary) column properties"
   ]
  },
  {
   "cell_type": "code",
   "execution_count": 69,
   "metadata": {},
   "outputs": [],
   "source": [
    "# Column length (cm)\n",
    "x = 10\n",
    "col_radius = 2.5\n",
    "# porosity\n",
    "phi = 0.3;\n",
    "# dispersivity [cm] \n",
    "dispersivity = 0.3 "
   ]
  },
  {
   "cell_type": "markdown",
   "metadata": {},
   "source": [
    "Note that the 'dispersivity' is the alpha in the equations from the course notes. This must be multiplied by the advection velocity to get dispersion. Lets calculate the dispersion."
   ]
  },
  {
   "cell_type": "code",
   "execution_count": 70,
   "metadata": {},
   "outputs": [
    {
     "name": "stdout",
     "output_type": "stream",
     "text": [
      "advection velocity: 0.005658842421045167\n"
     ]
    }
   ],
   "source": [
    "# calculate advection velocity\n",
    "area = math.pi*(col_radius)**2\n",
    "v = q/60/area/phi # divide by 60 to get flow rate from cm/min to cm/sec\n",
    "print(\"advection velocity: \" + str(v))\n",
    "\n",
    "# Dispersion\n",
    "D = v*dispersivity"
   ]
  },
  {
   "cell_type": "markdown",
   "metadata": {},
   "source": [
    "Reaction parameter input!"
   ]
  },
  {
   "cell_type": "code",
   "execution_count": 71,
   "metadata": {},
   "outputs": [],
   "source": [
    "# porous medium bulk density [g/cm^3]\n",
    "rho = 1.700\n",
    "\n",
    "# emperical distribution coefficient describing the linear \n",
    "# adsorption isotherm [L^3/Mass]\n",
    "k = 0.1\n",
    "\n",
    "# zero-order liquid phase source term\n",
    "gamma_w = 0.00000\n",
    "gamma_s = 0.00000\n",
    "\n",
    "# first-order decay terms\n",
    "# F18\n",
    "mu_w = np.log(2)/(half_life_f18*60)\n",
    "\n",
    "# first-order solid phase decay constant\n",
    "mu_s = mu_w"
   ]
  },
  {
   "cell_type": "markdown",
   "metadata": {},
   "source": [
    "#### What is the equation for calculating retardation (R)?"
   ]
  },
  {
   "cell_type": "markdown",
   "metadata": {},
   "source": [
    "Retardation, first order, and zero order calculations"
   ]
  },
  {
   "cell_type": "code",
   "execution_count": 72,
   "metadata": {},
   "outputs": [
    {
     "name": "stdout",
     "output_type": "stream",
     "text": [
      "1.5666666666666669\n"
     ]
    }
   ],
   "source": [
    "# Sorption parameter calculation\n",
    "# retardation factor (R)\n",
    "R = 1 + rho*k/phi\n",
    "print(R)\n",
    "\n",
    "# general zero-order constant\n",
    "gamma = gamma_w + gamma_s*rho/phi\n",
    "\n",
    "# general first-order decay constant \n",
    "mu = mu_w + mu_s*rho*k/phi"
   ]
  },
  {
   "cell_type": "markdown",
   "metadata": {},
   "source": [
    "### Analytical solution: Type 1 boundary conditions with retardation"
   ]
  },
  {
   "cell_type": "code",
   "execution_count": 73,
   "metadata": {},
   "outputs": [
    {
     "data": {
      "text/plain": [
       "[<matplotlib.lines.Line2D at 0x22d5bdb9648>]"
      ]
     },
     "execution_count": 73,
     "metadata": {},
     "output_type": "execute_result"
    },
    {
     "data": {
      "image/png": "[encoded data removed]",
      "text/plain": [
       "<Figure size 432x288 with 1 Axes>"
      ]
     },
     "metadata": {
      "needs_background": "light"
     },
     "output_type": "display_data"
    }
   ],
   "source": [
    "# Retardation with 1st type BC (equation C5)\n",
    "# 'u' term identical in equation c5 and c6 (type 3 inlet)\n",
    "# Write out the name of each of these variables\n",
    "def ADEwR_type1_fun(x, t, v, D, R, gamma, mu, C0, t0, Ci):\n",
    "    u = v*(1+(4*mu*D/v**2))**(1/2)\n",
    "    \n",
    "    # Note that the '\\' means continued on the next line\n",
    "    Atrf = np.exp(-mu*t/R)*(1- (1/2)* \\\n",
    "        erfc((R*x - v*t)/(2*(D*R*t)**(1/2))) - \\\n",
    "        (1/2)*np.exp(v*x/D)*erfc((R*x + v*t)/(2*(D*R*t)**(1/2))))\n",
    "    \n",
    "    # term with B(x, t)\n",
    "    Btrf = 1/2*np.exp((v-u)*x/(2*D))* \\\n",
    "        erfc((R*x - u*t)/(2*(D*R*t)**(1/2))) \\\n",
    "        + 1/2*np.exp((v+u)*x/(2*D))* erfc((R*x + u*t)/ \\\n",
    "        (2*(D*R*t)**(1/2)))\n",
    "    \n",
    "    # if a pulse type injection\n",
    "    if t0 > 0:\n",
    "        tt0 = t - t0\n",
    "        \n",
    "        indices_below_zero = tt0 <= 0\n",
    "        # set values equal to 1 (but this could be anything)\n",
    "        tt0[indices_below_zero] = 1\n",
    "    \n",
    "        Bttrf = 1/2*np.exp((v-u)*x/(2*D))* \\\n",
    "            erfc((R*x - u*tt0)/(2*(D*R*tt0)**(1/2))) \\\n",
    "            + 1/2*np.exp((v+u)*x/(2*D))* erfc((R*x + u*tt0)/ \\\n",
    "            (2*(D*R*tt0)**(1/2)))\n",
    "        \n",
    "        # Now set concentration at those negative times equal to 0\n",
    "        Bttrf[indices_below_zero] = 0\n",
    "        \n",
    "        C_out = (gamma/mu)+ (Ci- gamma/mu)*Atrf + \\\n",
    "            (C0 - gamma/mu)*Btrf - C0*Bttrf\n",
    "        \n",
    "    else: # if a continous injection then ignore the Bttrf term (no superposition)\n",
    "        if mu >0:\n",
    "            C_out = (gamma/mu)+ (Ci- gamma/mu)*Atrf + (C0 - gamma/mu)*Btrf;\n",
    "        else: # if mu = 0 then we would get nans\n",
    "            C_out = (Ci)*Atrf + (C0)*Btrf\n",
    "        \n",
    "    \n",
    "    # Return the concentration (C) from this function\n",
    "    return C_out\n",
    "\n",
    "# Now call our function\n",
    "Retard_pulse_solution = ADEwR_type1_fun(x, t, v, D, R, gamma, mu, C0, t0, Ci)\n",
    "# Plot the results as a function of time\n",
    "plt.plot(t, Retard_pulse_solution)"
   ]
  },
  {
   "cell_type": "markdown",
   "metadata": {},
   "source": [
    "### Analytical solution: Type 1 boundary conditions and continous solute injection with no reactions"
   ]
  },
  {
   "cell_type": "code",
   "execution_count": 77,
   "metadata": {},
   "outputs": [
    {
     "data": {
      "text/plain": [
       "<matplotlib.legend.Legend at 0x22d5cecde08>"
      ]
     },
     "execution_count": 77,
     "metadata": {},
     "output_type": "execute_result"
    },
    {
     "data": {
      "image/png": "[encoded data removed]",
      "text/plain": [
       "<Figure size 432x288 with 1 Axes>"
      ]
     },
     "metadata": {
      "needs_background": "light"
     },
     "output_type": "display_data"
    }
   ],
   "source": [
    "# Analytical solution with built in superposotion\n",
    "def ADE_type1_real_super_fun(x, t, v, D, C0, t0):\n",
    "    # Note that the '\\' means continued on the next line\n",
    "    C = C0*((1/2)*erfc((x - v*t)/(2*np.sqrt(D*t))) + \\\n",
    "         (1/2)*np.exp(v*x/D)*erfc((x + v*t)/(2*np.sqrt(D*t))))\n",
    "    \n",
    "    # if a pulse type injection\n",
    "    if t0 > 0:\n",
    "        tt0 = t - t0\n",
    "        # Identify location of negative values in time array\n",
    "        indices_below_zero = tt0 <= 0\n",
    "        # set values equal to 1 (but this could be anything)\n",
    "        tt0[indices_below_zero] = 1\n",
    "        # Note that the '\\' means continued on the next line\n",
    "        C_t0 = C0*((1/2)*erfc((x - v*t0)/(2*np.sqrt(D*t0))) + \\\n",
    "             (1/2)*np.exp(v*x/D)*erfc((x + v*t0)/(2*np.sqrt(D*t0))))\n",
    "    \n",
    "        # Now set concentration at those negative times equal to 0\n",
    "        C_t0[indices_below_zero] = 0\n",
    "        \n",
    "        C_out = C - C_t0\n",
    "        \n",
    "    else:\n",
    "            C_out = C\n",
    "        \n",
    "    # Return the concentration (C) from this function\n",
    "    return C_out\n",
    "    \n",
    "# Now call our function\n",
    "Conservative_pulse_solution = ADE_type1_real_super_fun(x, t, v, D, C0, t0)\n",
    "\n",
    "# Plot the results as a function of time\n",
    "c1, = plt.plot(t, Retard_pulse_solution, label='retarded and decayed')\n",
    "c2, = plt.plot(t, Conservative_pulse_solution, label='conservative')\n",
    "\n",
    "# Format the plots\n",
    "plt.legend(handles=[c1, c2])"
   ]
  },
  {
   "cell_type": "code",
   "execution_count": 75,
   "metadata": {},
   "outputs": [],
   "source": [
    "# % Infinite length, type 3 inlet\n",
    "#     % ADE solution with 1st type BC\n",
    "#     Atrv = exp(-mu.*t./R).*(1- (1/2).*erfc((R.*x - v.*t)./(2*(D.*R.*t).^(1/2))) - ...\n",
    "#         (v.^2.*t/(pi*D*R)).^(1/2).*exp(-(R.*x - v.*t).^2./(4.*D.*R.*t)) + ...\n",
    "#         (1/2).*(1 + v.*x./D + v.^2.*t./(D*R)).*exp(v.*x./D).* ...\n",
    "#         erfc((R.*x + v.*t)./(2*(D.*R.*t).^(1/2))));\n",
    "    \n",
    "#     % term with B(x, t)\n",
    "#     Btrv = (v./(v+u)).*exp((v-u).*x./(2*D)).* erfc((R.*x - u.*t)./(2.*(D.*R.*t).^(1/2))) + ...\n",
    "#         (v./(v-u)).*exp((v+u).*x./(2*D)).* erfc((R.*x + u.*t)./(2.*(D.*R.*t).^(1/2))) + ...\n",
    "#         (v.^2/(2*mu*D)).*exp((v.*x./D) - (mu.*t./R)).* ...\n",
    "#         erfc((R.*x + v.*t)./(2.*(D.*R.*t).^(1/2)));\n",
    "    \n",
    "#     % if continous injection\n",
    "#     if injection_style == 0\n",
    "#         if mu >0\n",
    "#             C_out = (gamma/mu)+ (Ci- gamma/mu).*Atrv + (C0 - gamma/mu).*Btrv;\n",
    "#         else % if mu = 0 then we would get nans\n",
    "#             C_out = (Ci).*Atrv + (C0).*Btrv ;\n",
    "#         end\n",
    "        \n",
    "#     % else if pulse injection\n",
    "#     elseif injection_style == 1\n",
    "#         % calculate pulse injection length\n",
    "#         % varargin{1} is equal to t_inj\n",
    "#         tt0 = t - varargin{1};\n",
    "        \n",
    "#         % If you started the 't' array from zero and then subtracted some time\n",
    "#         % of injection then 'tt0' will have negative numbers. Negative numbers\n",
    "#         % in the 'erfc' function will lead to errors so to correct for\n",
    "#         % this I have added the 'real' function inside the 'erfc' functions.\n",
    "#         % After 'Bttrv' is calculated these imaginary/negative values are set to\n",
    "#         % zero\n",
    "#         Bttrv = (v./(v+u)).*exp((v-u).*x./(2*D)).* erfc(real((R.*x - u.*tt0)./(2.*(D.*R.*tt0).^(1/2)))) + ...\n",
    "#             (v./(v-u)).*exp((v+u).*x./(2*D)).* erfc(real((R.*x + u.*tt0)./(2.*(D.*R.*tt0).^(1/2)))) + ...\n",
    "#             (v.^2/(2*mu*D)).*exp((v.*x./D) - (mu.*tt0./R)).* ...\n",
    "#             erfc(real((R.*x + v.*tt0)./(2.*(D.*R.*tt0).^(1/2))));\n",
    "        \n",
    "#         % Set imaginary values to 0\n",
    "#         Bttrv(tt0 <= 0) = 0;\n",
    "        \n",
    "#         % calculation concentration via superposition\n",
    "#         C_out = (gamma/mu)+ (Ci- gamma/mu).*Atrv + (C0 - gamma/mu).*Btrv - C0.*Bttrv;\n",
    "#     end"
   ]
  },
  {
   "cell_type": "markdown",
   "metadata": {},
   "source": [
    "Note that the input and system geometry is identical except for the boundary conditions!"
   ]
  },
  {
   "cell_type": "markdown",
   "metadata": {},
   "source": [
    "## Activity:\n",
    "Using these functions, evaluate the how the shape of the curves depends on the dispersion. Describe and discuss what you see. If two cores have identical geometry and flow rate conditions but different dispersion behavior, what does this mean? \n",
    "\n",
    "Next, use the principle of superposition to analytically describe a finite pulse of solute, as opposed to the continuous injection currently being modeled. See van Genuchten and Alves 1982 for formal descriptions and additional solutions."
   ]
  },
  {
   "cell_type": "code",
   "execution_count": null,
   "metadata": {},
   "outputs": [],
   "source": []
  }
 ],
 "metadata": {
  "kernelspec": {
   "display_name": "Python 3",
   "language": "python",
   "name": "python3"
  },
  "language_info": {
   "codemirror_mode": {
    "name": "ipython",
    "version": 3
   },
   "file_extension": ".py",
   "mimetype": "text/x-python",
   "name": "python",
   "nbconvert_exporter": "python",
   "pygments_lexer": "ipython3",
   "version": "3.7.6"
  }
 },
 "nbformat": 4,
 "nbformat_minor": 4
}
