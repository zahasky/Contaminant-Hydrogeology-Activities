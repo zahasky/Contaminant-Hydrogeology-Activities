{
 "cells": [
  {
   "cell_type": "markdown",
   "metadata": {},
   "source": [
    "## Introduction\n",
    "This notebook is designed to become familiar with the shapes of different functions used to describe sorption behavior that can strongly influence transport processes in the subsurface.\n",
    "\n",
    "First we import the libraries that we need"
   ]
  },
  {
   "cell_type": "code",
   "execution_count": null,
   "metadata": {},
   "outputs": [],
   "source": [
    "%matplotlib widget\n",
    "import ipywidgets as widgets\n",
    "import numpy as np\n",
    "import matplotlib.pyplot as plt\n",
    "from scipy.special import erfc as erfc\n",
    "import math"
   ]
  },
  {
   "cell_type": "markdown",
   "metadata": {},
   "source": [
    "## Isotherms\n",
    "### Linear isotherm\n",
    "\n",
    "Run the cell and use different values of $K_d$ to see how this changes the adsorption. "
   ]
  },
  {
   "cell_type": "code",
   "execution_count": null,
   "metadata": {
    "tags": []
   },
   "outputs": [],
   "source": [
    "# set up plot\n",
    "fig, ax = plt.subplots(figsize=(6, 4))\n",
    "ax.set_xlim([0, 1])\n",
    "ax.set_ylim([0, 1])\n",
    "ax.grid(True)\n",
    "ax.set_xlabel('Aqueous concentration')\n",
    "ax.set_ylabel('Sorbed concentration')\n",
    "ax.set_title('Linear isotherm')\n",
    " \n",
    "# We will use numpy to build vector arrays to plot different isotherms. First define aqueous phase solute concentration\n",
    "C = np.linspace(0, 1, 100)\n",
    "\n",
    "def linear_isotherm(C, Kd):\n",
    "    \"\"\"\n",
    "    Return an isotherm with a slope equal to Kd\n",
    "    \"\"\"\n",
    "    return Kd*C\n",
    " \n",
    "@widgets.interact(Kd=(0.01, 1, 0.01))\n",
    "def update(Kd = 0.5):\n",
    "    \"\"\"Remove old lines from plot and plot new one\"\"\"\n",
    "    [l.remove() for l in ax.lines]\n",
    "    ax.plot(C, linear_isotherm(C, Kd), color='k')"
   ]
  },
  {
   "cell_type": "markdown",
   "metadata": {
    "tags": []
   },
   "source": [
    "What are the units of $K_d$? How does the retardation coefficient vary with changes in $K_d$? \n",
    "\n",
    "Assume the porosity is 0.3 and bulk density ($\\rho_b$) is equal to 1.6. What are the units of bulk density? Fill in the equation to calculate retardation"
   ]
  },
  {
   "cell_type": "code",
   "execution_count": null,
   "metadata": {},
   "outputs": [],
   "source": [
    "rhob = 1.6\n",
    "phi = 0.3\n",
    "# R = Fill this in"
   ]
  },
  {
   "cell_type": "markdown",
   "metadata": {},
   "source": [
    "### Langmuir isotherm\n",
    "\n",
    "Use the scroll bars to plot different values of $\\alpha$ and $\\beta$ and see how this changes the adsorption isotherm. Think about how these parameters correspond to the extent of adsorption (total amount sorbed to solid)."
   ]
  },
  {
   "cell_type": "code",
   "execution_count": null,
   "metadata": {
    "tags": []
   },
   "outputs": [],
   "source": [
    "# set up plot\n",
    "fig, ax = plt.subplots(figsize=(6, 4))\n",
    "ax.set_xlim([0, 1])\n",
    "ax.set_ylim([0, 1])\n",
    "ax.grid(True)\n",
    "ax.set_xlabel('Aqueous concentration')\n",
    "ax.set_ylabel('Sorbed concentration')\n",
    "ax.set_title('Langmuir isotherm')\n",
    "\n",
    "# Function to return a langmuir isotherm\n",
    "def langmuir_isotherm(C, alpha, beta):\n",
    "    return alpha*beta*C/(1+ alpha*C)\n",
    " \n",
    "# Make interactive plot\n",
    "@widgets.interact(alpha=(0, 20, 0.1), beta=(0.1, 2, 0.1))\n",
    "def update(alpha = 1.0, beta = 1.0):\n",
    "    \"\"\"Remove old lines from plot and plot new one\"\"\"\n",
    "    [l.remove() for l in ax.lines]\n",
    "    ax.plot(C, langmuir_isotherm(C, alpha, beta), color='k')"
   ]
  },
  {
   "cell_type": "markdown",
   "metadata": {},
   "source": [
    "### Freundlich isotherm\n",
    "\n",
    "Plug in different values of $K_f$ and $N$ to see how this changes the adsorption. Describe how these parameters correspond to the extent of adsorption."
   ]
  },
  {
   "cell_type": "code",
   "execution_count": null,
   "metadata": {
    "tags": []
   },
   "outputs": [],
   "source": [
    "# set up plot\n",
    "fig, ax = plt.subplots(figsize=(6, 4))\n",
    "ax.set_xlim([0, 1])\n",
    "ax.set_ylim([0, 1])\n",
    "ax.grid(True)\n",
    "ax.set_xlabel('Aqueous concentration')\n",
    "ax.set_ylabel('Sorbed concentration')\n",
    "ax.set_title('Freundlich isotherm')\n",
    "\n",
    "# Function to return a Freundlich isotherm\n",
    "def freundlich_isotherm(C, kf, N):\n",
    "    return kf*C**N\n",
    "\n",
    "# Make interactive plot\n",
    "@widgets.interact(Kf=(0.01, 1, 0.01), N=(0.01, 1.2, 0.01))\n",
    "def update(Kf = 1.0, N = 1.0):\n",
    "    \"\"\"Remove old lines from plot and plot new one\"\"\"\n",
    "    [l.remove() for l in ax.lines]\n",
    "    ax.plot(C, freundlich_isotherm(C, Kf, N), color='k')"
   ]
  },
  {
   "cell_type": "markdown",
   "metadata": {},
   "source": [
    "## Transport with linear adsorption\n",
    "Use the analytical solution given in the lecture slides to define a function that can be used model solute transport with retardation. Use the solution with a constant concentration inlet condition in a semi-infinitely long system. As a useful starting point below is the analytical solution for the same boundary and initial conditions without retardation from the [Dispersion Analytical Demo notebook](https://github.com/zahasky/Contaminant-Hydrogeology-Activities/blob/master/Dispersion%20Analytical%20Demo.ipynb)."
   ]
  },
  {
   "cell_type": "code",
   "execution_count": null,
   "metadata": {},
   "outputs": [],
   "source": [
    "# Analytical solution, REVISE TO ADD R\n",
    "def ADE_type1_Rfun(x, t, v, D, R, C0):\n",
    "    # Note that the '\\' means continued on the next line\n",
    "    C = C0*((1/2)*erfc((x - v*t)/(2*np.sqrt(D*t))) + \\\n",
    "        (1/2)*np.exp(v*x/D)*erfc((x + v*t)/(2*np.sqrt(D*t))))\n",
    "    # Return the concentration (C) from this function\n",
    "    return C"
   ]
  },
  {
   "cell_type": "code",
   "execution_count": null,
   "metadata": {},
   "outputs": [],
   "source": [
    "# Define the input. Model a near surface aquifer with an observation well 100 meters from the source\n",
    "x = 100 # meters\n",
    "t = np.linspace(0.1, 365, num=200) # days\n",
    "v = 0.7 # meter/day\n",
    "D = 1.2 # meters\n",
    "C0 = 1\n",
    "\n",
    "# use a few values of R that you defined above\n",
    "R = 2\n"
   ]
  },
  {
   "cell_type": "code",
   "execution_count": null,
   "metadata": {},
   "outputs": [],
   "source": [
    "# Now call our function\n",
    "C_btc = ADE_type1_Rfun(x, t, v, D, R, C0)\n",
    "C_btc_con = ADE_type1_Rfun(x, t, v, D, 1, C0)\n",
    "# Plot the results as a function of time\n",
    "fig, ax = plt.subplots(figsize=(6, 4))\n",
    "plt.plot(t, C_btc, label = 'R=2')\n",
    "plt.plot(t, C_btc_con, label = 'conservative')\n",
    "ax.set_xlabel('Time')\n",
    "plt.legend()\n",
    "plt.show()"
   ]
  },
  {
   "cell_type": "markdown",
   "metadata": {},
   "source": [
    "Label the axes of the plot. \n",
    "\n",
    "#### How does the mean arrival time vary with changes in $K_d$?\n",
    "\n",
    "If there is time, expand the analytical model for a source of finite size (i.e. a pulse). How does the solid phase adsorption vary as aqueous concentration increases and then decreases? \n",
    "\n",
    "#### Once the plume has completely passed and the aqueous solute concentration is zero, what is the solid phase concentration? \n",
    "\n",
    "Discuss the limiations of this linear model."
   ]
  },
  {
   "cell_type": "code",
   "execution_count": null,
   "metadata": {},
   "outputs": [],
   "source": []
  }
 ],
 "metadata": {
  "kernelspec": {
   "display_name": "Python 3 (ipykernel)",
   "language": "python",
   "name": "python3"
  },
  "language_info": {
   "codemirror_mode": {
    "name": "ipython",
    "version": 3
   },
   "file_extension": ".py",
   "mimetype": "text/x-python",
   "name": "python",
   "nbconvert_exporter": "python",
   "pygments_lexer": "ipython3",
   "version": "3.9.18"
  }
 },
 "nbformat": 4,
 "nbformat_minor": 4
}
