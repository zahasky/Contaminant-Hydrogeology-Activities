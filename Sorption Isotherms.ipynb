{
 "cells": [
  {
   "cell_type": "markdown",
   "metadata": {},
   "source": [
    "## Introduction\n",
    "This notebook is designed to become familiar with the shapes of different functions used to describe sorption behavior that can strongly influence transport processes in the subsurface.\n",
    "\n",
    "First we import the libraries that we need"
   ]
  },
  {
   "cell_type": "code",
   "execution_count": null,
   "metadata": {},
   "outputs": [],
   "source": [
    "import numpy as np\n",
    "import matplotlib.pyplot as plt\n",
    "from scipy.special import erfc as erfc\n",
    "import math"
   ]
  },
  {
   "cell_type": "markdown",
   "metadata": {},
   "source": [
    "We will use numpy to build vector arrays to plot different isotherms."
   ]
  },
  {
   "cell_type": "code",
   "execution_count": null,
   "metadata": {},
   "outputs": [],
   "source": [
    "# first define aqueous phase solute concentration\n",
    "C = np.linspace(0, 1, num=50)\n",
    "print(C)"
   ]
  },
  {
   "cell_type": "markdown",
   "metadata": {},
   "source": [
    "## Isotherms\n",
    "### Linear isotherm\n",
    "\n",
    "Plug in different values of $K_d$ to see how this changes the adsorption. "
   ]
  },
  {
   "cell_type": "code",
   "execution_count": null,
   "metadata": {},
   "outputs": [],
   "source": [
    "Kd = 1\n",
    "\n",
    "# Now calculate mass sorption\n",
    "Cs = Kd*C"
   ]
  },
  {
   "cell_type": "markdown",
   "metadata": {},
   "source": [
    "#### What are the units of $K_d$?"
   ]
  },
  {
   "cell_type": "code",
   "execution_count": null,
   "metadata": {},
   "outputs": [],
   "source": [
    "# Plot the results\n",
    "plt.plot(C,Cs)\n",
    "\n",
    "# Add axis labels with correct units"
   ]
  },
  {
   "cell_type": "markdown",
   "metadata": {},
   "source": [
    "#### How does the retardation coefficient vary with changes in $K_d$? Assume the porosity is 0.3 and bulk density ($\\rho_b$) is equal to 1.6. What are the units of bulk density?"
   ]
  },
  {
   "cell_type": "code",
   "execution_count": null,
   "metadata": {},
   "outputs": [],
   "source": [
    "rhob = 1.6\n",
    "phi = 0.3\n",
    "# R = Fill this in"
   ]
  },
  {
   "cell_type": "markdown",
   "metadata": {},
   "source": [
    "### Langmuir isotherm\n",
    "\n",
    "Plug in different values of $\\alpha$ and $\\beta$ to see how this changes the adsorption isotherm. Think about how these parameters correspond to the extent of adsorption (total amount sorbed to solid)."
   ]
  },
  {
   "cell_type": "code",
   "execution_count": null,
   "metadata": {},
   "outputs": [],
   "source": [
    "alpha = 6\n",
    "beta = 4\n",
    "# Now calculate mass sorption\n",
    "# Cs_langmuir = \n",
    "\n",
    "# Plot the results\n",
    "# plt.plot(C,Cs_langmuir)"
   ]
  },
  {
   "cell_type": "markdown",
   "metadata": {},
   "source": [
    "### Freundlich isotherm\n",
    "\n",
    "Plug in different values of $K_f$ and $N$ to see how this changes the adsorption. Describe how these parameters correspond to the extent of adsorption."
   ]
  },
  {
   "cell_type": "code",
   "execution_count": null,
   "metadata": {},
   "outputs": [],
   "source": [
    "kf = 7\n",
    "N = 0.75\n",
    "# Now calculate mass sorption\n",
    "# Cs_freundlich = \n",
    "\n",
    "# Plot the results\n",
    "# plt.plot(C,Cs_freundlich)"
   ]
  },
  {
   "cell_type": "markdown",
   "metadata": {},
   "source": [
    "## Transport with linear adsorption\n",
    "Use the analytical solution given in the lecture slides to define a function that can be used model solute transport with retardation. Use the solution with a constant concentration inlet condition in a semi-infinitely long system. As a useful starting point below is the analytical solution for the same boundary and initial conditions without retardation from the [Dispersion Analytical Demo notebook](https://github.com/zahasky/Contaminant-Hydrogeology-Activities/blob/master/Dispersion%20Analytical%20Demo.ipynb)."
   ]
  },
  {
   "cell_type": "code",
   "execution_count": null,
   "metadata": {},
   "outputs": [],
   "source": [
    "# Analytical solution, REVISE TO ADD R\n",
    "def ADE_type1_Rfun(x, t, v, D, R, C0):\n",
    "    # Note that the '\\' means continued on the next line\n",
    "    C = C0*((1/2)*erfc((x - v*t)/(2*np.sqrt(D*t))) + \\\n",
    "        (1/2)*np.exp(v*x/D)*erfc((x + v*t)/(2*np.sqrt(D*t))))\n",
    "    # Return the concentration (C) from this function\n",
    "    return C"
   ]
  },
  {
   "cell_type": "code",
   "execution_count": null,
   "metadata": {},
   "outputs": [],
   "source": [
    "# Define the input. Model a near surface aquifer with an observation well 100 meters from the source\n",
    "x = 100 # meters\n",
    "t = np.linspace(0.1, 365, num=200) # days\n",
    "v = 0.7 # meter/day\n",
    "D = 1.2 # meters\n",
    "C0 = 1\n",
    "\n",
    "# use a few values of R that you defined above\n",
    "R = 1\n"
   ]
  },
  {
   "cell_type": "code",
   "execution_count": null,
   "metadata": {},
   "outputs": [],
   "source": [
    "# Now call our function\n",
    "C_btc = ADE_type1_Rfun(x, t, v, D, R, C0)\n",
    "# Plot the results as a function of time\n",
    "plt.plot(t, C_btc)"
   ]
  },
  {
   "cell_type": "markdown",
   "metadata": {},
   "source": [
    "Label the axes of the plot. \n",
    "\n",
    "#### How does the mean arrival time vary with changes in $K_d$?\n",
    "\n",
    "If there is time, expand the analytical model for a source of finite size (i.e. a pulse). How does the solid phase adsorption vary as aqueous concentration increases and then decreases? \n",
    "\n",
    "#### Once the plume has completely passed and the aqueous solute concentration is zero, what is the solid phase concentration? \n",
    "\n",
    "Discuss the limiations of this linear model."
   ]
  },
  {
   "cell_type": "code",
   "execution_count": null,
   "metadata": {},
   "outputs": [],
   "source": []
  }
 ],
 "metadata": {
  "kernelspec": {
   "display_name": "Python 3 (ipykernel)",
   "language": "python",
   "name": "python3"
  },
  "language_info": {
   "codemirror_mode": {
    "name": "ipython",
    "version": 3
   },
   "file_extension": ".py",
   "mimetype": "text/x-python",
   "name": "python",
   "nbconvert_exporter": "python",
   "pygments_lexer": "ipython3",
   "version": "3.9.7"
  }
 },
 "nbformat": 4,
 "nbformat_minor": 4
}
