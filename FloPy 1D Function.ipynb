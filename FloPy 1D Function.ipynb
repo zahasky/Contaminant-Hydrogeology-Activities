{
 "cells": [
  {
   "cell_type": "markdown",
   "metadata": {},
   "source": [
    "## Introduction\n",
    "This is an introduction to using FloPy within a model-specific function. If you haven't installed Flopy, go back to the [MODFLOW and FloPy setup notebook](https://github.com/zahasky/Contaminant-Hydrogeology-Activities/blob/master/MODFLOW%2C%20Python%2C%20and%20FloPy%20Setup.ipynb) and the [FloPy Introduction notebook](https://github.com/zahasky/Contaminant-Hydrogeology-Activities/blob/master/FloPy%20Introduction.ipynb).\n",
    "\n",
    "Import the standard libraries"
   ]
  },
  {
   "cell_type": "code",
   "execution_count": 1,
   "metadata": {},
   "outputs": [
    {
     "data": {
      "text/plain": [
       "True"
      ]
     },
     "execution_count": 1,
     "metadata": {},
     "output_type": "execute_result"
    }
   ],
   "source": [
    "# Import a few libraries\n",
    "import sys\n",
    "import os\n",
    "import numpy as np\n",
    "import matplotlib.pyplot as plt\n",
    "import pathlib\n",
    "# Import the flopy library\n",
    "import flopy\n",
    "'flopy' in sys.modules #True"
   ]
  },
  {
   "cell_type": "markdown",
   "metadata": {},
   "source": [
    "First find where you have your MODFLOW and MT3D executables located on your system."
   ]
  },
  {
   "cell_type": "code",
   "execution_count": 2,
   "metadata": {},
   "outputs": [
    {
     "name": "stdout",
     "output_type": "stream",
     "text": [
      "C:\\Hydro\\MF2005.1_12\\bin\\mf2005.exe\n",
      "C:\\Hydro\\mt3dusgs1.1.0\\bin\\mt3d-usgs_1.1.0_64.exe\n"
     ]
    }
   ],
   "source": [
    "# Path to MODFLOW executable, probably called 'mf2005'\n",
    "exe_name_mf = 'C:\\\\Hydro\\\\MF2005.1_12\\\\bin\\\\mf2005.exe'\n",
    "# Print to make sure it is formated correctly\n",
    "print(exe_name_mf)\n",
    "# Path to MT3D-USGS executable, probably called 'mt3dms'\n",
    "exe_name_mt = 'C:\\\\Hydro\\\\mt3dusgs1.1.0\\\\bin\\\\mt3d-usgs_1.1.0_64.exe'\n",
    "# Print to make sure it is formated correctly\n",
    "print(exe_name_mt)"
   ]
  },
  {
   "cell_type": "markdown",
   "metadata": {},
   "source": [
    "Let's use the same directory to save the data as the FloPy introduction and then create a path to this workspace. It may be useful to understand your current working directory, this should be whereever you have this notebook saved. You can double check this with the command 'os.getcwd()'."
   ]
  },
  {
   "cell_type": "code",
   "execution_count": 3,
   "metadata": {},
   "outputs": [
    {
     "name": "stdout",
     "output_type": "stream",
     "text": [
      "C:\\Users\\zahas\\Dropbox\\Teaching\\Contaminant hydro 629\\Contaminant-Hydrogeology-Activities\n"
     ]
    }
   ],
   "source": [
    "# This should return a path to your current working directory\n",
    "current_directory = os.getcwd()\n",
    "print(current_directory)"
   ]
  },
  {
   "cell_type": "code",
   "execution_count": 4,
   "metadata": {},
   "outputs": [
    {
     "name": "stdout",
     "output_type": "stream",
     "text": [
      "C:\\Users\\zahas\\Dropbox\\Teaching\\Contaminant hydro 629\\Notebooks_unpublished\n"
     ]
    }
   ],
   "source": [
    "# if this is not where you want to save stuff then make a new folder and set this to be the new working directory\n",
    "# define path\n",
    "path = pathlib.Path('C:\\\\Users\\\\zahas\\\\Dropbox\\\\Teaching\\\\Contaminant hydro 629\\\\Notebooks_unpublished')\n",
    "# if folder doesn't exist then make it \n",
    "path.mkdir(parents=True, exist_ok=True)\n",
    "# set working directory to this new folder\n",
    "os.chdir(path)\n",
    "current_directory = os.getcwd()\n",
    "print(current_directory)"
   ]
  },
  {
   "cell_type": "code",
   "execution_count": 5,
   "metadata": {},
   "outputs": [],
   "source": [
    "# directory to save data\n",
    "directory_name = 'data_1D_model'\n",
    "# directory to save data\n",
    "datadir = os.path.join('..', directory_name, 'mt3d_test', 'mt3dms')\n",
    "workdir = os.path.join('.', directory_name)"
   ]
  },
  {
   "cell_type": "markdown",
   "metadata": {},
   "source": [
    "Notice however that we don't yet name the folder where we will save data 'dirname'. This will be an input to our model function.\n",
    "\n",
    "\n",
    "## 1D Model Function\n",
    "The first thing we do is setup the function. We will use nearly identical settings as we used in the [FloPy Introduction notebook](https://github.com/zahasky/Contaminant-Hydrogeology-Activities/blob/master/FloPy%20Introduction.ipynb) example, but now we are providing a few input variables that can be changed everytime we call the model. The input variables are:\n",
    "\n",
    "### Function Input:\n",
    "#### directory name\n",
    "    direname = \n",
    "\n",
    "#### period length \n",
    "Time is in selected units, the model time length is the sum of this (for steady state flow it can be set to anything). The format for multi-period input: ```[60., 15*60]```\n",
    " \n",
    "    perlen_mf = \n",
    "    \n",
    "#### advection velocity\n",
    "Note that this is only an approximate advection flow rate in due to the way that the inlet boundary conditions are being assigned in the MODFLOW BAS6 - Basic Package. More rigorous constraint of constant flux boundaries require the Flow and Head Boundary Package, the Well Package, or the Recharge Package.\n",
    "\n",
    "    v = \n",
    "    \n",
    "#### dispersivity\n",
    "Set the longitudinal dispersivity in selected units. What are the units again?\n",
    "\n",
    "    al = \n",
    "    \n",
    "#### itype\n",
    "An integer indicating the type of solute source condition. ```itype = -1``` corresponds to a constant concentration boundary (first-type boundary conditions in our analytical solutions) and ```itype = 1``` is equivalent to third type boundary conditions in our analytical solution.  \n",
    "\n",
    "    itype = \n",
    "    "
   ]
  },
  {
   "cell_type": "code",
   "execution_count": 13,
   "metadata": {},
   "outputs": [],
   "source": [
    "def model_1D(dirname, perlen_mf, v, al, itype):\n",
    "    # Model workspace and new sub-directory\n",
    "    model_ws = os.path.join(workdir, dirname)\n",
    "    print(model_ws)\n",
    "    \n",
    "    # time units (itmuni in discretization package), unfortunately this entered differently into MODFLOW and MT3D\n",
    "    # 1 = seconds, 2 = minutes, 3 = hours, 4 = days, 5 = years\n",
    "    itmuni = 1 # MODFLOW\n",
    "    mt_tunit = 'S' # MT3D units\n",
    "    # length units (lenuniint in discretization package)\n",
    "    # 0 = undefined, 1 = feet, 2 = meters, 3 = centimeters\n",
    "    lenuni = 3 # MODFLOW units\n",
    "    mt_lunit = 'CM' # MT3D units\n",
    "    \n",
    "    # number of stress periods (MF input), calculated from period length input\n",
    "    nper = len(perlen_mf)\n",
    "    \n",
    "    # Frequency of output, If nprs > 0 results will be saved at \n",
    "    #     the times as specified in timprs; \n",
    "    nprs = 100\n",
    "    # timprs (list of float): The total elapsed time at which the simulation \n",
    "    #     results are saved. The number of entries in timprs must equal nprs. (default is None).\n",
    "    timprs = np.linspace(0, np.sum(perlen_mf), nprs, endpoint=False)\n",
    "    \n",
    "    # Model information \n",
    "    nlay = 1 # number of layers\n",
    "    nrow = 1 # number of rows\n",
    "    ncol = 101 # number of columns\n",
    "    delv = 4.4 # grid size in direction of Lz\n",
    "    delc = 4.4 # grid size in direction of Ly, this was choosen such that the model has the same cross-sectional area as the column from the dispersion notebook example\n",
    "    delr = 0.1 # grid size in direction of Lx\n",
    "    laytyp = 0\n",
    "    \n",
    "    # length of model in selected units \n",
    "    Lx = (ncol - 1) * delr\n",
    "    print(\"Model length is: \" + str(Lx + delr) + \" (check units of 'lenuni')\")\n",
    "    \n",
    "    # hydraulic conductivity\n",
    "    hk = 1.\n",
    "    # advection velocity (function input)\n",
    "    # v = 0.014\n",
    "    # porosity\n",
    "    prsity = 0.3\n",
    "    # discharge (again in selected units)\n",
    "    q = v * prsity\n",
    "    print(\"Discharge = \" + str(q))\n",
    "    \n",
    "    # Flow field boundary conditions (variables for the BAS package)\n",
    "    # boundary conditions, <0 = specified head, 0 = no flow, >0 variable head\n",
    "    ibound = np.ones((nlay, nrow, ncol), dtype=int)\n",
    "    # index the inlet cell\n",
    "    ibound[0, 0, 0] = -1\n",
    "    # index the outlet cell\n",
    "    ibound[0, 0, -1] = -1\n",
    "    # constant head conditions\n",
    "    strt = np.zeros((nlay, nrow, ncol), dtype=float)\n",
    "    h1 = q * Lx / hk\n",
    "    # index the inlet cell\n",
    "    strt[0, 0, 0] = h1\n",
    "    print(\"head differential across column = \" + str(h1) + \" (check units of 'lenuni')\")\n",
    "    \n",
    "    # Solute transport boundary conditions\n",
    "    # Concentration at inlet boundary\n",
    "    c0 = 1.\n",
    "\n",
    "    # Boundary conditions: if icbund = 0, the cell is an inactive concentration cell; \n",
    "    # If icbund < 0, the cell is a constant-concentration cell; \n",
    "    # If icbund > 0, the cell is an active concentration cell where the concentration value will be calculated.\n",
    "    icbund = np.ones((nlay, nrow, ncol), dtype=int)\n",
    "\n",
    "    # Initial conditions: initial concentration zero everywhere\n",
    "    sconc = np.zeros((nlay, nrow, ncol), dtype=float)\n",
    "    \n",
    "    # Itype is an integer indicating the type of source.\n",
    "    # 1 = equivalent to type 3 BCs\n",
    "    # 2 = well, 3 = drain, -1 = constant concentration\n",
    "    # itype = -1\n",
    "    spd_mt = {0:[0, 0, 0, c0, itype]}\n",
    "    \n",
    "    # Setup models\n",
    "    # MODFLOW model name\n",
    "    modelname_mf = dirname + '_mf'\n",
    "    # Assign name and create modflow model object\n",
    "    mf = flopy.modflow.Modflow(modelname=modelname_mf, model_ws=model_ws, exe_name=exe_name_mf)\n",
    "    # MODFLOW model discretization package class\n",
    "    dis = flopy.modflow.ModflowDis(mf, nlay=nlay, nrow=nrow, ncol=ncol, nper=nper,\n",
    "                                   delr=delr, delc=delc, top=0., botm=[0 - delv],\n",
    "                                   perlen=perlen_mf, itmuni=itmuni, lenuni=lenuni)\n",
    "    # MODFLOW basic package class\n",
    "    bas = flopy.modflow.ModflowBas(mf, ibound=ibound, strt=strt)\n",
    "    # MODFLOW layer properties flow package class\n",
    "    lpf = flopy.modflow.ModflowLpf(mf, hk=hk, laytyp=laytyp)\n",
    "    # MODFLOW preconditioned conjugate-gradient package class\n",
    "    pcg = flopy.modflow.ModflowPcg(mf)\n",
    "    # MODFLOW Link-MT3DMS Package Class (this is the package for solute transport)\n",
    "    lmt = flopy.modflow.ModflowLmt(mf)\n",
    "    \n",
    "    mf.write_input()\n",
    "    mf.run_model(silent=True) # Set this to false to produce output in command window\n",
    "    \n",
    "    # RUN MT3dms solute tranport \n",
    "    modelname_mt = dirname + '_mt'\n",
    "    # MT3DMS model object\n",
    "    # Input: modelname = 'string', namefile_ext = 'string' (Extension for the namefile (the default is 'nam'))\n",
    "    # modflowmodelflopy.modflow.mf.Modflow = This is a flopy Modflow model object upon which this Mt3dms model is based. (the default is None)\n",
    "    mt = flopy.mt3d.Mt3dms(modelname=modelname_mt, model_ws=model_ws, \n",
    "                           exe_name=exe_name_mt, modflowmodel=mf)  \n",
    "    \n",
    "    \n",
    "    # Basic transport package class\n",
    "    btn = flopy.mt3d.Mt3dBtn(mt, icbund=icbund, prsity=prsity, sconc=sconc, \n",
    "                             tunit=mt_tunit, lunit=mt_lunit, nprs=nprs, timprs=timprs)\n",
    "    \n",
    "    # Advection package class\n",
    "    # mixelm is an integer flag for the advection solution option, \n",
    "    # mixelm = 0 is the standard finite difference method with upstream or central in space weighting.\n",
    "    # mixelm = 1 is the forward tracking method of characteristics, this produces minimal numerical dispersion.\n",
    "    # mixelm = 2 is the backward tracking\n",
    "    # mixelm = 3 is the hybrid method (HMOC)\n",
    "    # mixelm = -1 is the third-ord TVD scheme (ULTIMATE)\n",
    "    mixelm = -1\n",
    "    # percel is the Courant number for numerical stability (≤ 1)\n",
    "    adv = flopy.mt3d.Mt3dAdv(mt, mixelm=mixelm, percel=0.5)\n",
    "    \n",
    "    # Dispersion package class\n",
    "    dsp = flopy.mt3d.Mt3dDsp(mt, al=al)\n",
    "    # source/sink package\n",
    "    ssm = flopy.mt3d.Mt3dSsm(mt, stress_period_data=spd_mt)\n",
    "    # matrix solver package, may want to add cclose=1e-6 to define the convergence criterion in terms of relative concentration\n",
    "    gcg = flopy.mt3d.Mt3dGcg(mt, cclose=1e-6)\n",
    "    # write mt3dms input\n",
    "    mt.write_input()\n",
    "    \n",
    "    # run mt3dms\n",
    "    mt.run_model(silent=True)\n",
    "\n",
    "    # Extract output\n",
    "    fname = os.path.join(model_ws, 'MT3D001.UCN')\n",
    "    ucnobj = flopy.utils.UcnFile(fname)\n",
    "    # Extract the output time information, convert from list to np array\n",
    "    times = np.array(ucnobj.get_times())\n",
    "    # Extract the 4D concentration values (t, z, y, x)\n",
    "    conc = ucnobj.get_alldata()\n",
    "    \n",
    "    return mf, mt, times, conc"
   ]
  },
  {
   "cell_type": "markdown",
   "metadata": {},
   "source": [
    "Now lets trying running a model by calling our 'model_1D' function"
   ]
  },
  {
   "cell_type": "code",
   "execution_count": 14,
   "metadata": {
    "scrolled": true
   },
   "outputs": [
    {
     "name": "stdout",
     "output_type": "stream",
     "text": [
      ".\\data_1D_model\\run1\n",
      "Model length is: 10.1 (check units of 'lenuni')\n",
      "Discharge = 0.0042\n",
      "head differential across column = 0.041999999999999996 (check units of 'lenuni')\n"
     ]
    }
   ],
   "source": [
    "dirname = 'run1'\n",
    "perlen_mf = [30*60] \n",
    "v = 0.014\n",
    "al = 0.8 # cm\n",
    "# itype 1 is flow weighted solute input, itype -1 is constant concentration\n",
    "itype = -1\n",
    "\n",
    "# Call the FloPy model function\n",
    "mf, mt, times, conc = model_1D(dirname, perlen_mf, v, al, itype)"
   ]
  },
  {
   "cell_type": "markdown",
   "metadata": {},
   "source": [
    "Now let's plot the model output as a function of time"
   ]
  },
  {
   "cell_type": "code",
   "execution_count": 15,
   "metadata": {},
   "outputs": [
    {
     "data": {
      "image/png": "[encoded data removed]",
      "text/plain": [
       "<Figure size 640x480 with 1 Axes>"
      ]
     },
     "metadata": {},
     "output_type": "display_data"
    }
   ],
   "source": [
    "C_btc = conc[:, 0, 0, -1]\n",
    "plt.plot(times/60, C_btc, label='Breakthrough Curve')\n",
    "plt.xlabel('Time [min]')\n",
    "plt.show()"
   ]
  },
  {
   "cell_type": "markdown",
   "metadata": {},
   "source": [
    "## 1D Analytical Solution Function\n",
    "Now lets compare the numerical results with the analytical solution we looked at in our previous notebook. Note the addition of the finite length outlet boundary conditions with type 1 inlet conditions (Equation A3 in van Genuchtena and Alves, 1982)."
   ]
  },
  {
   "cell_type": "code",
   "execution_count": 16,
   "metadata": {},
   "outputs": [],
   "source": [
    "# Remember that we need a few special functions\n",
    "from scipy.special import erfc as erfc\n",
    "from scipy.special import erf as erf\n",
    "\n",
    "# Type 1 inlet conditions, infinite solution\n",
    "def analytical_model_1D_t1(x, t, v, al):\n",
    "    # Dispersion\n",
    "    D = v*al\n",
    "    # Analytical solution: See lecture slides or (Parker and van Genuchten, 1984) for details\n",
    "    # Note that the '\\' means continued on the next line\n",
    "    Conc_time_type1 = (1/2)*erfc((x - v*t)/(2*np.sqrt(D*t))) + \\\n",
    "        (1/2)*np.exp(v*x/D)*erfc((x + v*t)/(2*np.sqrt(D*t)))\n",
    "    \n",
    "    return Conc_time_type1\n",
    "\n",
    "# Type 1 inlet conditions, finite length solution\n",
    "def analytical_model_1D_finite_t1(x, t, v, al, L):\n",
    "    # Dispersion\n",
    "    D = v*al\n",
    "    # Analytical solution: Analytical solution based on Equation A3 in van Genuchtena and Alves, 1982.\n",
    "    # Note that the '\\' means continued on the next line\n",
    "    Conc_time_type1_finite = (1/2)*erfc((x - v*t)/(2*np.sqrt(D*t))) + \\\n",
    "        (1/2)*np.exp(v*x/D)*erfc((x + v*t)/(2*np.sqrt(D*t))) + \\\n",
    "        (1/2)*(2 + (v*(2*L - x)/D) + v**2*t/D)* \\\n",
    "        np.exp(v*L/D)*erfc(((2*L - x)+ v*t)/(2*np.sqrt(D*t))) - \\\n",
    "        (v**2 *t/(3.1415*D))**(1/2) * np.exp(v*L/D - ((2*L - x + v*t)**2)/(4*D*t))\n",
    "            \n",
    "    return Conc_time_type1_finite\n",
    "\n",
    "# Type 3 inlet conditions, infinite solution\n",
    "def analytical_model_1D_t3(x, t, v, al):\n",
    "    # Dispersion\n",
    "    D = v*al\n",
    "    # Analytical solution: See lecture slides or (Parker and van Genuchten, 1984 eq 9b) for details\n",
    "    Conc_time_type3 = (1/2)* erfc((x - v*t)/(2* np.sqrt(D*t))) + \\\n",
    "    np.sqrt((v**2*t)/(3.1415*D))* np.exp(-(x - v*t)**2/(4*D*t)) - \\\n",
    "    (1/2)*(1 + (v*x/D) + (v**2*t/D))* np.exp(v*x/D)* erfc((x + v*t)/(2* np.sqrt(D*t)))\n",
    "    \n",
    "    return Conc_time_type3"
   ]
  },
  {
   "cell_type": "markdown",
   "metadata": {},
   "source": [
    "Call the function to calculate the breakthrough curve at outlet of the core"
   ]
  },
  {
   "cell_type": "code",
   "execution_count": 17,
   "metadata": {},
   "outputs": [
    {
     "name": "stdout",
     "output_type": "stream",
     "text": [
      "Outlet of model: 10.050002 cm\n"
     ]
    }
   ],
   "source": [
    "# Extract the model grid cell center location (in selected units, cm in this case)\n",
    "y, x, z = mf.dis.get_node_coordinates()\n",
    "print('Outlet of model: ' + str(x[-1]) + ' cm')"
   ]
  },
  {
   "cell_type": "code",
   "execution_count": 18,
   "metadata": {},
   "outputs": [],
   "source": [
    "# Call the analytical model function\n",
    "Conc_time_type1 = analytical_model_1D_t1(x[-1], times, v, al)\n",
    "Conc_time_ftype1 = analytical_model_1D_finite_t1(x[-1], times, v, al, x[-1])\n",
    "Conc_time_type3 = analytical_model_1D_t3(x[-1], times, v, al)"
   ]
  },
  {
   "cell_type": "markdown",
   "metadata": {},
   "source": [
    "Now let's plot a comparison."
   ]
  },
  {
   "cell_type": "code",
   "execution_count": 19,
   "metadata": {},
   "outputs": [
    {
     "data": {
      "image/png": "[encoded data removed]",
      "text/plain": [
       "<Figure size 900x450 with 1 Axes>"
      ]
     },
     "metadata": {},
     "output_type": "display_data"
    }
   ],
   "source": [
    "plt.figure(figsize=(6, 3), dpi=150)\n",
    "plt.plot(times/60, C_btc, label='BTC FloPy')\n",
    "plt.plot(times/60, Conc_time_type1, '--', label='BTC 1D analytical, type 1')\n",
    "plt.plot(times/60, Conc_time_ftype1, '--', label='BTC 1D analytical, type 1, finite length')\n",
    "plt.plot(times/60, Conc_time_type3, '--', label='BTC 1D analytical, type 3')\n",
    "plt.xlabel('Time [min]');\n",
    "\n",
    "plt.legend()\n",
    "plt.show()"
   ]
  },
  {
   "cell_type": "markdown",
   "metadata": {},
   "source": [
    "Based on these results what is the approximate mean arrival time of the solute at the end of the core? Based on the volumetric flow rate and pore volume of the column does this arrival time make sense? Why or why not?"
   ]
  },
  {
   "cell_type": "markdown",
   "metadata": {},
   "source": [
    "## Activity:\n",
    "Using these code, evalute the concration profile along the column a few different times."
   ]
  },
  {
   "cell_type": "code",
   "execution_count": null,
   "metadata": {},
   "outputs": [],
   "source": [
    "# Choose a timestep to evaluate the analytical solution at\n",
    "timestep = 10\n",
    "# Note that this timestep corresponds to the numerical model output increment, the actual model time is given by\n",
    "print('Model time: ' + str(times[timestep]/60) + ' min')\n",
    "\n",
    "# Call the analytical model functions\n",
    "Conc_time_type1_x = analytical_model_1D_t1(x, times[timestep], v, al)\n",
    "Conc_time_ftype1_x = analytical_model_1D_finite_t1(x, times[timestep], v, al, x[-1])\n",
    "Conc_time_type3_x = analytical_model_1D_t3(x, times[timestep], v, al)"
   ]
  },
  {
   "cell_type": "code",
   "execution_count": null,
   "metadata": {},
   "outputs": [],
   "source": [
    "# Extract the concetration profile at a specific timestep\n",
    "C_profile = conc[timestep, 0, 0, :]\n",
    "\n",
    "plt.figure(figsize=(6, 3), dpi=150)\n",
    "plt.plot(x, C_profile, label='Profile FloPy')\n",
    "plt.plot(x, Conc_time_type1_x, '--', label='Profile 1D analytical, type 1')\n",
    "plt.plot(x, Conc_time_ftype1_x, '--', label='Profile 1D analytical, type 1, finite length')\n",
    "plt.plot(x, Conc_time_type3_x, '--', label='Profile 1D analytical, type 3')\n",
    "plt.xlabel('Distance from inlet [cm]')\n",
    "plt.legend()\n",
    "plt.show()"
   ]
  },
  {
   "cell_type": "markdown",
   "metadata": {},
   "source": [
    "This is showing the solute front concentration as a function of space. Do we call this a concentration profile or breakthrough curve?"
   ]
  },
  {
   "cell_type": "code",
   "execution_count": null,
   "metadata": {},
   "outputs": [],
   "source": [
    "# Now repeat this for a later time\n",
    "timestep = 20 # change to whatever \n",
    "print('Model time: ' + str(times[timestep]/60) + ' min')\n",
    "\n",
    "# Call the analytical model function\n",
    "# copy and paste code, work through each line to make sure you understand what each command does\n",
    "\n"
   ]
  },
  {
   "cell_type": "markdown",
   "metadata": {},
   "source": [
    "#### Work through the following questions:\n",
    "Explain the differences between these concentration profiles at different times. \n",
    "\n",
    "What is the mechanism that leads to differences in solute front location? For example, if time and spatial location don't change, what will cause the green line to shift left or shift right along the x-axis?\n",
    "\n",
    "How is the slope of the line changing at the two differnt times. Does the slope increase or decrease with time? Why?\n",
    "\n",
    "Why does the FloPy model fit a Type 1 inlet boundary condition and not a Type 3 (hint go back and examine our ```itype``` input variable)? Do the differences between the two solutions increase or decrease with changes in dispersivity?"
   ]
  },
  {
   "cell_type": "code",
   "execution_count": null,
   "metadata": {},
   "outputs": [],
   "source": []
  }
 ],
 "metadata": {
  "kernelspec": {
   "display_name": "Python 3 (ipykernel)",
   "language": "python",
   "name": "python3"
  },
  "language_info": {
   "codemirror_mode": {
    "name": "ipython",
    "version": 3
   },
   "file_extension": ".py",
   "mimetype": "text/x-python",
   "name": "python",
   "nbconvert_exporter": "python",
   "pygments_lexer": "ipython3",
   "version": "3.9.18"
  }
 },
 "nbformat": 4,
 "nbformat_minor": 4
}
