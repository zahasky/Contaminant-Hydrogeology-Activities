{
 "cells": [
  {
   "cell_type": "markdown",
   "metadata": {},
   "source": [
    "## Overview"
   ]
  },
  {
   "cell_type": "markdown",
   "metadata": {},
   "source": [
    "In this course we will be utilizing MODFLOW, the USGS's modular hydrologic model, for illustrating and solving contaminant transport processes and problems. To create, run, and post-process MODFLOW-based models we will be using the Python package named FloPy. "
   ]
  },
  {
   "cell_type": "markdown",
   "metadata": {},
   "source": [
    "## Installation"
   ]
  },
  {
   "cell_type": "markdown",
   "metadata": {},
   "source": [
    "To complete these activities you will need to: \n",
    "\n",
    "(1) Download and install MODFLOW (Version 6) and associated packages: https://water.usgs.gov/water-resources/software/MODFLOW-6/\n",
    "Additionally, you will need to download MT3D-USGS, the solute transport simulator for MODFLOW: https://www.usgs.gov/software/mt3d-usgs-groundwater-solute-transport-simulator-modflow\n",
    "\n",
    "(2) Install Python (3.7): https://www.anaconda.com/products/individual\n",
    "I strongly encourage using the Anaconda distribution if Python. Anaconda is a free and open-source distribution of Python for scientific computing that aims to simplify package management and deployment. When installing Python, make sure to install version 3.7.\n",
    "\n",
    "(3) Install FloPy: https://pypi.org/project/flopy/\n",
    "If Python has been successfully installed then you should be able to run the following command in your Python terminal to complete the FloPy installation."
   ]
  },
  {
   "cell_type": "code",
   "execution_count": null,
   "metadata": {},
   "outputs": [],
   "source": [
    "pip install flopy"
   ]
  },
  {
   "cell_type": "markdown",
   "metadata": {},
   "source": [
    "To verify that you have correctly installed Python and FloPy run the following cell, you should get an output similiar to the one below."
   ]
  },
  {
   "cell_type": "code",
   "execution_count": 2,
   "metadata": {},
   "outputs": [
    {
     "name": "stdout",
     "output_type": "stream",
     "text": [
      "3.7.6 (default, Jan  8 2020, 20:23:39) [MSC v.1916 64 bit (AMD64)]\n",
      "numpy version: 1.18.1\n",
      "flopy version: 3.3.0\n"
     ]
    }
   ],
   "source": [
    "import os \n",
    "import sys\n",
    "import shutil\n",
    "import numpy as np\n",
    "\n",
    "# run installed version of flopy or add local path\n",
    "try:\n",
    "    import flopy\n",
    "except:\n",
    "    fpth = os.path.abspath(os.path.join('..', '..'))\n",
    "    sys.path.append(fpth)\n",
    "    import flopy\n",
    "\n",
    "print(sys.version)\n",
    "print('numpy version: {}'.format(np.__version__))\n",
    "print('flopy version: {}'.format(flopy.__version__))"
   ]
  },
  {
   "cell_type": "markdown",
   "metadata": {},
   "source": [
    "## Resources"
   ]
  },
  {
   "cell_type": "markdown",
   "metadata": {},
   "source": [
    "There are an ever-growning number of resources online to learn Python and FloPy. In the next notebook I will provide a brief introduction to Python. \n",
    "\n",
    "The following link to provides a number of jupyter Notebooks that contain examples for using FloPy pre- and post-processing capabilities with a variety of MODFLOW-based models.\n",
    "https://github.com/modflowpy/flopy/blob/develop/docs/notebook_examples.md\n",
    "There are two particularily useful notebooks. The first is the FloPy methods notebook: https://github.com/modflowpy/flopy/blob/develop/examples/groundwater_paper/Notebooks/example_1.ipynb.\n",
    "This notebook contains more extensive package information than I have time to provide in excercises; use this notebook to better understand the model inputs. \n",
    "\n",
    "The second notebook that you may find useful is the FloPy MT3D examples notebook: https://github.com/modflowpy/flopy/blob/develop/examples/Notebooks/flopy3_MT3DMS_examples.ipynb\n",
    "While the commenting and description of the models aren't very thorough, this notebooks demonstrates many of the tools that we will use in upcoming model problems."
   ]
  }
 ],
 "metadata": {
  "kernelspec": {
   "display_name": "Python 3",
   "language": "python",
   "name": "python3"
  },
  "language_info": {
   "codemirror_mode": {
    "name": "ipython",
    "version": 3
   },
   "file_extension": ".py",
   "mimetype": "text/x-python",
   "name": "python",
   "nbconvert_exporter": "python",
   "pygments_lexer": "ipython3",
   "version": "3.7.6"
  }
 },
 "nbformat": 4,
 "nbformat_minor": 4
}
