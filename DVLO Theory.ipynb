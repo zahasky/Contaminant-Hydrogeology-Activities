{
 "cells": [
  {
   "cell_type": "code",
   "execution_count": null,
   "metadata": {},
   "outputs": [],
   "source": [
    "\n",
    "# ecoli properties\n",
    "# particle diameter\n",
    "dp = 10* 1e-6 # meters\n",
    "# collector (i.e. sand grain) diameter\n",
    "d = 400 * 1e-6 # meters\n",
    "# advection velocity \n",
    "v = 0.1 /60 # meters per second \n",
    "# particle density\n",
    "rho_p = 1105"
   ]
  }
 ],
 "metadata": {
  "kernelspec": {
   "display_name": "Python 3",
   "language": "python",
   "name": "python3"
  },
  "language_info": {
   "codemirror_mode": {
    "name": "ipython",
    "version": 3
   },
   "file_extension": ".py",
   "mimetype": "text/x-python",
   "name": "python",
   "nbconvert_exporter": "python",
   "pygments_lexer": "ipython3",
   "version": "3.7.6"
  }
 },
 "nbformat": 4,
 "nbformat_minor": 4
}
