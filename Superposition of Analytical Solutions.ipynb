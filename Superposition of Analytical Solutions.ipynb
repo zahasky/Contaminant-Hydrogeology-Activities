{
 "cells": [
  {
   "cell_type": "markdown",
   "metadata": {},
   "source": [
    "## Principle of superposition "
   ]
  },
  {
   "attachments": {},
   "cell_type": "markdown",
   "metadata": {},
   "source": [
    "As we saw in GEOSCI 627, the superposition of analytical solutions is a powerful tool for describing systems with more complex initial conditions. The principle of superposition\n",
    "\n",
    "To apply superposition we need a few conditions to be true. First, we need a “linear” differential equation. That is, one for which:\n",
    "a) the dependent variable and all its derivatives are of the first degree (i.e. the power on any dependent variable terms is one)\n",
    "b) the coefficients are constants or functions of only the independent variable(s)\n",
    "The second condition is that we the differential equation needs to be homogeneous. A linear differential equation is mathematically homogeneous if the term(s) without the dependent variable equal zero.\n",
    "\n",
    "When the advection-diffusion equation (ADE) is linear and homogeneous, sums of the solutions are also linear. This important condition allows us to use the principle of superposition to analytically solve the ADE and the diffusion equation for relative complex (i.e. mixed or inhomogeneous) boundary and initial conditions. As described by Bear (1972) \"The principle of superposition means that the presence of one boundary condition does not affect the response produced by the presence of other boundary or initial conditions. Therefore, to analyze the combined effect of a number of boundary conditions (excitations) we may start by solving for the effect of each individual excitation and then combine the results.\" For example, the principle of superposition is often used to analytically describe the transport behavior of finite volume solute plumes."
   ]
  },
  {
   "cell_type": "markdown",
   "metadata": {},
   "source": [
    "Let's take a look at a simple example using the diffusion equation that we saw the other day"
   ]
  },
  {
   "cell_type": "code",
   "execution_count": 1,
   "metadata": {},
   "outputs": [],
   "source": [
    "# Import the neccesary libraries\n",
    "# Import only the math.erfc (complementary error function) and math.erf (error function) from the math Library\n",
    "from scipy.special import erfc as erfc\n",
    "from scipy.special import erf as erf\n",
    "import numpy as np\n",
    "import matplotlib.pyplot as plt"
   ]
  },
  {
   "cell_type": "markdown",
   "metadata": {},
   "source": [
    "Define our diffusion function as we did in the Diffusion Analytical Demo notebook. Note that in this superposition example we are using the form with the complementary error function, however either can be used."
   ]
  },
  {
   "cell_type": "code",
   "execution_count": 27,
   "metadata": {},
   "outputs": [],
   "source": [
    "def diffusion_fun(x, t, Df, C0):\n",
    "    # Equation for concentration profile as a function of space (x) and time (t)\n",
    "    C = C0/2*(erfc((x)/(2*np.sqrt(Df*t))))\n",
    "    # Return the concentration (C) from this function\n",
    "    return C"
   ]
  },
  {
   "cell_type": "markdown",
   "metadata": {},
   "source": [
    "When superposing two solutions, we are essentially adding multiple solutions that are offset in space or time. For example if we want to model a discrete plume that has a width of 1 meter, and we want to center the plume at x=0, then we add two solutions that are offset on either side of x=0 by 0.5 meters. To set up this problem, run the following:"
   ]
  },
  {
   "cell_type": "code",
   "execution_count": 28,
   "metadata": {},
   "outputs": [],
   "source": [
    "# Define plume width\n",
    "plume_width = 1 # meter\n",
    "\n",
    "# Define spatial coordinates\n",
    "x = np.linspace(-10, 10, num=500)\n",
    "\n",
    "# Define diffusion coefficient\n",
    "Df = 5E-9\n",
    "\n",
    "# Define initial plume concentration\n",
    "C0 = 1\n",
    "\n",
    "# Define the initial time we want to look at \n",
    "t = 1 # second"
   ]
  },
  {
   "cell_type": "markdown",
   "metadata": {},
   "source": [
    "Now we will use our handy function to calculate the concentration profiles of the offset solutions."
   ]
  },
  {
   "cell_type": "code",
   "execution_count": 36,
   "metadata": {},
   "outputs": [
    {
     "data": {
      "text/plain": [
       "Text(0, 0.5, 'Concentration [-]')"
      ]
     },
     "execution_count": 36,
     "metadata": {},
     "output_type": "execute_result"
    },
    {
     "data": {
      "image/png": "[encoded data removed]",
      "text/plain": [
       "<Figure size 432x288 with 1 Axes>"
      ]
     },
     "metadata": {
      "needs_background": "light"
     },
     "output_type": "display_data"
    }
   ],
   "source": [
    "# Concentration profile offset to the right\n",
    "C_right = diffusion_fun(x-(plume_width/2), t, Df, C0)\n",
    "# Concentration profile offset to the left\n",
    "C_left = diffusion_fun(x+(plume_width/2), t, Df, C0)\n",
    "# Plot the profiles\n",
    "c1, = plt.plot(x, C_left, label='\"C_left\" profile')\n",
    "c2, = plt.plot(x, C_right, label='\"C_right\" profile')\n",
    "# Format the plots\n",
    "plt.legend(handles=[c1, c2])\n",
    "plt.xlabel('Distance [m]')\n",
    "plt.ylabel('Concentration [-]')\n"
   ]
  },
  {
   "cell_type": "code",
   "execution_count": 37,
   "metadata": {},
   "outputs": [
    {
     "data": {
      "text/plain": [
       "Text(0, 0.5, 'Concentration [-]')"
      ]
     },
     "execution_count": 37,
     "metadata": {},
     "output_type": "execute_result"
    },
    {
     "data": {
      "image/png": "[encoded data removed]",
      "text/plain": [
       "<Figure size 432x288 with 1 Axes>"
      ]
     },
     "metadata": {
      "needs_background": "light"
     },
     "output_type": "display_data"
    }
   ],
   "source": [
    "plt.plot(x, C_right-C_left)\n",
    "plt.xlabel('Distance [m]')\n",
    "plt.ylabel('Concentration [-]')"
   ]
  },
  {
   "cell_type": "markdown",
   "metadata": {},
   "source": [
    "## Activity:\n",
    "#### Using this code, evaluate the evolution of this plume over time.\n",
    "How do you expect this to change the shape of this curve?\n",
    "\n",
    "Plot the case of Df = 1E-9 and Df = 1E-10 after 1 day, 1 month, and 6 months. In the plot you generate make sure to add axis labels and a legend.\n",
    "\n",
    "Next, change the plume width to 2.5 meters wide. How would you generate a plot when the plume is not centered at x=0?"
   ]
  }
 ],
 "metadata": {
  "kernelspec": {
   "display_name": "Python 3",
   "language": "python",
   "name": "python3"
  },
  "language_info": {
   "codemirror_mode": {
    "name": "ipython",
    "version": 3
   },
   "file_extension": ".py",
   "mimetype": "text/x-python",
   "name": "python",
   "nbconvert_exporter": "python",
   "pygments_lexer": "ipython3",
   "version": "3.7.6"
  }
 },
 "nbformat": 4,
 "nbformat_minor": 4
}
