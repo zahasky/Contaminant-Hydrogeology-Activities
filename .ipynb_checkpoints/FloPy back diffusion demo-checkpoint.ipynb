{
 "cells": [
  {
   "cell_type": "markdown",
   "metadata": {},
   "source": [
    "## Introduction\n",
    "In this notebook we will introduce a 2D numerical model with a (simple) heterogeneous conductivity field. This will allow us to illustrate a common mechanism called back diffusion that creates a major challenge in field scale remediation. This process occures when soluble contaminates, often things like dissolved non-aqueous phase liquids (NAPLs), diffuse into low conductivity zones as the plume is migrating through the aquifer. After the main plume has passed, these contaminants continue to diffuse back into the high conductivity zone leading to long-term release. This creates challenging and expensive long-term remediation and monitoring cases. This model is based on the tank experiments in [Chapman et al, 2012](https://www.sciencedirect.com/science/article/pii/S0169772212000599?via%3Dihub).\n",
    "\n",
    "This notebook will also introduce how we can include wells in our MODFLOW models. If you haven't installed or worked through a FloPy model, go back to the [FloPy Introduction notebook](https://github.com/zahasky/Contaminant-Hydrogeology-Activities/blob/master/FloPy%20Introduction.ipynb).\n",
    "\n",
    "Begin by importing the standard libraries"
   ]
  },
  {
   "cell_type": "code",
   "execution_count": null,
   "metadata": {},
   "outputs": [],
   "source": [
    "# Import the flopy library\n",
    "import flopy\n",
    "# Import a few additional libraries\n",
    "import sys\n",
    "import pathlib\n",
    "import os\n",
    "import time\n",
    "# In addition to our typical libraries\n",
    "import numpy as np\n",
    "import matplotlib.pyplot as plt\n",
    "from math import pi\n",
    "from copy import deepcopy as deepcopy\n",
    "# Import the complementary error function for the analytical solution calculation\n",
    "from scipy.special import erfc as erfc\n",
    "from scipy.special import erf as erf"
   ]
  },
  {
   "cell_type": "markdown",
   "metadata": {},
   "source": [
    "First find where you have your MODFLOW and MT3D executables located on your system. Note that you need to include the path if the executables are not in the current directory."
   ]
  },
  {
   "cell_type": "code",
   "execution_count": null,
   "metadata": {},
   "outputs": [],
   "source": [
    "# Path to MODFLOW executable, probably called 'mf2005'\n",
    "exe_name_mf = 'C:\\\\Hydro\\\\MF2005.1_12\\\\bin\\\\mf2005'\n",
    "# Path to MT3D-USGS executable, probably called 'mt3dms'\n",
    "exe_name_mt = 'C:\\\\Hydro\\\\mt3dusgs1.1.0\\\\bin\\\\mt3d-usgs_1.1.0_64'\n",
    "\n",
    "# Print to make sure it is formated correctly\n",
    "print(exe_name_mf)\n",
    "# Print to make sure it is formated correctly\n",
    "print(exe_name_mt)"
   ]
  },
  {
   "cell_type": "markdown",
   "metadata": {},
   "source": [
    "Check these paths. Do they look correct for your system? If not this will lead to errors later.\n",
    "\n",
    "Now lets name the folder(s) where we want will save our model.  "
   ]
  },
  {
   "cell_type": "code",
   "execution_count": null,
   "metadata": {},
   "outputs": [],
   "source": [
    "# This should return a path to your current working directory\n",
    "current_directory = os.getcwd()\n",
    "print(current_directory)"
   ]
  },
  {
   "cell_type": "code",
   "execution_count": null,
   "metadata": {},
   "outputs": [],
   "source": [
    "# if this is not where you want to save stuff then change your directory using 'os.chdir()'\n",
    "# define path\n",
    "path = pathlib.Path('C:\\\\Users\\\\zahas\\\\Dropbox\\\\Teaching\\\\Contaminant hydro 629\\\\Notebooks_unpublished')\n",
    "# if folder doesn't exist then make it \n",
    "path.mkdir(parents=True, exist_ok=True)\n",
    "# set working directory to this new folder\n",
    "os.chdir(path)\n",
    "current_directory = os.getcwd()\n",
    "print(current_directory)"
   ]
  },
  {
   "cell_type": "code",
   "execution_count": null,
   "metadata": {},
   "outputs": [],
   "source": [
    "# now lets give a name to the directory to save data, this directory should be present in your \n",
    "# current working directory (but if it's not don't worry!)\n",
    "directory_name = 'backdiff'\n",
    "# Let's add that to the path of the current directory\n",
    "workdir = os.path.join('.', directory_name)\n",
    "\n",
    "# if the path exists then we will move on, if not then create a folder with the 'directory_name'\n",
    "if os.path.isdir(workdir) is False:\n",
    "    os.mkdir(workdir) \n",
    "print(\"Directory '% s' created\" % workdir) \n",
    "# directory to save data\n",
    "datadir = os.path.join('..', directory_name, 'mt3d_test', 'mt3dms')"
   ]
  },
  {
   "cell_type": "markdown",
   "metadata": {},
   "source": [
    "Notice however that we don't yet name the folder where we will save data 'dirname'. This will be an input to our model function."
   ]
  },
  {
   "cell_type": "markdown",
   "metadata": {},
   "source": [
    "## 2D plot function\n",
    "Since we are going to be plotting a lot of results in 2D it will be useful to define a function that can easily plot 2D maps. The utility of this function will be demonstrated in the next few cells."
   ]
  },
  {
   "cell_type": "code",
   "execution_count": null,
   "metadata": {},
   "outputs": [],
   "source": [
    "def plot_2d(map_data, dx, dy, colorbar_label='', cmap='cividis', title='', clim=0):\n",
    "     # calculate grid locations based on input data size \n",
    "    r, c = np.shape(map_data)\n",
    "    x_coord = np.linspace(0, dx*c, c+1)\n",
    "    y_coord = np.linspace(0, dy*r, r+1)\n",
    "    # define plot grid\n",
    "    X, Y = np.meshgrid(x_coord, y_coord)\n",
    "    \n",
    "    # Use 'pcolormesh' function to plot 2d map of concentration\n",
    "    plt.figure(figsize=(9, 2.2), dpi=150)\n",
    "    plt.pcolormesh(X, Y, map_data, cmap=cmap, shading = 'flat', edgecolor ='k', linewidth = 0.01)\n",
    "    plt.gca().set_aspect('equal')  \n",
    "    # add a colorbar\n",
    "    cbar = plt.colorbar() \n",
    "    # label the colorbar\n",
    "    cbar.set_label(colorbar_label)\n",
    "    if clim != 0:\n",
    "        plt.clim(clim)\n",
    "    plt.xlabel('Distance [m]')\n",
    "    plt.tick_params(axis='both', which='major')\n",
    "    plt.xlim((0, dx*c)) \n",
    "    plt.ylim((0, dy*r))\n",
    "    plt.title(title)\n",
    "    plt.show()"
   ]
  },
  {
   "cell_type": "markdown",
   "metadata": {},
   "source": [
    "## 2D model geometry\n",
    "This is based on the Chapman model cited in the introduction. Note however we only approximate the location and extent of the top rectangular clay layer. We also only model the top half of the tank for reducing the computational requirements of this example.\n",
    "\n",
    "When assigning two different materials to a model it can be useful to create a stencil from a matrix of 0s and 1s where the 0s are one material and the 1s are another. In this case, the 0s will be sandstone and the 1s will be the clay."
   ]
  },
  {
   "cell_type": "code",
   "execution_count": null,
   "metadata": {},
   "outputs": [],
   "source": [
    "# Model discretization\n",
    "nrow = 1 # \n",
    "nlay = 40\n",
    "ncol = 120 \n",
    "delr = 0.01 # [m] grid size in direction of X (J) axis\n",
    "delc = 0.03 # grid size in direction of Y (I) axis, \n",
    "delv = 0.01 # grid size in direction of Z (K) axis\n",
    "\n",
    "# start with zeros everywhere\n",
    "material_location = np.zeros([nlay, nrow, ncol])\n",
    "# index to apply clay to subvolume of model\n",
    "material_location[10:20, :, 15:-15] = 1\n",
    "# plot location of materials\n",
    "plot_2d(np.squeeze(material_location), delr, delv, cmap='PiYG')"
   ]
  },
  {
   "cell_type": "markdown",
   "metadata": {
    "tags": []
   },
   "source": [
    "Now let's apply material properties"
   ]
  },
  {
   "cell_type": "code",
   "execution_count": null,
   "metadata": {},
   "outputs": [],
   "source": [
    "# unit converter\n",
    "sec2day = 86400\n",
    "# sand hydraulic conductivity\n",
    "ksand = 2.4e-4*sec2day # [m/day]\n",
    "# clay hydraulic conductivity\n",
    "kclay = 1e-10*sec2day # [m/d]\n",
    "# kclay = 1e-5*sec2day # [m/d]\n",
    "# assign to matrix\n",
    "Hk = np.ones([nlay, nrow, ncol])*ksand\n",
    "Hk[material_location==1] = kclay\n",
    "\n",
    "# double check that the stencil method is working\n",
    "plot_2d(np.squeeze(Hk), delr, delv, cmap='viridis', colorbar_label='Hydraulic conductivity [m/day]')"
   ]
  },
  {
   "cell_type": "code",
   "execution_count": null,
   "metadata": {},
   "outputs": [],
   "source": [
    "# sand porosity\n",
    "por_sand = 0.4\n",
    "# clay porosity\n",
    "por_clay = 0.5\n",
    "# assign to matrix\n",
    "Por = np.ones([nlay, nrow, ncol])*por_sand\n",
    "Por[material_location==1] = por_clay\n",
    "# Uncomment to plot porosity\n",
    "plot_2d(np.squeeze(Por), delr, delv, colorbar_label='Porosity [-]')\n",
    "\n",
    "# pore volume calculation\n",
    "PV = Por*delr*delc*delv\n",
    "tank_pv = np.sum(PV)\n",
    "print('Tank pore volume %f m^3' %tank_pv)"
   ]
  },
  {
   "cell_type": "markdown",
   "metadata": {
    "tags": []
   },
   "source": [
    "## 2D Model Function with heterogenous porosity and hydraulic conductivity field\n",
    "The next thing that we need to do is setup the model function. We will use similiar settings as the [FloPy 1D Function](https://github.com/zahasky/Contaminant-Hydrogeology-Activities/blob/master/FloPy%201D%20Function.ipynb), but we are expanding to two dimensions and using wells to inject on the left side of the model. The input variables are:\n",
    "\n",
    "### Function Input:\n",
    "#### directory name\n",
    "    direname = \n",
    "\n",
    "#### MT3D period length (days)\n",
    "The model time length is the sum of this (for steady state flow it can be set to anything). Note that in this function this will also apply to the MODFLOW flow model period input. The function is set up to allow any number of periods. For example:\n",
    " \n",
    "    perlen_mt = [60, 12, 30]\n",
    "\n",
    "#### hydraulic conductivity (meters/day)\n",
    "The hydraulic conductivity needs to be input as a 3D matrix with the dimensions of the model. If you want to assign homogenous hydraulic conductivity then use the following line for defining the model hydraulic conductivity.\n",
    "```python\n",
    "Hk = homogeneous_hk_value *np.ones([nlay, nrow, ncol])\n",
    "```\n",
    "    \n",
    "#### porosity (unitless)\n",
    "The porosity can be a scalar or needs to be input as a 3D matrix with the dimensions of the model. \n",
    "\n",
    "    Por = \n",
    "    \n",
    "#### injection rate in entire left side of model (cubic meters per day)\n",
    "This is the source of the tracer and all water injected into the model using the Well Package.\n",
    "\n",
    "    Q = \n",
    "    \n",
    "#### injection concentration \n",
    "This is the concentration of the tracer injected into the left side of the model.\n",
    "\n",
    "    Cinj = \n",
    "    \n",
    "#### bulk diffusion coefficient\n",
    "Keep in mind that the units for this model are meters and days.\n",
    "\n",
    "    D0 = \n",
    "    \n",
    "#### number of output steps for gridcell concentration data\n",
    "An integer indicating the number of output times for concentration data.\n",
    "\n",
    "    nprs = \n",
    "    \n",
    "#### grid cell sizes (meters)\n",
    "The following are the grid size in the x, y, and x axis respectively. This model is built to model flow in the x-z plane.\n",
    "\n",
    "    delr = \n",
    "    delc = \n",
    "    delv = \n",
    "    "
   ]
  },
  {
   "cell_type": "code",
   "execution_count": null,
   "metadata": {},
   "outputs": [],
   "source": [
    "def model_2D(dirname, perlen_mt, Hk, Por, Q, Cinj, D0, nprs, delr, delc, delv):\n",
    "    # Model workspace and new sub-directory\n",
    "    model_ws = os.path.join(workdir, dirname)\n",
    "    print(model_ws)\n",
    "    \n",
    "    # time units (itmuni in discretization package), unfortunately this entered differently into MODFLOW and MT3D\n",
    "    # 1 = seconds, 2 = minutes, 3 = hours, 4 = days, 5 = years\n",
    "    itmuni = 4 # MODFLOW\n",
    "    mt_tunit = 'D' # MT3D units\n",
    "    # length units (lenuniint in discretization package)\n",
    "    # 0 = undefined, 1 = feet, 2 = meters, 3 = centimeters\n",
    "    lenuni = 2 # MODFLOW units\n",
    "    mt_lunit = 'M' # MT3D units\n",
    "    \n",
    "    # Modflow stress periods, set MODFLOW and MT3D stress periods equal\n",
    "    perlen_mf = perlen_mt\n",
    "    # print(perlen_mf)\n",
    "    # number of stress periods (MF input), calculated from period length input\n",
    "    nper_mf = len(perlen_mf)\n",
    "    \n",
    "    # number of stress periods (MT input), calculated from period length input\n",
    "    nper = len(perlen_mt)\n",
    "    \n",
    "    # Frequency of output, If nprs > 0 results will be saved at \n",
    "    #     the times as specified in timprs; \n",
    "    nprs = nprs\n",
    "    # timprs (list of float): The total elapsed time at which the simulation \n",
    "    #     results are saved. The number of entries in timprs must equal nprs. (default is None).\n",
    "    timprs = np.linspace(0, np.sum(perlen_mf), nprs, endpoint=False)\n",
    "    \n",
    "    # Model information \n",
    "    hk_size = Hk.shape\n",
    "    nlay = hk_size[0] # number of layers\n",
    "    nrow = hk_size[1] # number of rows\n",
    "    ncol = hk_size[2] # number of columns\n",
    "    botm = -np.linspace(delv, delv*nlay, nlay)\n",
    "    # print(botm)\n",
    "    \n",
    "    # ADDITIONAL MATERIAL PROPERTIES\n",
    "    al = 0.01 # longitudental dispersivity [m]\n",
    "    trpv = 0.001/al # ratio of vertical transverse dispersivity to longitudenal dispersivity\n",
    "    \n",
    "    # Flow field boundary conditions\n",
    "    # boundary conditions, <0 = specified head, 0 = no flow, >0 variable head\n",
    "    ibound = np.ones((nlay, nrow, ncol), dtype=int)\n",
    "    # index the model boundary cells\n",
    "    ibound[:, :, -1] = -1\n",
    "    # initial head conditions\n",
    "    strt = np.zeros((nlay, nrow, ncol), dtype=float)\n",
    "    \n",
    "    # Stress period well data for MODFLOW. Each well is defined through defintition\n",
    "    # of layer (int), row (int), column (int), flux (float). The first number corresponds to the stress period\n",
    "    # Example for 1 stress period: spd_mf = {0:[[0, 0, 1, q],[0, 5, 1, q]]}\n",
    "    # For Q, a positive value indicates recharge and a negative value indicates discharge (pumping).\n",
    "    well_info = np.zeros((nlay, 4), dtype=float)\n",
    "    # set indices of inlet face of column\n",
    "    well_info[:,0] = range(0, nlay)\n",
    "    # set volumetric flow rate\n",
    "    well_info[:,3] = Q[0]/(nrow*nlay)\n",
    "  \n",
    "    # use copy.deepcopy (imported as 'deepcopy') to copy well_info array into dictonary\n",
    "    # note that if this deepcopy isn't made then when the flow rate it updated\n",
    "    # in well_info it will update all values copied to dictionary!\n",
    "    w = deepcopy(well_info)\n",
    "    # Now insert well information into the MODFLOW stress period data dictionary\n",
    "    # This has the form: spd_mf = {0:[[0, 0, 0, q],[0, 5, 1, q]], 1:[[0, 1, 1, q]]}\n",
    "    spd_mf={0:w}\n",
    "    \n",
    "    # iterate through the stress periods to updated the flow rate\n",
    "    for i in range(1,nper):\n",
    "        # print(q[i])\n",
    "        if isinstance(Q, (list, tuple, np.ndarray)):\n",
    "            well_info[:,3] = Q[i]/(nrow*nlay)\n",
    "        else:\n",
    "            well_info[:,3] = Q/(nrow*nlay)\n",
    "            \n",
    "        # deep copy and insert into MODFLOW well dictionary\n",
    "        w = deepcopy(well_info)\n",
    "        spd_mf.update({i:w})  \n",
    "\n",
    "    # Solute transport boundary conditions\n",
    "    # Boundary conditions: if icbund = 0, the cell is an inactive concentration cell; \n",
    "    # If icbund < 0, the cell is a constant-concentration cell; \n",
    "    # If icbund > 0, the cell is an active concentration cell where the concentration value will be calculated.\n",
    "    icbund = np.ones((nlay, nrow, ncol), dtype=int)\n",
    "\n",
    "    # Initial conditions: concentration zero everywhere\n",
    "    sconc = np.zeros((nlay, nrow, ncol), dtype=float)\n",
    "    \n",
    "    # MT3D stress period data, note that the indices between 'spd_mt' must exist in 'spd_mf' \n",
    "    # This is used as input for the source and sink mixing package\n",
    "    # Itype is an integer indicating the type of point source, 2=well, 3=drain, -1=constant concentration\n",
    "    itype = 2\n",
    "    cwell_info = np.zeros((int(nlay), 5), dtype=float) # Note each cell list is one longer because itype is included with each entry: [layer, row, col, C_in[i], itype] \n",
    "    cwell_info[:,0] = range(0, nlay)\n",
    "    cwell_info[:,3] = Cinj[0]\n",
    "    # assign itype\n",
    "    cwell_info[:,4] = int(itype)\n",
    "    # insert into MT3D well dictionary\n",
    "    cw = deepcopy(cwell_info)\n",
    "    spd_mt = {0:cw}\n",
    "    \n",
    "    # iterate through the stress periods to updated the concentration injected\n",
    "    for i in range(1,nper):\n",
    "        # This if statement provides flexibility in the model if the user wants to keep the concentration injected constant throughout the model run\n",
    "        if isinstance(Cinj, (list, tuple, np.ndarray)):\n",
    "            cwell_info[:,3] = Cinj[i]\n",
    "        else:\n",
    "            cwell_info[:,3] = Cinj\n",
    "            \n",
    "        # deep copy and insert into MT3D well dictionary\n",
    "        cw = deepcopy(cwell_info)\n",
    "        spd_mt.update({i:cw})  \n",
    "    \n",
    "    # Setup models\n",
    "    # MODFLOW model name\n",
    "    modelname_mf = dirname + '_mf'\n",
    "    # MODFLOW package class\n",
    "    mf = flopy.modflow.Modflow(modelname=modelname_mf, model_ws=model_ws, exe_name=exe_name_mf)\n",
    "    # MODFLOW model discretization package class\n",
    "    dis = flopy.modflow.ModflowDis(mf, nlay=nlay, nrow=nrow, ncol=ncol, nper=nper_mf,\n",
    "                                   delr=delr, delc=delc, top=0., botm = botm,\n",
    "                                   perlen=perlen_mf, itmuni=itmuni, lenuni=lenuni)\n",
    "    # MODFLOW basic package class\n",
    "    bas = flopy.modflow.ModflowBas(mf, ibound=ibound, strt=strt)\n",
    "    # MODFLOW layer properties flow package class \n",
    "    # laytpe=0 is default and sets to be confined\n",
    "    lpf = flopy.modflow.ModflowLpf(mf, hk=Hk, laytyp=0)\n",
    "    # MODFLOW well package class\n",
    "    wel = flopy.modflow.ModflowWel(mf, stress_period_data=spd_mf)\n",
    "    # MODFLOW preconditioned conjugate-gradient package class\n",
    "    pcg = flopy.modflow.ModflowPcg(mf, rclose=1.0e-5, mxiter=100, iter1=50)\n",
    "    # MODFLOW Link-MT3DMS Package Class (this is the package for solute transport)\n",
    "    lmt = flopy.modflow.ModflowLmt(mf)\n",
    "    # MODFLOW output control package ##### NEEDS TO BE INCLUDED TO EXTRACT HEADS ###########\n",
    "    spd = {(0, 0): ['save head'], (0, 1): ['save head'], (0, 2): ['save head'], (0, 3): ['save head']}\n",
    "    oc = flopy.modflow.ModflowOc(mf, stress_period_data=spd)\n",
    "    \n",
    "    mf.write_input()\n",
    "    mf.run_model(silent=True) # Set this to false to produce output in command window\n",
    "    \n",
    "    # RUN MT3dms solute tranport \n",
    "    modelname_mt = dirname + '_mt'\n",
    "    # MT3DMS Model Class\n",
    "    # Input: modelname = 'string', namefile_ext = 'string' (Extension for the namefile (the default is 'nam'))\n",
    "    # modflowmodelflopy.modflow.mf.Modflow = This is a flopy Modflow model object upon which this Mt3dms model is based. (the default is None)\n",
    "    mt = flopy.mt3d.Mt3dms(modelname=modelname_mt, model_ws=model_ws, \n",
    "                           exe_name=exe_name_mt, modflowmodel=mf)  \n",
    "    \n",
    "    \n",
    "    # Basic transport package class\n",
    "    btn = flopy.mt3d.Mt3dBtn(mt, icbund=icbund, prsity=Por, sconc=sconc, \n",
    "                             tunit=mt_tunit, lunit=mt_lunit, nper=nper, \n",
    "                             perlen=perlen_mt, nprs=nprs, timprs=timprs)\n",
    "    \n",
    "    # mixelm is an integer flag for the advection solution option, \n",
    "    # mixelm = 0 is the standard finite difference method with upstream or central in space weighting.\n",
    "    # mixelm = 1 is the forward tracking method of characteristics, this seems to result in minimal numerical dispersion.\n",
    "    # mixelm = 2 is the backward tracking\n",
    "    # mixelm = 3 is the hybrid method\n",
    "    # mixelm = -1 is the third-ord TVD scheme (ULTIMATE)\n",
    "    mixelm = -1\n",
    "    \n",
    "    adv = flopy.mt3d.Mt3dAdv(mt, mixelm=mixelm)\n",
    "    \n",
    "    dsp = flopy.mt3d.Mt3dDsp(mt, al=al, trpv =trpv, dmcoef=D0)\n",
    "    \n",
    "    ssm = flopy.mt3d.Mt3dSsm(mt, stress_period_data=spd_mt)\n",
    "    \n",
    "    gcg = flopy.mt3d.Mt3dGcg(mt)\n",
    "    mt.write_input()\n",
    "    \n",
    "    fname = os.path.join(model_ws, 'MT3D001.UCN')\n",
    "    if os.path.isfile(fname):\n",
    "        os.remove(fname)\n",
    "    mt.run_model(silent=True)\n",
    "    \n",
    "    fname = os.path.join(model_ws, 'MT3D001.UCN')\n",
    "    ucnobj = flopy.utils.UcnFile(fname)\n",
    "    # Extract the output time information, convert from list to np array\n",
    "    times = np.array(ucnobj.get_times())\n",
    "    # Extract the 4D concentration values (t, x, y, z)\n",
    "    conc = ucnobj.get_alldata()\n",
    "    \n",
    "    # Extract head information. In order for this to work you must include 'oc = flopy.modflow.ModflowOc(mf)' before running mf model\n",
    "    # if you pass the model instance, then the plots will be offset and rotated\n",
    "    h = flopy.utils.HeadFile(os.path.join(model_ws, modelname_mf+'.hds'), model=mf)\n",
    "    htimes = h.times\n",
    "    fname = os.path.join(model_ws, modelname_mf+'.hds')\n",
    "    hdobj = flopy.utils.HeadFile(fname)\n",
    "    heads = hdobj.get_data()\n",
    "    \n",
    "    if len(times) != nprs+len(perlen_mt):\n",
    "        print('The model output has {} timesteps, the model input requested {} timesteps. Simulation may have terminated early'.format(len(times), nprs+len(perlen_mt)))\n",
    "    else:\n",
    "        print('Simulation ran to requested model time.')\n",
    "    \n",
    "    return heads, htimes, conc, times"
   ]
  },
  {
   "cell_type": "markdown",
   "metadata": {},
   "source": [
    "## Run numerical models"
   ]
  },
  {
   "cell_type": "markdown",
   "metadata": {},
   "source": [
    "Ok, now we are ready to run some models! Let's first run the model with the heterogeneous permeability field that we plotted above."
   ]
  },
  {
   "cell_type": "code",
   "execution_count": null,
   "metadata": {},
   "outputs": [],
   "source": [
    "# Directory name\n",
    "dirname = 'Chapman_model'\n",
    "# Length of model run\n",
    "perlen_mt = [10, 22, 50]\n",
    "# number of model output times\n",
    "nprs = 165\n",
    "\n",
    "# scale factor based on height of model relative to tank in Chapman paper\n",
    "sf = nlay*delv/0.84\n",
    "Q = np.array([0.9, 1.5, 1.5])*(60*24/100**3)*sf #[m^3/day]\n",
    "Cinj = [1, 0, 0]\n",
    "# Bulk diffusion coefficient\n",
    "D0 = 13E-10*sec2day # [m^2/day]"
   ]
  },
  {
   "cell_type": "code",
   "execution_count": null,
   "metadata": {},
   "outputs": [],
   "source": [
    "heads, htimes, conc, times = model_2D(dirname, perlen_mt, Hk, Por, Q, Cinj, D0, nprs, delr, delc, delv)"
   ]
  },
  {
   "cell_type": "markdown",
   "metadata": {},
   "source": [
    "Let's first look at the heads to see how the head compares with the hydraulic conductivity field."
   ]
  },
  {
   "cell_type": "code",
   "execution_count": null,
   "metadata": {},
   "outputs": [],
   "source": [
    "print(heads.shape)\n",
    "plot_2d(np.squeeze(heads), delr, delv, colorbar_label='Head', cmap='Blues', title='Steady State Head')"
   ]
  },
  {
   "cell_type": "markdown",
   "metadata": {
    "tags": []
   },
   "source": [
    "Now let's look at some 2D concentration maps to get a better sense of where the solute is moving in the system and when."
   ]
  },
  {
   "cell_type": "code",
   "execution_count": null,
   "metadata": {
    "tags": []
   },
   "outputs": [],
   "source": [
    "# Let's check your answer\n",
    "ts_plot = 6\n",
    "# double check that the stencil method is working (map_data, dx, dy, colorbar_label='', cmap='cividis', title='')\n",
    "plot_2d(np.squeeze(conc[ts_plot,:,:,:]), delr, delv, colorbar_label='Concentration', cmap='YlGn', title='Time: %1.1f days' %(times[ts_plot]), clim=[0,1])"
   ]
  },
  {
   "cell_type": "code",
   "execution_count": null,
   "metadata": {},
   "outputs": [],
   "source": [
    "ts_plot = 20\n",
    "# double check that the stencil method is working (map_data, dx, dy, colorbar_label='', cmap='cividis', title='')\n",
    "plot_2d(np.squeeze(conc[ts_plot,:,:,:]), delr, delv, colorbar_label='Concentration', cmap='YlGn', title='Time: %1.1f days' %(times[ts_plot]), clim=[0,1])"
   ]
  },
  {
   "cell_type": "markdown",
   "metadata": {},
   "source": [
    "Notice how we don't have much advection through the clay layer? The transport into this layer is largely diffusive."
   ]
  },
  {
   "cell_type": "code",
   "execution_count": null,
   "metadata": {},
   "outputs": [],
   "source": [
    "ts_plot = 30\n",
    "# double check that the stencil method is working (map_data, dx, dy, colorbar_label='', cmap='cividis', title='')\n",
    "plot_2d(np.squeeze(conc[ts_plot,:,:,:]), delr, delv, colorbar_label='Concentration', cmap='YlGn', title='Time: %1.1f days' %(times[ts_plot]), clim=[0,1])"
   ]
  },
  {
   "cell_type": "code",
   "execution_count": null,
   "metadata": {},
   "outputs": [],
   "source": [
    "# Let's look at the end of the model\n",
    "ts_plot = 120\n",
    "# double check that the stencil method is working (map_data, dx, dy, colorbar_label='', cmap='cividis', title='')\n",
    "plot_2d(np.squeeze(conc[ts_plot,:,:,:]), delr, delv, colorbar_label='Concentration', cmap='YlGn', title='Time: %1.1f days' %(times[ts_plot]), clim=[0,0.01])"
   ]
  },
  {
   "cell_type": "markdown",
   "metadata": {},
   "source": [
    "Explain what is going on here. Why is there still solute stuck in the clay layer after 60 days of pumping? Note that the difference in colorscale. \n",
    "\n",
    "### Breakthrough curves\n",
    "Now let's take a look at what the breakthrough curves look like."
   ]
  },
  {
   "cell_type": "code",
   "execution_count": null,
   "metadata": {
    "tags": []
   },
   "outputs": [],
   "source": [
    "# Extract the breakthrough time at the outlet\n",
    "C_btc_model = np.mean([conc[:, 0, :, -1]], axis=2)\n",
    "plt.figure(figsize=(6, 3), dpi=150)\n",
    "plt.plot(times, np.transpose(C_btc_model), 'k', label='')\n",
    "plt.xlabel('Time [days]');\n",
    "plt.ylabel('Mean outlet boundary concentration')\n",
    "plt.show()"
   ]
  },
  {
   "cell_type": "markdown",
   "metadata": {},
   "source": [
    "It doesn't look like much is happening! How about plotting the concentration on a log scale."
   ]
  },
  {
   "cell_type": "code",
   "execution_count": null,
   "metadata": {
    "tags": []
   },
   "outputs": [],
   "source": [
    "plt.figure(figsize=(6, 3), dpi=150)\n",
    "plt.plot(times, np.transpose(C_btc_model), 'k', label='')\n",
    "plt.yscale('log')\n",
    "plt.xlabel('Time [days]');\n",
    "plt.ylabel('Mean outlet boundary concentration')\n",
    "plt.ylim([1E-5, 1.2])\n",
    "plt.show()"
   ]
  },
  {
   "cell_type": "markdown",
   "metadata": {},
   "source": [
    "From the plot above we can see that there is some long-term transport of solute as it is diffused from the clay layer. This effect is often termed 'tailing'. However, this isn't obvious when looking at the BTC on a linear axis. This illustrates the importance of analyzing some contaminant BTCs on a log axis when we are dealing with contaminants that have a very low maximum contaminant level (MCL) and where the concentration in the environment can vary by orders of magnitude."
   ]
  },
  {
   "cell_type": "markdown",
   "metadata": {},
   "source": [
    "## Activity:\n",
    "You might be asking why we used such a fine discretization for the above model. Can we make it coarser? Let's exlore!"
   ]
  },
  {
   "cell_type": "code",
   "execution_count": null,
   "metadata": {},
   "outputs": [],
   "source": [
    "# Model discretization\n",
    "nrow = 1 # \n",
    "nlay = 8\n",
    "ncol = 24 \n",
    "delr = 0.05 # [m] grid size in direction of X (J) axis\n",
    "delc = 0.03 # grid size in direction of Y (I) axis, \n",
    "delv = 0.05 # grid size in direction of Z (K) axis\n",
    "\n",
    "# start with zeros everywhere\n",
    "material_location = np.zeros([nlay, nrow, ncol])\n",
    "# index to apply clay to subvolume of model\n",
    "material_location[2:4, :, 3:-3] = 1\n",
    "# plot location of materials\n",
    "plot_2d(np.squeeze(material_location), delr, delv, cmap='PiYG')\n",
    "\n",
    "# build Hk matrix\n",
    "Hk = np.ones([nlay, nrow, ncol])*ksand\n",
    "Hk[material_location==1] = kclay\n",
    "\n",
    "# build porosity to matrix\n",
    "Por = np.ones([nlay, nrow, ncol])*por_sand\n",
    "Por[material_location==1] = por_clay"
   ]
  },
  {
   "cell_type": "code",
   "execution_count": null,
   "metadata": {},
   "outputs": [],
   "source": [
    "# Directory name\n",
    "dirname = 'Chapman_model_coarse'\n",
    "heads_c, htimes_c, conc_c, times_c = model_2D(dirname, perlen_mt, Hk, Por, Q, Cinj, D0, nprs, delr, delc, delv)"
   ]
  },
  {
   "cell_type": "code",
   "execution_count": null,
   "metadata": {},
   "outputs": [],
   "source": [
    "C_btc_model_c = np.mean([conc_c[:, 0, :, -1]], axis=2)\n",
    "plt.figure(figsize=(6, 3), dpi=150)\n",
    "plt.plot(times, np.transpose(C_btc_model), 'k', label='original')\n",
    "plt.plot(times_c, np.transpose(C_btc_model_c), '--r', label='5x coarser')\n",
    "plt.legend()\n",
    "plt.yscale('log')\n",
    "plt.xlabel('Time [days]');\n",
    "plt.ylabel('Mean outlet boundary concentration')\n",
    "plt.ylim([1E-5, 1.1])\n",
    "plt.show()"
   ]
  },
  {
   "cell_type": "markdown",
   "metadata": {},
   "source": [
    "Well, we got two different answers. When this happens we have a few different options. The first is to compare with analytical solutions as we have done with 1D systems. In this case, we would need to further similify the model to find an analytical solution for comparison (for example have a two layer model). An alternative option is to further refine the grid to determine the grid resolution necessary to obtain a solution that coverges, or essentially stops changing as the grid cells get smaller. Note that this method can get computatially intesive if the model domain is too large.\n",
    "\n",
    "Give this a shot by reducing the original grid cell size by only half."
   ]
  },
  {
   "cell_type": "code",
   "execution_count": null,
   "metadata": {},
   "outputs": [],
   "source": [
    "# Model discretization\n",
    "nrow = 1 # \n",
    "nlay = 20\n",
    "ncol = 60\n",
    "delr = 0.01*2 # [m] grid size in direction of X (J) axis\n",
    "delc = 0.03 # grid size in direction of Y (I) axis, \n",
    "delv = 0.01*2 # grid size in direction of Z (K) axis\n",
    "\n",
    "# start with zeros everywhere\n",
    "material_location = np.zeros([nlay, nrow, ncol])\n",
    "# index to apply clay to subvolume of model\n",
    "# material_location[10:20, :, 15:-15] = 1\n",
    "material_location[5:10, :, 7:-8] = 1\n",
    "# plot location of materials\n",
    "plot_2d(np.squeeze(material_location), delr, delv, cmap='PiYG')\n",
    "\n",
    "# build Hk matrix\n",
    "Hk = np.ones([nlay, nrow, ncol])*ksand\n",
    "Hk[material_location==1] = kclay\n",
    "\n",
    "# build porosity to matrix\n",
    "Por = np.ones([nlay, nrow, ncol])*por_sand\n",
    "Por[material_location==1] = por_clay"
   ]
  },
  {
   "cell_type": "code",
   "execution_count": null,
   "metadata": {},
   "outputs": [],
   "source": [
    "# Directory name\n",
    "dirname = 'Chapman_model_med'\n",
    "heads_m, htimes_m, conc_m, times_m = model_2D(dirname, perlen_mt, Hk, Por, Q, Cinj, D0, nprs, delr, delc, delv)"
   ]
  },
  {
   "cell_type": "code",
   "execution_count": null,
   "metadata": {},
   "outputs": [],
   "source": [
    "C_btc_model_m = np.mean([conc_m[:, 0, :, -1]], axis=2)\n",
    "plt.figure(figsize=(6, 3), dpi=150)\n",
    "plt.plot(times, np.transpose(C_btc_model), 'k', label='original')\n",
    "plt.plot(times_c, np.transpose(C_btc_model_c), '--r', label='5x coarser')\n",
    "plt.plot(times_m, np.transpose(C_btc_model_m), '--g', label='2x coarser')\n",
    "plt.legend()\n",
    "plt.yscale('log')\n",
    "plt.xlabel('Time [days]');\n",
    "plt.ylabel('Mean outlet boundary concentration')\n",
    "plt.ylim([1E-5, 1.1])\n",
    "plt.show()"
   ]
  },
  {
   "cell_type": "markdown",
   "metadata": {},
   "source": [
    "We can see that going a little coarser still captures most of the tailing behavior and therefore is probably sufficient.\n",
    "\n",
    "With a partner, discuss these results. Why do you think the grid cells have to be so small when modeling diffusion-dominated transport processes? What limitations does this present for modeling back diffusion or other field-scale diffusion processes?"
   ]
  },
  {
   "cell_type": "code",
   "execution_count": null,
   "metadata": {},
   "outputs": [],
   "source": []
  }
 ],
 "metadata": {
  "kernelspec": {
   "display_name": "Python 3 (ipykernel)",
   "language": "python",
   "name": "python3"
  },
  "language_info": {
   "codemirror_mode": {
    "name": "ipython",
    "version": 3
   },
   "file_extension": ".py",
   "mimetype": "text/x-python",
   "name": "python",
   "nbconvert_exporter": "python",
   "pygments_lexer": "ipython3",
   "version": "3.9.16"
  }
 },
 "nbformat": 4,
 "nbformat_minor": 4
}
