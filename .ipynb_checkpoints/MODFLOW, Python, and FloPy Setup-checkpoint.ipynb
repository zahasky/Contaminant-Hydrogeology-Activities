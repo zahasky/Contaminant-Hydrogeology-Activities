{
 "cells": [
  {
   "cell_type": "markdown",
   "metadata": {},
   "source": [
    "## Overview"
   ]
  },
  {
   "cell_type": "markdown",
   "metadata": {},
   "source": [
    "In this course we will be utilizing MODFLOW, the USGS's modular hydrologic model, for illustrating and solving contaminant transport processes and problems. To create, run, and post-process MODFLOW-based models we will be using the Python package named FloPy. "
   ]
  },
  {
   "cell_type": "markdown",
   "metadata": {},
   "source": [
    "## Installation of Python"
   ]
  },
  {
   "cell_type": "markdown",
   "metadata": {},
   "source": [
    "To complete the modeling activities in this class you will need to download and install the following: \n",
    "\n",
    "1. [Install Python (3.7 or 3.8)](https://www.anaconda.com/products/individual). I strongly encourage using the Anaconda distribution if Python. Anaconda is a free and open-source distribution of Python for scientific computing that aims to simplify package management and deployment. When installing Python, make sure to install the latest version. From the Anaconda Distribution page, you should see a download button that has choosen the correct distribution for your operating system (OS). Follow the instructions to download this distribution. When it is complete you will see a folder of new programs including Spyder, Anaconda Powershell Prompt, and Jupyter notebooks.\n",
    "\n",
    "2. Create a new virtual environment. Setting up a virtual environment creates an environment on top of an existing Python installation, known as the virtual environment’s “base” Python. These environments are isolated so only those explicitly installed in the virtual environment are available. This ensures that all of the notebooks for this course will run on your system without conflicts with other packages currently installed. If you have the anaconda installation of Python then I suggest using [conda for creating and installing packages in this environment](https://conda.io/projects/conda/en/latest/user-guide/tasks/manage-environments.html). To set up a virtual environment name ```hydroclass``` go to your Command Prompt/Terminal or Anaconda Powershell Prompt and copy and paste ```conda create -n hydroclass python=3.9``` and press enter. To activate this environment type ```conda activate hydroclass```. Once activated you should see (hydroclass) before your terminal path. **Important Note: You need to run this activation command every time you open Python to ensure that you are always operating in this environment.**\n",
    "\n",
    "3. Set up the virtual environment.  Now you just need to install all of the packages that we will use for this class. The easiest way to do this is to navigate to the folder where you have this repository saved using the ```cd``` command in the terminal. Once you think you are in the correct folder type ```dir``` in the terminal to verify that you see the class notebooks and most importantly that you see a text file titled `requirements.txt`. You then can type `pip install -r requirements.txt` to install all of the packages at once.\n",
    "4. Open up the notebook editor. In this class, you can use either Jupyter Notebooks or Juptyer Labs to complete the in-class activities and homework. Jupyter Lab is preferred due to the ease of setup, navigation, and more compact browser use (it only opens one tab). If Python and the `requirements.txt` packages have been installed correctly you should now be able to open Jupyter Lab by typing ```jupyter lab``` in any terminal and Jupyter Lab should open in your default internet browser window. Once open, navigate to where you have downloaded and saved this notebook and open it in Jupyter Lab.\n",
    "\n",
    "To verify that you have correctly installed Python let's run a simple test command. To execute the following cell click on it with your mouse and hit then hit the 'play' button (triangle) in the panel above. Alternatively, you could use the shortcut 'shift + enter'."
   ]
  },
  {
   "cell_type": "code",
   "execution_count": null,
   "metadata": {},
   "outputs": [],
   "source": [
    "import sys\n",
    "import numpy as np\n",
    "\n",
    "print('Hello World')\n",
    "print(sys.version)\n",
    "print('numpy version: {}'.format(np.__version__))"
   ]
  },
  {
   "cell_type": "markdown",
   "metadata": {},
   "source": [
    "To check all of the required packages run the following cell. Each package should have an [OK] next to it."
   ]
  },
  {
   "cell_type": "code",
   "execution_count": null,
   "metadata": {},
   "outputs": [],
   "source": [
    "run python_environment_check.py"
   ]
  },
  {
   "cell_type": "markdown",
   "metadata": {},
   "source": [
    "## Installation of MODFLOW\n",
    "If you have a PC then [download](https://www.usgs.gov/software/modflow-2005-usgs-three-dimensional-finite-difference-ground-water-model) and install MODFLOW (Version 2005) and associated packages. Note that this is NOT the latest version (the most recent version is MODFLOW 6). We will use the 2005 version because it is still supported by the USGS and has a longer track record and more example problems for FloPy integration. Additionally, you will need to [download MT3D-USGS](https://www.usgs.gov/software/mt3d-usgs-groundwater-solute-transport-simulator-modflow), the solute transport package for MODFLOW.\n",
    "\n",
    "If you have a MAC or Linux system then download the [compiled MODFLOW executables and related programs here](https://github.com/MODFLOW-USGS/executables). "
   ]
  },
  {
   "cell_type": "markdown",
   "metadata": {},
   "source": [
    "#### MODFLOW Executable compilation (should not be required)\n",
    "If you have a MAC or Linux system and the downloaded executables don't work then you will need to complete the additional step of compiling MODFLOW with [pymake](https://github.com/modflowpy/pymake.git). This will involve the following:\n",
    "\n",
    "For Mac OS:\n",
    "* install xcode\n",
    "* install gfortran\n",
    "* conda install setuptools if you don’t have setuptools package\n",
    "\n",
    "For Linux:\n",
    "* install gfortran (in most cases, your linux machine would have gfortran)\n",
    "* conda install setuptools if you don’t have setuptools package\n",
    "\n",
    "Once this is done follow the these steps:\n",
    "1. Open/Connect to terminal\n",
    "2. Download flopy-pymake source code to your working directory from https://github.com/modflowpy/pymake.git and unzip it (or using git, type “git clone https://github.com/modflowpy/pymake.git”)\n",
    "3. Go to the pymake-master directory (pymake directory if you used git)\n",
    "4. Type “python setup.py install”. This will allow you to use flopy-pymake for compiling MODFLOW.\n",
    "5. Go to “examples” directory\n",
    "6. Type “python make_mf2005.py”. It will download the mf2005 source code and compile it on your computer\n",
    "7. Once it finishes, go to the “temp” directory and you will find ”mf2005”, MODFLOW 2005 executable. \n",
    "\n",
    "Unfortantely, I have limited to no experience working with Macs and thus can only provide limited support. If you are unable to install FloPy and MODFLOW on you machine contact me for gaining remote access to a PC."
   ]
  },
  {
   "cell_type": "markdown",
   "metadata": {},
   "source": [
    "## Installation of FloPy"
   ]
  },
  {
   "cell_type": "markdown",
   "metadata": {},
   "source": [
    "The final step is to [install FloPy](https://pypi.org/project/flopy/). If Python has been successfully installed and you have installed all of the packages for the course with the `requirements.txt` file then you should be all set. If you have set up your environment using a different approach (strongly discouraged) then you should be able to run the following command in your Python terminal to complete the FloPy installation. Installation should be as simple as copying and pasting ```pip install flopy``` into the your Command Prompt/Terminal or Anaconda Powershell Prompt. On Windows you can access the Command Prompt by typing cmd.exe in the search bar at the bottom left of your screen. If you type directly in the Python interpreter then you will get a \"SyntaxError: invalid syntax\".\n",
    "\n",
    "Note that if you are running Python 3.8 or have other variations in your configuration you may get the error:\n",
    "\"-bash: pip: command not found\"\n",
    "If this is the case, try the following in your Command Prompt: ```pip3 install flopy```"
   ]
  },
  {
   "cell_type": "markdown",
   "metadata": {},
   "source": [
    "To verify that you have correctly installed Python and FloPy run the following cell, you should get an output similiar to the one below."
   ]
  },
  {
   "cell_type": "code",
   "execution_count": null,
   "metadata": {},
   "outputs": [],
   "source": [
    "import os \n",
    "import sys\n",
    "import shutil\n",
    "import numpy as np\n",
    "\n",
    "# run installed version of flopy or add local path\n",
    "try:\n",
    "    import flopy\n",
    "except:\n",
    "    fpth = os.path.abspath(os.path.join('..', '..'))\n",
    "    sys.path.append(fpth)\n",
    "    import flopy\n",
    "\n",
    "print(sys.version)\n",
    "print('numpy version: {}'.format(np.__version__))\n",
    "print('flopy version: {}'.format(flopy.__version__))"
   ]
  },
  {
   "cell_type": "markdown",
   "metadata": {},
   "source": [
    "Make sure to note where you have your MODFLOW and MT3D executables located on your system. For example, on my PC laptop the executable paths look like this:"
   ]
  },
  {
   "cell_type": "code",
   "execution_count": null,
   "metadata": {},
   "outputs": [],
   "source": [
    "# Path to MODFLOW executable, probably called 'mf2005'\n",
    "exe_name_mf = 'C:\\\\Hydro\\\\MF2005.1_12\\\\bin\\\\mf2005'\n",
    "# Print to make sure it is formated correctly\n",
    "print(exe_name_mf)\n",
    "# Path to MT3D-USGS executable, probably called 'mt3dms'\n",
    "exe_name_mt = 'C:\\\\Hydro\\\\mt3dusgs1.1.0\\\\bin\\\\mt3d-usgs_1.1.0_64'\n",
    "# Print to make sure it is formated correctly\n",
    "print(exe_name_mt)"
   ]
  },
  {
   "cell_type": "markdown",
   "metadata": {},
   "source": [
    "On a PC, you can find the path by first naviating to the folder of interest (in this case the one containing the executable). Then click the address bar and copy or right-click and select 'copy text'. Now the folder path in the clipboard, ready to be pasted anywhere. Note that if you are typing in the paths you need to insert double slashes."
   ]
  },
  {
   "cell_type": "markdown",
   "metadata": {},
   "source": [
    "On a Mac, to copy the path name of an item directly to the clipboard from anywhere in the file system do the following:\n",
    "1.\tNavigate to the file or folder you wish to copy the path for\n",
    "2.\tRight-click (or Control+Click, or a Two-Finger click on trackpads) on the file or folder in the Mac Finder\n",
    "3.\tWhile in the right-click menu, hold down the OPTION key to reveal the “Copy (item name) as Pathname” option, it replaces the standard Copy option\n",
    "4.\tOnce selected, the file or folders path is now in the clipboard, ready to be pasted anywhere\n",
    "The copied pathname is always the complete path, it’s not relative.\n"
   ]
  },
  {
   "cell_type": "markdown",
   "metadata": {},
   "source": [
    "## Resources"
   ]
  },
  {
   "cell_type": "markdown",
   "metadata": {},
   "source": [
    "There are an ever-growning number of resources online to learn Python and FloPy. In the next notebook I will provide a brief introduction to Python. \n",
    "\n",
    "The following [link](https://github.com/modflowpy/flopy/blob/develop/docs/notebook_examples.md) provides a number of jupyter Notebooks that contain examples for using FloPy pre- and post-processing capabilities with a variety of MODFLOW-based models.\n",
    "\n",
    "There are two particularily useful notebooks. The first is the FloPy methods [notebook](https://github.com/modflowpy/flopy/blob/develop/examples/groundwater_paper/Notebooks/example_1.ipynb). This notebook contains more extensive package information than I have time to provide in excercises; use this notebook to better understand the model inputs. \n",
    "\n",
    "The second notebook that you may find useful is the FloPy MT3D examples [notebook](https://github.com/modflowpy/flopy/blob/develop/examples/Notebooks/flopy3_MT3DMS_examples.ipynb). While the commenting and description of the models aren't very thorough, this notebooks demonstrates many of the tools that we will use in upcoming model problems."
   ]
  },
  {
   "cell_type": "code",
   "execution_count": null,
   "metadata": {},
   "outputs": [],
   "source": []
  }
 ],
 "metadata": {
  "kernelspec": {
   "display_name": "Python 3 (ipykernel)",
   "language": "python",
   "name": "python3"
  },
  "language_info": {
   "codemirror_mode": {
    "name": "ipython",
    "version": 3
   },
   "file_extension": ".py",
   "mimetype": "text/x-python",
   "name": "python",
   "nbconvert_exporter": "python",
   "pygments_lexer": "ipython3",
   "version": "3.9.18"
  }
 },
 "nbformat": 4,
 "nbformat_minor": 4
}
