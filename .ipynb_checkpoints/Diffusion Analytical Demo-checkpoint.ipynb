{
 "cells": [
  {
   "cell_type": "markdown",
   "metadata": {},
   "source": [
    "## Introduction"
   ]
  },
  {
   "cell_type": "markdown",
   "metadata": {},
   "source": [
    "In this activity we will use python and some of the built in functions to model a solute diffusion process. A complex function that arrises in many analytical solutions is termed the [Error function](https://en.wikipedia.org/wiki/Error_function).\n",
    "\n",
    "To utilize these functions you will need to install the [SciPy library](https://www.scipy.org/). To do this in Windows you can open your 'Anaconda Powershell Prompt' (by typing this into the Windows search bar); this should have been installed with the Anaconda Python distribution. On a Mac simply open your terminal. In the Prompt/terminal type (you may need to replace 'pip' with 'pip3' depending on your Python package):\n",
    "\n",
    "```pip install scipy``` \n",
    "\n",
    "To test that you have SciPy properly install try running the following cell."
   ]
  },
  {
   "cell_type": "code",
   "execution_count": 56,
   "metadata": {},
   "outputs": [
    {
     "name": "stdout",
     "output_type": "stream",
     "text": [
      "0.15729920705028516\n",
      "1.0\n"
     ]
    }
   ],
   "source": [
    "# Import only the math.erfc (complementary error function) and math.erf (error function) from the math Library\n",
    "from scipy.special import erfc as erfc\n",
    "from scipy.special import erf as erf\n",
    "\n",
    "# Print the error function of a few different numbers\n",
    "print (erfc(1))\n",
    "print(erfc(0))"
   ]
  },
  {
   "cell_type": "markdown",
   "metadata": {},
   "source": [
    "We also need to import a few useful packages for working with vectors (numpy) and for plotting (matplotlib.pyplot)"
   ]
  },
  {
   "cell_type": "code",
   "execution_count": 57,
   "metadata": {
    "scrolled": false
   },
   "outputs": [],
   "source": [
    "import numpy as np\n",
    "import matplotlib.pyplot as plt"
   ]
  },
  {
   "cell_type": "markdown",
   "metadata": {},
   "source": [
    "Now we can plot the error function and complementary error function (this as a function equal to 1-erf(x)) in this example to better understand their shape:"
   ]
  },
  {
   "cell_type": "code",
   "execution_count": null,
   "metadata": {
    "scrolled": false
   },
   "outputs": [],
   "source": [
    "# define variable 'xe' with 100 values from -3 to 3\n",
    "xe = np.linspace(-3, 3, num=100)\n",
    "# plot error function\n",
    "plt.plot(xe, erf(xe))\n",
    "# plot complementary error function\n",
    "plt.plot(xe, erfc(xe))"
   ]
  },
  {
   "cell_type": "code",
   "execution_count": null,
   "metadata": {
    "scrolled": false
   },
   "outputs": [],
   "source": [
    "# plot complementary error function\n",
    "plt.plot(xe, erfc(xe))\n",
    "# equivalent to complementary error function\n",
    "plt.plot(xe, 1-erf(xe))"
   ]
  },
  {
   "cell_type": "markdown",
   "metadata": {},
   "source": [
    "## Diffusion function definition"
   ]
  },
  {
   "cell_type": "markdown",
   "metadata": {},
   "source": [
    "Now let's define a function that calculates the diffusion between a region with solute initially present with a concentration equal to one. This region is at x<0"
   ]
  },
  {
   "cell_type": "code",
   "execution_count": null,
   "metadata": {
    "scrolled": false
   },
   "outputs": [],
   "source": [
    "def diffusion_fun(x, t, Df, C0):\n",
    "    # Equation for concentration profile as a function of space (x) and time (t)\n",
    "    C = C0*(erfc((x)/(2*np.sqrt(Df*t))))\n",
    "    # Return the concentration (C) from this function\n",
    "    return C"
   ]
  },
  {
   "cell_type": "markdown",
   "metadata": {},
   "source": [
    "Aside: The square root function also exists in the 'math' library. It is important to use the 'numpy' library if we want to take the square root of an array of numbers. For example:"
   ]
  },
  {
   "cell_type": "code",
   "execution_count": null,
   "metadata": {},
   "outputs": [],
   "source": [
    "np.sqrt(xe[-5:])"
   ]
  },
  {
   "cell_type": "markdown",
   "metadata": {},
   "source": [
    "Attempting the same operation with the math library will result in an error stating that 'only size-1 arrays can be converted to Python scalars'. This means you can only perform the operation on scalars."
   ]
  },
  {
   "cell_type": "code",
   "execution_count": null,
   "metadata": {},
   "outputs": [],
   "source": [
    "import math\n",
    "math.sqrt(xe[-5:])"
   ]
  },
  {
   "cell_type": "code",
   "execution_count": null,
   "metadata": {},
   "outputs": [],
   "source": [
    "# Define diffusion coefficient\n",
    "Df = 5E-9\n",
    "# Define spatial coordinates\n",
    "x = np.linspace(0, 1, num=100)\n",
    "# Define initial concentration\n",
    "C0 = 1\n",
    "\n",
    "# Profile after one second\n",
    "t = 1\n",
    "C = diffusion_fun(x, t, Df, C0)\n",
    "\n",
    "plt.plot(x, C)"
   ]
  },
  {
   "cell_type": "markdown",
   "metadata": {},
   "source": [
    "What are the units of space, time, and the diffusion coefficient?"
   ]
  },
  {
   "cell_type": "code",
   "execution_count": null,
   "metadata": {
    "scrolled": true
   },
   "outputs": [],
   "source": [
    "# Profile after one day\n",
    "t = 60*60*24\n",
    "C = diffusion_fun(x, t, Df, C0)\n",
    "\n",
    "plt.plot(x, C)"
   ]
  },
  {
   "cell_type": "code",
   "execution_count": null,
   "metadata": {
    "scrolled": true
   },
   "outputs": [],
   "source": [
    "# Profile after 1 month\n",
    "t = 60*60*24*30\n",
    "C = diffusion_fun(x, t, Df, C0)\n",
    "\n",
    "plt.plot(x, C)"
   ]
  },
  {
   "cell_type": "markdown",
   "metadata": {},
   "source": [
    "Note that you can use the error function or the complementary error function to define your diffusion solution. This is demonstrated in the example below."
   ]
  },
  {
   "cell_type": "code",
   "execution_count": null,
   "metadata": {},
   "outputs": [],
   "source": [
    "def diffusion_fun_erf(x, t, Df, C0):\n",
    "    # Equation for concentration profile as a function of space (x) and time (t)\n",
    "    C = C0*(1-erf((x)/(2*np.sqrt(Df*t))))\n",
    "    # Return the concentration (C) from this function\n",
    "    return C"
   ]
  },
  {
   "cell_type": "code",
   "execution_count": null,
   "metadata": {},
   "outputs": [],
   "source": [
    "# Profile after 1 month\n",
    "t = 60*60*24*30\n",
    "C = diffusion_fun_erf(x, t, Df, C0)\n",
    "\n",
    "plt.plot(x, C)"
   ]
  },
  {
   "cell_type": "markdown",
   "metadata": {},
   "source": [
    "## Activity:\n",
    "\n",
    "#### Using this code, test the impact of different diffusion coefficients. \n",
    "\n",
    "How do you expect this to change the shape of this curve? \n",
    "\n",
    "Plot the case of Df = 1E-9 after 1 day, 1 month, and 6 months. In a second cell plot the case of Df = 1E-10 after 1 day, 1 month, and 6 months. Note that the time in the function we defined above is in units of seconds.\n",
    "\n",
    "In each plot that you generate make sure to add axis labels and a legend."
   ]
  },
  {
   "cell_type": "code",
   "execution_count": 77,
   "metadata": {},
   "outputs": [],
   "source": [
    "# cell 1 for calculating and plot concentration profiles for Df = 1E-9"
   ]
  },
  {
   "cell_type": "code",
   "execution_count": 78,
   "metadata": {},
   "outputs": [],
   "source": [
    "# cell 2 for calculating and plot concentration profiles for Df = 1E-10"
   ]
  },
  {
   "cell_type": "markdown",
   "metadata": {},
   "source": [
    "## Bonus: Random Walks\n",
    "Random walks are a classic way of illustrating the Brownian motion of particles at the molecular scale that drives the diffusion processes that we observe in porous media. The demo below shows the random nature of particle motion of 3 particles starting in three different locations. Each particle is a different color and starting point is indicated by the black dots."
   ]
  },
  {
   "cell_type": "code",
   "execution_count": 81,
   "metadata": {},
   "outputs": [
    {
     "data": {
      "text/plain": [
       "(-41.36306860389736, 27.91036150136852, -24.924135645123528, 46.65886806508469)"
      ]
     },
     "execution_count": 81,
     "metadata": {},
     "output_type": "execute_result"
    },
    {
     "data": {
      "image/png": "[encoded data removed]",
      "text/plain": [
       "<Figure size 432x288 with 1 Axes>"
      ]
     },
     "metadata": {
      "needs_background": "light"
     },
     "output_type": "display_data"
    }
   ],
   "source": [
    "# Define random walk function\n",
    "def random_walk_2D(step_n, origin):\n",
    "    # Simulate steps in 2D\n",
    "    dims = 2\n",
    "    steps = np.random.rand(step_n, dims)*2-1\n",
    "    path = np.concatenate([origin, steps]).cumsum(0)\n",
    "    return path\n",
    "\n",
    "step_n = 1000\n",
    "# Plot the path of particle 1\n",
    "# starting particle location\n",
    "origin = np.ones((1,dims))\n",
    "# call function\n",
    "path = random_walk_2D(step_n, origin)\n",
    "# Plot starting location\n",
    "plt.plot(path[0,0], path[0,1], c='black', marker='o')\n",
    "# Plot path\n",
    "plt.plot(path[:,0], path[:,1], c='blue',alpha=0.5, lw=1, ls='-',)\n",
    "# Plot ending location\n",
    "plt.plot(path[-1:,0], path[-1:,1], c='blue', marker='o')\n",
    "\n",
    "# Plot the path of another particle\n",
    "# starting particle location\n",
    "origin = np.ones((1,dims))*15\n",
    "# call function\n",
    "path = random_walk_2D(step_n, origin)\n",
    "# Plot starting location\n",
    "plt.plot(path[0,0], path[0,1], c='black', marker='o')\n",
    "plt.plot(path[:,0], path[:,1], c='orange',alpha=0.5, lw=1, ls='-',)\n",
    "plt.plot(path[-1:,0], path[-1:,1], c='orange', marker='o')\n",
    "\n",
    "# Plot the path of a third particle\n",
    "# starting particle location\n",
    "origin = np.ones((1,dims))*-15\n",
    "# call function\n",
    "path = random_walk_2D(step_n, origin)\n",
    "# Plot starting location\n",
    "plt.plot(path[0,0], path[0,1], c='black', marker='o')\n",
    "plt.plot(path[:,0], path[:,1], c='green',alpha=0.5, lw=1, ls='-',)\n",
    "plt.plot(path[-1:,0], path[-1:,1], c='green', marker='o')\n",
    "\n",
    "plt.title('2D Random Walk')\n",
    "plt.axis('equal')"
   ]
  },
  {
   "cell_type": "code",
   "execution_count": null,
   "metadata": {},
   "outputs": [],
   "source": []
  },
  {
   "cell_type": "code",
   "execution_count": null,
   "metadata": {},
   "outputs": [],
   "source": []
  }
 ],
 "metadata": {
  "celltoolbar": "Raw Cell Format",
  "kernelspec": {
   "display_name": "Python 3",
   "language": "python",
   "name": "python3"
  },
  "language_info": {
   "codemirror_mode": {
    "name": "ipython",
    "version": 3
   },
   "file_extension": ".py",
   "mimetype": "text/x-python",
   "name": "python",
   "nbconvert_exporter": "python",
   "pygments_lexer": "ipython3",
   "version": "3.7.6"
  }
 },
 "nbformat": 4,
 "nbformat_minor": 4
}
