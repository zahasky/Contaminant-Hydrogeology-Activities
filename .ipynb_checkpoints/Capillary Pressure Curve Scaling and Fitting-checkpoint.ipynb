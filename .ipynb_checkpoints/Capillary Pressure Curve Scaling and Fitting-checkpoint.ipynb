{
 "cells": [
  {
   "cell_type": "markdown",
   "metadata": {},
   "source": [
    "## Introduction"
   ]
  },
  {
   "cell_type": "markdown",
   "metadata": {},
   "source": [
    "In this activity we will expand the use of capillary pressure functions that we covered in the [Capillary Pressure Functions notebook](https://github.com/zahasky/Contaminant-Hydrogeology-Activities/blob/master/Capillary%20Pressure%20Functions.ipynb) to illustrate how these functions can be scaled for different fluid pairs and how these can be fit to laboratory measurements of capillary pressure. \n",
    "\n",
    "Let's begin by importing the packages we need."
   ]
  },
  {
   "cell_type": "code",
   "execution_count": null,
   "metadata": {},
   "outputs": [],
   "source": [
    "import numpy as np\n",
    "import os\n",
    "import matplotlib.pyplot as plt"
   ]
  },
  {
   "cell_type": "markdown",
   "metadata": {},
   "source": [
    "## Brooks-Corey function"
   ]
  },
  {
   "cell_type": "markdown",
   "metadata": {},
   "source": [
    "Here is the same Brooks-Corey function as last time. This will be useful today because it has less variables in the equation."
   ]
  },
  {
   "cell_type": "code",
   "execution_count": null,
   "metadata": {},
   "outputs": [],
   "source": [
    "# Define residual water saturation (the residual water after drainage)\n",
    "Swr = 0.1\n",
    "# Define the residual gas saturation (defined as the water saturation after imbibition)\n",
    "Snwr = 0\n",
    "# define variable 'Sw' to describe water saturation\n",
    "Sw = np.linspace((Swr + 0.001), (1 - Snwr - 0.001), num=100)\n",
    "# capillary entry pressure in selected units\n",
    "Pc_entry = 2 # kPa\n",
    "m = 2\n",
    "\n",
    "# Brooks-Corey function\n",
    "def brooks_corey_pc(Sw, Swr, Snwr, Pc_entry, m):\n",
    "    # Now calculate the effective saturation (think of this as normalized saturation (ranges from 0-1))\n",
    "    Se = (Sw - Swr)/((1 - Snwr) - Swr)\n",
    "    Pc = Pc_entry*(Se**(-1/m))\n",
    "    return Pc"
   ]
  },
  {
   "cell_type": "markdown",
   "metadata": {},
   "source": [
    "And a quick plot to make sure everything is working."
   ]
  },
  {
   "cell_type": "code",
   "execution_count": null,
   "metadata": {},
   "outputs": [],
   "source": [
    "m_bc = 3\n",
    "Pc_entry_bc = 0.9\n",
    "Pc_bc = brooks_corey_pc(Sw, Swr, Snwr, Pc_entry_bc, m_bc)\n",
    "\n",
    "plt.plot(Sw, Pc_bc)\n",
    "plt.xlabel('Water Saturation')\n",
    "plt.ylabel('Capillary Pressure (kPa)')"
   ]
  },
  {
   "cell_type": "markdown",
   "metadata": {},
   "source": [
    "## Fitting the equations to real data\n",
    "\n",
    "The data in the file 'berea_mercury_capillary_pressure.txt' are capillary pressure measurements made with a [Micromeritics Mercury Intrusion Porosimeter AutoPore IV](https://www.micromeritics.com/Repository/Files/AUTOPORE_BROCHURE.pdf). This method is often also refered to as mercury injection capillary pressure measurements (MICP or MIP). This aparatus uses air and mercury as the working fluids (more information on the theory is available [here](https://www.micromeritics.com/Repository/Files/Mercury_Porosemitry_Theory_poster_.pdf)). In this unique case gas is the wetting phase and mercury is the nonwetting phase. The data were collected on a Berea sandstone. The first column in the text file is the gas saturation, the second column is the capillary pressure in PSI."
   ]
  },
  {
   "cell_type": "code",
   "execution_count": null,
   "metadata": {},
   "outputs": [],
   "source": [
    "# Import capillary pressure data\n",
    "datafile_name = 'berea_mercury_capillary_pressure.txt'\n",
    "# if the data is not in your current directly then add the path information\n",
    "path_to_datafolder = 'data_for_models' \n",
    "# This should return a path to your current working directory\n",
    "current_directory = os.getcwd()\n",
    "# IN A MAC delete the path_to_datafolder variable and uncomment this:\n",
    "# data_file_with_path = os.path.join(current_directory, datafile_name)\n",
    "data_file_with_path = os.path.join(current_directory, path_to_datafolder, datafile_name)\n",
    "print(data_file_with_path)\n",
    "pc_data = np.loadtxt(data_file_with_path, delimiter='\\t')\n",
    "\n",
    "Sw_micp = pc_data[:,0]\n",
    "Pc_micp = pc_data[:,1]\n",
    "\n",
    "# Plot the data\n",
    "plt.plot(Sw_micp, Pc_micp, 'o')\n",
    "plt.xlabel('Gas Saturation', fontsize=18)\n",
    "plt.ylabel('Capillary Pressure (PSI)', fontsize=18)"
   ]
  },
  {
   "cell_type": "markdown",
   "metadata": {},
   "source": [
    "Using the Brooks-Corey function above, let's fit the equation to this measured data. To do this robustly let's implement a [least squares minimization](https://en.wikipedia.org/wiki/Least_squares#:~:text=The%20method%20of%20least%20squares,results%20of%20every%20single%20equation), although there are many other minimization options.\n",
    "\n",
    "To begin, we can see from the data that the maximum gas saturation is very near 1 for one of the data points. We therefore can assume that the residual nonwetting saturation is equal to zero. This measurement at a gas saturation near 1 also gives us an approximate capillary entry pressure."
   ]
  },
  {
   "cell_type": "code",
   "execution_count": null,
   "metadata": {},
   "outputs": [],
   "source": [
    "# Since Sw = 1 at some point we know that the residual nonwetting saturation is equal to zero\n",
    "Snwr = 0\n",
    "# capillary entry pressure in selected units. A good starting point is the mimimum capillary pressure measurement\n",
    "Pc_entry = np.min(Pc_micp) # PSI\n",
    "print('approximation of capillary entry pressure = ' + str(Pc_entry) + ' PSI')"
   ]
  },
  {
   "cell_type": "markdown",
   "metadata": {},
   "source": [
    "The simplest way to perform the minimization is to define some parameter space for the Brooks-Corey exponent (```m```) and the minimum wetting phase saturation. This miminum wetting phase saturation should be very near the minimum value measured with the MICP as plotted above. Note that this is not always the case and depends on the laboratory method used to measure capillary pressure, the rock/soil type, and potential data processing done of the raw measurement data."
   ]
  },
  {
   "cell_type": "code",
   "execution_count": null,
   "metadata": {},
   "outputs": [],
   "source": [
    "# Define a range of possible m values in the Brooks-Corey function to search\n",
    "M = np.linspace(0.1, 2, num=100)\n",
    "# Use the minimum value of the wetting saturation to calculate the residual wetting saturation\n",
    "SWR = np.min(Sw_micp) + np.linspace(-0.1, 0.1, num=20)\n",
    "# In the for loop below we will iteratively calculate the mismatch of the equation and when we find a closer fit \n",
    "# will update the least squares minimum and the corresponding m and Swr values\n",
    "least_square_min = 10000\n",
    "\n",
    "# Start the for loop\n",
    "for m in M:\n",
    "    for Swr in SWR:\n",
    "        # call our Brooks-Corey function for the current value of m and Swr\n",
    "        Pc_bc = brooks_corey_pc(Sw_micp, Swr, Snwr, Pc_entry, m)\n",
    "        # least squares calculation\n",
    "        least_square_m = np.sum((Pc_bc- Pc_micp)**2)\n",
    "        # If the mismatch is lower the the previous least squares then update the m and Swr values\n",
    "        if least_square_m < least_square_min:\n",
    "            # update the minimum least squares value\n",
    "            least_square_min = least_square_m\n",
    "            min_m = m\n",
    "            min_Swr = Swr\n",
    "             \n",
    "# Now calculate the capillary pressure based on our least squares result\n",
    "Pc_fit = brooks_corey_pc(Sw_micp, min_Swr, Snwr, Pc_entry, min_m)\n",
    "# Plot the data\n",
    "plt.plot(Sw_micp, Pc_fit)\n",
    "plt.plot(Sw_micp, Pc_micp, 'o')\n",
    "plt.xlabel('Gas Saturation', fontsize=18)\n",
    "plt.ylabel('Capillary Pressure (PSI)', fontsize=18)\n",
    "    \n",
    "print('The best fit Swr is equal to ' + str(min_Swr))\n",
    "print('The best fit m is equal to ' + str(min_m))"
   ]
  },
  {
   "cell_type": "markdown",
   "metadata": {},
   "source": [
    "## Activity: Scaling capillary pressure measurements\n",
    "\n",
    "As we see with the data above, capillary pressure is usually measured in the laboratory with air-water or air-mercury fluid pairs. To apply these measurements to different fluid pairs, for example a NAPL and water, it is necessary to scale the capillary pressure data. As described in the course notes, the equation to scale capillary pressure is $Pc_{scaled} = Pc_{measured} \\frac{\\sigma_{scaled} \\text{cos}\\theta_{scaled}}{\\sigma_{measured} \\text{cos}\\theta_{measured}}$. Here the subscript 'scaled' refers to the fluid pairs we want to calculate for and the subscript 'measured' applies to the fluid pairs used for the capillary pressure measurement.\n",
    "\n",
    "Using the capillary function that you fit above, scale the data from air-mercury to air-water. Assume the contact angle of air-water is 10 degrees ($\\theta_{scaled}$), the contact angle of air-mercury is 140 degrees ($\\theta_{measured}$). The interfacial tension of air-water is 72 mN/m ($\\sigma_{scaled}$), the interfacial tension of air-mercury is 485 mN/m ($\\sigma_{measured}$)."
   ]
  },
  {
   "cell_type": "code",
   "execution_count": null,
   "metadata": {},
   "outputs": [],
   "source": [
    "# scale data\n",
    "# capillary pressure scaling\n",
    "def scale_pc_fun(Pc, sig_scaled, sig_measured, theta_scaled, theta_measured):\n",
    "    # Pc_scaled =  ## Input scaling equation\n",
    "    return Pc_scaled\n",
    "\n",
    "# hint\n",
    "print((np.cos(140*2*3.1415/360)))\n",
    "print((np.cos((180-140)*2*3.1415/360)))\n",
    "\n",
    "# Now call function\n",
    "# Pc_scaled = scale_pc_fun(Pc_fit, other input...)\n",
    "# Pc_micp_scaled = scale_pc_fun(Pc_micp, other input...)\n",
    "\n",
    "# convert from psi to kPa\n",
    "# Pc_scaled_kpa = Pc_scaled*6.89\n",
    "# Pc_micp_scaled_kpa = Pc_micp_scaled*6.89"
   ]
  },
  {
   "cell_type": "markdown",
   "metadata": {},
   "source": [
    "Now plot the results!"
   ]
  },
  {
   "cell_type": "code",
   "execution_count": null,
   "metadata": {},
   "outputs": [],
   "source": [
    "# plt.plot(Sw_micp, Pc_scaled_kpa)\n",
    "# plt.plot(Sw_micp, Pc_micp_scaled_kpa, 'o')\n",
    "plt.xlabel('Water Saturation')\n",
    "plt.ylabel('Capillary Pressure (kPa)')"
   ]
  },
  {
   "cell_type": "markdown",
   "metadata": {},
   "source": [
    "Plot the results for another fluid pair based on the NAPL contact angle and interfacial tension (IFT). How does decreasing the contact angle (changing wettability) change the capillary pressure curves? "
   ]
  },
  {
   "cell_type": "code",
   "execution_count": null,
   "metadata": {},
   "outputs": [],
   "source": []
  }
 ],
 "metadata": {
  "kernelspec": {
   "display_name": "Python 3",
   "language": "python",
   "name": "python3"
  },
  "language_info": {
   "codemirror_mode": {
    "name": "ipython",
    "version": 3
   },
   "file_extension": ".py",
   "mimetype": "text/x-python",
   "name": "python",
   "nbconvert_exporter": "python",
   "pygments_lexer": "ipython3",
   "version": "3.7.6"
  }
 },
 "nbformat": 4,
 "nbformat_minor": 4
}
