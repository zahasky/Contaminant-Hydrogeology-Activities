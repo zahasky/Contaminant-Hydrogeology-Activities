{
 "cells": [
  {
   "cell_type": "markdown",
   "metadata": {},
   "source": [
    "## Introduction\n",
    "This is an introduction to using FloPy within a model-specific function. If you haven't installed Flopy, go back to the [MODFLOW and FloPy setup notebook](https://github.com/zahasky/Contaminant-Hydrogeology-Activities/blob/master/MODFLOW%2C%20Python%2C%20and%20FloPy%20Setup.ipynb) and the [FloPy Introduction notebook](https://github.com/zahasky/Contaminant-Hydrogeology-Activities/blob/master/FloPy%20Introduction.ipynb).\n",
    "\n",
    "Import the standard libraries"
   ]
  },
  {
   "cell_type": "code",
   "execution_count": null,
   "metadata": {},
   "outputs": [],
   "source": [
    "# Import a few libraries\n",
    "import sys\n",
    "import os\n",
    "import time\n",
    "import copy\n",
    "import numpy as np\n",
    "import matplotlib.pyplot as plt\n",
    "# import pathlib\n",
    "# Import the flopy library\n",
    "import flopy\n",
    "'flopy' in sys.modules #True"
   ]
  },
  {
   "cell_type": "markdown",
   "metadata": {},
   "source": [
    "First find where you have your MODFLOW6 executables located on your system."
   ]
  },
  {
   "cell_type": "code",
   "execution_count": null,
   "metadata": {},
   "outputs": [],
   "source": [
    "# MODFLOW6 executable (only one)\n",
    "# Executable location of Mf6.exe\n",
    "# exe_path = \"C:\\\\Hydro\\\\\"\n",
    "exe_path = \"C:\\\\Hydro\\\\mf6.4.2\\\\mf6.4.2_win64\\\\bin\\\\\"\n",
    "\n",
    "exe_loc = os.path.dirname(exe_path)\n",
    "print(\"Path to MODFLOW 6 executable:\", exe_loc)"
   ]
  },
  {
   "cell_type": "markdown",
   "metadata": {},
   "source": [
    "Let's use the same directory to save the data as the FloPy introduction and then create a path to this workspace. It may be useful to understand your current working directory, this should be whereever you have this notebook saved. You can double check this with the command 'os.getcwd()'."
   ]
  },
  {
   "cell_type": "code",
   "execution_count": null,
   "metadata": {},
   "outputs": [],
   "source": [
    "# This should return a path to your current working directory\n",
    "current_directory = os.getcwd()\n",
    "print(current_directory)"
   ]
  },
  {
   "cell_type": "markdown",
   "metadata": {},
   "source": [
    "If this is not where you want to save stuff then uncomment the cell below and define the path to establish a new folder and set this to be the new working directory."
   ]
  },
  {
   "cell_type": "code",
   "execution_count": null,
   "metadata": {},
   "outputs": [],
   "source": [
    "# # define path\n",
    "# path = pathlib.Path('C:\\\\Users\\\\zahas\\\\Dropbox\\\\Teaching\\\\Contaminant hydro 629\\\\Notebooks_unpublished')\n",
    "# # if folder doesn't exist then make it \n",
    "# path.mkdir(parents=True, exist_ok=True)\n",
    "# # set working directory to this new folder\n",
    "# os.chdir(path)\n",
    "# current_directory = os.getcwd()\n",
    "# print(current_directory)"
   ]
  },
  {
   "cell_type": "code",
   "execution_count": null,
   "metadata": {},
   "outputs": [],
   "source": [
    "# directory to save data\n",
    "directory_name = 'data_1D_model'\n",
    "# Let's add that to the path of the current directory\n",
    "workdir = os.path.join('.', directory_name)\n",
    "\n",
    "# if the path exists then we will move on, if not then create a folder with the 'directory_name'\n",
    "if os.path.isdir(workdir) is False:\n",
    "    os.mkdir(workdir) \n",
    "    print(\"Directory '% s' created\" % workdir) \n",
    "else:\n",
    "    print(\"Directory '% s' already exists\" % workdir) "
   ]
  },
  {
   "cell_type": "markdown",
   "metadata": {},
   "source": [
    "Notice however that we don't yet name the folder where we will save data 'dirname'. This will be an input to our model function.\n",
    "\n",
    "\n",
    "## 1D Model Function\n",
    "The first thing we do is setup the function. We will use nearly identical settings as we used in the [FloPy Introduction notebook](https://github.com/zahasky/Contaminant-Hydrogeology-Activities/blob/master/FloPy%20Introduction.ipynb) example, but now we are providing a few input variables that can be changed everytime we call the model. The input variables are:\n",
    "\n",
    "### Function Input:\n",
    "#### directory name\n",
    "    direname = \n",
    "\n",
    "#### period length \n",
    "Time is in selected units, the model time length is the sum of this (for steady state flow it can be set to anything). The format for multi-period input: ```[60., 15*60]```\n",
    " \n",
    "    perlen = \n",
    "    \n",
    "#### advection velocity\n",
    "Note that this is only an approximate advection flow rate in due to the way that the inlet boundary conditions are being assigned in the MODFLOW BAS6 - Basic Package. More rigorous constraint of constant flux boundaries require the Flow and Head Boundary Package, the Well Package, or the Recharge Package.\n",
    "\n",
    "    v = \n",
    "    \n",
    "#### dispersivity\n",
    "Set the longitudinal dispersivity in selected units. What are the units again?\n",
    "\n",
    "    al = \n",
    "    \n",
    "    "
   ]
  },
  {
   "cell_type": "code",
   "execution_count": null,
   "metadata": {},
   "outputs": [],
   "source": [
    "def model_1D(dirname, perlen, v, al, Cinj=1.0, mixelm=-1, C0=0):\n",
    "    # start timer to measure how fast the model runs\n",
    "    tic = time.perf_counter()\n",
    "    # Model workspace and new sub-directory\n",
    "    model_ws = os.path.join(workdir, dirname)\n",
    "    print(model_ws)\n",
    "\n",
    "    gwfname = 'gwf-' + dirname\n",
    "     # create the MF6 simulation\n",
    "    sim = flopy.mf6.MFSimulation(sim_name=dirname, exe_name=os.path.join(exe_loc, 'mf6.exe'), sim_ws=model_ws, \n",
    "                                verbosity_level = 2)\n",
    "    \n",
    "    # time and length units - use lab units for now\n",
    "    length_units = \"CENTIMETERS\"\n",
    "    time_units = \"MINUTES\"\n",
    "\n",
    "    # Modflow stress periods\n",
    "    # number of stress periods (MF input), calculated from period length input\n",
    "    nper = len(perlen)\n",
    "    # nstp (integer) is the number of time steps in a stress period.\n",
    "    # tsmult (double) is the multiplier for the length of successive time steps. \n",
    "    tsmult = 1\n",
    "    tdis_rc = []\n",
    "    # loop through perlen and assign period lengths\n",
    "    for i in range(nper):\n",
    "        tdis_rc.append((perlen[i], perlen[i]*6, tsmult))\n",
    "    flopy.mf6.ModflowTdis(sim, nper=nper, perioddata=tdis_rc, time_units=time_units)\n",
    "\n",
    "    # Instantiating MODFLOW 6 groundwater flow model\n",
    "    gwf = flopy.mf6.ModflowGwf(sim, modelname=gwfname, save_flows=True, \n",
    "            model_nam_file=f\"{gwfname}.nam\") \n",
    "\n",
    "    # Instantiating MODFLOW 6 solver for flow model\n",
    "    imsgwf = flopy.mf6.ModflowIms(sim, complexity = \"SIMPLE\")\n",
    "    sim.register_ims_package(imsgwf, [gwf.name])\n",
    "    \n",
    "    # Model information \n",
    "    nlay = 1 # number of layers\n",
    "    nrow = 1 # number of rows\n",
    "    ncol = 101 # number of columns\n",
    "    top = 0 # grid size in direction of Lz\n",
    "    delc = 4.4 # grid size in direction of Ly, this was choosen such that the model has the same cross-sectional area as the column from the dispersion notebook example\n",
    "    delr = 0.1 # grid size in direction of Lx\n",
    "    botm  = -4.4\n",
    "    \n",
    "    # length of model in selected units \n",
    "    Lx = (ncol - 1) * delr\n",
    "    print(\"Model length is: \" + str(Lx + delr) + ' ' + str(length_units))\n",
    "\n",
    "    # Instantiating MODFLOW 6 discretization package\n",
    "    flopy.mf6.ModflowGwfdis(gwf, length_units=length_units,\n",
    "            nlay=nlay, nrow=nrow, ncol=ncol, delr=delr, delc=delc,\n",
    "            top=top, botm=botm,\n",
    "            filename=f\"{gwfname}.dis\")\n",
    "    \n",
    "    # hydraulic conductivity\n",
    "    HK = 1. # what are the units here?\n",
    "    \n",
    "    # Instantiating MODFLOW 6 node-property flow package\n",
    "    flopy.mf6.ModflowGwfnpf(gwf, save_flows=False, icelltype=0,\n",
    "            k=HK) # k is the hydraulic conductivity \n",
    "\n",
    "    # Instantiating MODFLOW 6 initial conditions package for flow model\n",
    "    # gwf_strt = np.zeros((nlay, nrow, ncol), dtype=float)\n",
    "    flopy.mf6.ModflowGwfic(gwf, strt=0.0)\n",
    "    \n",
    "    # porosity\n",
    "    prsity = 0.3\n",
    "    # discharge is based on advection velocity input (again in selected units)\n",
    "    q = v * prsity\n",
    "    print(\"Discharge = \" + str(q))\n",
    "    \n",
    "    h1 = q * Lx / HK\n",
    "    print(\"calculated head differential across column based on provided advection velocity = \" + str(h1) )\n",
    "\n",
    "    # Constant head cells are specified on both ends of the model\n",
    "    chdspd = [[(0, 0, 0), h1], [(0, 0, ncol - 1), 0.0]]\n",
    "    # Instantiating MODFLOW 6 constant head package\n",
    "    flopy.mf6.ModflowGwfchd(gwf, maxbound=len(chdspd), \n",
    "                            stress_period_data=chdspd,\n",
    "                            save_flows=False, pname=\"CHD1\")\n",
    "    \n",
    "    # FLow output control\n",
    "    flopy.mf6.ModflowGwfoc(gwf,\n",
    "        head_filerecord=f\"{gwfname}.hds\",\n",
    "        saverecord=[(\"HEAD\", \"ALL\")],\n",
    "        printrecord=[(\"HEAD\", \"FIRST\"), (\"HEAD\", \"LAST\"),])\n",
    "\n",
    "    #############################################################\n",
    "    ############### NOW BUILD TRANSPORT #########################\n",
    "    print(f\"Building mf6gwt model in...{model_ws}\")\n",
    "    gwtname = \"gwt_\" + dirname\n",
    "    gwt = flopy.mf6.MFModel(sim,\n",
    "            model_type=\"gwt6\", modelname=gwtname,\n",
    "            model_nam_file=f\"{gwtname}.nam\")\n",
    "    # gwt.name_file.save_flows = True\n",
    "\n",
    "    # create iterative model solution and register the gwt model with it\n",
    "    imsgwt = flopy.mf6.ModflowIms(sim, print_option=\"SUMMARY\", linear_acceleration=\"BICGSTAB\",\n",
    "            filename=f\"{gwtname}.ims\")\n",
    "    sim.register_ims_package(imsgwt, [gwt.name])\n",
    "\n",
    "    # Instantiating MODFLOW 6 transport discretization package\n",
    "    flopy.mf6.ModflowGwtdis(gwt, nlay=nlay, nrow=nrow, ncol=ncol,\n",
    "            delr=delr, delc=delc, top=top, botm=botm,\n",
    "            filename=f\"{gwtname}.dis\")\n",
    "\n",
    "    # Initial conditions\n",
    "    # initial concentration set to zero everywhere\n",
    "    # Instantiating MODFLOW 6 transport initial concentrations\n",
    "    flopy.mf6.ModflowGwtic(gwt, strt=C0, filename=f\"{gwtname}.ic\")\n",
    "\n",
    "    # Solute boundary conditions\n",
    "    # cncspd = [[(0, 0, 0), Cinj]] # constant\n",
    "    cncspd = {0: [[(0, 0, 0), Cinj]], 1: [[(0, 0, 0), 0]]} # pulse\n",
    "    # Instantiating MODFLOW 6 transport constant concentration package\n",
    "    flopy.mf6.ModflowGwtcnc(gwt, maxbound=len(cncspd), stress_period_data=cncspd)\n",
    "\n",
    "    flopy.mf6.ModflowGwtssm(gwt)\n",
    "    \n",
    "    # Mobile Storage and Transfer (MST) Package of the GWT Model for MODFLOW 6 represents solute mass storage, sorption, and frst- or zero-order decay in MOBILE domain.\n",
    "    flopy.mf6.ModflowGwtmst(gwt, porosity=prsity) # without reactions\n",
    "    # With reactions\n",
    "    # Instantiating MODFLOW 6 MST package\n",
    "    # flopy.mf6.ModflowGwtmst(gwt, sorption='LINEAR', porosity = prsity, \n",
    "    #         bulk_density = bulk_density, distcoef = mobile_Kd,\n",
    "    #         filename=f\"{gwtname}.mst\")\n",
    "\n",
    "    # Instantiating MODFLOW 6 transport advection package\n",
    "    if mixelm == 1:\n",
    "        scheme = \"UPSTREAM\"\n",
    "    elif mixelm == -1:\n",
    "        scheme = \"TVD\"\n",
    "    elif mixelm == 2:\n",
    "        scheme = \"CENTRAL\"\n",
    "    else:\n",
    "        raise Exception()\n",
    "    flopy.mf6.ModflowGwtadv(gwt, scheme=scheme)\n",
    "\n",
    "    # define dispersion/diffusion behavior\n",
    "    flopy.mf6.ModflowGwtdsp(gwt, xt3d_off=True, alh=al, ath1=al)\n",
    "\n",
    "    # Instantiating MODFLOW 6 transport output control package\n",
    "    flopy.mf6.ModflowGwtoc(gwt,\n",
    "            budget_filerecord=f\"{gwtname}.cbc\",\n",
    "            concentration_filerecord=f\"{gwtname}.ucn\",\n",
    "            # concentrationprintrecord=[(\"COLUMNS\", 10, \"WIDTH\", 15, \"DIGITS\", 6, \"GENERAL\")],\n",
    "            saverecord=[(\"CONCENTRATION\", \"ALL\"), (\"BUDGET\", \"ALL\")],\n",
    "            printrecord=[(\"CONCENTRATION\", \"ALL\"), (\"BUDGET\", \"ALL\")])\n",
    "\n",
    "    # Instantiating MODFLOW 6 flow-transport exchange mechanism\n",
    "    flopy.mf6.ModflowGwfgwt(sim,\n",
    "            exgtype=\"GWF6-GWT6\",\n",
    "            exgmnamea=gwfname, exgmnameb=gwtname,\n",
    "            filename=f\"{dirname}.gwfgwt\")\n",
    "\n",
    "    # Write simulation\n",
    "    sim.write_simulation(silent=True)\n",
    "    success, buff = sim.run_simulation(silent=True)\n",
    "\n",
    "    # Extract head and concentration field data\n",
    "    head = gwf.output.head().get_data()\n",
    "    conc = gwt.output.concentration().get_alldata() # get_data() retrieves only the last timestep\n",
    "    times = np.array(gwt.output.concentration().get_times())\n",
    "    \n",
    "    # Time the function\n",
    "    toc = time.perf_counter()\n",
    "    print(\"Model \" + dirname + \" ran in \" + str(toc-tic) + \" seconds\")\n",
    "    print('.')\n",
    "    \n",
    "    return conc, head, times"
   ]
  },
  {
   "cell_type": "markdown",
   "metadata": {},
   "source": [
    "Now lets trying running a model by calling our 'model_1D' function"
   ]
  },
  {
   "cell_type": "code",
   "execution_count": null,
   "metadata": {},
   "outputs": [],
   "source": [
    "dirname = 'run1'\n",
    "perlen = [60] # min\n",
    "\n",
    "v = 0.40# cm/min\n",
    "al = 0.5 # cm\n",
    "Cinj = 1.0\n",
    "\n",
    "# Call the FloPy model function\n",
    "conc, head, times = model_1D(dirname, perlen, v, al, Cinj, mixelm=-1)"
   ]
  },
  {
   "cell_type": "code",
   "execution_count": null,
   "metadata": {},
   "outputs": [],
   "source": [
    "print(times)"
   ]
  },
  {
   "cell_type": "markdown",
   "metadata": {},
   "source": [
    "Now let's plot the model output as a function of time"
   ]
  },
  {
   "cell_type": "code",
   "execution_count": null,
   "metadata": {},
   "outputs": [],
   "source": [
    "# extract the concentration at the outlet of the model\n",
    "c_btc = conc[:, 0, 0, -1]\n",
    "# now plot the time vs the concentration at the outlet\n",
    "plt.plot(times, c_btc)\n",
    "plt.xlabel('Time [min]')\n",
    "plt.ylabel('Concentration')\n",
    "plt.show()"
   ]
  },
  {
   "cell_type": "markdown",
   "metadata": {},
   "source": [
    "And as a function of space"
   ]
  },
  {
   "cell_type": "code",
   "execution_count": null,
   "metadata": {},
   "outputs": [],
   "source": [
    "x = np.linspace(0.1, 10., 101)\n",
    "# Extract the concentration everywhere at the last time index (that is what the -1 means)\n",
    "c_profile = conc[-1, 0, 0, :]\n",
    "plt.plot(x, c_profile)\n",
    "plt.xlabel('Distance from inlet [cm]')\n",
    "plt.ylabel('Concentration')\n",
    "plt.ylim([0, 1.1])\n",
    "plt.show()\n",
    "\n",
    "# Plot the head profile across the model, before uncommenting this do you have an idea of what the head will look like as a function of space?\n",
    "# hydraulic_grad = head[0, 0, :]\n",
    "# # plt.plot(x, hydraulic_grad) \n",
    "# plt.xlabel('Distance from inlet [cm]')\n",
    "# plt.ylabel('Head [cm]')\n",
    "# plt.show()"
   ]
  },
  {
   "cell_type": "markdown",
   "metadata": {},
   "source": [
    "## 1D Analytical Solution Function\n",
    "Now lets compare the numerical results with the analytical solution we looked at in our previous notebook. Note the addition of the finite length outlet boundary conditions with type 1 inlet conditions (Equation A3 in van Genuchtena and Alves, 1982)."
   ]
  },
  {
   "cell_type": "code",
   "execution_count": null,
   "metadata": {},
   "outputs": [],
   "source": [
    "# Remember that we need a few special functions\n",
    "from scipy.special import erfc as erfc\n",
    "from scipy.special import erf as erf\n",
    "\n",
    "# Type 1 inlet conditions, infinite solution\n",
    "def analytical_model_1D_t1(x, t, v, al):\n",
    "    # Dispersion\n",
    "    D = v*al\n",
    "    # Analytical solution: See lecture slides or (Parker and van Genuchten, 1984) for details\n",
    "    # Note that the '\\' means continued on the next line\n",
    "    Conc_time_type1 = (1/2)*erfc((x - v*t)/(2*np.sqrt(D*t))) + \\\n",
    "        (1/2)*np.exp(v*x/D)*erfc((x + v*t)/(2*np.sqrt(D*t)))\n",
    "    \n",
    "    return Conc_time_type1\n",
    "\n",
    "# Type 1 inlet conditions, finite length solution\n",
    "def analytical_model_1D_finite_t1(x, t, v, al, L):\n",
    "    # Dispersion\n",
    "    D = v*al\n",
    "    # Analytical solution: Analytical solution based on Equation A3 in van Genuchtena and Alves, 1982.\n",
    "    # Note that the '\\' means continued on the next line\n",
    "    Conc_time_type1_finite = (1/2)*erfc((x - v*t)/(2*np.sqrt(D*t))) + \\\n",
    "        (1/2)*np.exp(v*x/D)*erfc((x + v*t)/(2*np.sqrt(D*t))) + \\\n",
    "        (1/2)*(2 + (v*(2*L - x)/D) + v**2*t/D)* \\\n",
    "        np.exp(v*L/D)*erfc(((2*L - x)+ v*t)/(2*np.sqrt(D*t))) - \\\n",
    "        (v**2 *t/(3.1415*D))**(1/2) * np.exp(v*L/D - ((2*L - x + v*t)**2)/(4*D*t))\n",
    "            \n",
    "    return Conc_time_type1_finite\n",
    "\n",
    "# Type 3 inlet conditions, infinite solution\n",
    "def analytical_model_1D_t3(x, t, v, al):\n",
    "    # Dispersion\n",
    "    D = v*al\n",
    "    # Analytical solution: See lecture slides or (Parker and van Genuchten, 1984 eq 9b) for details\n",
    "    Conc_time_type3 = (1/2)* erfc((x - v*t)/(2* np.sqrt(D*t))) + \\\n",
    "    np.sqrt((v**2*t)/(3.1415*D))* np.exp(-(x - v*t)**2/(4*D*t)) - \\\n",
    "    (1/2)*(1 + (v*x/D) + (v**2*t/D))* np.exp(v*x/D)* erfc((x + v*t)/(2* np.sqrt(D*t)))\n",
    "    \n",
    "    return Conc_time_type3"
   ]
  },
  {
   "cell_type": "markdown",
   "metadata": {},
   "source": [
    "Call the function to calculate the breakthrough curve at outlet of the core"
   ]
  },
  {
   "cell_type": "code",
   "execution_count": null,
   "metadata": {},
   "outputs": [],
   "source": [
    "# Call the analytical model function\n",
    "Conc_time_type1 = analytical_model_1D_t1(x[-1], times, v, al)\n",
    "Conc_time_ftype1 = analytical_model_1D_finite_t1(x[-1], times, v, al, x[-1])\n",
    "Conc_time_type3 = analytical_model_1D_t3(x[-1], times, v, al)"
   ]
  },
  {
   "cell_type": "markdown",
   "metadata": {},
   "source": [
    "Now let's plot a comparison."
   ]
  },
  {
   "cell_type": "code",
   "execution_count": null,
   "metadata": {},
   "outputs": [],
   "source": [
    "plt.figure(figsize=(6, 3), dpi=150)\n",
    "plt.plot(times, c_btc, label='BTC FloPy')\n",
    "# plt.plot(times, Conc_time_type1, '--', label='BTC 1D analytical, type 1')\n",
    "plt.plot(times, Conc_time_ftype1, '--', label='BTC 1D analytical, type 1, finite length')\n",
    "# # plt.plot(times, Conc_time_type3, '--', label='BTC 1D analytical, type 3')\n",
    "plt.xlabel('Time [min]');\n",
    "\n",
    "plt.legend()\n",
    "plt.show()"
   ]
  },
  {
   "cell_type": "markdown",
   "metadata": {},
   "source": [
    "Based on these results what is the approximate mean arrival time of the solute at the end of the core? Based on the volumetric flow rate and pore volume of the column does this arrival time make sense? Why or why not?"
   ]
  },
  {
   "cell_type": "markdown",
   "metadata": {},
   "source": [
    "## Activity:\n",
    "Using these code, evalute the concration profile along the column a few different times."
   ]
  },
  {
   "cell_type": "code",
   "execution_count": null,
   "metadata": {},
   "outputs": [],
   "source": [
    "# Choose a timestep to evaluate the analytical solution at\n",
    "timestep = 60\n",
    "# Note that this timestep corresponds to the numerical model output increment, the actual model time is given by\n",
    "print('Model time: ' + str(times[timestep]) + ' min')\n",
    "\n",
    "# Call the analytical model functions\n",
    "Conc_time_type1_x = analytical_model_1D_t1(x, times[timestep], v, al)\n",
    "Conc_time_ftype1_x = analytical_model_1D_finite_t1(x, times[timestep], v, al, x[-1])\n",
    "Conc_time_type3_x = analytical_model_1D_t3(x, times[timestep], v, al)"
   ]
  },
  {
   "cell_type": "code",
   "execution_count": null,
   "metadata": {},
   "outputs": [],
   "source": [
    "# Extract the concetration profile at a specific timestep\n",
    "C_profile = conc[timestep, 0, 0, :]\n",
    "\n",
    "plt.figure(figsize=(6, 3), dpi=150)\n",
    "plt.plot(x, C_profile, label='Profile FloPy')\n",
    "plt.plot(x, Conc_time_type1_x, '-', label='Profile 1D analytical, type 1')\n",
    "plt.plot(x, Conc_time_ftype1_x, '--', label='Profile 1D analytical, type 1, finite length')\n",
    "plt.plot(x, Conc_time_type3_x, '--', label='Profile 1D analytical, type 3')\n",
    "plt.xlabel('Distance from inlet [cm]')\n",
    "plt.legend()\n",
    "plt.show()"
   ]
  },
  {
   "cell_type": "markdown",
   "metadata": {},
   "source": [
    "This is showing the solute front concentration as a function of space. Do we call this a concentration profile or breakthrough curve?"
   ]
  },
  {
   "cell_type": "code",
   "execution_count": null,
   "metadata": {},
   "outputs": [],
   "source": [
    "# Now repeat this for a later time\n",
    "timestep = 150 # change to whatever \n",
    "print('Model time: ' + str(times[timestep]/60) + ' min')\n",
    "\n",
    "# Call the analytical model function\n",
    "# copy and paste code, work through each line to make sure you understand what each command does\n",
    "\n"
   ]
  },
  {
   "cell_type": "markdown",
   "metadata": {},
   "source": [
    "#### Work through the following questions:\n",
    "Explain the differences between these concentration profiles at different times. \n",
    "\n",
    "What is the mechanism that leads to differences in solute front location? For example, if time and spatial location don't change, what will cause the green line to shift left or shift right along the x-axis?\n",
    "\n",
    "How is the slope of the line changing at the two different times? Does the slope increase or decrease with time? Why?\n",
    "\n",
    "Why does the FloPy model fit a Type 1 inlet boundary condition and not a Type 3 (hint go back and examine that package used to set solute boundary conditions in the model)? Do the differences between the two solutions increase or decrease with changes in dispersivity?"
   ]
  },
  {
   "cell_type": "code",
   "execution_count": null,
   "metadata": {},
   "outputs": [],
   "source": []
  }
 ],
 "metadata": {
  "kernelspec": {
   "display_name": "Python 3 (ipykernel)",
   "language": "python",
   "name": "python3"
  },
  "language_info": {
   "codemirror_mode": {
    "name": "ipython",
    "version": 3
   },
   "file_extension": ".py",
   "mimetype": "text/x-python",
   "name": "python",
   "nbconvert_exporter": "python",
   "pygments_lexer": "ipython3",
   "version": "3.9.16"
  }
 },
 "nbformat": 4,
 "nbformat_minor": 4
}
