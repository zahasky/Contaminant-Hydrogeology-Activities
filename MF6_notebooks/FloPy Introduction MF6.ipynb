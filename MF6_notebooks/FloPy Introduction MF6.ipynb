{
 "cells": [
  {
   "cell_type": "markdown",
   "metadata": {},
   "source": [
    "## Introduction\n",
    "Analytical solutions are a powerful method to understand basic mechanisms of transport in the subsurface. However, modeling transport in more complex systems requires the use of numerical models. FloPy is a Python library that allows us to utilize the widely used USGS MODFLOW simulation programs. MODFLOW is the same modeling program you were introduced to in GEOSCI/GEOENG 627, except in this class we will use FloPy to run and process the results rather than a GUI. \n",
    "\n",
    "Why use FloPy?\n",
    "* It's free!\n",
    "* It is powerful. For example, Flopy can generate input files for the MODFLOW family programs in a few lines of code!\n",
    "* It is flexible. You can solve an incredible array of problems by creating custom models, performing iterative modeling approaches or sensitivity analysis, and you can easily integrate data analysis workflows. \n",
    "\n",
    "In addition to the MODFLOW programs you worked with in the past, we will also be using the associated MT3D groundwater solute transport simulator for MODFLOW that supports simulation of transport using the MODFLOW flow solution.\n",
    "\n",
    "\n",
    "### Make sure you have everything installed \n",
    "Prior to completing this notebook you need to have FloPy installed. Instructions can be [found here](https://github.com/zahasky/Contaminant-Hydrogeology-Activities/blob/master/MODFLOW%2C%20Python%2C%20and%20FloPy%20Setup.ipynb).\n",
    "\n",
    "To check, run the following:"
   ]
  },
  {
   "cell_type": "code",
   "execution_count": null,
   "metadata": {},
   "outputs": [],
   "source": [
    "import sys\n",
    "# Import flopy\n",
    "import flopy\n",
    "'flopy' in sys.modules #True"
   ]
  },
  {
   "cell_type": "markdown",
   "metadata": {},
   "source": [
    "## The first model\n",
    "Once FloPy has been correctly installed we can set up our first MODFLOW 6 model!"
   ]
  },
  {
   "cell_type": "code",
   "execution_count": null,
   "metadata": {},
   "outputs": [],
   "source": [
    "# Import a few libraries\n",
    "import sys\n",
    "import os\n",
    "import time\n",
    "import copy\n",
    "import numpy as np\n",
    "import matplotlib.pyplot as plt\n",
    "# import pathlib\n",
    "# Import the flopy library\n",
    "import flopy\n",
    "'flopy' in sys.modules #True"
   ]
  },
  {
   "cell_type": "markdown",
   "metadata": {},
   "source": [
    "First find where you have your MODFLOW6 executables located on your system."
   ]
  },
  {
   "cell_type": "code",
   "execution_count": null,
   "metadata": {},
   "outputs": [],
   "source": [
    "# MODFLOW6 executable (only one)\n",
    "# Executable location of Mf6.exe\n",
    "# exe_path = \"C:\\\\Hydro\\\\\"\n",
    "exe_path = \"C:\\\\Hydro\\\\mf6.4.2\\\\mf6.4.2_win64\\\\bin\\\\\"\n",
    "\n",
    "exe_loc = os.path.dirname(exe_path)\n",
    "print(\"Path to MODFLOW 6 executable:\", exe_loc)"
   ]
  },
  {
   "cell_type": "markdown",
   "metadata": {},
   "source": [
    "Let's use the same directory to save the data as the FloPy introduction and then create a path to this workspace. It may be useful to understand your current working directory, this should be whereever you have this notebook saved. You can double check this with the command 'os.getcwd()'."
   ]
  },
  {
   "cell_type": "code",
   "execution_count": null,
   "metadata": {},
   "outputs": [],
   "source": [
    "# This should return a path to your current working directory\n",
    "current_directory = os.getcwd()\n",
    "print(current_directory)"
   ]
  },
  {
   "cell_type": "markdown",
   "metadata": {},
   "source": [
    "If this is not where you want to save stuff then uncomment the cell below and define the path to establish a new folder and set this to be the new working directory."
   ]
  },
  {
   "cell_type": "code",
   "execution_count": null,
   "metadata": {},
   "outputs": [],
   "source": [
    "# # define path\n",
    "# path = pathlib.Path('C:\\\\Users\\\\zahas\\\\Dropbox\\\\Teaching\\\\Contaminant hydro 629\\\\Notebooks_unpublished')\n",
    "# # if folder doesn't exist then make it \n",
    "# path.mkdir(parents=True, exist_ok=True)\n",
    "# # set working directory to this new folder\n",
    "# os.chdir(path)\n",
    "# current_directory = os.getcwd()\n",
    "# print(current_directory)"
   ]
  },
  {
   "cell_type": "code",
   "execution_count": null,
   "metadata": {},
   "outputs": [],
   "source": [
    "# directory to save data\n",
    "dirname = 'hello_model'\n",
    "# Let's add that to the path of the current directory\n",
    "workdir = os.path.join('.', dirname)\n",
    "\n",
    "# if the path exists then we will move on, if not then create a folder with the 'directory_name'\n",
    "if os.path.isdir(workdir) is False:\n",
    "    os.mkdir(workdir) \n",
    "    print(\"Directory '% s' created\" % workdir) \n",
    "else:\n",
    "    print(\"Directory '% s' already exists\" % workdir) \n",
    "\n",
    "# Model workspace and new sub-directory\n",
    "model_ws = os.path.join(workdir, dirname)\n",
    "print(model_ws)"
   ]
  },
  {
   "cell_type": "markdown",
   "metadata": {},
   "source": [
    "Notice however that we don't yet name the folder where we will save data 'dirname'. This will be an input to our model function.\n",
    "\n",
    "\n",
    "## 1D Model set up\n",
    "The first thing we do is set the space and time units of our model and then define the model geometry. This is identical to the process that we used with the MODFLOW GUI program in GEOSCI/GEOENG 627.\n",
    "    "
   ]
  },
  {
   "cell_type": "code",
   "execution_count": null,
   "metadata": {},
   "outputs": [],
   "source": [
    "# name our model, for simplicity maybe use some formating like this\n",
    "gwfname = 'gwf-' + dirname\n",
    "# create the MF6 simulation\n",
    "sim = flopy.mf6.MFSimulation(sim_name=dirname, exe_name=os.path.join(exe_loc, 'mf6.exe'), sim_ws=model_ws, \n",
    "                                verbosity_level = 2)\n",
    "    \n",
    "# time and length units - use lab units for now\n",
    "length_units = \"CENTIMETERS\"\n",
    "time_units = \"MINUTES\"\n",
    "\n",
    "# Modflow stress periods\n",
    "perlen = [30, 60*3] # min\n",
    "# number of stress periods (MF input), calculated from period length input\n",
    "nper = len(perlen)\n",
    "# nstp (integer) is the number of time steps in a stress period.\n",
    "# tsmult (double) is the multiplier for the length of successive time steps. \n",
    "tsmult = 1\n",
    "tdis_rc = []\n",
    "# loop through perlen and assign period lengths\n",
    "for i in range(nper):\n",
    "    tdis_rc.append((perlen[i], perlen[i]/10, tsmult))\n",
    "flopy.mf6.ModflowTdis(sim, nper=nper, perioddata=tdis_rc, time_units=time_units)\n",
    "\n",
    "# Instantiating MODFLOW 6 groundwater flow model\n",
    "gwf = flopy.mf6.ModflowGwf(sim, modelname=gwfname, save_flows=True, \n",
    "        model_nam_file=f\"{gwfname}.nam\") \n",
    "\n",
    "# Instantiating MODFLOW 6 solver for flow model\n",
    "imsgwf = flopy.mf6.ModflowIms(sim, complexity = \"SIMPLE\")\n",
    "sim.register_ims_package(imsgwf, [gwf.name])\n",
    "\n",
    "# Model information \n",
    "nlay = 1 # number of layers\n",
    "nrow = 1 # number of rows\n",
    "ncol = 101 # number of columns\n",
    "top = 0 # grid size in direction of Lz\n",
    "delc = 4.4 # grid size in direction of Ly, this was choosen such that the model has the same cross-sectional area as the column from the dispersion notebook example\n",
    "delr = 0.1 # grid size in direction of Lx\n",
    "botm  = -4.4\n",
    "    \n",
    "# length of model in selected units \n",
    "Lx = (ncol - 1) * delr\n",
    "print(\"Model length is: \" + str(Lx + delr) + ' ' + str(length_units))\n",
    "\n",
    "# Instantiating MODFLOW 6 discretization package\n",
    "flopy.mf6.ModflowGwfdis(gwf, length_units=length_units,\n",
    "        nlay=nlay, nrow=nrow, ncol=ncol, delr=delr, delc=delc,\n",
    "        top=top, botm=botm,\n",
    "        filename=f\"{gwfname}.dis\")\n",
    "    \n",
    "# hydraulic conductivity\n",
    "HK = 1. # what are the units here?\n",
    "\n",
    "# Instantiating MODFLOW 6 node-property flow package\n",
    "flopy.mf6.ModflowGwfnpf(gwf, save_flows=False, icelltype=0,\n",
    "        k=HK) # k is the hydraulic conductivity "
   ]
  },
  {
   "cell_type": "markdown",
   "metadata": {},
   "source": [
    "## Define our initial flow conditions"
   ]
  },
  {
   "cell_type": "code",
   "execution_count": null,
   "metadata": {},
   "outputs": [],
   "source": [
    "# Instantiating MODFLOW 6 initial conditions package for flow model\n",
    "flopy.mf6.ModflowGwfic(gwf, strt=0.0)"
   ]
  },
  {
   "cell_type": "markdown",
   "metadata": {},
   "source": [
    "## Define our flow boundary conditions\n",
    "This is the input required for the MODFLOW basic package class. Boundary conditions are being assigned in the MODFLOW constant head package and therefore we are restricted to specifying head conditions. More rigorous constraint of constant flux boundaries requires the Flow and Head Boundary Package, the Well Package, or the Recharge Package."
   ]
  },
  {
   "cell_type": "code",
   "execution_count": null,
   "metadata": {},
   "outputs": [],
   "source": [
    "# advection velocity\n",
    "v = 0.1\n",
    "# porosity\n",
    "prsity = 0.3\n",
    "# discharge is based on advection velocity input (again in selected units)\n",
    "q = v * prsity\n",
    "print(\"Discharge = \" + str(q))\n",
    "# if want to achieve the desired flow rate in the model then use Darcy's law to \n",
    "# solve for necessary constant head boundary\n",
    "h1 = q * Lx / HK\n",
    "print(\"calculated head differential across column based on provided advection velocity = \" + str(h1) )\n",
    "\n",
    "# Constant head cells are specified on both ends of the model\n",
    "chdspd = [[(0, 0, 0), h1], [(0, 0, ncol - 1), 0.0]]\n",
    "# Instantiating MODFLOW 6 constant head package\n",
    "flopy.mf6.ModflowGwfchd(gwf, maxbound=len(chdspd), \n",
    "                        stress_period_data=chdspd,\n",
    "                        save_flows=False, pname=\"CHD1\")\n",
    "\n",
    "# FLow output control\n",
    "flopy.mf6.ModflowGwfoc(gwf,\n",
    "    head_filerecord=f\"{gwfname}.hds\",\n",
    "    saverecord=[(\"HEAD\", \"ALL\")],\n",
    "    printrecord=[(\"HEAD\", \"FIRST\"), (\"HEAD\", \"LAST\"),])"
   ]
  },
  {
   "cell_type": "code",
   "execution_count": null,
   "metadata": {},
   "outputs": [],
   "source": [
    "#############################################################\n",
    "############### NOW BUILD TRANSPORT #########################\n",
    "print(f\"Building mf6gwt model in...{model_ws}\")\n",
    "gwtname = \"gwt_\" + dirname\n",
    "gwt = flopy.mf6.MFModel(sim,\n",
    "        model_type=\"gwt6\", modelname=gwtname,\n",
    "        model_nam_file=f\"{gwtname}.nam\")\n",
    "# gwt.name_file.save_flows = True\n",
    "\n",
    "# create iterative model solution and register the gwt model with it\n",
    "imsgwt = flopy.mf6.ModflowIms(sim, print_option=\"SUMMARY\", linear_acceleration=\"BICGSTAB\",\n",
    "        filename=f\"{gwtname}.ims\")\n",
    "sim.register_ims_package(imsgwt, [gwt.name])\n",
    "\n",
    "# Instantiating MODFLOW 6 transport discretization package\n",
    "flopy.mf6.ModflowGwtdis(gwt, nlay=nlay, nrow=nrow, ncol=ncol,\n",
    "        delr=delr, delc=delc, top=top, botm=botm,\n",
    "        filename=f\"{gwtname}.dis\")\n",
    "\n",
    "# Initial conditions\n",
    "# initial concentration set to zero everywhere\n",
    "Ci=0\n",
    "# Instantiating MODFLOW 6 transport initial concentrations\n",
    "flopy.mf6.ModflowGwtic(gwt, strt=Ci, filename=f\"{gwtname}.ic\")\n",
    "\n",
    "# Solute boundary conditions\n",
    "Cinj = 1.5\n",
    "cncspd = {0: [[(0, 0, 0), Cinj]], 1: [[(0, 0, 0), 0]]} # pulse\n",
    "# Instantiating MODFLOW 6 transport constant concentration package\n",
    "flopy.mf6.ModflowGwtcnc(gwt, maxbound=len(cncspd), stress_period_data=cncspd)\n",
    "\n",
    "flopy.mf6.ModflowGwtssm(gwt)\n",
    "    \n",
    "# Mobile Storage and Transfer (MST) Package of the GWT Model for MODFLOW 6 represents solute mass storage, sorption, and frst- or zero-order decay in MOBILE domain.\n",
    "flopy.mf6.ModflowGwtmst(gwt, porosity=prsity) # without reactions\n",
    "\n",
    "# Instantiating MODFLOW 6 transport advection package\n",
    "scheme = \"TVD\"\n",
    "flopy.mf6.ModflowGwtadv(gwt, scheme=scheme)"
   ]
  },
  {
   "cell_type": "markdown",
   "metadata": {},
   "source": [
    "## Dispersivity\n",
    "Set the longitudinal dispersivity. Note that you can also set transverse dispersivity but that input would be ignored in this 1D model."
   ]
  },
  {
   "cell_type": "code",
   "execution_count": null,
   "metadata": {},
   "outputs": [],
   "source": [
    "al = 0.3 # longitudinal dispersivity\n",
    "# define dispersion/diffusion behavior\n",
    "flopy.mf6.ModflowGwtdsp(gwt, xt3d_off=True, alh=al, ath1=al)"
   ]
  },
  {
   "cell_type": "code",
   "execution_count": null,
   "metadata": {},
   "outputs": [],
   "source": [
    "# Instantiating MODFLOW 6 transport output control package\n",
    "flopy.mf6.ModflowGwtoc(gwt,\n",
    "        budget_filerecord=f\"{gwtname}.cbc\",\n",
    "        concentration_filerecord=f\"{gwtname}.ucn\",\n",
    "        saverecord=[(\"CONCENTRATION\", \"ALL\"), (\"BUDGET\", \"ALL\")],\n",
    "        printrecord=[(\"CONCENTRATION\", \"ALL\"), (\"BUDGET\", \"ALL\")])\n",
    "\n",
    "# Instantiating MODFLOW 6 flow-transport exchange mechanism\n",
    "flopy.mf6.ModflowGwfgwt(sim,\n",
    "        exgtype=\"GWF6-GWT6\",\n",
    "        exgmnamea=gwfname, exgmnameb=gwtname,\n",
    "        filename=f\"{dirname}.gwfgwt\")\n",
    "\n",
    "# Write simulation\n",
    "sim.write_simulation(silent=True)"
   ]
  },
  {
   "cell_type": "markdown",
   "metadata": {},
   "source": [
    "Before running the model it is useful to show how we can go back and look at data from different packages. For example, we can retrive our dispersion information by printing the model.package, i.e `gwt.disp` as illustrated in the following cell.\n",
    "\n",
    "More information on accessing simulation settings, models, and packages can be found [here](https://flopy.readthedocs.io/en/latest/Notebooks/mf6_data_tutorial01.html)."
   ]
  },
  {
   "cell_type": "code",
   "execution_count": null,
   "metadata": {},
   "outputs": [],
   "source": [
    "# Print dispersion package\n",
    "print(gwt.dsp)"
   ]
  },
  {
   "cell_type": "markdown",
   "metadata": {},
   "source": [
    "We can also check what packages that we have implemented with the following"
   ]
  },
  {
   "cell_type": "code",
   "execution_count": null,
   "metadata": {},
   "outputs": [],
   "source": [
    "package_list = gwt.get_package_list()\n",
    "print(package_list)"
   ]
  },
  {
   "cell_type": "markdown",
   "metadata": {},
   "source": [
    "## Run the simulation"
   ]
  },
  {
   "cell_type": "code",
   "execution_count": null,
   "metadata": {},
   "outputs": [],
   "source": [
    "success, buff = sim.run_simulation(silent=False)"
   ]
  },
  {
   "cell_type": "markdown",
   "metadata": {},
   "source": [
    "## Extract the simulation output \n",
    "In this case we are only extracting the steady state head field and the concentration data at each timestep. Depending on the output control and the use other observation utilities, your model may have more output."
   ]
  },
  {
   "cell_type": "code",
   "execution_count": null,
   "metadata": {},
   "outputs": [],
   "source": [
    "times = gwt.output.concentration().get_times()\n",
    "# Extract head and concentration field data\n",
    "head = gwf.output.head().get_data()\n",
    "conc = gwt.output.concentration().get_alldata() # get_data() retrieves only the last timestep"
   ]
  },
  {
   "cell_type": "code",
   "execution_count": null,
   "metadata": {},
   "outputs": [],
   "source": [
    "# Extract model grid\n",
    "print(gwt.dis)"
   ]
  },
  {
   "cell_type": "markdown",
   "metadata": {},
   "source": [
    "## Activity:\n",
    "Interpret the following plots and think through the associated questions.\n",
    "\n",
    "Note that the head and concentration values are in a 4D matrix with the following (t, z, y, x). Label the axes of each plot."
   ]
  },
  {
   "cell_type": "code",
   "execution_count": null,
   "metadata": {},
   "outputs": [],
   "source": [
    "# Replicate model grid\n",
    "x = np.arange(0.1, 101*0.1, 0.1)\n",
    "print(x.shape)"
   ]
  },
  {
   "cell_type": "code",
   "execution_count": null,
   "metadata": {},
   "outputs": [],
   "source": [
    "# print dimensions of head array\n",
    "print(head.shape)\n",
    "\n",
    "# plot\n",
    "plt.figure()\n",
    "plt.plot(x, np.squeeze(head))\n",
    "print(h1)"
   ]
  },
  {
   "cell_type": "markdown",
   "metadata": {},
   "source": [
    "What are the axes of this plot. Can you explain what is happening within the model?\n",
    "\n",
    "Now instead of focusing on grid cell head values, lets look at concentration values from the model. It might be helpful to first print the size of the concentration matrix to remind us what the axes of the array correspond to."
   ]
  },
  {
   "cell_type": "code",
   "execution_count": null,
   "metadata": {},
   "outputs": [],
   "source": [
    "print(conc.shape)"
   ]
  },
  {
   "cell_type": "code",
   "execution_count": null,
   "metadata": {},
   "outputs": [],
   "source": [
    "plt.figure()\n",
    "# now loop through the times and extract concentration profiles\n",
    "for t in range(0, len(times)):\n",
    "    cprof = conc[t, 0, 0, :]\n",
    "    plt.plot(x, cprof)\n"
   ]
  },
  {
   "cell_type": "markdown",
   "metadata": {},
   "source": [
    "What are the axes of this plot? Can you explain what is happening? From the plots do these look like a continous injection/source or pulse/finite length plume? How would the results change if we increase advection velocity. What happens if dispersivity is increased? \n",
    "\n",
    "\n",
    "Now plot the concentration data a little different. First, remember the rules of matrix indexing so that you follow what values are being extracted to plot the model reults."
   ]
  },
  {
   "cell_type": "code",
   "execution_count": null,
   "metadata": {},
   "outputs": [],
   "source": [
    "C_array = conc[:, 0, 0, -1]\n",
    "plt.plot(times, C_array)\n",
    "plt.show()"
   ]
  },
  {
   "cell_type": "markdown",
   "metadata": {},
   "source": [
    "See if you can instead plot a breakthrough curve at a different location in the model. Can you explain the differences in the breakthrough curves at different locations? "
   ]
  }
 ],
 "metadata": {
  "kernelspec": {
   "display_name": "Python 3 (ipykernel)",
   "language": "python",
   "name": "python3"
  },
  "language_info": {
   "codemirror_mode": {
    "name": "ipython",
    "version": 3
   },
   "file_extension": ".py",
   "mimetype": "text/x-python",
   "name": "python",
   "nbconvert_exporter": "python",
   "pygments_lexer": "ipython3",
   "version": "3.9.16"
  }
 },
 "nbformat": 4,
 "nbformat_minor": 4
}
