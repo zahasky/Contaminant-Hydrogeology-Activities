{
 "cells": [
  {
   "cell_type": "markdown",
   "metadata": {},
   "source": [
    "## Introduction\n",
    "This is a notebook designed to illustrate some of the basics of colloid filtration theory and how we can incorporate these mechanistic calculations into our reactive transport equations.\n",
    "\n",
    "First we import the libraries that we need"
   ]
  },
  {
   "cell_type": "code",
   "execution_count": 1,
   "metadata": {},
   "outputs": [],
   "source": [
    "import numpy as np\n",
    "import matplotlib.pyplot as plt\n",
    "from scipy.special import erfc as erfc"
   ]
  },
  {
   "cell_type": "markdown",
   "metadata": {},
   "source": [
    "## Colloid Filtration Theory\n",
    "Let's define a function to calculate the diffusion, interception, and sedimentation collector contact efficiency. These are equations 6-8 in [Yao et al, 1971](https://pubs.acs.org/doi/10.1021/es60058a005)."
   ]
  },
  {
   "cell_type": "code",
   "execution_count": 2,
   "metadata": {},
   "outputs": [],
   "source": [
    "def eta_calc(dp, d, v, rho_p):\n",
    "    # Constants\n",
    "    # gravity\n",
    "    g = 9.81 # m*s^-2\n",
    "    # boltzman constant\n",
    "    k = 1.38064852E-23 # units: m^2*kg*s^-2*K^-1\n",
    "    \n",
    "    # Water properties\n",
    "    # absolute temperature\n",
    "    T = 298.15 # Kelvin\n",
    "    # water viscosity\n",
    "    mu = 8.90E-4 # Pa·s\n",
    "    # water density\n",
    "    rho_w = 997 # kg*m^3\n",
    "    \n",
    "    # collector efficiency \n",
    "    # diffusion single collector efficiency (Equation 6 from Yao 1971)\n",
    "    eta_d = 0.9*(k*T/(mu*dp*d*v))**(2/3) # a good check of this equation is to calculate the units\n",
    "    # interception single collector efficiency (Equation 7 from Yao 1971)\n",
    "    eta_i = (3/2)*(dp/d)**2\n",
    "    # sedimentation single collector efficiency (Equation 8 from Yao 1971)\n",
    "    eta_g = (rho_p - rho_w)*g*dp**2/ (18*mu*v)\n",
    "    \n",
    "    return eta_d, eta_i, eta_g"
   ]
  },
  {
   "cell_type": "markdown",
   "metadata": {},
   "source": [
    "Now lets see if we can recreate Figure 3 from [Yao et al, 1971](https://pubs.acs.org/doi/10.1021/es60058a005)."
   ]
  },
  {
   "cell_type": "code",
   "execution_count": 28,
   "metadata": {},
   "outputs": [],
   "source": [
    "# particle diameter defined as the dependent variable.\n",
    "# Note the function np.logspace is very similiar to np.linspace except that it now returns an array\n",
    "# of values evenly distributed in logarithmic space\n",
    "dp = np.logspace(-2, 3, num=100)* 1e-6 # meters\n",
    "# collector (i.e. sand grain) diameter\n",
    "d = 500 * 1e-6 # meters\n",
    "# advection velocity \n",
    "v = 2*0.679/1000 # meters per second \n",
    "# particle density\n",
    "rho_p = 1050\n",
    "\n",
    "eta_d, eta_i, eta_g = eta_calc(dp, d, v, rho_p)\n",
    "\n",
    "# remember that these different components of the contact efficiency are additive\n",
    "eta = eta_d + eta_i + eta_g"
   ]
  },
  {
   "cell_type": "code",
   "execution_count": 29,
   "metadata": {},
   "outputs": [
    {
     "data": {
      "text/plain": [
       "<matplotlib.legend.Legend at 0x1b61cf7c250>"
      ]
     },
     "execution_count": 29,
     "metadata": {},
     "output_type": "execute_result"
    },
    {
     "data": {
      "image/png": "[encoded data removed]",
      "text/plain": [
       "<Figure size 432x288 with 1 Axes>"
      ]
     },
     "metadata": {
      "needs_background": "light"
     },
     "output_type": "display_data"
    }
   ],
   "source": [
    "# now let's plot the results. We are dividing the particle size by 1e-6 so that our plot is in units of microns on the x-axis\n",
    "plt.plot(dp/ 1e-6, eta_d, label = '$\\eta_D$')\n",
    "plt.plot(dp/ 1e-6, eta_i, label = '$\\eta_I$')\n",
    "plt.plot(dp/ 1e-6, eta_g, label = '$\\eta_G$')\n",
    "plt.plot(dp/ 1e-6, eta, label = '$\\eta_D + \\eta_I + \\eta_G$')\n",
    "# set axis to loglog \n",
    "plt.yscale('log')\n",
    "plt.xscale('log')\n",
    "# set axis limits to match paper\n",
    "plt.ylim([1E-4, 1E-1])\n",
    "plt.xlim([1E-2, 1E2])\n",
    "\n",
    "# label plot\n",
    "plt.ylabel('Single collector efficiency ($\\eta$)')\n",
    "plt.xlabel('Size of the suspended particles (microns)')\n",
    "plt.legend()"
   ]
  },
  {
   "cell_type": "markdown",
   "metadata": {},
   "source": [
    "Spend some time thinking about how these lines change with changes in advection velocity, particle density, particle size, etc. Discuss within your group what types of forces or properties this model is neglecting."
   ]
  },
  {
   "cell_type": "markdown",
   "metadata": {},
   "source": [
    "### Deposition rate coefficients\n",
    "\n",
    "This mechanistic description of colloid filtration on a single sand grain (also termed collector) can be extended to a porous media through the definition of a deposition rate coefficient (usually expressed in notes/literature as $k_d$, $k_f$, or $k_c$). This deposition rate coefficient can then be incorporated into previous analytical solutions that we explored in the reactive contaminants module (the ```mu``` variable in the analytical solutions)."
   ]
  },
  {
   "cell_type": "code",
   "execution_count": 5,
   "metadata": {},
   "outputs": [],
   "source": [
    "# Equation 5 in Li et al 2004 (10.1021/es049154v) or Equation 20 in Tufenkji and Elimelech, 2004 (10.1021/es034049r)\n",
    "# alpha is the attachment efficiency\n",
    "# phi is the porosity \n",
    "def kc_calc(d, v, alpha, phi, eta):\n",
    "    kc = 3/2*(1-phi)*v*alpha*eta/d\n",
    "    return kc"
   ]
  },
  {
   "cell_type": "code",
   "execution_count": 22,
   "metadata": {},
   "outputs": [
    {
     "name": "stdout",
     "output_type": "stream",
     "text": [
      "Deposition rate coefficient = 0.007172494395769957\n"
     ]
    }
   ],
   "source": [
    "# alpha is the attachment efficiency\n",
    "alpha = 1 # for now assume fully favorable conditions (every particle that hits a grain of sand sticks)\n",
    "# phi is the porosity \n",
    "phi = 0.3 # porosity of a typical sand pack\n",
    "# let's define a single colloid size\n",
    "dp = 10* 1e-6 # meters\n",
    "# and recalculate eta for this single value of dp\n",
    "eta_d, eta_i, eta_g = eta_calc(dp, d, v, rho_p)\n",
    "eta = eta_d + eta_i + eta_g\n",
    "\n",
    "kc = kc_calc(d, v, alpha, phi, eta)\n",
    "print('Deposition rate coefficient = ' + str(kc))"
   ]
  },
  {
   "cell_type": "markdown",
   "metadata": {},
   "source": [
    "##### What are the units of this deposition rate coefficient? Does this agree with the units that we had for first order reaction terms?"
   ]
  },
  {
   "cell_type": "markdown",
   "metadata": {},
   "source": [
    "### Analytical solution: Type 1 boundary conditions with first order reaction\n",
    "\n",
    "Remember back to our [First Order Reactions notebook](https://github.com/zahasky/Contaminant-Hydrogeology-Activities/blob/master/First%20Order%20Reactions.ipynb) were we described the analytical solution to the ADE with following function. Note that here we are not interested in zero order production or retardation so the function has been simplified to remove ```gamma```."
   ]
  },
  {
   "cell_type": "code",
   "execution_count": 7,
   "metadata": {},
   "outputs": [],
   "source": [
    "# Retardation with 1st type BC (equation C5 of Analytical Solutions of the 1D Convective-Dispersive Solute Transport Equation)\n",
    "def ADEwReactions_type1_fun(x, t, v, D, mu, C0, t0, Ci):\n",
    "    # We are not focused on sorption so R can be set to one (equivalent to kd = 0)\n",
    "    R = 1\n",
    "    # 'u' term identical in equation c5 and c6 (type 3 inlet)\n",
    "    u = v*(1+(4*mu*D/v**2))**(1/2)\n",
    "    \n",
    "    # Note that the '\\' means continued on the next line\n",
    "    Atrf = np.exp(-mu*t/R)*(1- (1/2)* \\\n",
    "        erfc((R*x - v*t)/(2*(D*R*t)**(1/2))) - \\\n",
    "        (1/2)*np.exp(v*x/D)*erfc((R*x + v*t)/(2*(D*R*t)**(1/2))))\n",
    "    \n",
    "    # term with B(x, t)\n",
    "    Btrf = 1/2*np.exp((v-u)*x/(2*D))* \\\n",
    "        erfc((R*x - u*t)/(2*(D*R*t)**(1/2))) \\\n",
    "        + 1/2*np.exp((v+u)*x/(2*D))* erfc((R*x + u*t)/ \\\n",
    "        (2*(D*R*t)**(1/2)))\n",
    "    \n",
    "    # if a pulse type injection\n",
    "    if t0 > 0:\n",
    "        tt0 = t - t0\n",
    "        \n",
    "        indices_below_zero = tt0 <= 0\n",
    "        # set values equal to 1 (but this could be anything)\n",
    "        tt0[indices_below_zero] = 1\n",
    "    \n",
    "        Bttrf = 1/2*np.exp((v-u)*x/(2*D))* \\\n",
    "            erfc((R*x - u*tt0)/(2*(D*R*tt0)**(1/2))) \\\n",
    "            + 1/2*np.exp((v+u)*x/(2*D))* erfc((R*x + u*tt0)/ \\\n",
    "            (2*(D*R*tt0)**(1/2)))\n",
    "        \n",
    "        # Now set concentration at those negative times equal to 0\n",
    "        Bttrf[indices_below_zero] = 0\n",
    "        \n",
    "        C_out = Ci*Atrf + C0*Btrf - C0*Bttrf\n",
    "        \n",
    "    else: # if a continous injection then ignore the Bttrf term (no superposition)\n",
    "        C_out = Ci*Atrf + C0*Btrf\n",
    "        \n",
    "    \n",
    "    # Return the concentration (C) from this function\n",
    "    return C_out"
   ]
  },
  {
   "cell_type": "code",
   "execution_count": 23,
   "metadata": {},
   "outputs": [],
   "source": [
    "# define observation location\n",
    "x = 0.1 # meters\n",
    "# define time \n",
    "t = np.linspace(0.1, 45*60, num=1000) # seconds\n",
    "# lets also slow down the advection velocity a little\n",
    "v = 0.0002 # m/s\n",
    "# dispersion\n",
    "D = 0.03*v # cm^2/s\n",
    "\n",
    "# conservative solute (notice that we set mu=0)\n",
    "C_solute = ADEwReactions_type1_fun(x, t, v, D, 0, 1, 0, 0)\n",
    "# particles solute (notice that we set mu=kf)\n",
    "C_particles = ADEwReactions_type1_fun(x, t, v, D, kc, 1, 0, 0)"
   ]
  },
  {
   "cell_type": "code",
   "execution_count": 24,
   "metadata": {},
   "outputs": [
    {
     "data": {
      "image/png": "[encoded data removed]",
      "text/plain": [
       "<Figure size 432x288 with 1 Axes>"
      ]
     },
     "metadata": {
      "needs_background": "light"
     },
     "output_type": "display_data"
    }
   ],
   "source": [
    "plt.plot(t/60, C_solute, label = 'conservative solute')\n",
    "plt.plot(t/60, C_particles, label = 'colloids')\n",
    "# add legend\n",
    "plt.legend()\n",
    "plt.xlabel('Time (minutes)')\n",
    "plt.show()"
   ]
  },
  {
   "cell_type": "markdown",
   "metadata": {},
   "source": [
    "## Activity: Calculated deposition rate coefficient from the breakthrough curves\n",
    "Now image that you measured the ```C_solute``` and ```C_particles``` (that are plotted in the previous cell) in lab. Based on this data, calculate the desposition rate coefficient. The equation to do this is in the slides and given by: \n",
    "\n",
    "$C/C_0 = \\text{exp}(-k_c L/v)$\n",
    "\n",
    "You will need to rearrange this equation to solve for $k_c$."
   ]
  },
  {
   "cell_type": "code",
   "execution_count": 10,
   "metadata": {},
   "outputs": [],
   "source": [
    "# start by indexing the last value measured in C_particles. \n",
    "# C_div_C0 = ...\n",
    "\n",
    "# print(C_div_C0)"
   ]
  },
  {
   "cell_type": "code",
   "execution_count": 25,
   "metadata": {},
   "outputs": [
    {
     "name": "stdout",
     "output_type": "stream",
     "text": [
      "Deposition rate coefficient calculated from btc = 0.004343107275224052\n",
      "Analytical model deposition rate coefficient input = 0.007172494395769957\n"
     ]
    }
   ],
   "source": [
    "# Uncomment this based on the rearranged equation you wrote out in the first cell.\n",
    "kc_btc = -np.log(C_particles[-1]/1)*v/x\n",
    "\n",
    "print('Deposition rate coefficient calculated from btc = ' + str(kc_btc))\n",
    "print('Analytical model deposition rate coefficient input = ' + str(kc))"
   ]
  },
  {
   "cell_type": "markdown",
   "metadata": {},
   "source": [
    "How does the $k_c$ value input into the analytical solution compare with the value calculated from the breakthrough curves? "
   ]
  },
  {
   "cell_type": "markdown",
   "metadata": {},
   "source": [
    "## Bonus: Explore a more complicated temporal moment analysis when we are dealing with finite pulses or plumes of solutes experience first order reactions\n",
    "\n",
    "A natural next question is how to calculate the deposition rate coefficient if we have a pulse of solute rather than continous injection/source. Let's start be using our same functions that we defined above but now with a finite pulse."
   ]
  },
  {
   "cell_type": "code",
   "execution_count": 16,
   "metadata": {},
   "outputs": [
    {
     "data": {
      "image/png": "[encoded data removed]",
      "text/plain": [
       "<Figure size 432x288 with 1 Axes>"
      ]
     },
     "metadata": {
      "needs_background": "light"
     },
     "output_type": "display_data"
    }
   ],
   "source": [
    "# dispersion\n",
    "D = 0.03*v\n",
    "pulse_time = 60 # seconds\n",
    "# initial concentration\n",
    "C0 = 1\n",
    "\n",
    "# conservative solute (notice that we set mu=0)\n",
    "C_solute_pulse = ADEwReactions_type1_fun(x, t, v, D, 0, C0, pulse_time, 0)\n",
    "# particles solute (notice that we set mu=kf)\n",
    "C_particles_pulse = ADEwReactions_type1_fun(x, t, v, D, kc, C0, pulse_time, 0)\n",
    "plt.plot(t/60, C_solute_pulse, label = 'conservative solute pulse')\n",
    "plt.plot(t/60, C_particles_pulse, label = 'colloid pulse')\n",
    "plt.legend()\n",
    "plt.xlabel('Time (minutes)')\n",
    "plt.show()"
   ]
  },
  {
   "cell_type": "markdown",
   "metadata": {},
   "source": [
    "To calculate the deposition rate coeffient we will use the method of the temporal moments as described in detail in [Pang et al, 2003](https://www.sciencedirect.com/science/article/pii/S016977220200061X) and references therein."
   ]
  },
  {
   "cell_type": "code",
   "execution_count": 13,
   "metadata": {},
   "outputs": [
    {
     "name": "stdout",
     "output_type": "stream",
     "text": [
      "Deposition rate coefficient calculated from btc = 0.007478865371980954\n",
      "Analytical model deposition rate coefficient input = 0.00747886537193755\n"
     ]
    }
   ],
   "source": [
    "# remember from moment analysis that we have\n",
    "# zero temporal moment\n",
    "M0 = np.trapz(C_particles_pulse, t)\n",
    "\n",
    "# Pang et al 2003 Equation 10\n",
    "kc_btc_pulse = (v**2/(4*D))*((1- (2*D/(x*v))*np.log(M0/(C0*pulse_time)))**2 -1)\n",
    "\n",
    "# Print the output and compare it with our model input!!\n",
    "print('Deposition rate coefficient calculated from btc = ' + str(kc_btc_pulse))\n",
    "print('Analytical model deposition rate coefficient input = ' + str(kc))"
   ]
  },
  {
   "cell_type": "markdown",
   "metadata": {},
   "source": [
    "How does it look?!"
   ]
  },
  {
   "cell_type": "code",
   "execution_count": null,
   "metadata": {},
   "outputs": [],
   "source": []
  }
 ],
 "metadata": {
  "kernelspec": {
   "display_name": "Python 3 (ipykernel)",
   "language": "python",
   "name": "python3"
  },
  "language_info": {
   "codemirror_mode": {
    "name": "ipython",
    "version": 3
   },
   "file_extension": ".py",
   "mimetype": "text/x-python",
   "name": "python",
   "nbconvert_exporter": "python",
   "pygments_lexer": "ipython3",
   "version": "3.9.7"
  }
 },
 "nbformat": 4,
 "nbformat_minor": 4
}
