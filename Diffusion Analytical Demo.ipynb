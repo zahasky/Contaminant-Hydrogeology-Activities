{
 "cells": [
  {
   "cell_type": "markdown",
   "metadata": {},
   "source": [
    "## Introduction"
   ]
  },
  {
   "cell_type": "markdown",
   "metadata": {},
   "source": [
    "In this activity we will use python and some of the built in functions to model a solute diffusion process. A complex function that arrises in many analytical solutions is termed the [Error function](https://en.wikipedia.org/wiki/Error_function).\n",
    "\n",
    "This is the first notebook where we will use the SciPy package. This should have been installed with the rest of the required packages during the [MODFLOW, Python, and FloPy Setup notebook](https://github.com/zahasky/Contaminant-Hydrogeology-Activities/blob/master/MODFLOW%2C%20Python%2C%20and%20FloPy%20Setup.ipynb). To test that you have SciPy properly install try running the following cell."
   ]
  },
  {
   "cell_type": "code",
   "execution_count": null,
   "metadata": {},
   "outputs": [],
   "source": [
    "# Import only the math.erfc (complementary error function) and math.erf (error function) from the math Library\n",
    "from scipy.special import erfc as erfc\n",
    "from scipy.special import erf as erf\n",
    "\n",
    "# Print the error function of a few different numbers\n",
    "print (erfc(1))\n",
    "print(erfc(0))"
   ]
  },
  {
   "cell_type": "markdown",
   "metadata": {},
   "source": [
    "We also need to import a few useful packages for working with vectors (numpy) and for plotting (matplotlib.pyplot)"
   ]
  },
  {
   "cell_type": "code",
   "execution_count": null,
   "metadata": {},
   "outputs": [],
   "source": [
    "%matplotlib widget\n",
    "import ipywidgets as widgets\n",
    "import numpy as np\n",
    "import matplotlib.pyplot as plt"
   ]
  },
  {
   "cell_type": "markdown",
   "metadata": {},
   "source": [
    "Now we can plot the error function and complementary error function (this as a function equal to 1-erf(x)) in this example to better understand their shape:"
   ]
  },
  {
   "cell_type": "code",
   "execution_count": null,
   "metadata": {},
   "outputs": [],
   "source": [
    "# define variable 'xe' with 100 values from -3 to 3\n",
    "xe = np.linspace(-3, 3, num=100)\n",
    "plt.figure(dpi=100)\n",
    "# plot error function\n",
    "plt.plot(xe, erf(xe), linewidth=3)\n",
    "# plot complementary error function\n",
    "plt.plot(xe, erfc(xe), '--')\n",
    "plt.show()"
   ]
  },
  {
   "cell_type": "code",
   "execution_count": null,
   "metadata": {},
   "outputs": [],
   "source": [
    "plt.figure(dpi=100)\n",
    "# plot equivalent to complementary error function\n",
    "plt.plot(xe, 1-erf(xe), linewidth=3)\n",
    "# plot complementary error function\n",
    "plt.plot(xe, erfc(xe), '--')\n",
    "plt.show()"
   ]
  },
  {
   "cell_type": "markdown",
   "metadata": {},
   "source": [
    "## Diffusion function definition"
   ]
  },
  {
   "cell_type": "markdown",
   "metadata": {},
   "source": [
    "Now let's define a function that calculates the diffusion between a region with solute initially present with a concentration equal to one. This region is at x<0"
   ]
  },
  {
   "cell_type": "code",
   "execution_count": null,
   "metadata": {},
   "outputs": [],
   "source": [
    "def diffusion_fun(x, t_month, Df, C0):\n",
    "    # convert time from months to seconds (same units as D)\n",
    "    t = 60*60*24*t_month\n",
    "    # Equation for concentration profile as a function of space (x) and time (t)\n",
    "    C = C0*(erfc((x)/(2*np.sqrt(Df*t))))\n",
    "    # Return the concentration (C) from this function\n",
    "    return C"
   ]
  },
  {
   "cell_type": "markdown",
   "metadata": {},
   "source": [
    "Aside: The square root function also exists in the 'math' library. It is important to use the 'numpy' library if we want to take the square root of an array of numbers. For example:"
   ]
  },
  {
   "cell_type": "code",
   "execution_count": null,
   "metadata": {},
   "outputs": [],
   "source": [
    "np.sqrt(xe[-5:])"
   ]
  },
  {
   "cell_type": "markdown",
   "metadata": {},
   "source": [
    "Attempting the same operation with the math library will result in an error stating that 'only size-1 arrays can be converted to Python scalars'. This means you can only perform the operation on scalars."
   ]
  },
  {
   "cell_type": "code",
   "execution_count": null,
   "metadata": {
    "tags": []
   },
   "outputs": [],
   "source": [
    "import math\n",
    "math.sqrt(xe[-5:])"
   ]
  },
  {
   "cell_type": "code",
   "execution_count": null,
   "metadata": {
    "tags": []
   },
   "outputs": [],
   "source": [
    "# Define diffusion coefficient\n",
    "Df = 5E-9\n",
    "# Define spatial coordinates\n",
    "x = np.linspace(0, 1, num=200)\n",
    "# Define initial concentration\n",
    "C0 = 1\n",
    "\n",
    "# Profile after one tenth of a month\n",
    "t = 1/10\n",
    "C = diffusion_fun(x, t, Df, C0)\n",
    "\n",
    "plt.figure(dpi=100)\n",
    "plt.plot(x, C)\n",
    "plt.show()"
   ]
  },
  {
   "cell_type": "markdown",
   "metadata": {},
   "source": [
    "What are the units of space, time, and the diffusion coefficient?"
   ]
  },
  {
   "cell_type": "code",
   "execution_count": null,
   "metadata": {},
   "outputs": [],
   "source": [
    "# Profile after one year\n",
    "t = 12\n",
    "C = diffusion_fun(x, t, Df, C0)\n",
    "\n",
    "plt.figure(dpi=100)\n",
    "plt.plot(x, C)\n",
    "plt.show()"
   ]
  },
  {
   "cell_type": "markdown",
   "metadata": {},
   "source": [
    "Note that you can use the error function or the complementary error function to define your diffusion solution. This is demonstrated in the example below."
   ]
  },
  {
   "cell_type": "code",
   "execution_count": null,
   "metadata": {},
   "outputs": [],
   "source": [
    "def diffusion_fun_erf(x, t_month, Df, C0):\n",
    "    # Equation for concentration profile as a function of space (x) and time (t)\n",
    "    t = 60*60*24*t_month\n",
    "    C = C0*(1-erf((x)/(2*np.sqrt(Df*t))))\n",
    "    # Return the concentration (C) from this function\n",
    "    return C"
   ]
  },
  {
   "cell_type": "code",
   "execution_count": null,
   "metadata": {
    "tags": []
   },
   "outputs": [],
   "source": [
    "# set up plot\n",
    "fig, ax = plt.subplots(figsize=(6, 4))\n",
    "ax.set_xlim([0, 1])\n",
    "ax.set_ylim([0, 1])\n",
    "ax.set_xlabel('Distance from source')\n",
    "ax.set_ylabel('Concentration')\n",
    "ax.set_title('Diffusive transport as a function of time')\n",
    " \n",
    "# Make interactive plot\n",
    "@widgets.interact(t_month=(1e-4, 120, 1))\n",
    "def update(t_month = 12):\n",
    "    \"\"\"Remove old lines from plot and plot new one\"\"\"\n",
    "    [l.remove() for l in ax.lines]\n",
    "    ax.plot(C, diffusion_fun_erf(C, t_month, Df, C0=1), color='k')"
   ]
  },
  {
   "cell_type": "markdown",
   "metadata": {},
   "source": [
    "## Activity:\n",
    "\n",
    "#### Using this code, test the impact of different diffusion coefficients. \n",
    "\n",
    "How do you expect this to change the shape of this curve? \n",
    "\n",
    "Plot the case of Df = 1E-9 after 1 day, 1 month, and 6 months. In a second cell plot the case of Df = 1E-10 after 1 day, 1 month, and 6 months. Note that the time in the function we defined above is in units of seconds.\n",
    "\n",
    "In each plot that you generate make sure to add axis labels and a legend."
   ]
  },
  {
   "cell_type": "code",
   "execution_count": null,
   "metadata": {},
   "outputs": [],
   "source": [
    "# cell 1 for calculating and plot concentration profiles for Df = 1E-9"
   ]
  },
  {
   "cell_type": "code",
   "execution_count": null,
   "metadata": {},
   "outputs": [],
   "source": [
    "# cell 2 for calculating and plot concentration profiles for Df = 1E-10"
   ]
  },
  {
   "cell_type": "code",
   "execution_count": null,
   "metadata": {},
   "outputs": [],
   "source": []
  }
 ],
 "metadata": {
  "celltoolbar": "Raw Cell Format",
  "kernelspec": {
   "display_name": "Python 3 (ipykernel)",
   "language": "python",
   "name": "python3"
  },
  "language_info": {
   "codemirror_mode": {
    "name": "ipython",
    "version": 3
   },
   "file_extension": ".py",
   "mimetype": "text/x-python",
   "name": "python",
   "nbconvert_exporter": "python",
   "pygments_lexer": "ipython3",
   "version": "3.9.7"
  }
 },
 "nbformat": 4,
 "nbformat_minor": 4
}
